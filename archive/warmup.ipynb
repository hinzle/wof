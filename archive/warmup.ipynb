{
 "cells": [
  {
   "cell_type": "markdown",
   "metadata": {},
   "source": [
    "# Dataframe Manipulation Warmup"
   ]
  },
  {
   "cell_type": "code",
   "execution_count": 1,
   "metadata": {},
   "outputs": [],
   "source": [
    "import numpy as np\n",
    "import pandas as pd\n",
    "\n",
    "np.random.seed(406)\n",
    "\n",
    "n = 5000\n",
    "df = pd.DataFrame({\n",
    "    'favorite_animal': np.random.choice(['cat', 'dog', 'frog', 'lemur', 'panda'], n),\n",
    "    'favorite_vegetable': np.random.choice(['brussel sprouts', 'potato', 'squash'], n),\n",
    "    'favorite_fruit': np.random.choice(['banana', 'apple', 'blueberries'], n),\n",
    "    'wears_glasses': np.random.choice(['yes', 'no'], n),\n",
    "    'netflix_consumption': np.random.normal(10, 2, n),\n",
    "    'open_browser_tabs': np.random.randint(2, 90, n),\n",
    "})"
   ]
  },
  {
   "cell_type": "markdown",
   "metadata": {},
   "source": [
    "1. What is the highest amount of netflix consumption? `17.535`"
   ]
  },
  {
   "cell_type": "code",
   "execution_count": 3,
   "metadata": {},
   "outputs": [
    {
     "data": {
      "text/plain": [
       "17.534818515438925"
      ]
     },
     "execution_count": 3,
     "metadata": {},
     "output_type": "execute_result"
    }
   ],
   "source": [
    "df.netflix_consumption.max()"
   ]
  },
  {
   "cell_type": "markdown",
   "metadata": {},
   "source": [
    "2. How many people wear glasses? What percentage of people is this? `2555`, `.511`"
   ]
  },
  {
   "cell_type": "code",
   "execution_count": 6,
   "metadata": {},
   "outputs": [
    {
     "data": {
      "text/plain": [
       "yes    2555\n",
       "no     2445\n",
       "Name: wears_glasses, dtype: int64"
      ]
     },
     "execution_count": 6,
     "metadata": {},
     "output_type": "execute_result"
    }
   ],
   "source": [
    "df.wears_glasses.value_counts()"
   ]
  },
  {
   "cell_type": "code",
   "execution_count": 14,
   "metadata": {},
   "outputs": [
    {
     "data": {
      "text/plain": [
       "0.511"
      ]
     },
     "execution_count": 14,
     "metadata": {},
     "output_type": "execute_result"
    }
   ],
   "source": [
    "(df.wears_glasses=='yes').mean()"
   ]
  },
  {
   "cell_type": "markdown",
   "metadata": {},
   "source": [
    "3. How many people's favorite animal is a dog? `1002`"
   ]
  },
  {
   "cell_type": "code",
   "execution_count": 16,
   "metadata": {},
   "outputs": [
    {
     "data": {
      "text/plain": [
       "lemur    1028\n",
       "frog     1015\n",
       "dog      1002\n",
       "cat       980\n",
       "panda     975\n",
       "Name: favorite_animal, dtype: int64"
      ]
     },
     "execution_count": 16,
     "metadata": {},
     "output_type": "execute_result"
    }
   ],
   "source": [
    "df.favorite_animal.value_counts()"
   ]
  },
  {
   "cell_type": "markdown",
   "metadata": {},
   "source": [
    "4. What is the most common favorite animal? `lemur`"
   ]
  },
  {
   "cell_type": "code",
   "execution_count": 18,
   "metadata": {},
   "outputs": [
    {
     "data": {
      "text/plain": [
       "lemur    1028\n",
       "frog     1015\n",
       "dog      1002\n",
       "cat       980\n",
       "panda     975\n",
       "Name: favorite_animal, dtype: int64"
      ]
     },
     "execution_count": 18,
     "metadata": {},
     "output_type": "execute_result"
    }
   ],
   "source": [
    "df.favorite_animal.value_counts()"
   ]
  },
  {
   "cell_type": "markdown",
   "metadata": {},
   "source": [
    "5. What is the average netflix consumption for people that prefer brussel sprouts? `10.008`"
   ]
  },
  {
   "cell_type": "code",
   "execution_count": 20,
   "metadata": {},
   "outputs": [
    {
     "data": {
      "text/plain": [
       "brussel sprouts    1696\n",
       "squash             1662\n",
       "potato             1642\n",
       "Name: favorite_vegetable, dtype: int64"
      ]
     },
     "execution_count": 20,
     "metadata": {},
     "output_type": "execute_result"
    }
   ],
   "source": [
    "df.favorite_vegetable.value_counts()"
   ]
  },
  {
   "cell_type": "markdown",
   "metadata": {},
   "source": [
    "6. What is the most common favorite fruit for people who wear glasses and have more than 40 open browser tabs? `blueberries`"
   ]
  },
  {
   "cell_type": "code",
   "execution_count": 26,
   "metadata": {},
   "outputs": [
    {
     "data": {
      "text/plain": [
       "blueberries    498\n",
       "apple          477\n",
       "banana         472\n",
       "Name: favorite_fruit, dtype: int64"
      ]
     },
     "execution_count": 26,
     "metadata": {},
     "output_type": "execute_result"
    }
   ],
   "source": [
    "df[(df.wears_glasses=='yes') & (df.open_browser_tabs>40)].favorite_fruit.value_counts()"
   ]
  }
 ],
 "metadata": {
  "kernelspec": {
   "display_name": "Python 3",
   "language": "python",
   "name": "python3"
  },
  "language_info": {
   "codemirror_mode": {
    "name": "ipython",
    "version": 3
   },
   "file_extension": ".py",
   "mimetype": "text/x-python",
   "name": "python",
   "nbconvert_exporter": "python",
   "pygments_lexer": "ipython3",
   "version": "3.9.7"
  }
 },
 "nbformat": 4,
 "nbformat_minor": 4
}
