{
 "cells": [
  {
   "cell_type": "code",
   "execution_count": 2,
   "metadata": {},
   "outputs": [],
   "source": [
    "from imports import *\n",
    "\n",
    "\n"
   ]
  },
  {
   "cell_type": "markdown",
   "metadata": {},
   "source": [
    "git@github.com:stephenkipkurui/codeup-individual-project.git"
   ]
  },
  {
   "cell_type": "markdown",
   "metadata": {},
   "source": [
    "<h1>:wave:Hello, my name is Oliver!</h1>\n",
    "<div id=\"header\" align=\"center\">\n",
    "    <img src=\"https://media.giphy.com/media/M9gbBd9nbDrOTu1Mqx/giphy.gif\"width=\"150\">\n",
    "</div>\n",
    "\n",
    "<h3>:mailbox: Reach me at:</h3>\n",
    "\n",
    "<div id=\"badges\">\n",
    "    <a href = \"https://www.linkedin.com/in/oliver-ton/\">\n",
    "         <img src=\"https://img.shields.io/badge/LinkedIn-blue?logo=linkedin&logoColor=white\" alt=\"LinkedIn Badge\"/>\n",
    "    </a>\n",
    "    <a href = \"mailto:oliver.ton75@gmail.com\">\n",
    "        <img src=\"https://img.shields.io/badge/Gmail-D14836?logo=gmail&logoColor=white\" alt=\"gmail Badge\"/>\n",
    "    </a>\n",
    "</div>\n",
    "\n",
    "---\n",
    "\n",
    "<h3 align=\"left\"> About Me: </h3>\n",
    "<p>\n",
    "- :seedling: I am currently a student at <a href =\"https://codeup.com\"><img src=\"https://img.shields.io/badge/Codeup-green?logo=Codeup&logoColor=white\"></a>, Expected Graduation: June 2022\n",
    "</p>\n",
    "<p>\n",
    "- :mortar_board: Texas State University alumni! BBA in Computer Infomation System(CIS) - August 2020\n",
    "</p>\n",
    "<p>\n",
    "- :video_game: I play video games in my free time, you might able to find me on <img src=\"https://img.shields.io/badge/Steam-blue?logo=Steam&logoColor=white\">\n",
    "</p>\n",
    "\n",
    "---\n",
    "\n",
    "<h3 align=\"left\">Tools:</h3>\n",
    "\n",
    "![jupyter](https://img.shields.io/badge/-Jupyter_Lab-818589?style=for-the-badge&logo=jupyter&logoColor=orange) \n",
    "![pandas](https://img.shields.io/badge/-Pandas-321637?style=for-the-badge&logo=pandas&logoColor=white) \n",
    "![numpy](https://img.shields.io/badge/-NumPy-5092e4?style=for-the-badge&logo=numpy&logoColor=D4EFEB) \n",
    "![sns](https://img.shields.io/badge/-Seaborn-7a85bd?style=for-the-badge&logo=seaborn&logoColor=D4EFEB) \n",
    "![plt](https://img.shields.io/badge/-Matplotlib-095090?style=for-the-badge&logo=matplotlib&logoColor=D4EFEB)\n",
    "\n",
    "![scipy](https://img.shields.io/badge/-SciPy-094e8b?style=for-the-badge&logo=scipy&logoColor=white) \n",
    "![sklearn](https://img.shields.io/badge/-SciKit--Learn-dc900e?style=for-the-badge&logo=scikit-learn&logoColor=white) \n",
    "![terminal](https://img.shields.io/badge/-Terminal-black?style=for-the-badge&logo=apple&logoColor=white) ![tableau](https://img.shields.io/badge/-Tableau-blue?style=for-the-badge&logo=tableau&logoColor=white) ![excel](https://img.shields.io/badge/-Excel-green?style=for-the-badge&logo=microsoft-excel&logoColor=white) ![google](https://img.shields.io/badge/-Google_Sheets-darkgreen?style=for-the-badge&logo=googlesheets&logoColor=white)  \n",
    "\n",
    "---\n",
    "\n",
    "<h3 align=\"left\">Language:</h3>\n",
    "<div>\n",
    "    <img src=\"https://github.com/devicons/devicon/blob/master/icons/mysql/mysql-original-wordmark.svg\" title=\"MySQL\"  alt=\"MySQL\" width=\"30\" height=\"40\"/>&nbsp;\n",
    "    <img src=\"https://github.com/devicons/devicon/blob/master/icons/python/python-original.svg\" title=\"Python\" alt=\"Python\" width=\"30\" height=\"40\"/>&nbsp;\n",
    "    <img src=\"https://github.com/devicons/devicon/blob/master/icons/swift/swift-original.svg\" title=\"Swift\" alt=\"Swift\" width=\"30\" height=\"40\"/>&nbsp;\n",
    "    <img src=\"https://github.com/devicons/devicon/blob/master/icons/csharp/csharp-original.svg\" title=\"C#\" alt=\"C#\" width=\"30\" height=\"40\"/>&nbsp;\n",
    "    <img src=\"https://github.com/devicons/devicon/blob/master/icons/javascript/javascript-original.svg\" title=\"JavaScript\" alt=\"JavaScript\" width=\"30\" height=\"40\"/>&nbsp;\n",
    "</div>"
   ]
  },
  {
   "cell_type": "markdown",
   "metadata": {},
   "source": [
    "<h3> :mailbox: Reach me at: </h3>\n",
    "\n",
    "<div id=\"badges\">\n",
    "    <a href = \"https://www.linkedin.com/in/hinzle/\">\n",
    "         <img src=\"https://img.shields.io/badge/LinkedIn-blue?logo=linkedin&logoColor=white\" alt=\"LinkedIn Badge\"/>\n",
    "    </a>\n",
    "    <a href = \"mailto:foresthensley@gmail.com\">\n",
    "        <img src=\"https://img.shields.io/badge/Gmail-D14836?logo=gmail&logoColor=white\" alt=\"gmail Badge\"/>\n",
    "    </a>\n",
    "</div>\n",
    "\n",
    "---\n",
    "\n",
    "<h3>:star_struck: Favs: </h3>\n",
    "\n",
    "![Adobe](https://img.shields.io/badge/adobe-%23FF0000.svg?style=for-the-badge&logo=adobe&logoColor=white)\n",
    "![Anaconda](https://img.shields.io/badge/Anaconda-%2344A833.svg?style=for-the-badge&logo=anaconda&logoColor=white)\n",
    "![Android](https://img.shields.io/badge/Android-3DDC84?style=for-the-badge&logo=android&logoColor=white)\n",
    "![Arduino](https://img.shields.io/badge/-Arduino-00979D?style=for-the-badge&logo=Arduino&logoColor=white)\n",
    "![Binance](https://img.shields.io/badge/Binance-FCD535?style=for-the-badge&logo=binance&logoColor=white)\n",
    "![Bitcoin](https://img.shields.io/badge/Bitcoin-000?style=for-the-badge&logo=bitcoin&logoColor=white)\n",
    "![C](https://img.shields.io/badge/c-%2300599C.svg?style=for-the-badge&logo=c&logoColor=white)\n",
    "![Canva](https://img.shields.io/badge/Canva-%2300C4CC.svg?style=for-the-badge&logo=Canva&logoColor=white)\n",
    "![CSS3](https://img.shields.io/badge/css3-%231572B6.svg?style=for-the-badge&logo=css3&logoColor=white)\n",
    "![Dogecoin](https://img.shields.io/badge/dogecoin-B59A30?style=for-the-badge&logo=dogecoin&logoColor=white)\n",
    "![Ethereum](https://img.shields.io/badge/Ethereum-3C3C3D?style=for-the-badge&logo=Ethereum&logoColor=white)\n",
    "![Git](https://img.shields.io/badge/git-%23F05033.svg?style=for-the-badge&logo=git&logoColor=white)\n",
    "![GitHub](https://img.shields.io/badge/github-%23121011.svg?style=for-the-badge&logo=github&logoColor=white)\n",
    "![Google Cloud](https://img.shields.io/badge/GoogleCloud-%234285F4.svg?style=for-the-badge&logo=google-cloud&logoColor=white)\n",
    "![Google](https://img.shields.io/badge/google-4285F4?style=for-the-badge&logo=google&logoColor=white)\n",
    "![HTML5](https://img.shields.io/badge/html5-%23E34F26.svg?style=for-the-badge&logo=html5&logoColor=white)\n",
    "![IOS](https://img.shields.io/badge/iOS-000000?style=for-the-badge&logo=ios&logoColor=white)\n",
    "![Jupyter Notebook](https://img.shields.io/badge/jupyter-%23FA0F00.svg?style=for-the-badge&logo=jupyter&logoColor=white)\n",
    "![jupyter](https://img.shields.io/badge/-Jupyter_Lab-818589?style=for-the-badge&logo=jupyter&logoColor=orange)\n",
    "![Kaggle](https://img.shields.io/badge/Kaggle-035a7d?style=for-the-badge&logo=kaggle&logoColor=white)\n",
    "![Kubernetes](https://img.shields.io/badge/kubernetes-%23326ce5.svg?style=for-the-badge&logo=kubernetes&logoColor=white)\n",
    "![Mac OS](https://img.shields.io/badge/mac%20os-000000?style=for-the-badge&logo=macos&logoColor=F0F0F0)\n",
    "![Markdown](https://img.shields.io/badge/markdown-%23000000.svg?style=for-the-badge&logo=markdown&logoColor=white)\n",
    "<img src=\"https://github.com/devicons/devicon/blob/master/icons/matlab/matlab-original.svg\" title=\"MATLAB\" alt=\"MATLAB\" width=\"23\" height=\"31\"/>&nbsp;\n",
    "![Microsoft Office](https://img.shields.io/badge/Microsoft_Office-D83B01?style=for-the-badge&logo=microsoft-office&logoColor=white)\n",
    "![Microsoft](https://img.shields.io/badge/Microsoft-0078D4?style=for-the-badge&logo=microsoft&logoColor=white)\n",
    "![MySQL](https://img.shields.io/badge/mysql-%2300f.svg?style=for-the-badge&logo=mysql&logoColor=white)\n",
    "![numpy](https://img.shields.io/badge/-NumPy-5092e4?style=for-the-badge&logo=numpy&logoColor=D4EFEB)\n",
    "![pandas](https://img.shields.io/badge/-Pandas-321637?style=for-the-badge&logo=pandas&logoColor=white)\n",
    "![plt](https://img.shields.io/badge/-Matplotlib-095090?style=for-the-badge&logo=matplotlib&logoColor=D4EFEB)\n",
    "![Python](https://img.shields.io/badge/python-3670A0?style=for-the-badge&logo=python&logoColor=ffdd54)\n",
    "![scipy](https://img.shields.io/badge/-SciPy-094e8b?style=for-the-badge&logo=scipy&logoColor=white)\n",
    "![sklearn](https://img.shields.io/badge/-SciKit--Learn-dc900e?style=for-the-badge&logo=scikit-learn&logoColor=white)\n",
    "![Slack](https://img.shields.io/badge/Slack-4A154B?style=for-the-badge&logo=slack&logoColor=white)\n",
    "![sns](https://img.shields.io/badge/-Seaborn-7a85bd?style=for-the-badge&logo=seaborn&logoColor=D4EFEB)\n",
    "![Spotify](https://img.shields.io/badge/Spotify-1ED760?style=for-the-badge&logo=spotify&logoColor=white)\n",
    "![Stack Overflow](https://img.shields.io/badge/-Stackoverflow-FE7A16?style=for-the-badge&logo=stack-overflow&logoColor=white)\n",
    "![tableau](https://img.shields.io/badge/-Tableau-blue?style=for-the-badge&logo=tableau&logoColor=white)\n",
    "![terminal](https://img.shields.io/badge/-Terminal-black?style=for-the-badge&logo=apple&logoColor=white)\n",
    "![Trello](https://img.shields.io/badge/Trello-%23026AA7.svg?style=for-the-badge&logo=Trello&logoColor=white)\n",
    "![Ubuntu](https://img.shields.io/badge/Ubuntu-E95420?style=for-the-badge&logo=ubuntu&logoColor=white)\n",
    "![Vim](https://img.shields.io/badge/VIM-%2311AB00.svg?style=for-the-badge&logo=vim&logoColor=white)\n",
    "![Visual Studio Code](https://img.shields.io/badge/Visual%20Studio%20Code-0078d7.svg?style=for-the-badge&logo=visual-studio-code&logoColor=white)\n",
    "![Wikipedia](https://img.shields.io/badge/Wikipedia-%23000000.svg?style=for-the-badge&logo=wikipedia&logoColor=white)\n",
    "![Windows](https://img.shields.io/badge/Windows-0078D6?style=for-the-badge&logo=windows&logoColor=white)\n",
    "![Xbox](https://img.shields.io/badge/Hinzle2892-%23107C10.svg?style=for-the-badge&logo=Xbox&logoColor=white)\n"
   ]
  },
  {
   "cell_type": "code",
   "execution_count": null,
   "metadata": {},
   "outputs": [],
   "source": [
    "from pandas_profiling import ProfileReport\n",
    "from pydataset import data\n",
    "df = data('tips')\n",
    "profile=ProfileReport(df)\n",
    "profile"
   ]
  },
  {
   "cell_type": "markdown",
   "metadata": {},
   "source": [
    "[![Email](https://img.shields.io/badge/Gmail-EA4335?style=for-the-badge&logo=Gmail&logoColor=white)](foresthensley@gmail.com)\n",
    "\n",
    "foresthensley@gmail.com\n",
    "\n",
    "[![Linkedin](https://img.shields.io/badge/Linkedin-0A66C2?style=for-the-badge&logo=Linkedin&logoColor=white)](https://www.linkedin.com/in/forest-hensley-5389a889/)"
   ]
  },
  {
   "cell_type": "code",
   "execution_count": 14,
   "metadata": {},
   "outputs": [],
   "source": [
    "y=[1 for x in range(0,100)]"
   ]
  },
  {
   "cell_type": "code",
   "execution_count": 16,
   "metadata": {},
   "outputs": [
    {
     "data": {
      "text/plain": [
       "0"
      ]
     },
     "execution_count": 16,
     "metadata": {},
     "output_type": "execute_result"
    }
   ],
   "source": [
    "sum([0 if  else 1 for i in y])"
   ]
  },
  {
   "cell_type": "markdown",
   "metadata": {},
   "source": [
    "$Classificaion Project$"
   ]
  },
  {
   "cell_type": "code",
   "execution_count": null,
   "metadata": {},
   "outputs": [
    {
     "data": {
      "text/html": [
       "<div>\n",
       "<style scoped>\n",
       "    .dataframe tbody tr th:only-of-type {\n",
       "        vertical-align: middle;\n",
       "    }\n",
       "\n",
       "    .dataframe tbody tr th {\n",
       "        vertical-align: top;\n",
       "    }\n",
       "\n",
       "    .dataframe thead th {\n",
       "        text-align: right;\n",
       "    }\n",
       "</style>\n",
       "<table border=\"1\" class=\"dataframe\">\n",
       "  <thead>\n",
       "    <tr style=\"text-align: right;\">\n",
       "      <th></th>\n",
       "      <th>Jack_p</th>\n",
       "      <th>Survivor_p</th>\n",
       "    </tr>\n",
       "  </thead>\n",
       "  <tbody>\n",
       "    <tr>\n",
       "      <th>0</th>\n",
       "      <td>300</td>\n",
       "      <td>29</td>\n",
       "    </tr>\n",
       "    <tr>\n",
       "      <th>1</th>\n",
       "      <td>54</td>\n",
       "      <td>151</td>\n",
       "    </tr>\n",
       "  </tbody>\n",
       "</table>\n",
       "</div>"
      ],
      "text/plain": [
       "   Jack_p  Survivor_p\n",
       "0     300          29\n",
       "1      54         151"
      ]
     },
     "metadata": {},
     "output_type": "display_data"
    }
   ],
   "source": [
    "index = ['Jack_a','Survivor_a']\n",
    "col = ['Jack_p','Survivor_p' ]\n",
    "pd.DataFrame(confusion_matrix(y_train, y_pred), index=[str(i) for i in titanic_clf.classes_], columns=col)"
   ]
  },
  {
   "cell_type": "code",
   "execution_count": null,
   "metadata": {},
   "outputs": [
    {
     "data": {
      "text/html": [
       "<div>\n",
       "<style scoped>\n",
       "    .dataframe tbody tr th:only-of-type {\n",
       "        vertical-align: middle;\n",
       "    }\n",
       "\n",
       "    .dataframe tbody tr th {\n",
       "        vertical-align: top;\n",
       "    }\n",
       "\n",
       "    .dataframe thead th {\n",
       "        text-align: right;\n",
       "    }\n",
       "</style>\n",
       "<table border=\"1\" class=\"dataframe\">\n",
       "  <thead>\n",
       "    <tr style=\"text-align: right;\">\n",
       "      <th></th>\n",
       "      <th>predict_death</th>\n",
       "      <th>predict_survive</th>\n",
       "    </tr>\n",
       "  </thead>\n",
       "  <tbody>\n",
       "    <tr>\n",
       "      <th>actual_death</th>\n",
       "      <td>true negative</td>\n",
       "      <td>false positive</td>\n",
       "    </tr>\n",
       "    <tr>\n",
       "      <th>actual_survive</th>\n",
       "      <td>false negative</td>\n",
       "      <td>true positive</td>\n",
       "    </tr>\n",
       "  </tbody>\n",
       "</table>\n",
       "</div>"
      ],
      "text/plain": [
       "                 predict_death predict_survive\n",
       "actual_death     true negative  false positive\n",
       "actual_survive  false negative   true positive"
      ]
     },
     "metadata": {},
     "output_type": "display_data"
    }
   ],
   "source": [
    "pd.DataFrame([['true negative', 'false positive'],['false negative', 'true positive']], columns=['predict_death', 'predict_survive'], index=['actual_death', 'actual_survive'])\n"
   ]
  },
  {
   "cell_type": "code",
   "execution_count": null,
   "metadata": {},
   "outputs": [],
   "source": [
    "clf = DecisionTreeClassifier(max_depth=3, random_state=123)\n",
    "clf=clf.fit(X_train, y_train)"
   ]
  },
  {
   "cell_type": "code",
   "execution_count": null,
   "metadata": {},
   "outputs": [
    {
     "data": {
      "text/plain": [
       "array([0, 1])"
      ]
     },
     "metadata": {},
     "output_type": "display_data"
    }
   ],
   "source": [
    "clf.classes_"
   ]
  },
  {
   "cell_type": "code",
   "execution_count": 2,
   "metadata": {},
   "outputs": [
    {
     "data": {
      "text/html": [
       "<div>\n",
       "<style scoped>\n",
       "    .dataframe tbody tr th:only-of-type {\n",
       "        vertical-align: middle;\n",
       "    }\n",
       "\n",
       "    .dataframe tbody tr th {\n",
       "        vertical-align: top;\n",
       "    }\n",
       "\n",
       "    .dataframe thead th {\n",
       "        text-align: right;\n",
       "    }\n",
       "</style>\n",
       "<table border=\"1\" class=\"dataframe\">\n",
       "  <thead>\n",
       "    <tr style=\"text-align: right;\">\n",
       "      <th></th>\n",
       "      <th>actual</th>\n",
       "      <th>prediction</th>\n",
       "    </tr>\n",
       "  </thead>\n",
       "  <tbody>\n",
       "    <tr>\n",
       "      <th>0</th>\n",
       "      <td>c</td>\n",
       "      <td>c</td>\n",
       "    </tr>\n",
       "    <tr>\n",
       "      <th>1</th>\n",
       "      <td>b</td>\n",
       "      <td>b</td>\n",
       "    </tr>\n",
       "    <tr>\n",
       "      <th>2</th>\n",
       "      <td>b</td>\n",
       "      <td>b</td>\n",
       "    </tr>\n",
       "  </tbody>\n",
       "</table>\n",
       "</div>"
      ],
      "text/plain": [
       "  actual prediction\n",
       "0      c          c\n",
       "1      b          b\n",
       "2      b          b"
      ]
     },
     "execution_count": 2,
     "metadata": {},
     "output_type": "execute_result"
    }
   ],
   "source": [
    "df = pd.DataFrame({\n",
    "    'actual': ['c','b','b'],\n",
    "    'prediction': ['c','b','b'],\n",
    "})\n",
    "df"
   ]
  },
  {
   "cell_type": "code",
   "execution_count": 3,
   "metadata": {},
   "outputs": [
    {
     "data": {
      "text/plain": [
       "array([[2, 0],\n",
       "       [0, 1]])"
      ]
     },
     "execution_count": 3,
     "metadata": {},
     "output_type": "execute_result"
    }
   ],
   "source": [
    "conf=confusion_matrix(df.actual, df.prediction)\n",
    "conf\n"
   ]
  },
  {
   "cell_type": "code",
   "execution_count": 4,
   "metadata": {},
   "outputs": [
    {
     "data": {
      "text/plain": [
       "0"
      ]
     },
     "execution_count": 4,
     "metadata": {},
     "output_type": "execute_result"
    }
   ],
   "source": [
    "conf[0][1]"
   ]
  },
  {
   "cell_type": "code",
   "execution_count": 5,
   "metadata": {},
   "outputs": [
    {
     "data": {
      "text/plain": [
       "(80000, 64000.0, 16000.0, 11200.0, 4800.0)"
      ]
     },
     "execution_count": 5,
     "metadata": {},
     "output_type": "execute_result"
    }
   ],
   "source": [
    "x=8*10**4\n",
    "\n",
    "a=x-.2*x\n",
    "\n",
    "b=.2*x\n",
    "\n",
    "c=b-.3*b\n",
    "\n",
    "d=b*.3\n",
    "\n",
    "x,a,b,c,d"
   ]
  },
  {
   "cell_type": "markdown",
   "metadata": {},
   "source": [
    "### iPhone\n",
    "- TP - unlock stakeholder\n",
    "- FP - unlock hacker\n",
    "- FN - locked stakeholder\n",
    "- TN - locked hacker\n",
    "\n",
    "\n",
    "\n",
    "### iPhone\n",
    "- positive case: unlock correct face\n",
    "- negative case: unlock wrong face\n",
    "- TP - unlock stakeholder ; cost - happy stakeholder\n",
    "- FP - lock correct face ; cost - unhappy stakeholder\n",
    "- TN - unlock hacker ; cost - unhappy hacker\n",
    "- FN - lock hacker ; cost - happy hacker\n",
    "- precision\n",
    "\n",
    "### Spam\n",
    "- positive case: put junk mail in spam folder \n",
    "- negative case: put important mail in spame folder\n",
    "- TP - junk in spam\n",
    "- TN - mail in inbox\n",
    "- FP - mail in spam\n",
    "- FN - junk in inbox"
   ]
  },
  {
   "cell_type": "markdown",
   "metadata": {},
   "source": [
    "# Train, Validate, Test Split"
   ]
  },
  {
   "cell_type": "markdown",
   "metadata": {},
   "source": [
    "## sk.train_test_split"
   ]
  },
  {
   "cell_type": "code",
   "execution_count": 6,
   "metadata": {},
   "outputs": [],
   "source": [
    "# train, test = train_test_split(df, test_size=.2, random_state=123, stratify=df.organize_data_by_this_column)\n",
    "# train, validate = train_test_split(train, test_size=.3, random_state=123, stratify=train.survived)"
   ]
  },
  {
   "cell_type": "markdown",
   "metadata": {},
   "source": [
    "# Impute"
   ]
  },
  {
   "cell_type": "markdown",
   "metadata": {},
   "source": [
    "## 1. Create the imputer object:"
   ]
  },
  {
   "cell_type": "code",
   "execution_count": 7,
   "metadata": {},
   "outputs": [],
   "source": [
    "# imputer = sk.SimpleImputer(missing_values = None, strategy='most_frequent')\n",
    "\n",
    "# strategies: mean, median, most_frequent"
   ]
  },
  {
   "cell_type": "markdown",
   "metadata": {},
   "source": [
    "## 2. Fit to train:"
   ]
  },
  {
   "cell_type": "code",
   "execution_count": 8,
   "metadata": {},
   "outputs": [],
   "source": [
    "# imputer = sk.imputer.fit(train[['column_to_fit']])"
   ]
  },
  {
   "cell_type": "markdown",
   "metadata": {},
   "source": [
    "## 3. Transform data:"
   ]
  },
  {
   "cell_type": "code",
   "execution_count": 9,
   "metadata": {},
   "outputs": [],
   "source": [
    "# train[['column_to_impute']] = sk.imputer.transform(train[['column_to_impute']])"
   ]
  },
  {
   "cell_type": "code",
   "execution_count": 10,
   "metadata": {},
   "outputs": [
    {
     "data": {
      "text/plain": [
       "array([66])"
      ]
     },
     "execution_count": 10,
     "metadata": {},
     "output_type": "execute_result"
    }
   ],
   "source": [
    "randorr=np.random.randint(0,99,1)\n",
    "randorr"
   ]
  }
 ],
 "metadata": {
  "interpreter": {
   "hash": "3067ead486e059ec00ffe7555bdb889e6e264a24dc711bf108106cc7baee8d5d"
  },
  "kernelspec": {
   "display_name": "Python 3.9.7 ('base')",
   "language": "python",
   "name": "python3"
  },
  "language_info": {
   "codemirror_mode": {
    "name": "ipython",
    "version": 3
   },
   "file_extension": ".py",
   "mimetype": "text/x-python",
   "name": "python",
   "nbconvert_exporter": "python",
   "pygments_lexer": "ipython3",
   "version": "3.9.12"
  },
  "orig_nbformat": 4
 },
 "nbformat": 4,
 "nbformat_minor": 2
}
