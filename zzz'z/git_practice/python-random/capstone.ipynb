{
 "cells": [
  {
   "cell_type": "code",
   "execution_count": null,
   "metadata": {},
   "outputs": [],
   "source": [
    "def fbp_clean(df):\n",
    "\t'''\n",
    "\ttakes in binance candlestick data and cleans it for facebook prophet. df must have datetime index and a column labled \"close\". helps if \"close\" has close prices for a crypto trading pair.\n",
    "\t'''\n",
    "\tdf=df.close\n",
    "\tdf=df.reset_index()\n",
    "\tdf=df.rename(columns={'close':'y','index':'ds'})\n",
    "\tdf.ds=df.ds.dt.to_period('S')\n",
    "\tdf.ds=df.ds.astype(str)\n",
    "\tdf.ds=pd.to_datetime(df.ds)\n",
    "\treturn df"
   ]
  },
  {
   "cell_type": "code",
   "execution_count": null,
   "metadata": {},
   "outputs": [],
   "source": [
    "fbp=fbp_clean(X_train)"
   ]
  },
  {
   "cell_type": "code",
   "execution_count": null,
   "metadata": {},
   "outputs": [],
   "source": [
    "fbp.head()"
   ]
  },
  {
   "cell_type": "code",
   "execution_count": null,
   "metadata": {},
   "outputs": [],
   "source": [
    "m = Prophet()\n",
    "# make the thing\n",
    "\n",
    "m.fit(fbp)\n",
    "# fit the thing"
   ]
  },
  {
   "cell_type": "code",
   "execution_count": null,
   "metadata": {},
   "outputs": [],
   "source": [
    "future = m.make_future_dataframe(periods=30)\n",
    "future.tail()\n"
   ]
  },
  {
   "cell_type": "code",
   "execution_count": null,
   "metadata": {},
   "outputs": [],
   "source": [
    "forecast = m.predict(future)\n",
    "forecast[['ds', 'yhat', 'yhat_lower', 'yhat_upper']].tail()\n"
   ]
  },
  {
   "cell_type": "code",
   "execution_count": null,
   "metadata": {},
   "outputs": [],
   "source": [
    "fig1 = m.plot(forecast)"
   ]
  },
  {
   "cell_type": "code",
   "execution_count": null,
   "metadata": {},
   "outputs": [],
   "source": [
    "# def split_i(df):\n",
    "# \ttrain = df.loc[:'2022-3-22']\n",
    "# \tvalidate =df.loc['2022-03-23':'2022-04-23'] \n",
    "# \treturn train, validate"
   ]
  },
  {
   "cell_type": "code",
   "execution_count": null,
   "metadata": {},
   "outputs": [],
   "source": [
    "# def split_ii(df):\n",
    "# \ttrain = df.loc[:'2022-04-24']\n",
    "# \ttest = df.loc['2022-04-25':]\n",
    "# \treturn train, test"
   ]
  }
 ],
 "metadata": {
  "language_info": {
   "name": "python"
  },
  "orig_nbformat": 4
 },
 "nbformat": 4,
 "nbformat_minor": 2
}
