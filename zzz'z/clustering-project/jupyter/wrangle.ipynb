{
 "cells": [
  {
   "cell_type": "markdown",
   "metadata": {},
   "source": [
    "# Imports"
   ]
  },
  {
   "cell_type": "code",
   "execution_count": 1,
   "metadata": {},
   "outputs": [],
   "source": [
    "import sys\n",
    "sys.path.insert(0, '/Users/hinzlehome/codeup-data-science/clustering-project/')\n",
    "\n",
    "from utils.imports import *\n",
    "\n",
    "from utils.wrangle import *\n"
   ]
  },
  {
   "cell_type": "markdown",
   "metadata": {},
   "source": [
    "---"
   ]
  },
  {
   "cell_type": "markdown",
   "metadata": {},
   "source": [
    "# Explore "
   ]
  },
  {
   "cell_type": "code",
   "execution_count": null,
   "metadata": {},
   "outputs": [],
   "source": [
    "train, validate, test=explore_zillow()"
   ]
  },
  {
   "cell_type": "code",
   "execution_count": null,
   "metadata": {},
   "outputs": [],
   "source": [
    "train.info()"
   ]
  },
  {
   "cell_type": "markdown",
   "metadata": {},
   "source": [
    "---"
   ]
  },
  {
   "cell_type": "markdown",
   "metadata": {},
   "source": [
    "# Outliers"
   ]
  },
  {
   "cell_type": "code",
   "execution_count": null,
   "metadata": {},
   "outputs": [],
   "source": [
    "# cols=df.loc[:,(df.dtypes=='float64').values].columns.tolist()"
   ]
  },
  {
   "cell_type": "code",
   "execution_count": null,
   "metadata": {},
   "outputs": [],
   "source": [
    "cols=['bathroomcnt',\n",
    "\t'bedroomcnt',\n",
    "\t'calculatedfinishedsquarefeet',\n",
    "\t'lotsizesquarefeet',\n",
    "\t'structuretaxvaluedollarcnt',\n",
    "\t'taxvaluedollarcnt',\n",
    "\t'landtaxvaluedollarcnt',\n",
    "\t'taxamount']"
   ]
  },
  {
   "cell_type": "code",
   "execution_count": null,
   "metadata": {},
   "outputs": [],
   "source": [
    "k=3"
   ]
  },
  {
   "cell_type": "code",
   "execution_count": null,
   "metadata": {},
   "outputs": [],
   "source": [
    "for col in cols:\n",
    "    # Get quartiles\n",
    "    q1, q3 = df[col].quantile([.25, .75]) \n",
    "    # Calculate interquartile range\n",
    "    iqr = q3 - q1 \n",
    "    \n",
    "    upper_bound = q3 + k * iqr   # get upper bound\n",
    "    lower_bound = q1 - k * iqr   # get lower bound\n",
    "\n",
    "    # return dataframe without outliers\n",
    "    \n",
    "    df = df[(df[col] > lower_bound) & (df[col] < upper_bound)]"
   ]
  },
  {
   "cell_type": "code",
   "execution_count": null,
   "metadata": {},
   "outputs": [],
   "source": [
    "df.info()"
   ]
  },
  {
   "cell_type": "markdown",
   "metadata": {},
   "source": [
    "---"
   ]
  },
  {
   "cell_type": "markdown",
   "metadata": {},
   "source": [
    "# Dummies"
   ]
  },
  {
   "cell_type": "code",
   "execution_count": null,
   "metadata": {},
   "outputs": [],
   "source": [
    "def dummy(df):\n",
    "\tcols=df.loc[:,(df.dtypes==object).values].columns.tolist()\n",
    "\tdummy_df=pd.get_dummies(df[cols],  drop_first=True)\n",
    "\tdf=pd.concat([df, dummy_df], axis=1)\n",
    "\tdf=df.drop(columns=cols)\n",
    "\treturn df\n"
   ]
  },
  {
   "cell_type": "markdown",
   "metadata": {},
   "source": [
    "--- "
   ]
  },
  {
   "cell_type": "markdown",
   "metadata": {},
   "source": [
    "# UML "
   ]
  },
  {
   "cell_type": "code",
   "execution_count": null,
   "metadata": {},
   "outputs": [],
   "source": [
    "train, validate, test=uml_zillow()"
   ]
  },
  {
   "cell_type": "code",
   "execution_count": null,
   "metadata": {},
   "outputs": [],
   "source": [
    "train.info()"
   ]
  },
  {
   "cell_type": "markdown",
   "metadata": {},
   "source": [
    "---"
   ]
  },
  {
   "cell_type": "markdown",
   "metadata": {},
   "source": [
    "# SML "
   ]
  },
  {
   "cell_type": "code",
   "execution_count": 2,
   "metadata": {},
   "outputs": [],
   "source": [
    "target=['logerror']\n"
   ]
  },
  {
   "cell_type": "code",
   "execution_count": 4,
   "metadata": {},
   "outputs": [
    {
     "name": "stderr",
     "output_type": "stream",
     "text": [
      "/Users/hinzlehome/codeup-data-science/clustering-project/utils/wrangle.py:257: DtypeWarning: Columns (63) have mixed types.Specify dtype option on import or set low_memory=False.\n",
      "  df = acquire_df()\n"
     ]
    }
   ],
   "source": [
    "X_train, y_train, X_validate, y_validate, X_test, y_test=sml_zillow(target)"
   ]
  },
  {
   "cell_type": "code",
   "execution_count": 5,
   "metadata": {},
   "outputs": [
    {
     "name": "stdout",
     "output_type": "stream",
     "text": [
      "<class 'pandas.core.frame.DataFrame'>\n",
      "Int64Index: 18052 entries, 0 to 21770\n",
      "Data columns (total 22 columns):\n",
      " #   Column                          Non-Null Count  Dtype  \n",
      "---  ------                          --------------  -----  \n",
      " 0   bathroomcnt                     18052 non-null  float64\n",
      " 1   bedroomcnt                      18052 non-null  float64\n",
      " 2   buildingqualitytypeid           18052 non-null  float64\n",
      " 3   calculatedfinishedsquarefeet    18052 non-null  float64\n",
      " 4   county                          18052 non-null  float64\n",
      " 5   latitude                        18052 non-null  float64\n",
      " 6   longitude                       18052 non-null  float64\n",
      " 7   lotsizesquarefeet               18052 non-null  float64\n",
      " 8   rawcensustractandblock          18052 non-null  float64\n",
      " 9   regionidcity                    18052 non-null  float64\n",
      " 10  regionidcounty                  18052 non-null  float64\n",
      " 11  regionidzip                     18052 non-null  float64\n",
      " 12  roomcnt                         18052 non-null  float64\n",
      " 13  yearbuilt                       18052 non-null  float64\n",
      " 14  structuretaxvaluedollarcnt      18052 non-null  float64\n",
      " 15  taxvaluedollarcnt               18052 non-null  float64\n",
      " 16  assessmentyear                  18052 non-null  float64\n",
      " 17  landtaxvaluedollarcnt           18052 non-null  float64\n",
      " 18  taxamount                       18052 non-null  float64\n",
      " 19  age                             18052 non-null  float64\n",
      " 20  heatingorsystemdesc_Floor/Wall  18052 non-null  float64\n",
      " 21  heatingorsystemdesc_Solar       18052 non-null  float64\n",
      "dtypes: float64(22)\n",
      "memory usage: 3.2 MB\n"
     ]
    }
   ],
   "source": [
    "X_train.info()"
   ]
  },
  {
   "cell_type": "markdown",
   "metadata": {},
   "source": [
    "---"
   ]
  }
 ],
 "metadata": {
  "interpreter": {
   "hash": "3067ead486e059ec00ffe7555bdb889e6e264a24dc711bf108106cc7baee8d5d"
  },
  "kernelspec": {
   "display_name": "Python 3.9.7 ('base')",
   "language": "python",
   "name": "python3"
  },
  "language_info": {
   "codemirror_mode": {
    "name": "ipython",
    "version": 3
   },
   "file_extension": ".py",
   "mimetype": "text/x-python",
   "name": "python",
   "nbconvert_exporter": "python",
   "pygments_lexer": "ipython3",
   "version": "3.9.7"
  },
  "orig_nbformat": 4
 },
 "nbformat": 4,
 "nbformat_minor": 2
}
