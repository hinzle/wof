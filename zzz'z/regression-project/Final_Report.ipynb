{
 "cells": [
  {
   "cell_type": "markdown",
   "metadata": {},
   "source": [
    "# Regression Project\n",
    "\n",
    "Forest Hensley - codeup/innis - 2020 mar 30\n",
    "\n",
    "---"
   ]
  },
  {
   "cell_type": "markdown",
   "metadata": {},
   "source": [
    "## Objective : \n",
    "\n",
    "\"We want to be able to predict the property values ('taxvaluedollarcnt') of Single Family Properties that had a transaction during 2017.\"  \n",
    "> https://ds.codeup.com/regression/project/\n",
    "\n",
    "- a.k.a: eliminate the zestimate\n",
    "- a.k.a: zestimate don't rate\n",
    "- a.k.a: \"zestimate\", more like, 'let me rest, mate' (because their models performance is 😴 on the job compared to ours 🥇)\n",
    "\n"
   ]
  },
  {
   "cell_type": "markdown",
   "metadata": {},
   "source": [
    "### Dataset : Zillow  \n",
    "\n",
    "- #### Description: \n",
    "\n",
    "\tproperties_2017.csv - all the properties with their home features for 2017 (released on 10/2/2017)\n",
    "\n",
    "- #### Profile :\n",
    "\n",
    "\t\"Zillow’s Zestimate home valuation has shaken up the U.S. real estate industry since first released over 11 years ago.\n",
    "\n",
    "\tA home is often the largest and most expensive purchase a person makes in his or her lifetime. Ensuring homeowners have a trusted way to monitor this asset is incredibly important. The Zestimate was created to give consumers as much information as possible about homes and the housing market, marking the first time consumers had access to this type of home value information at no cost.\n",
    "\n",
    "\t“Zestimates” are estimated home values based on 7.5 million statistical and machine learning models that analyze hundreds of data points on each property. And, by continually improving the median margin of error (from 14% at the onset to 5% today), Zillow has since become established as one of the largest, most trusted marketplaces for real estate information in the U.S. and a leading example of impactful machine learning.\"\n",
    "\n",
    "\t> https://www.kaggle.com/competitions/zillow-prize-1/data\n",
    "\n"
   ]
  },
  {
   "cell_type": "markdown",
   "metadata": {},
   "source": [
    "---"
   ]
  },
  {
   "cell_type": "markdown",
   "metadata": {},
   "source": [
    "## Acquire"
   ]
  },
  {
   "cell_type": "markdown",
   "metadata": {},
   "source": [
    "`acquire.py` takes the 🍰 on this req 🎉"
   ]
  },
  {
   "cell_type": "code",
   "execution_count": 1,
   "metadata": {},
   "outputs": [
    {
     "name": "stdout",
     "output_type": "stream",
     "text": [
      "Using cached csv\n"
     ]
    }
   ],
   "source": [
    "from imports import *\n",
    "from acquire import wrangle_zillow\n",
    "\n",
    "# import essential packages from imports.py\n",
    "# import wrangle zillow from acquire.py\n",
    "\n",
    "zillow = wrangle_zillow()\n",
    "\n",
    "# zillow is now tidy : munged, split, scaled\n",
    "# 😭 no dummy variables\n"
   ]
  },
  {
   "cell_type": "markdown",
   "metadata": {},
   "source": [
    "`zillow` will hang out for our data viz portion 📊"
   ]
  },
  {
   "cell_type": "code",
   "execution_count": 2,
   "metadata": {},
   "outputs": [
    {
     "name": "stdout",
     "output_type": "stream",
     "text": [
      "<class 'pandas.core.frame.DataFrame'>\n",
      "RangeIndex: 1278128 entries, 0 to 1278127\n",
      "Data columns (total 7 columns):\n",
      " #   Column          Non-Null Count    Dtype   \n",
      "---  ------          --------------    -----   \n",
      " 0   beds            1278128 non-null  float64 \n",
      " 1   baths           1278128 non-null  float64 \n",
      " 2   sqft            1278128 non-null  float64 \n",
      " 3   property_value  1278128 non-null  float64 \n",
      " 4   year            1278128 non-null  category\n",
      " 5   taxes           1278128 non-null  float64 \n",
      " 6   fips            1278128 non-null  category\n",
      "dtypes: category(2), float64(5)\n",
      "memory usage: 52.4 MB\n"
     ]
    }
   ],
   "source": [
    "zillow[0].info()\n",
    "\n",
    "# zillow = [train_scaled, validate_scaled, test_scaled]"
   ]
  },
  {
   "cell_type": "markdown",
   "metadata": {},
   "source": [
    "---"
   ]
  },
  {
   "cell_type": "markdown",
   "metadata": {},
   "source": [
    "## Wrangle"
   ]
  },
  {
   "cell_type": "markdown",
   "metadata": {},
   "source": [
    "`prepare.py` does the heavy 🦾 on this req 💽"
   ]
  },
  {
   "cell_type": "code",
   "execution_count": 3,
   "metadata": {},
   "outputs": [],
   "source": [
    "import prepare as prep\n",
    "\n",
    "# import ml_data from prepare.py"
   ]
  },
  {
   "cell_type": "code",
   "execution_count": 4,
   "metadata": {},
   "outputs": [],
   "source": [
    "targets=['taxes','property_value']\n",
    "\n",
    "# identify targets for modeling"
   ]
  },
  {
   "cell_type": "code",
   "execution_count": 5,
   "metadata": {},
   "outputs": [],
   "source": [
    "trunk = prep.ml_data(zillow[0],zillow[1],zillow[2], targets)\n",
    "\n",
    "# trunk contains all of the data sets we need for modeling\n",
    "# 😭 no dummy variables\n",
    "# trunk = [X_train, y_train, X_validate, y_validate, X_test, y_test]"
   ]
  },
  {
   "cell_type": "markdown",
   "metadata": {},
   "source": [
    "These are the data sets we will use for modeling 💅"
   ]
  },
  {
   "cell_type": "code",
   "execution_count": 6,
   "metadata": {},
   "outputs": [
    {
     "name": "stdout",
     "output_type": "stream",
     "text": [
      "<class 'pandas.core.frame.DataFrame'>\n",
      "RangeIndex: 1278128 entries, 0 to 1278127\n",
      "Data columns (total 5 columns):\n",
      " #   Column  Non-Null Count    Dtype   \n",
      "---  ------  --------------    -----   \n",
      " 0   beds    1278128 non-null  float64 \n",
      " 1   baths   1278128 non-null  float64 \n",
      " 2   sqft    1278128 non-null  float64 \n",
      " 3   year    1278128 non-null  category\n",
      " 4   fips    1278128 non-null  category\n",
      "dtypes: category(2), float64(3)\n",
      "memory usage: 32.9 MB\n"
     ]
    }
   ],
   "source": [
    "X_train, y_train, X_validate, y_validate, X_test, y_test = trunk[0], trunk[1], trunk[2], trunk[3], trunk[4], trunk[5] \n",
    "\n",
    "X_train.info()\n",
    "\n",
    "# assign variables for modeling\n"
   ]
  },
  {
   "cell_type": "markdown",
   "metadata": {},
   "source": [
    "---"
   ]
  },
  {
   "cell_type": "markdown",
   "metadata": {},
   "source": [
    "## Worth the ask..."
   ]
  },
  {
   "cell_type": "markdown",
   "metadata": {},
   "source": [
    "### Does sqaure footage effect property value? "
   ]
  },
  {
   "cell_type": "markdown",
   "metadata": {},
   "source": [
    "- At first 👀 , sqaure footage seems to affect property value."
   ]
  },
  {
   "cell_type": "code",
   "execution_count": 7,
   "metadata": {},
   "outputs": [
    {
     "data": {
      "text/plain": [
       "<seaborn.axisgrid.FacetGrid at 0x7fe5f58d34f0>"
      ]
     },
     "execution_count": 7,
     "metadata": {},
     "output_type": "execute_result"
    },
    {
     "data": {
      "image/png": "[encoded data removed]",
      "text/plain": [
       "<Figure size 431.125x360 with 1 Axes>"
      ]
     },
     "metadata": {
      "needs_background": "light"
     },
     "output_type": "display_data"
    }
   ],
   "source": [
    "sns.lmplot(data=zillow[0].sample(150), x='sqft', y='property_value',palette='magma', hue='fips')\n",
    "\n",
    "# viz"
   ]
  },
  {
   "cell_type": "markdown",
   "metadata": {},
   "source": [
    "#### Use Pearson's R to test the variable for independence:\n",
    "\n",
    "- $ H_0 = \\textrm{\"Variables are independent.\" }$  \n",
    "- $ H_1 = \\textrm{\"Variables are NOT independent.\" }$"
   ]
  },
  {
   "cell_type": "code",
   "execution_count": 8,
   "metadata": {},
   "outputs": [
    {
     "name": "stdout",
     "output_type": "stream",
     "text": [
      "r = 0.6129\n",
      "p = 0.0000\n",
      "\n",
      "Reject H_0\n",
      "moderate correlation\n"
     ]
    }
   ],
   "source": [
    "r,p=prep.pearsons_r_p(zillow[0]['sqft'],zillow[0]['property_value'])\n",
    "\n",
    "# stat"
   ]
  },
  {
   "cell_type": "markdown",
   "metadata": {},
   "source": [
    "There is a statistically relevant correlation between square footage and property value 📈\n",
    "\n"
   ]
  },
  {
   "cell_type": "markdown",
   "metadata": {},
   "source": [
    "### Does number of beds effect property value?"
   ]
  },
  {
   "cell_type": "markdown",
   "metadata": {},
   "source": [
    "- At first 👀 , number of beds seems to affect property value."
   ]
  },
  {
   "cell_type": "code",
   "execution_count": 9,
   "metadata": {},
   "outputs": [
    {
     "data": {
      "text/plain": [
       "<seaborn.axisgrid.FacetGrid at 0x7fe5ecc195b0>"
      ]
     },
     "execution_count": 9,
     "metadata": {},
     "output_type": "execute_result"
    },
    {
     "data": {
      "image/png": "[encoded data removed]",
      "text/plain": [
       "<Figure size 431.125x360 with 1 Axes>"
      ]
     },
     "metadata": {
      "needs_background": "light"
     },
     "output_type": "display_data"
    }
   ],
   "source": [
    "sns.lmplot(data=zillow[0].sample(150), x='beds', y='property_value', palette='magma', hue='fips')\n",
    "\n",
    "# viz"
   ]
  },
  {
   "cell_type": "markdown",
   "metadata": {},
   "source": [
    "#### Use Pearson's R to test the variable for independence:\n",
    "\n",
    "- $ H_0 = \\textrm{\"Variables are independent.\" }$  \n",
    "- $ H_1 = \\textrm{\"Variables are NOT independent.\" }$"
   ]
  },
  {
   "cell_type": "code",
   "execution_count": 10,
   "metadata": {},
   "outputs": [
    {
     "name": "stdout",
     "output_type": "stream",
     "text": [
      "r = 0.2586\n",
      "p = 0.0000\n",
      "\n",
      "Reject H_0\n",
      "weak correlation\n"
     ]
    }
   ],
   "source": [
    "r,p=prep.pearsons_r_p(zillow[0]['beds'],zillow[0]['property_value'])\n",
    "\n",
    "# stat"
   ]
  },
  {
   "cell_type": "markdown",
   "metadata": {},
   "source": [
    "There is a statistically relevant correlation between number of beds and property value 📈\n",
    "\n"
   ]
  },
  {
   "cell_type": "markdown",
   "metadata": {},
   "source": [
    "### Does number of baths effect property value?"
   ]
  },
  {
   "cell_type": "markdown",
   "metadata": {},
   "source": [
    "- At first 👀 , number of baths seems to affect property value."
   ]
  },
  {
   "cell_type": "code",
   "execution_count": 11,
   "metadata": {},
   "outputs": [
    {
     "data": {
      "text/plain": [
       "<seaborn.axisgrid.FacetGrid at 0x7fe628386850>"
      ]
     },
     "execution_count": 11,
     "metadata": {},
     "output_type": "execute_result"
    },
    {
     "data": {
      "image/png": "[encoded data removed]",
      "text/plain": [
       "<Figure size 431.125x360 with 1 Axes>"
      ]
     },
     "metadata": {
      "needs_background": "light"
     },
     "output_type": "display_data"
    }
   ],
   "source": [
    "sns.lmplot(data=zillow[0].sample(150), x='baths', y='property_value', palette='magma', hue='fips')\n",
    "\n",
    "# viz"
   ]
  },
  {
   "cell_type": "markdown",
   "metadata": {},
   "source": [
    "#### Use Pearson's R to test the variable for independence:\n",
    "\n",
    "- $ H_0 = \\textrm{\"Variables are independent.\" }$  \n",
    "- $ H_1 = \\textrm{\"Variables are NOT independent.\" }$"
   ]
  },
  {
   "cell_type": "code",
   "execution_count": 12,
   "metadata": {},
   "outputs": [
    {
     "name": "stdout",
     "output_type": "stream",
     "text": [
      "r = 0.5076\n",
      "p = 0.0000\n",
      "\n",
      "Reject H_0\n",
      "moderate correlation\n"
     ]
    }
   ],
   "source": [
    "r,p=prep.pearsons_r_p(zillow[0]['baths'],zillow[0]['property_value'])\n",
    "\n",
    "# stat"
   ]
  },
  {
   "cell_type": "markdown",
   "metadata": {},
   "source": [
    "There is a statistically relevant correlation between number of baths and property value 📈\n",
    "\n"
   ]
  },
  {
   "cell_type": "markdown",
   "metadata": {},
   "source": [
    "### What is the optimal ratio of beds/baths?"
   ]
  },
  {
   "cell_type": "code",
   "execution_count": 13,
   "metadata": {},
   "outputs": [],
   "source": [
    "# viz\n",
    "\n",
    "# ➕⏳⏩🌠"
   ]
  },
  {
   "cell_type": "code",
   "execution_count": 14,
   "metadata": {},
   "outputs": [],
   "source": [
    "# stat\n",
    "\n",
    "# ➕⏳⏩🔣"
   ]
  },
  {
   "cell_type": "markdown",
   "metadata": {},
   "source": [
    "### Why do some properties have a much higher value than others when they are located so close to each other?"
   ]
  },
  {
   "cell_type": "code",
   "execution_count": 15,
   "metadata": {},
   "outputs": [
    {
     "data": {
      "text/plain": [
       "<seaborn.axisgrid.FacetGrid at 0x7fe5f38b1a60>"
      ]
     },
     "execution_count": 15,
     "metadata": {},
     "output_type": "execute_result"
    },
    {
     "data": {
      "image/png": "[encoded data removed]",
      "text/plain": [
       "<Figure size 1080x360 with 3 Axes>"
      ]
     },
     "metadata": {
      "needs_background": "light"
     },
     "output_type": "display_data"
    }
   ],
   "source": [
    "sns.relplot(data=zillow[0].sample(150), x='year', y='property_value', palette='magma', col='fips')\n",
    "\n",
    "# viz"
   ]
  },
  {
   "cell_type": "markdown",
   "metadata": {},
   "source": [
    "#### Use Pearson's R to test the variable for independence:\n",
    "\n",
    "- $ H_0 = \\textrm{\"Variables are independent.\" }$  \n",
    "- $ H_1 = \\textrm{\"Variables are NOT independent.\" }$"
   ]
  },
  {
   "cell_type": "code",
   "execution_count": 16,
   "metadata": {},
   "outputs": [
    {
     "name": "stdout",
     "output_type": "stream",
     "text": [
      "r = 0.1919\n",
      "p = 0.0000\n",
      "\n",
      "Reject H_0\n",
      "no correlation\n"
     ]
    }
   ],
   "source": [
    "r,p=prep.pearsons_r_p(zillow[0]['year'],zillow[0]['property_value'])\n",
    "\n",
    "# stat"
   ]
  },
  {
   "cell_type": "markdown",
   "metadata": {},
   "source": [
    "There is NOT a statistically relevant correlation between year and property value 📈  \n",
    "\t... ➕⏳⏩ run a t-test and filter by fip."
   ]
  },
  {
   "cell_type": "markdown",
   "metadata": {},
   "source": [
    "#### Takeaways:\n",
    "Square footage has the highest r-value and is confirmed to be moderatly correlated to our target.\n",
    "\n",
    "Square footage will be selected as our feature."
   ]
  },
  {
   "cell_type": "markdown",
   "metadata": {},
   "source": [
    "---"
   ]
  },
  {
   "cell_type": "markdown",
   "metadata": {},
   "source": [
    "## Model"
   ]
  },
  {
   "cell_type": "markdown",
   "metadata": {},
   "source": [
    "### Baseline"
   ]
  },
  {
   "cell_type": "markdown",
   "metadata": {},
   "source": [
    "Establish baseline to determine the validity of our various models. In this case median is used since outliers have not been addressed."
   ]
  },
  {
   "cell_type": "code",
   "execution_count": 22,
   "metadata": {},
   "outputs": [],
   "source": [
    "import warnings\n",
    "warnings.filterwarnings('ignore')"
   ]
  },
  {
   "cell_type": "code",
   "execution_count": 26,
   "metadata": {},
   "outputs": [],
   "source": [
    "\n",
    "y_train['yhat_base_prop']=y_train.property_value.median()\n",
    "\n",
    "# evaluate: rmse\n",
    "mse_baseline = mean_squared_error(y_train.property_value, y_train.yhat_base_prop)\n"
   ]
  },
  {
   "cell_type": "markdown",
   "metadata": {},
   "source": [
    "### Linear Regression (OLS)"
   ]
  },
  {
   "cell_type": "code",
   "execution_count": 42,
   "metadata": {},
   "outputs": [
    {
     "name": "stdout",
     "output_type": "stream",
     "text": [
      "MSE OLS sklearn:  2.84e+11\n",
      "y_hat superior\n"
     ]
    }
   ],
   "source": [
    "model = LinearRegression().fit(X_train[['sqft']],y_train['property_value'])\n",
    "\n",
    "y_train['yhat_prop_ols'] = model.predict(X_train[['sqft']])\n",
    "\n",
    "mse_ols = mean_squared_error(y_train.property_value, y_train.yhat_prop_ols)\n",
    "\n",
    "print(\"MSE OLS sklearn: \",\"{:.2e}\".format(mse_ols)) \n",
    "\n",
    "if mse_ols-mse_baseline<0:\n",
    "\tprint(\"y_hat superior\")\n",
    "else:\n",
    "\tprint(\"yhat_baseline superior\")\n"
   ]
  },
  {
   "cell_type": "markdown",
   "metadata": {},
   "source": [
    "### LassoLars"
   ]
  },
  {
   "cell_type": "code",
   "execution_count": 31,
   "metadata": {},
   "outputs": [
    {
     "name": "stdout",
     "output_type": "stream",
     "text": [
      "MSE for Lasso + Lars\n",
      "Training/In-Sample:  2.84e+11\n",
      "y_hat superior\n"
     ]
    }
   ],
   "source": [
    "lars = LassoLars(alpha=1.0)\n",
    "\n",
    "# create the model object\n",
    "\n",
    "lars.fit(X_train[['sqft']], y_train.property_value)\n",
    "\n",
    "# fit the model to our training data. We must specify the column in y_train, \n",
    "# since we have converted it to a dataframe from a series!\n",
    "\n",
    "y_train['yhat_prop_lars'] = lars.predict(X_train[['sqft']])\n",
    "\n",
    "# predict train\n",
    "\n",
    "# evaluate: rmse\n",
    "mse_lars_train = mean_squared_error(y_train.property_value, y_train.yhat_prop_lars)\n",
    "\n",
    "\n",
    "print(\"MSE for Lasso + Lars\\nTraining/In-Sample: \",\"{:.2e}\".format(mse_lars_train))\n",
    "\n",
    "if mse_lars_train-mse_baseline<0:\n",
    "\tprint(\"y_hat superior\")\n",
    "else:\n",
    "\tprint(\"yhat_baseline superior\")\n",
    "\n"
   ]
  },
  {
   "cell_type": "markdown",
   "metadata": {},
   "source": [
    "### Tweedie Regressor"
   ]
  },
  {
   "cell_type": "code",
   "execution_count": 35,
   "metadata": {},
   "outputs": [
    {
     "name": "stdout",
     "output_type": "stream",
     "text": [
      "MSE for GLM using Tweedie, power=1 & alpha=0\n",
      "Training/In-Sample:  2.80e+13\n"
     ]
    }
   ],
   "source": [
    "# create the model object\n",
    "glm = TweedieRegressor(power=1, alpha=0)\n",
    "\n",
    "# fit the model to our training data. We must specify the column in y_train, \n",
    "# since we have converted it to a dataframe from a series! \n",
    "glm.fit(X_train[['sqft']], y_train.property_value)\n",
    "\n",
    "# predict train\n",
    "y_train['yhat_prop_glm'] = glm.predict(X_train[['sqft']])\n",
    "\n",
    "# evaluate: mse\n",
    "mse_glm_train = mean_squared_error(y_train.property_value, y_train.yhat_prop_glm)\n",
    "\n",
    "\n",
    "print(\"MSE for GLM using Tweedie, power=1 & alpha=0\\nTraining/In-Sample: \",\"{:.2e}\".format( mse_glm_train))\n"
   ]
  },
  {
   "cell_type": "markdown",
   "metadata": {},
   "source": [
    "### Polynomial Regression"
   ]
  },
  {
   "cell_type": "markdown",
   "metadata": {},
   "source": [
    "PolynomialFeatures"
   ]
  },
  {
   "cell_type": "code",
   "execution_count": 36,
   "metadata": {},
   "outputs": [],
   "source": [
    "# make the polynomial features to get a new set of features\n",
    "pf = PolynomialFeatures(degree=2)\n",
    "\n",
    "# fit and transform X_train_scaled\n",
    "X_train_degree2 = pf.fit_transform(X_train[['sqft']])\n",
    "\n",
    "# transform X_validate_scaled & X_test_scaled\n",
    "X_validate_degree2 = pf.transform(X_validate[['sqft']])\n",
    "X_test_degree2 = pf.transform(X_test[['sqft']])\n"
   ]
  },
  {
   "cell_type": "markdown",
   "metadata": {},
   "source": [
    "LinearRegression"
   ]
  },
  {
   "cell_type": "code",
   "execution_count": 41,
   "metadata": {},
   "outputs": [
    {
     "name": "stdout",
     "output_type": "stream",
     "text": [
      "MSE for Polynomial Model, degrees=2\n",
      "Training/In-Sample:  2.70e+11\n"
     ]
    }
   ],
   "source": [
    "# create the model object\n",
    "lmp = LinearRegression(normalize=True)\n",
    "\n",
    "# fit the model to our training data. We must specify the column in y_train, \n",
    "# since we have converted it to a dataframe from a series! \n",
    "lmp.fit(X_train_degree2,y_train.property_value)\n",
    "\n",
    "# predict train\n",
    "y_train['yhat_prop_lmp'] = lmp.predict(X_train_degree2)\n",
    "\n",
    "# evaluate: rmse\n",
    "mse_lmp_train = mean_squared_error(y_train.property_value, y_train.yhat_prop_lmp)\n",
    "\n",
    "print(\"MSE for Polynomial Model, degrees=2\\nTraining/In-Sample: \",\"{:.2e}\".format( mse_lmp_train))"
   ]
  },
  {
   "cell_type": "markdown",
   "metadata": {},
   "source": [
    "### Validate"
   ]
  },
  {
   "cell_type": "code",
   "execution_count": 50,
   "metadata": {},
   "outputs": [
    {
     "data": {
      "text/html": [
       "<div>\n",
       "<style scoped>\n",
       "    .dataframe tbody tr th:only-of-type {\n",
       "        vertical-align: middle;\n",
       "    }\n",
       "\n",
       "    .dataframe tbody tr th {\n",
       "        vertical-align: top;\n",
       "    }\n",
       "\n",
       "    .dataframe thead th {\n",
       "        text-align: right;\n",
       "    }\n",
       "</style>\n",
       "<table border=\"1\" class=\"dataframe\">\n",
       "  <thead>\n",
       "    <tr style=\"text-align: right;\">\n",
       "      <th></th>\n",
       "      <th>taxes</th>\n",
       "      <th>property_value</th>\n",
       "      <th>yhat_prop_lmp</th>\n",
       "      <th>yhat_val_ols</th>\n",
       "      <th>yhat_val_lars</th>\n",
       "      <th>yhat_val_glm</th>\n",
       "      <th>yhat_val_lmp</th>\n",
       "      <th>yhat_val_base</th>\n",
       "    </tr>\n",
       "  </thead>\n",
       "  <tbody>\n",
       "    <tr>\n",
       "      <th>0</th>\n",
       "      <td>0.004161</td>\n",
       "      <td>407191.0</td>\n",
       "      <td>446637.107514</td>\n",
       "      <td>467012.556323</td>\n",
       "      <td>466998.291444</td>\n",
       "      <td>451237.549458</td>\n",
       "      <td>446637.107514</td>\n",
       "      <td>327748.0</td>\n",
       "    </tr>\n",
       "    <tr>\n",
       "      <th>1</th>\n",
       "      <td>0.007203</td>\n",
       "      <td>582550.0</td>\n",
       "      <td>700660.317763</td>\n",
       "      <td>762357.016510</td>\n",
       "      <td>761535.689573</td>\n",
       "      <td>501874.440973</td>\n",
       "      <td>700660.317763</td>\n",
       "      <td>327748.0</td>\n",
       "    </tr>\n",
       "    <tr>\n",
       "      <th>2</th>\n",
       "      <td>0.010622</td>\n",
       "      <td>977685.0</td>\n",
       "      <td>129086.850139</td>\n",
       "      <td>60008.285791</td>\n",
       "      <td>61106.205998</td>\n",
       "      <td>389719.877252</td>\n",
       "      <td>129086.850139</td>\n",
       "      <td>327748.0</td>\n",
       "    </tr>\n",
       "    <tr>\n",
       "      <th>3</th>\n",
       "      <td>0.001628</td>\n",
       "      <td>134533.0</td>\n",
       "      <td>70403.211276</td>\n",
       "      <td>-20966.385834</td>\n",
       "      <td>-19647.193201</td>\n",
       "      <td>378519.862900</td>\n",
       "      <td>70403.211276</td>\n",
       "      <td>327748.0</td>\n",
       "    </tr>\n",
       "    <tr>\n",
       "      <th>4</th>\n",
       "      <td>0.004027</td>\n",
       "      <td>306866.0</td>\n",
       "      <td>303679.787257</td>\n",
       "      <td>289720.643714</td>\n",
       "      <td>290190.848988</td>\n",
       "      <td>423328.973529</td>\n",
       "      <td>303679.787257</td>\n",
       "      <td>327748.0</td>\n",
       "    </tr>\n",
       "  </tbody>\n",
       "</table>\n",
       "</div>"
      ],
      "text/plain": [
       "      taxes  property_value  yhat_prop_lmp   yhat_val_ols  yhat_val_lars  \\\n",
       "0  0.004161        407191.0  446637.107514  467012.556323  466998.291444   \n",
       "1  0.007203        582550.0  700660.317763  762357.016510  761535.689573   \n",
       "2  0.010622        977685.0  129086.850139   60008.285791   61106.205998   \n",
       "3  0.001628        134533.0   70403.211276  -20966.385834  -19647.193201   \n",
       "4  0.004027        306866.0  303679.787257  289720.643714  290190.848988   \n",
       "\n",
       "    yhat_val_glm   yhat_val_lmp  yhat_val_base  \n",
       "0  451237.549458  446637.107514       327748.0  \n",
       "1  501874.440973  700660.317763       327748.0  \n",
       "2  389719.877252  129086.850139       327748.0  \n",
       "3  378519.862900   70403.211276       327748.0  \n",
       "4  423328.973529  303679.787257       327748.0  "
      ]
     },
     "execution_count": 50,
     "metadata": {},
     "output_type": "execute_result"
    }
   ],
   "source": [
    "y_validate['yhat_val_base'] = y_validate.property_value.median()\n",
    "\n",
    "y_validate['yhat_val_ols'] = model.predict(X_validate[['sqft']])\n",
    "\n",
    "y_validate['yhat_val_lars'] = lars.predict(X_validate[['sqft']])\n",
    "\n",
    "y_validate['yhat_val_glm'] = glm.predict(X_validate[['sqft']])\n",
    "\n",
    "y_validate['yhat_val_lmp'] = lmp.predict(X_validate_degree2)\n",
    "\n",
    "y_validate.head()\n"
   ]
  },
  {
   "cell_type": "code",
   "execution_count": 69,
   "metadata": {},
   "outputs": [],
   "source": [
    "\n",
    "mse_base_val = mean_squared_error(y_validate.property_value, y_validate.yhat_val_base)\n",
    "\n",
    "mse_ols_val = mean_squared_error(y_validate.property_value, y_validate.yhat_val_ols)\n",
    "\n",
    "mse_lars_val = mean_squared_error(y_validate.property_value, y_validate.yhat_val_lars)\n",
    "\n",
    "mse_glm_val = mean_squared_error(y_validate.property_value, y_validate.yhat_val_glm)\n",
    "\n",
    "mse_lmp_val = mean_squared_error(y_validate.property_value, y_validate.yhat_val_lmp)\n",
    "\n",
    "mse_val=[mse_base_val,mse_ols_val,mse_lars_val,mse_glm_val,mse_lmp_val]"
   ]
  },
  {
   "cell_type": "code",
   "execution_count": 70,
   "metadata": {},
   "outputs": [
    {
     "data": {
      "text/html": [
       "<div>\n",
       "<style scoped>\n",
       "    .dataframe tbody tr th:only-of-type {\n",
       "        vertical-align: middle;\n",
       "    }\n",
       "\n",
       "    .dataframe tbody tr th {\n",
       "        vertical-align: top;\n",
       "    }\n",
       "\n",
       "    .dataframe thead th {\n",
       "        text-align: right;\n",
       "    }\n",
       "</style>\n",
       "<table border=\"1\" class=\"dataframe\">\n",
       "  <thead>\n",
       "    <tr style=\"text-align: right;\">\n",
       "      <th></th>\n",
       "      <th>mse</th>\n",
       "    </tr>\n",
       "  </thead>\n",
       "  <tbody>\n",
       "    <tr>\n",
       "      <th>mse_base_val</th>\n",
       "      <td>4.493966e+11</td>\n",
       "    </tr>\n",
       "    <tr>\n",
       "      <th>mse_ols_val</th>\n",
       "      <td>6.083990e+11</td>\n",
       "    </tr>\n",
       "    <tr>\n",
       "      <th>mse_lars_val</th>\n",
       "      <td>6.065361e+11</td>\n",
       "    </tr>\n",
       "    <tr>\n",
       "      <th>mse_glm_val</th>\n",
       "      <td>2.256184e+132</td>\n",
       "    </tr>\n",
       "    <tr>\n",
       "      <th>mse_lmp_val</th>\n",
       "      <td>7.420656e+14</td>\n",
       "    </tr>\n",
       "  </tbody>\n",
       "</table>\n",
       "</div>"
      ],
      "text/plain": [
       "                        mse\n",
       "mse_base_val   4.493966e+11\n",
       "mse_ols_val    6.083990e+11\n",
       "mse_lars_val   6.065361e+11\n",
       "mse_glm_val   2.256184e+132\n",
       "mse_lmp_val    7.420656e+14"
      ]
     },
     "execution_count": 70,
     "metadata": {},
     "output_type": "execute_result"
    }
   ],
   "source": [
    "mse_val=pd.DataFrame(mse_val,index=['mse_base_val','mse_ols_val','mse_lars_val','mse_glm_val','mse_lmp_val' ],columns=['mse'])\n",
    "mse_val"
   ]
  },
  {
   "cell_type": "markdown",
   "metadata": {},
   "source": [
    "We can see that our median baseline is the most effective predictor in this case. The best model is the is Lasso Lars model. We will use this model for our test."
   ]
  },
  {
   "cell_type": "markdown",
   "metadata": {},
   "source": [
    "### Test"
   ]
  },
  {
   "cell_type": "code",
   "execution_count": 75,
   "metadata": {},
   "outputs": [
    {
     "name": "stdout",
     "output_type": "stream",
     "text": [
      "MSE OLS sklearn:  4.11e+11\n",
      "y_hat superior\n"
     ]
    }
   ],
   "source": [
    "model = LinearRegression().fit(X_test[['sqft']],y_test['property_value'])\n",
    "\n",
    "y_test['yhat_test_ols'] = model.predict(X_test[['sqft']])\n",
    "\n",
    "mse_ols = mean_squared_error(y_test.property_value, y_test.yhat_test_ols)\n",
    "\n",
    "print(\"MSE OLS sklearn: \",\"{:.2e}\".format(mse_ols)) \n",
    "\n",
    "y_test['test_baseline'] = y_test['property_value'].median()\n",
    "\n",
    "mse_test_baseline=mean_squared_error(y_test.property_value, y_test.test_baseline)\n",
    "\n",
    "if mse_ols-mse_test_baseline<0:\n",
    "\tprint(\"y_hat superior\")\n",
    "else:\n",
    "\tprint(\"yhat_baseline superior\")\n"
   ]
  },
  {
   "cell_type": "markdown",
   "metadata": {},
   "source": [
    "Our model performs better than the baseline."
   ]
  },
  {
   "cell_type": "markdown",
   "metadata": {},
   "source": [
    "## Summary"
   ]
  },
  {
   "cell_type": "markdown",
   "metadata": {},
   "source": [
    "- Square footage can be used to estimate property value."
   ]
  },
  {
   "cell_type": "markdown",
   "metadata": {},
   "source": [
    "### Next steps..."
   ]
  },
  {
   "cell_type": "markdown",
   "metadata": {},
   "source": [
    "- Cleaner data: the data had a lot of missing or erroneous information.\n",
    "\n",
    "- Feature engineering: explore erroneous information for clues to other features.\n",
    "\n",
    "- Model selection: use sklearn tools."
   ]
  }
 ],
 "metadata": {
  "interpreter": {
   "hash": "3067ead486e059ec00ffe7555bdb889e6e264a24dc711bf108106cc7baee8d5d"
  },
  "kernelspec": {
   "display_name": "Python 3.9.7 ('base')",
   "language": "python",
   "name": "python3"
  },
  "language_info": {
   "codemirror_mode": {
    "name": "ipython",
    "version": 3
   },
   "file_extension": ".py",
   "mimetype": "text/x-python",
   "name": "python",
   "nbconvert_exporter": "python",
   "pygments_lexer": "ipython3",
   "version": "3.9.7"
  },
  "orig_nbformat": 4
 },
 "nbformat": 4,
 "nbformat_minor": 2
}
