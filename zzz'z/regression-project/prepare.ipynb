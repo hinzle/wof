{
 "cells": [
  {
   "cell_type": "markdown",
   "metadata": {},
   "source": [
    "# Imports"
   ]
  },
  {
   "cell_type": "code",
   "execution_count": 1,
   "metadata": {},
   "outputs": [],
   "source": [
    "import model\n",
    "from imports import *\n",
    "from wrangle import wrangle_zillow"
   ]
  },
  {
   "cell_type": "code",
   "execution_count": 2,
   "metadata": {},
   "outputs": [],
   "source": [
    "import warnings\n",
    "warnings.filterwarnings('ignore')\n"
   ]
  },
  {
   "cell_type": "markdown",
   "metadata": {},
   "source": [
    "# Wrangle Zillow"
   ]
  },
  {
   "cell_type": "code",
   "execution_count": 3,
   "metadata": {},
   "outputs": [
    {
     "name": "stdout",
     "output_type": "stream",
     "text": [
      "Using cached csv\n"
     ]
    }
   ],
   "source": [
    "zillow=wrangle_zillow()\n",
    "\n",
    "# df = [train_scaled, validate_scaled, test_scaled]"
   ]
  },
  {
   "cell_type": "code",
   "execution_count": 4,
   "metadata": {},
   "outputs": [
    {
     "data": {
      "text/html": [
       "<div>\n",
       "<style scoped>\n",
       "    .dataframe tbody tr th:only-of-type {\n",
       "        vertical-align: middle;\n",
       "    }\n",
       "\n",
       "    .dataframe tbody tr th {\n",
       "        vertical-align: top;\n",
       "    }\n",
       "\n",
       "    .dataframe thead th {\n",
       "        text-align: right;\n",
       "    }\n",
       "</style>\n",
       "<table border=\"1\" class=\"dataframe\">\n",
       "  <thead>\n",
       "    <tr style=\"text-align: right;\">\n",
       "      <th></th>\n",
       "      <th>beds</th>\n",
       "      <th>baths</th>\n",
       "      <th>sqft</th>\n",
       "      <th>property_value</th>\n",
       "      <th>year</th>\n",
       "      <th>taxes</th>\n",
       "      <th>fips</th>\n",
       "    </tr>\n",
       "  </thead>\n",
       "  <tbody>\n",
       "    <tr>\n",
       "      <th>0</th>\n",
       "      <td>0.166667</td>\n",
       "      <td>0.06250</td>\n",
       "      <td>0.024666</td>\n",
       "      <td>578000.0</td>\n",
       "      <td>1978.0</td>\n",
       "      <td>0.006661</td>\n",
       "      <td>6059.0</td>\n",
       "    </tr>\n",
       "    <tr>\n",
       "      <th>1</th>\n",
       "      <td>0.222222</td>\n",
       "      <td>0.06250</td>\n",
       "      <td>0.024949</td>\n",
       "      <td>196335.0</td>\n",
       "      <td>1950.0</td>\n",
       "      <td>0.002501</td>\n",
       "      <td>6037.0</td>\n",
       "    </tr>\n",
       "    <tr>\n",
       "      <th>2</th>\n",
       "      <td>0.166667</td>\n",
       "      <td>0.06250</td>\n",
       "      <td>0.026786</td>\n",
       "      <td>186907.0</td>\n",
       "      <td>1947.0</td>\n",
       "      <td>0.002444</td>\n",
       "      <td>6037.0</td>\n",
       "    </tr>\n",
       "    <tr>\n",
       "      <th>3</th>\n",
       "      <td>0.166667</td>\n",
       "      <td>0.03125</td>\n",
       "      <td>0.018668</td>\n",
       "      <td>189154.0</td>\n",
       "      <td>1946.0</td>\n",
       "      <td>0.002720</td>\n",
       "      <td>6037.0</td>\n",
       "    </tr>\n",
       "    <tr>\n",
       "      <th>4</th>\n",
       "      <td>0.111111</td>\n",
       "      <td>0.03125</td>\n",
       "      <td>0.015183</td>\n",
       "      <td>229747.0</td>\n",
       "      <td>1929.0</td>\n",
       "      <td>0.003044</td>\n",
       "      <td>6037.0</td>\n",
       "    </tr>\n",
       "  </tbody>\n",
       "</table>\n",
       "</div>"
      ],
      "text/plain": [
       "       beds    baths      sqft  property_value    year     taxes    fips\n",
       "0  0.166667  0.06250  0.024666        578000.0  1978.0  0.006661  6059.0\n",
       "1  0.222222  0.06250  0.024949        196335.0  1950.0  0.002501  6037.0\n",
       "2  0.166667  0.06250  0.026786        186907.0  1947.0  0.002444  6037.0\n",
       "3  0.166667  0.03125  0.018668        189154.0  1946.0  0.002720  6037.0\n",
       "4  0.111111  0.03125  0.015183        229747.0  1929.0  0.003044  6037.0"
      ]
     },
     "execution_count": 4,
     "metadata": {},
     "output_type": "execute_result"
    }
   ],
   "source": [
    "zillow[0].head()"
   ]
  },
  {
   "cell_type": "code",
   "execution_count": 5,
   "metadata": {},
   "outputs": [],
   "source": [
    "ys=['property_value','taxes']\n"
   ]
  },
  {
   "cell_type": "code",
   "execution_count": 6,
   "metadata": {},
   "outputs": [],
   "source": [
    "trunk=model.ml_data(zillow[0],zillow[1],zillow[2],target=ys)\n",
    "\n",
    "#trunk = [X_train, y_train, X_validate, y_validate, X_test, y_test]"
   ]
  },
  {
   "cell_type": "code",
   "execution_count": 7,
   "metadata": {},
   "outputs": [],
   "source": [
    "X_train, y_train, X_validate, y_validate, X_test, y_test=trunk[0],trunk[1],trunk[2],trunk[3],trunk[4],trunk[5]"
   ]
  },
  {
   "cell_type": "code",
   "execution_count": 8,
   "metadata": {},
   "outputs": [
    {
     "name": "stdout",
     "output_type": "stream",
     "text": [
      "<class 'pandas.core.frame.DataFrame'>\n",
      "RangeIndex: 1278128 entries, 0 to 1278127\n",
      "Data columns (total 5 columns):\n",
      " #   Column  Non-Null Count    Dtype   \n",
      "---  ------  --------------    -----   \n",
      " 0   beds    1278128 non-null  float64 \n",
      " 1   baths   1278128 non-null  float64 \n",
      " 2   sqft    1278128 non-null  float64 \n",
      " 3   year    1278128 non-null  category\n",
      " 4   fips    1278128 non-null  category\n",
      "dtypes: category(2), float64(3)\n",
      "memory usage: 32.9 MB\n"
     ]
    }
   ],
   "source": [
    "X_train.info()"
   ]
  },
  {
   "cell_type": "code",
   "execution_count": 9,
   "metadata": {},
   "outputs": [],
   "source": [
    "df=trunk[0]"
   ]
  },
  {
   "cell_type": "markdown",
   "metadata": {},
   "source": [
    "with more time i would like to explore the outliers, possibly mung"
   ]
  },
  {
   "cell_type": "code",
   "execution_count": 10,
   "metadata": {},
   "outputs": [],
   "source": [
    "# def remove_outliers(df, k, col_list):\n",
    "#     ''' \n",
    "#     This function remove outliers from a list of columns in a dataframe \n",
    "#     and returns that dataframe\n",
    "#     '''\n",
    "    \n",
    "#     # Go through each column\n",
    "#     for col in col_list:\n",
    "        \n",
    "#         # Get the quantiles\n",
    "#         q1, q3 = df[col].quantile([.25, .75])\n",
    "        \n",
    "#         # Get the quantile range\n",
    "#         iqr = q3 - q1\n",
    "        \n",
    "#         # Establish the upper and lower\n",
    "#         upper_bound = q3 + k * iqr  \n",
    "#         lower_bound = q1 - k * iqr   \n",
    "\n",
    "#         # Redefine the DataFrame with removed outliers\n",
    "#         df = df[(df[col] > lower_bound) & (df[col] < upper_bound)]\n",
    "        \n",
    "#     return df"
   ]
  },
  {
   "cell_type": "code",
   "execution_count": 11,
   "metadata": {},
   "outputs": [],
   "source": [
    "# df=remove_outliers(df,3,['beds','baths','sqft'])"
   ]
  },
  {
   "cell_type": "code",
   "execution_count": 12,
   "metadata": {},
   "outputs": [
    {
     "name": "stdout",
     "output_type": "stream",
     "text": [
      "<class 'pandas.core.frame.DataFrame'>\n",
      "RangeIndex: 1278128 entries, 0 to 1278127\n",
      "Data columns (total 5 columns):\n",
      " #   Column  Non-Null Count    Dtype   \n",
      "---  ------  --------------    -----   \n",
      " 0   beds    1278128 non-null  float64 \n",
      " 1   baths   1278128 non-null  float64 \n",
      " 2   sqft    1278128 non-null  float64 \n",
      " 3   year    1278128 non-null  category\n",
      " 4   fips    1278128 non-null  category\n",
      "dtypes: category(2), float64(3)\n",
      "memory usage: 32.9 MB\n"
     ]
    }
   ],
   "source": [
    "df.info()\n",
    "\n",
    "# 1278128 non-null"
   ]
  },
  {
   "cell_type": "markdown",
   "metadata": {},
   "source": [
    "# 1"
   ]
  },
  {
   "cell_type": "markdown",
   "metadata": {},
   "source": [
    "## Linear Regression (OLS)"
   ]
  },
  {
   "cell_type": "code",
   "execution_count": 13,
   "metadata": {},
   "outputs": [],
   "source": [
    "y_train=trunk[1]"
   ]
  },
  {
   "cell_type": "markdown",
   "metadata": {},
   "source": [
    "- [x] list"
   ]
  },
  {
   "cell_type": "code",
   "execution_count": 1,
   "metadata": {},
   "outputs": [
    {
     "ename": "NameError",
     "evalue": "name 'y_train' is not defined",
     "output_type": "error",
     "traceback": [
      "\u001b[0;31m---------------------------------------------------------------------------\u001b[0m",
      "\u001b[0;31mNameError\u001b[0m                                 Traceback (most recent call last)",
      "\u001b[0;32m/var/folders/mk/w2hz4wxx7xn5hr_56wz536gh0000gn/T/ipykernel_9836/4031885982.py\u001b[0m in \u001b[0;36m<module>\u001b[0;34m\u001b[0m\n\u001b[0;32m----> 1\u001b[0;31m \u001b[0my_train\u001b[0m\u001b[0;34m.\u001b[0m\u001b[0minfo\u001b[0m\u001b[0;34m(\u001b[0m\u001b[0;34m)\u001b[0m\u001b[0;34m\u001b[0m\u001b[0;34m\u001b[0m\u001b[0m\n\u001b[0m",
      "\u001b[0;31mNameError\u001b[0m: name 'y_train' is not defined"
     ]
    }
   ],
   "source": [
    "y_train.info()"
   ]
  },
  {
   "cell_type": "code",
   "execution_count": 15,
   "metadata": {},
   "outputs": [],
   "source": [
    "\n",
    "y_train['yhat_base_prop']=y_train.median()[0]\n",
    "\n"
   ]
  },
  {
   "cell_type": "code",
   "execution_count": 16,
   "metadata": {},
   "outputs": [],
   "source": [
    "\n",
    "y_train['yhat_base_taxes']=y_train.median()[1]\n",
    "\n"
   ]
  },
  {
   "cell_type": "code",
   "execution_count": 17,
   "metadata": {},
   "outputs": [
    {
     "name": "stdout",
     "output_type": "stream",
     "text": [
      "<class 'pandas.core.frame.DataFrame'>\n",
      "RangeIndex: 1278128 entries, 0 to 1278127\n",
      "Data columns (total 4 columns):\n",
      " #   Column           Non-Null Count    Dtype  \n",
      "---  ------           --------------    -----  \n",
      " 0   property_value   1278128 non-null  float64\n",
      " 1   taxes            1278128 non-null  float64\n",
      " 2   yhat_base_prop   1278128 non-null  float64\n",
      " 3   yhat_base_taxes  1278128 non-null  float64\n",
      "dtypes: float64(4)\n",
      "memory usage: 39.0 MB\n"
     ]
    }
   ],
   "source": [
    "y_train.info()"
   ]
  },
  {
   "cell_type": "code",
   "execution_count": 18,
   "metadata": {},
   "outputs": [],
   "source": [
    "model = LinearRegression().fit(df[['sqft']],y_train['property_value'])\n",
    "\n",
    "\n",
    "y_train['yhat_prop_ols'] = model.predict(df[['sqft']])"
   ]
  },
  {
   "cell_type": "code",
   "execution_count": 20,
   "metadata": {},
   "outputs": [
    {
     "data": {
      "text/plain": [
       "<matplotlib.lines.Line2D at 0x7fc9a45e72e0>"
      ]
     },
     "execution_count": 20,
     "metadata": {},
     "output_type": "execute_result"
    },
    {
     "data": {
      "image/png": "[encoded data removed]",
      "text/plain": [
       "<Figure size 360x360 with 1 Axes>"
      ]
     },
     "metadata": {
      "needs_background": "light"
     },
     "output_type": "display_data"
    }
   ],
   "source": [
    "sns.relplot(y_train['property_value'].sample(150,random_state=7),y_train['yhat_prop_ols'].sample(150,random_state=7))\n",
    "plt.axhline(y_train['yhat_base_prop'].iloc[0], c='maroon')"
   ]
  },
  {
   "cell_type": "code",
   "execution_count": 21,
   "metadata": {},
   "outputs": [],
   "source": [
    "res=pd.DataFrame()"
   ]
  },
  {
   "cell_type": "code",
   "execution_count": 22,
   "metadata": {},
   "outputs": [],
   "source": [
    "# compute residuals\n",
    "res['residual_prop'] = y_train['yhat_prop_ols'] - y_train['property_value']\n",
    "res['residual_base_prop'] = y_train['yhat_base_prop'] - y_train['property_value']\n",
    "\n",
    "# df['yhat_prop'] - \n",
    "# res['residual_baseline'] = df['yhat_base_prop'] - y_train['property_value']\n"
   ]
  },
  {
   "cell_type": "code",
   "execution_count": 23,
   "metadata": {},
   "outputs": [
    {
     "data": {
      "text/plain": [
       "<matplotlib.legend.Legend at 0x7fca50e1daf0>"
      ]
     },
     "execution_count": 23,
     "metadata": {},
     "output_type": "execute_result"
    },
    {
     "data": {
      "image/png": "[encoded data removed]",
      "text/plain": [
       "<Figure size 432x288 with 1 Axes>"
      ]
     },
     "metadata": {
      "needs_background": "light"
     },
     "output_type": "display_data"
    }
   ],
   "source": [
    "plt.stem(y_train['property_value'].sample(125,random_state=7),res['residual_prop'].sample(125,random_state=7),'bo',markerfmt='bo',label='y_hat residuals')\n",
    "plt.stem(y_train['property_value'].sample(125,random_state=7),res['residual_base_prop'].sample(125,random_state=7),'mo',markerfmt='mo',label='yhat_baseline residuals')\n",
    "plt.axhline(0, c='maroon')\n",
    "plt.legend(loc='lower left')\n"
   ]
  },
  {
   "cell_type": "code",
   "execution_count": 24,
   "metadata": {},
   "outputs": [
    {
     "data": {
      "text/html": [
       "<div>\n",
       "<style scoped>\n",
       "    .dataframe tbody tr th:only-of-type {\n",
       "        vertical-align: middle;\n",
       "    }\n",
       "\n",
       "    .dataframe tbody tr th {\n",
       "        vertical-align: top;\n",
       "    }\n",
       "\n",
       "    .dataframe thead th {\n",
       "        text-align: right;\n",
       "    }\n",
       "</style>\n",
       "<table border=\"1\" class=\"dataframe\">\n",
       "  <thead>\n",
       "    <tr style=\"text-align: right;\">\n",
       "      <th></th>\n",
       "      <th>property_value</th>\n",
       "      <th>taxes</th>\n",
       "      <th>yhat_base_prop</th>\n",
       "      <th>yhat_base_taxes</th>\n",
       "      <th>yhat_prop_ols</th>\n",
       "    </tr>\n",
       "  </thead>\n",
       "  <tbody>\n",
       "    <tr>\n",
       "      <th>0</th>\n",
       "      <td>578000.0</td>\n",
       "      <td>0.006661</td>\n",
       "      <td>328632.5</td>\n",
       "      <td>0.004134</td>\n",
       "      <td>337026.899242</td>\n",
       "    </tr>\n",
       "    <tr>\n",
       "      <th>1</th>\n",
       "      <td>196335.0</td>\n",
       "      <td>0.002501</td>\n",
       "      <td>328632.5</td>\n",
       "      <td>0.004134</td>\n",
       "      <td>344698.183922</td>\n",
       "    </tr>\n",
       "    <tr>\n",
       "      <th>2</th>\n",
       "      <td>186907.0</td>\n",
       "      <td>0.002444</td>\n",
       "      <td>328632.5</td>\n",
       "      <td>0.004134</td>\n",
       "      <td>394561.534343</td>\n",
       "    </tr>\n",
       "    <tr>\n",
       "      <th>3</th>\n",
       "      <td>189154.0</td>\n",
       "      <td>0.002720</td>\n",
       "      <td>328632.5</td>\n",
       "      <td>0.004134</td>\n",
       "      <td>174225.191029</td>\n",
       "    </tr>\n",
       "    <tr>\n",
       "      <th>4</th>\n",
       "      <td>229747.0</td>\n",
       "      <td>0.003044</td>\n",
       "      <td>328632.5</td>\n",
       "      <td>0.004134</td>\n",
       "      <td>79612.679973</td>\n",
       "    </tr>\n",
       "  </tbody>\n",
       "</table>\n",
       "</div>"
      ],
      "text/plain": [
       "   property_value     taxes  yhat_base_prop  yhat_base_taxes  yhat_prop_ols\n",
       "0        578000.0  0.006661        328632.5         0.004134  337026.899242\n",
       "1        196335.0  0.002501        328632.5         0.004134  344698.183922\n",
       "2        186907.0  0.002444        328632.5         0.004134  394561.534343\n",
       "3        189154.0  0.002720        328632.5         0.004134  174225.191029\n",
       "4        229747.0  0.003044        328632.5         0.004134   79612.679973"
      ]
     },
     "execution_count": 24,
     "metadata": {},
     "output_type": "execute_result"
    }
   ],
   "source": [
    "\n",
    "MSE2 = mean_squared_error(y_train.property_value, y_train.yhat_prop_ols)\n",
    "MSE2_baseline = mean_squared_error(y_train.property_value, y_train.yhat_base_prop)\n",
    "\n",
    "\n",
    "print(\"MSE sklearn: \",\"{:.2e}\".format(MSE2)) \n",
    "print(\"MSE sklearn, baseline: \",\"{:.2e}\".format(MSE2_baseline)) \n",
    "\n",
    "if MSE2-MSE2_baseline<0:\n",
    "\tprint(\"y_hat superior\")\n",
    "else:\n",
    "\tprint(\"yhat_baseline superior\")\t"
   ]
  },
  {
   "cell_type": "markdown",
   "metadata": {},
   "source": [
    "Our model did better than the baseline."
   ]
  },
  {
   "cell_type": "markdown",
   "metadata": {},
   "source": [
    "# 2"
   ]
  },
  {
   "cell_type": "markdown",
   "metadata": {},
   "source": [
    "## LassoLars"
   ]
  },
  {
   "cell_type": "code",
   "execution_count": 27,
   "metadata": {},
   "outputs": [],
   "source": [
    "lars = LassoLars(alpha=1.0)\n",
    "\n",
    "# create the model object\n",
    "\n",
    "lars.fit(df[['sqft']], y_train.property_value)\n",
    "\n",
    "# fit the model to our training data. We must specify the column in y_train, \n",
    "# since we have converted it to a dataframe from a series!\n",
    "\n",
    "y_train['yhat_prop_lars'] = lars.predict(df[['sqft']])\n",
    "\n",
    "# predict train\n",
    "\n",
    "# evaluate: rmse\n",
    "mse_lars_train = mean_squared_error(y_train.property_value, y_train.yhat_prop_lars)\n",
    "\n",
    "\n",
    "print(\"MSE for Lasso + Lars\\nTraining/In-Sample: \", mse_lars_train)\n",
    "\n",
    "if mse_lars_train-MSE2_baseline<0:\n",
    "\tprint(\"y_hat superior\")\n",
    "else:\n",
    "\tprint(\"yhat_baseline superior\")\n",
    "\n"
   ]
  },
  {
   "cell_type": "markdown",
   "metadata": {},
   "source": [
    "Our model did better than the baseline."
   ]
  },
  {
   "cell_type": "markdown",
   "metadata": {},
   "source": [
    "# 3"
   ]
  },
  {
   "cell_type": "code",
   "execution_count": 34,
   "metadata": {},
   "outputs": [
    {
     "data": {
      "text/html": [
       "<div>\n",
       "<style scoped>\n",
       "    .dataframe tbody tr th:only-of-type {\n",
       "        vertical-align: middle;\n",
       "    }\n",
       "\n",
       "    .dataframe tbody tr th {\n",
       "        vertical-align: top;\n",
       "    }\n",
       "\n",
       "    .dataframe thead th {\n",
       "        text-align: right;\n",
       "    }\n",
       "</style>\n",
       "<table border=\"1\" class=\"dataframe\">\n",
       "  <thead>\n",
       "    <tr style=\"text-align: right;\">\n",
       "      <th></th>\n",
       "      <th>property_value</th>\n",
       "      <th>taxes</th>\n",
       "      <th>yhat_base_prop</th>\n",
       "      <th>yhat_base_taxes</th>\n",
       "      <th>yhat_prop_ols</th>\n",
       "      <th>yhat_prop_lars</th>\n",
       "    </tr>\n",
       "  </thead>\n",
       "  <tbody>\n",
       "    <tr>\n",
       "      <th>0</th>\n",
       "      <td>578000.0</td>\n",
       "      <td>0.006661</td>\n",
       "      <td>328632.5</td>\n",
       "      <td>0.004134</td>\n",
       "      <td>337026.899242</td>\n",
       "      <td>337367.834835</td>\n",
       "    </tr>\n",
       "    <tr>\n",
       "      <th>1</th>\n",
       "      <td>196335.0</td>\n",
       "      <td>0.002501</td>\n",
       "      <td>328632.5</td>\n",
       "      <td>0.004134</td>\n",
       "      <td>344698.183922</td>\n",
       "      <td>345018.156865</td>\n",
       "    </tr>\n",
       "    <tr>\n",
       "      <th>2</th>\n",
       "      <td>186907.0</td>\n",
       "      <td>0.002444</td>\n",
       "      <td>328632.5</td>\n",
       "      <td>0.004134</td>\n",
       "      <td>394561.534343</td>\n",
       "      <td>394745.250055</td>\n",
       "    </tr>\n",
       "    <tr>\n",
       "      <th>3</th>\n",
       "      <td>189154.0</td>\n",
       "      <td>0.002720</td>\n",
       "      <td>328632.5</td>\n",
       "      <td>0.004134</td>\n",
       "      <td>174225.191029</td>\n",
       "      <td>175011.000657</td>\n",
       "    </tr>\n",
       "    <tr>\n",
       "      <th>4</th>\n",
       "      <td>229747.0</td>\n",
       "      <td>0.003044</td>\n",
       "      <td>328632.5</td>\n",
       "      <td>0.004134</td>\n",
       "      <td>79612.679973</td>\n",
       "      <td>80657.028962</td>\n",
       "    </tr>\n",
       "  </tbody>\n",
       "</table>\n",
       "</div>"
      ],
      "text/plain": [
       "   property_value     taxes  yhat_base_prop  yhat_base_taxes  yhat_prop_ols  \\\n",
       "0        578000.0  0.006661        328632.5         0.004134  337026.899242   \n",
       "1        196335.0  0.002501        328632.5         0.004134  344698.183922   \n",
       "2        186907.0  0.002444        328632.5         0.004134  394561.534343   \n",
       "3        189154.0  0.002720        328632.5         0.004134  174225.191029   \n",
       "4        229747.0  0.003044        328632.5         0.004134   79612.679973   \n",
       "\n",
       "   yhat_prop_lars  \n",
       "0   337367.834835  \n",
       "1   345018.156865  \n",
       "2   394745.250055  \n",
       "3   175011.000657  \n",
       "4    80657.028962  "
      ]
     },
     "execution_count": 34,
     "metadata": {},
     "output_type": "execute_result"
    }
   ],
   "source": [
    "y_train.head()"
   ]
  },
  {
   "cell_type": "code",
   "execution_count": 35,
   "metadata": {},
   "outputs": [
    {
     "name": "stdout",
     "output_type": "stream",
     "text": [
      "MSE for GLM using Tweedie, power=1 & alpha=0\n",
      "Training/In-Sample:  455640917910.68695\n"
     ]
    }
   ],
   "source": [
    "# create the model object\n",
    "glm = TweedieRegressor(power=1, alpha=0)\n",
    "\n",
    "# fit the model to our training data. We must specify the column in y_train, \n",
    "# since we have converted it to a dataframe from a series! \n",
    "glm.fit(X_train, y_train.property_value)\n",
    "\n",
    "# predict train\n",
    "y_train['yhat_prop_glm'] = glm.predict(X_train)\n",
    "\n",
    "# evaluate: mse\n",
    "mse_glm_train = mean_squared_error(y_train.property_value, y_train.yhat_prop_glm)\n",
    "\n",
    "\n",
    "print(\"MSE for GLM using Tweedie, power=1 & alpha=0\\nTraining/In-Sample: \", mse_glm_train)\n"
   ]
  },
  {
   "cell_type": "markdown",
   "metadata": {},
   "source": [
    "Our model did better than the baseline."
   ]
  },
  {
   "cell_type": "code",
   "execution_count": 36,
   "metadata": {},
   "outputs": [
    {
     "name": "stdout",
     "output_type": "stream",
     "text": [
      "y_hat superior\n"
     ]
    }
   ],
   "source": [
    "if mse_glm_train-MSE2_baseline<0:\n",
    "\tprint(\"y_hat superior\")\n",
    "else:\n",
    "\tprint(\"yhat_baseline superior\")\t"
   ]
  },
  {
   "cell_type": "markdown",
   "metadata": {},
   "source": [
    "# 4"
   ]
  },
  {
   "cell_type": "markdown",
   "metadata": {},
   "source": [
    "## Polynomial Regression"
   ]
  },
  {
   "cell_type": "code",
   "execution_count": 37,
   "metadata": {},
   "outputs": [],
   "source": [
    "# X_train, y_train, X_validate, y_validate"
   ]
  },
  {
   "cell_type": "markdown",
   "metadata": {},
   "source": [
    "PolynomialFeatures"
   ]
  },
  {
   "cell_type": "code",
   "execution_count": 38,
   "metadata": {},
   "outputs": [],
   "source": [
    "# make the polynomial features to get a new set of features\n",
    "pf = PolynomialFeatures(degree=2)\n",
    "\n",
    "# fit and transform X_train_scaled\n",
    "X_train_degree2 = pf.fit_transform(X_train)\n",
    "\n",
    "# transform X_validate_scaled & X_test_scaled\n",
    "X_validate_degree2 = pf.transform(X_validate)\n",
    "X_test_degree2 = pf.transform(X_test)\n"
   ]
  },
  {
   "cell_type": "markdown",
   "metadata": {},
   "source": [
    "LinearRegression"
   ]
  },
  {
   "cell_type": "code",
   "execution_count": 39,
   "metadata": {},
   "outputs": [
    {
     "name": "stdout",
     "output_type": "stream",
     "text": [
      "MSE for Polynomial Model, degrees=2\n",
      "Training/In-Sample:  243434520712.96613 \n",
      "Validation/Out-of-Sample:  19918396706200.195\n"
     ]
    }
   ],
   "source": [
    "# create the model object\n",
    "lmp = LinearRegression(normalize=True)\n",
    "\n",
    "# fit the model to our training data. We must specify the column in y_train, \n",
    "# since we have converted it to a dataframe from a series! \n",
    "lmp.fit(X_train_degree2,y_train.property_value)\n",
    "\n",
    "# predict train\n",
    "y_train['yhat_prop_lmp'] = lmp.predict(X_train_degree2)\n",
    "\n",
    "# evaluate: rmse\n",
    "mse_lmp_train = mean_squared_error(y_train.property_value, y_train.yhat_prop_lmp)\n",
    "\n",
    "# predict validate\n",
    "y_validate['yhat_prop_lmp'] = lmp.predict(X_validate_degree2)\n",
    "\n",
    "# evaluate: mse\n",
    "mse_lmp_validate = mean_squared_error(y_validate.property_value, y_validate.yhat_prop_lmp)\n",
    "\n",
    "print(\"MSE for Polynomial Model, degrees=2\\nTraining/In-Sample: \", mse_lmp_train, \n",
    "      \"\\nValidation/Out-of-Sample: \", mse_lmp_validate)\n"
   ]
  },
  {
   "cell_type": "markdown",
   "metadata": {},
   "source": [
    "# !!! Hard Hat Harea !!!"
   ]
  },
  {
   "cell_type": "code",
   "execution_count": 40,
   "metadata": {},
   "outputs": [
    {
     "name": "stdout",
     "output_type": "stream",
     "text": [
      "<class 'pandas.core.frame.DataFrame'>\n",
      "RangeIndex: 1278128 entries, 0 to 1278127\n",
      "Data columns (total 5 columns):\n",
      " #   Column  Non-Null Count    Dtype   \n",
      "---  ------  --------------    -----   \n",
      " 0   beds    1278128 non-null  float64 \n",
      " 1   baths   1278128 non-null  float64 \n",
      " 2   sqft    1278128 non-null  float64 \n",
      " 3   year    1278128 non-null  category\n",
      " 4   fips    1278128 non-null  category\n",
      "dtypes: category(2), float64(3)\n",
      "memory usage: 32.9 MB\n"
     ]
    }
   ],
   "source": [
    "X_train.info()"
   ]
  },
  {
   "cell_type": "markdown",
   "metadata": {},
   "source": [
    "Why do some properties have a much higher value than others when they are located so close to each other?"
   ]
  },
  {
   "cell_type": "code",
   "execution_count": 41,
   "metadata": {},
   "outputs": [],
   "source": [
    "plot_is_this=pd.concat([X_train,y_train],axis=1)"
   ]
  },
  {
   "cell_type": "code",
   "execution_count": 47,
   "metadata": {},
   "outputs": [
    {
     "data": {
      "text/plain": [
       "<seaborn.axisgrid.FacetGrid at 0x7fc9b808dca0>"
      ]
     },
     "execution_count": 47,
     "metadata": {},
     "output_type": "execute_result"
    },
    {
     "data": {
      "image/png": "[encoded data removed]",
      "text/plain": [
       "<Figure size 431.125x360 with 1 Axes>"
      ]
     },
     "metadata": {
      "needs_background": "light"
     },
     "output_type": "display_data"
    }
   ],
   "source": [
    "sns.relplot(data= plot_is_this.sample(300), x='year', y='property_value', hue='fips')\n",
    "# plt.axvline(X_train.year.mean())"
   ]
  }
 ],
 "metadata": {
  "interpreter": {
   "hash": "3067ead486e059ec00ffe7555bdb889e6e264a24dc711bf108106cc7baee8d5d"
  },
  "kernelspec": {
   "display_name": "Python 3.9.7 ('base')",
   "language": "python",
   "name": "python3"
  },
  "language_info": {
   "codemirror_mode": {
    "name": "ipython",
    "version": 3
   },
   "file_extension": ".py",
   "mimetype": "text/x-python",
   "name": "python",
   "nbconvert_exporter": "python",
   "pygments_lexer": "ipython3",
   "version": "3.9.7"
  },
  "orig_nbformat": 4
 },
 "nbformat": 4,
 "nbformat_minor": 2
}
