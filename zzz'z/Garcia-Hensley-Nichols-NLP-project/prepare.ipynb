{
 "cells": [
  {
   "cell_type": "markdown",
   "metadata": {},
   "source": [
    "# Imports"
   ]
  },
  {
   "cell_type": "code",
   "execution_count": 1,
   "metadata": {},
   "outputs": [
    {
     "name": "stderr",
     "output_type": "stream",
     "text": [
      "Intel(R) Extension for Scikit-learn* enabled (https://github.com/intel/scikit-learn-intelex)\n"
     ]
    }
   ],
   "source": [
    "# imports.py\n",
    "from imports import *\n",
    "\n",
    "# plotting magic\n",
    "%matplotlib inline\n",
    "# plotting defaults\n",
    "plt.rc('figure', figsize=(16, 9))\n",
    "plt.style.use('seaborn-darkgrid')\n",
    "plt.rc('font', size=16)\n",
    "# plt.style.available\n",
    "# # ^^^ show available seaborn styles\n",
    "\n",
    "# # !!! Warning !!! \n",
    "# # *** no more warnings ***\n",
    "# import warnings\n",
    "# warnings.filterwarnings(\"ignore\")\n",
    "\n",
    "# # custom mods\n",
    "from acquire import *\n",
    "from prepare import *"
   ]
  },
  {
   "cell_type": "markdown",
   "metadata": {},
   "source": [
    "# Acquire"
   ]
  },
  {
   "cell_type": "code",
   "execution_count": 2,
   "metadata": {},
   "outputs": [],
   "source": [
    "df=pd.read_json('/Users/hinzlehome/codeup-data-science/Garcia-Hensley-Nichols-NLP-project/data.json')"
   ]
  },
  {
   "cell_type": "markdown",
   "metadata": {},
   "source": [
    "# Prepare"
   ]
  },
  {
   "cell_type": "code",
   "execution_count": 3,
   "metadata": {},
   "outputs": [],
   "source": [
    "def words(df):\n",
    "\t# rename columns\n",
    "\tdf=df.rename(columns={'readme_contents':'readme'})\n",
    "\t# clean readme contents and return cleaned, trimmed, and lemmetized versions\n",
    "\tdf=prep_article_data(df,'readme')\n",
    "\t# consolidate languages other than the top 3 into 'other'\n",
    "\trows=(df.language!='Python')&(df.language!='C++')&(df.language!='JavaScript')\n",
    "\tdf.loc[rows,'language']='other'\n",
    "\treturn df"
   ]
  },
  {
   "cell_type": "code",
   "execution_count": 4,
   "metadata": {},
   "outputs": [],
   "source": [
    "words=words(df)"
   ]
  },
  {
   "cell_type": "code",
   "execution_count": 5,
   "metadata": {},
   "outputs": [
    {
     "data": {
      "text/html": [
       "<div>\n",
       "<style scoped>\n",
       "    .dataframe tbody tr th:only-of-type {\n",
       "        vertical-align: middle;\n",
       "    }\n",
       "\n",
       "    .dataframe tbody tr th {\n",
       "        vertical-align: top;\n",
       "    }\n",
       "\n",
       "    .dataframe thead th {\n",
       "        text-align: right;\n",
       "    }\n",
       "</style>\n",
       "<table border=\"1\" class=\"dataframe\">\n",
       "  <thead>\n",
       "    <tr style=\"text-align: right;\">\n",
       "      <th></th>\n",
       "      <th>repo</th>\n",
       "      <th>language</th>\n",
       "      <th>readme</th>\n",
       "      <th>clean</th>\n",
       "      <th>stemmed</th>\n",
       "      <th>lemmatized</th>\n",
       "    </tr>\n",
       "  </thead>\n",
       "  <tbody>\n",
       "    <tr>\n",
       "      <th>0</th>\n",
       "      <td>bitcoin/bitcoin</td>\n",
       "      <td>C++</td>\n",
       "      <td>Bitcoin Core integration/staging tree\\n=======...</td>\n",
       "      <td>bitcoin core integrationstaging tree httpsbitc...</td>\n",
       "      <td>bitcoin core integrationstag tree httpsbitcoin...</td>\n",
       "      <td>bitcoin core integrationstaging tree httpsbitc...</td>\n",
       "    </tr>\n",
       "    <tr>\n",
       "      <th>1</th>\n",
       "      <td>bitcoinbook/bitcoinbook</td>\n",
       "      <td>other</td>\n",
       "      <td>Code Examples: ![travis_ci](https://travis-ci....</td>\n",
       "      <td>code examples traviscihttpstravisciorgbitcoinb...</td>\n",
       "      <td>code exampl traviscihttpstravisciorgbitcoinboo...</td>\n",
       "      <td>code example traviscihttpstravisciorgbitcoinbo...</td>\n",
       "    </tr>\n",
       "    <tr>\n",
       "      <th>2</th>\n",
       "      <td>bitcoin/bips</td>\n",
       "      <td>other</td>\n",
       "      <td>People wishing to submit BIPs, first should pr...</td>\n",
       "      <td>people wishing submit bips first propose idea ...</td>\n",
       "      <td>peopl wish submit bip first propos idea docume...</td>\n",
       "      <td>people wishing submit bips first propose idea ...</td>\n",
       "    </tr>\n",
       "    <tr>\n",
       "      <th>3</th>\n",
       "      <td>bitcoinjs/bitcoinjs-lib</td>\n",
       "      <td>other</td>\n",
       "      <td># BitcoinJS (bitcoinjs-lib)\\n[![Github CI](htt...</td>\n",
       "      <td>bitcoinjs bitcoinjslib github cihttpsgithubcom...</td>\n",
       "      <td>bitcoinj bitcoinjslib github cihttpsgithubcomb...</td>\n",
       "      <td>bitcoinjs bitcoinjslib github cihttpsgithubcom...</td>\n",
       "    </tr>\n",
       "    <tr>\n",
       "      <th>4</th>\n",
       "      <td>spesmilo/electrum</td>\n",
       "      <td>Python</td>\n",
       "      <td>Electrum - Lightweight Bitcoin client\\n=======...</td>\n",
       "      <td>electrum lightweight bitcoin client licence mi...</td>\n",
       "      <td>electrum lightweight bitcoin client licenc mit...</td>\n",
       "      <td>electrum lightweight bitcoin client licence mi...</td>\n",
       "    </tr>\n",
       "  </tbody>\n",
       "</table>\n",
       "</div>"
      ],
      "text/plain": [
       "                      repo language  \\\n",
       "0          bitcoin/bitcoin      C++   \n",
       "1  bitcoinbook/bitcoinbook    other   \n",
       "2             bitcoin/bips    other   \n",
       "3  bitcoinjs/bitcoinjs-lib    other   \n",
       "4        spesmilo/electrum   Python   \n",
       "\n",
       "                                              readme  \\\n",
       "0  Bitcoin Core integration/staging tree\\n=======...   \n",
       "1  Code Examples: ![travis_ci](https://travis-ci....   \n",
       "2  People wishing to submit BIPs, first should pr...   \n",
       "3  # BitcoinJS (bitcoinjs-lib)\\n[![Github CI](htt...   \n",
       "4  Electrum - Lightweight Bitcoin client\\n=======...   \n",
       "\n",
       "                                               clean  \\\n",
       "0  bitcoin core integrationstaging tree httpsbitc...   \n",
       "1  code examples traviscihttpstravisciorgbitcoinb...   \n",
       "2  people wishing submit bips first propose idea ...   \n",
       "3  bitcoinjs bitcoinjslib github cihttpsgithubcom...   \n",
       "4  electrum lightweight bitcoin client licence mi...   \n",
       "\n",
       "                                             stemmed  \\\n",
       "0  bitcoin core integrationstag tree httpsbitcoin...   \n",
       "1  code exampl traviscihttpstravisciorgbitcoinboo...   \n",
       "2  peopl wish submit bip first propos idea docume...   \n",
       "3  bitcoinj bitcoinjslib github cihttpsgithubcomb...   \n",
       "4  electrum lightweight bitcoin client licenc mit...   \n",
       "\n",
       "                                          lemmatized  \n",
       "0  bitcoin core integrationstaging tree httpsbitc...  \n",
       "1  code example traviscihttpstravisciorgbitcoinbo...  \n",
       "2  people wishing submit bips first propose idea ...  \n",
       "3  bitcoinjs bitcoinjslib github cihttpsgithubcom...  \n",
       "4  electrum lightweight bitcoin client licence mi...  "
      ]
     },
     "execution_count": 5,
     "metadata": {},
     "output_type": "execute_result"
    }
   ],
   "source": [
    "words.head()"
   ]
  }
 ],
 "metadata": {
  "interpreter": {
   "hash": "3067ead486e059ec00ffe7555bdb889e6e264a24dc711bf108106cc7baee8d5d"
  },
  "kernelspec": {
   "display_name": "Python 3.9.12 ('base')",
   "language": "python",
   "name": "python3"
  },
  "language_info": {
   "codemirror_mode": {
    "name": "ipython",
    "version": 3
   },
   "file_extension": ".py",
   "mimetype": "text/x-python",
   "name": "python",
   "nbconvert_exporter": "python",
   "pygments_lexer": "ipython3",
   "version": "3.9.12"
  },
  "orig_nbformat": 4
 },
 "nbformat": 4,
 "nbformat_minor": 2
}
