{
 "cells": [
  {
   "cell_type": "markdown",
   "id": "0170cd5e-c3a2-4b5b-834c-20d5dd6fd342",
   "metadata": {},
   "source": [
    "# Acquiring Repository URLs\n",
    "\n",
    "This notebook will describe the process used to acquire the URLs for the repositories used in this project. It should be noted that this script was executed on May 16, 2022 and may produce different results at a later date. A .csv file containing the URLs acquired for this project is provided with the project repository in order for our results to be reproducible.\n",
    "\n",
    "---\n",
    "\n",
    "## The Required Imports\n",
    "\n",
    "Below we'll import everything needed to run this script."
   ]
  },
  {
   "cell_type": "code",
   "execution_count": 1,
   "id": "d2eb0245-3989-4ce3-b760-7e95ff0a43c9",
   "metadata": {},
   "outputs": [],
   "source": [
    "import requests\n",
    "from env import github_username, github_token\n",
    "\n",
    "import pandas as pd"
   ]
  },
  {
   "cell_type": "markdown",
   "id": "d36c1cd5-29b1-4af9-9c73-f868fc997229",
   "metadata": {},
   "source": [
    "---\n",
    "\n",
    "## Sending the API Request\n",
    "\n",
    "We can use the Github API to acquire the URLs we need for this project. We're interested in acquiring the URLs the would be returned when searching the term \"bitcoin\" on Github. We also want a reasonable amount of data to work with, but not too much because acquiring the data can be a time consuming process. For our purposes we'll acquire 500 URLs.\n",
    "\n",
    "A Github account and Github API token is needed to run this script. The github username and API token can be saved in an env.py file. Instructions for setting up and using the Github API can be found [here](https://docs.github.com/en/rest)."
   ]
  },
  {
   "cell_type": "code",
   "execution_count": 2,
   "id": "6e541549-0878-4bcf-a205-72e7933f16dd",
   "metadata": {},
   "outputs": [],
   "source": [
    "# Acquire 100 items from Github using the search term \"bitcoin\"\n",
    "\n",
    "headers = {'Authorization' : f'token {github_token}', 'user-agent' : f'{github_username}'}\n",
    "data = requests.get('https://api.github.com/search/repositories?q=bitcoin&per_page=100', headers = headers)"
   ]
  },
  {
   "cell_type": "markdown",
   "id": "51ecbfb9-d2d5-446f-84e9-1702e1a173e5",
   "metadata": {},
   "source": [
    "---\n",
    "\n",
    "## Exploring the Data\n",
    "\n",
    "Now that we have the API response let's explore the data to determine how we can aquire the information we need."
   ]
  },
  {
   "cell_type": "code",
   "execution_count": 3,
   "id": "2afc1106-4f15-467c-b04d-e86305ef7638",
   "metadata": {},
   "outputs": [],
   "source": [
    "# Convert the response to json format\n",
    "\n",
    "data = data.json()"
   ]
  },
  {
   "cell_type": "code",
   "execution_count": 4,
   "id": "708f393c-55ce-439d-9df7-1f2a0fb876bd",
   "metadata": {},
   "outputs": [
    {
     "data": {
      "text/plain": [
       "dict_keys(['total_count', 'incomplete_results', 'items'])"
      ]
     },
     "execution_count": 4,
     "metadata": {},
     "output_type": "execute_result"
    }
   ],
   "source": [
    "# Look at the keys in the data dictionary\n",
    "\n",
    "data.keys()"
   ]
  },
  {
   "cell_type": "code",
   "execution_count": 5,
   "id": "34ec0b60-3f1b-42dd-af66-3b25705ec383",
   "metadata": {},
   "outputs": [
    {
     "data": {
      "text/plain": [
       "57654"
      ]
     },
     "execution_count": 5,
     "metadata": {},
     "output_type": "execute_result"
    }
   ],
   "source": [
    "# Let's see what total_count is. This should be the total results for the search query.\n",
    "\n",
    "data['total_count']"
   ]
  },
  {
   "cell_type": "code",
   "execution_count": 6,
   "id": "9495baeb-21aa-44c3-9b73-3e91c1c37776",
   "metadata": {},
   "outputs": [
    {
     "data": {
      "text/plain": [
       "'https://github.com/bitcoin/bitcoin'"
      ]
     },
     "execution_count": 6,
     "metadata": {},
     "output_type": "execute_result"
    }
   ],
   "source": [
    "# Let's grab the URL from the first item returned.\n",
    "\n",
    "data['items'][0]['html_url']"
   ]
  },
  {
   "cell_type": "code",
   "execution_count": 7,
   "id": "745ec476-4400-49d3-9647-af3de437e2c7",
   "metadata": {},
   "outputs": [
    {
     "data": {
      "text/plain": [
       "100"
      ]
     },
     "execution_count": 7,
     "metadata": {},
     "output_type": "execute_result"
    }
   ],
   "source": [
    "# Let's see the size of the data dictionary.\n",
    "\n",
    "len(data['items'])"
   ]
  },
  {
   "cell_type": "markdown",
   "id": "5288095d-80b7-4844-8723-a860270134c4",
   "metadata": {},
   "source": [
    "Now we know how to grab the information we need and we know that each API response will give us 100 items (Github has a maximum of 100 items per search request).\n",
    "\n",
    "---\n",
    "\n",
    "## Grabbing the URLs For All Items\n",
    "\n",
    "Now that we know how to get the information we need let's put everything into a loop so that we can grab the URLs for all items."
   ]
  },
  {
   "cell_type": "code",
   "execution_count": 8,
   "id": "de6034d4-e045-4621-a7a3-d56569614830",
   "metadata": {},
   "outputs": [
    {
     "name": "stdout",
     "output_type": "stream",
     "text": [
      "bitcoin/bitcoin\n",
      "bitcoinbook/bitcoinbook\n",
      "bitcoin/bips\n",
      "bitcoinjs/bitcoinjs-lib\n",
      "spesmilo/electrum\n",
      "bitcoin-wallet/bitcoin-wallet\n",
      "etotheipi/BitcoinArmory\n",
      "bitcoin-dot-org/Bitcoin.org\n",
      "jgarzik/cpuminer\n",
      "BitcoinExchangeFH/BitcoinExchangeFH\n",
      "maxme/bitcoin-arbitrage\n",
      "yenom/BitcoinKit\n",
      "BitcoinUnlimited/BitcoinUnlimited\n",
      "Bitcoin-ABC/bitcoin-abc\n",
      "bisq-network/bisq\n",
      "mobnetic/BitcoinChecker\n",
      "bitcoin-abe/bitcoin-abe\n",
      "petertodd/python-bitcoinlib\n",
      "sipa/bitcoin-seeder\n",
      "imfly/bitcoin-on-nodejs\n",
      "PiSimo/BitcoinForecast\n",
      "trottier/original-bitcoin\n",
      "rust-bitcoin/rust-bitcoin\n",
      "Bit-Wasp/bitcoin-php\n",
      "btcpayserver/btcpayserver\n",
      "bitcoin-core/bitcoincore.org\n",
      "lian/bitcoin-ruby\n",
      "GammaGao/bitcoinwhitepaper\n",
      "tianmingyun/MasterBitcoin2CN\n",
      "kylemanna/docker-bitcoind\n",
      "pointbiz/bitaddress.org\n",
      "BTCPrivate/BitcoinPrivate-legacy\n",
      "jgarzik/python-bitcoinrpc\n",
      "pooler/cpuminer\n",
      "cryptean/bitcoinlib\n",
      "HelloZeroNet/ZeroNet\n",
      "progranism/Open-Source-FPGA-Bitcoin-Miner\n",
      "xiaolai/bitcoin-whitepaper-chinese-translation\n",
      "oleganza/CoreBitcoin\n",
      "bitcoin-sv/bitcoin-sv\n",
      "m0mchil/poclbm\n",
      "jgarzik/pyminer\n",
      "bitcoinxt/bitcoinxt\n",
      "paritytech/parity-bitcoin\n",
      "bitpay/insight\n",
      "stratisproject/StratisBitcoinFullNode\n",
      "Multibit-Legacy/multibit\n",
      "janoside/btc-rpc-explorer\n",
      "BlockchainCommons/Learning-Bitcoin-from-the-Command-Line\n",
      "JulyIghor/QtBitcoinTrader\n",
      "MetacoSA/NBitcoin\n",
      "p2pool/p2pool\n",
      "bitcoincashorg/bitcoincash.org\n",
      "igorbarinov/awesome-bitcoin\n",
      "buttercoin/buttercoin\n",
      "1200wd/bitcoinlib\n",
      "BitcoinPHP/BitcoinECDSA.php\n",
      "bitpay/bitcore\n",
      "lefnire/tforce_btc_trader\n",
      "bitpay/insight-api\n",
      "bitpay/bitcore-lib\n",
      "100trillionUSD/bitcoin\n",
      "jashmenn/bitcoin-reading-list\n",
      "bitpay/bitcoind-rpc\n",
      "zquestz/bitcoincash\n",
      "davout/bitcoin-central\n",
      "btcsuite/btcd\n",
      "ofek/bit\n",
      "bitpay/bitcore-wallet-service\n",
      "breadwallet/breadwallet-core\n",
      "ruimarinho/bitcoin-core\n",
      "dooglus/intersango\n",
      "Diablo-D3/DiabloMiner\n",
      "freewil/bitcoin-testnet-box\n",
      "mycelium-com/wallet-android\n",
      "benjyz/bitcoinArchive\n",
      "Blockstream/esplora\n",
      "butor/blackbird\n",
      "Bitlits/Bitcoin-Games\n",
      "znort987/blockparser\n",
      "kingrock/BitcoinExchange\n",
      "aceat64/EasyBitcoin-PHP\n",
      "eveybcd/BitcoinDiamond\n",
      "siminchen/bitcoinIDE\n",
      "ccxt/ccxt\n",
      "thallium205/BitcoinVisualizer\n",
      "brandonrobertz/BitcoinTradingAlgorithmToolkit\n",
      "libbitcoin/libbitcoin-explorer\n",
      "phishman3579/Bitcoin\n",
      "LedgerHQ/app-bitcoin\n",
      "SegwitB2X/bitcoin2x\n",
      "llSourcell/bitcoin_prediction\n",
      "alecalve/python-bitcoin-blockchain-parser\n",
      "fkysly/bitcoin0.1.0\n",
      "haskoin/haskoin-core\n",
      "philipperemy/deep-learning-bitcoin\n",
      "ruimarinho/docker-bitcoin-core\n",
      "libbitcoin/libbitcoin-system\n",
      "blinktrade/bitex\n",
      "bitcoin-core/HWI\n"
     ]
    }
   ],
   "source": [
    "# Use a loop to grab the URL for each item. The URL must have the base domain removed in order to work with \n",
    "# the acquire.py script that is provided with this project.\n",
    "\n",
    "for item in data['items']:\n",
    "    print(item['html_url'].replace('https://github.com/', ''))"
   ]
  },
  {
   "cell_type": "code",
   "execution_count": 9,
   "id": "b96e605f-f9e9-4df2-aec2-8341c28d2151",
   "metadata": {},
   "outputs": [
    {
     "data": {
      "text/plain": [
       "0            bitcoin/bitcoin\n",
       "1    bitcoinbook/bitcoinbook\n",
       "2               bitcoin/bips\n",
       "3    bitcoinjs/bitcoinjs-lib\n",
       "4          spesmilo/electrum\n",
       "dtype: object"
      ]
     },
     "execution_count": 9,
     "metadata": {},
     "output_type": "execute_result"
    }
   ],
   "source": [
    "# Now let's put all of this into a pandas series. Having the data in a series will make it easy to cache the data.\n",
    "\n",
    "urls = pd.Series([item['html_url'].replace('https://github.com/', '') for item in data['items']])\n",
    "urls.head()"
   ]
  },
  {
   "cell_type": "markdown",
   "id": "9298fa88-89f9-46a6-9a38-1217eaacbc30",
   "metadata": {},
   "source": [
    "---\n",
    "\n",
    "## Acquire 500 URLs\n",
    "\n",
    "Now that we know how to acquire 100 items we need to add additional code so that we can acquire 500 items. We'll need to make 5 API requests in order to achieve this."
   ]
  },
  {
   "cell_type": "code",
   "execution_count": 14,
   "id": "89916cb4-bdd4-45a6-95dc-d2c8eba7fbd5",
   "metadata": {},
   "outputs": [
    {
     "data": {
      "text/plain": [
       "(500, 1)"
      ]
     },
     "execution_count": 14,
     "metadata": {},
     "output_type": "execute_result"
    }
   ],
   "source": [
    "# We'll need to add the page parameter to the API request and we'll loop through pages 1 - 5.\n",
    "# We'll store all the urls in a list, combine them all, and turn it into a series.\n",
    "\n",
    "urls = []\n",
    "\n",
    "for page in range(1, 6):\n",
    "    \n",
    "    data = requests.get(\n",
    "        f'https://api.github.com/search/repositories?q=bitcoin&per_page=100&page={page}',\n",
    "        headers = headers\n",
    "    ).json()\n",
    "    \n",
    "    urls.extend([item['html_url'].replace('https://github.com/', '') for item in data['items']])\n",
    "    \n",
    "urls = pd.DataFrame(urls, columns = ['URL'])\n",
    "urls.shape"
   ]
  },
  {
   "cell_type": "code",
   "execution_count": 15,
   "id": "c8396378-beaa-49b5-b1e8-be2548e8eb1d",
   "metadata": {},
   "outputs": [],
   "source": [
    "# Now let's cache this data in a .csv file\n",
    "\n",
    "urls.to_csv('urls.csv', index = False)"
   ]
  },
  {
   "cell_type": "code",
   "execution_count": 16,
   "id": "8fe77da0-bde9-4f95-b31f-85f676a2b60b",
   "metadata": {},
   "outputs": [
    {
     "data": {
      "text/plain": [
       "(500, 1)"
      ]
     },
     "execution_count": 16,
     "metadata": {},
     "output_type": "execute_result"
    }
   ],
   "source": [
    "# Let's read in the .csv file to make sure it worked\n",
    "\n",
    "urls = pd.read_csv('urls.csv')\n",
    "urls.shape"
   ]
  },
  {
   "cell_type": "code",
   "execution_count": 17,
   "id": "032a06db-03a1-4ae0-9ee2-56b147c1389d",
   "metadata": {},
   "outputs": [
    {
     "data": {
      "text/html": [
       "<div>\n",
       "<style scoped>\n",
       "    .dataframe tbody tr th:only-of-type {\n",
       "        vertical-align: middle;\n",
       "    }\n",
       "\n",
       "    .dataframe tbody tr th {\n",
       "        vertical-align: top;\n",
       "    }\n",
       "\n",
       "    .dataframe thead th {\n",
       "        text-align: right;\n",
       "    }\n",
       "</style>\n",
       "<table border=\"1\" class=\"dataframe\">\n",
       "  <thead>\n",
       "    <tr style=\"text-align: right;\">\n",
       "      <th></th>\n",
       "      <th>URL</th>\n",
       "    </tr>\n",
       "  </thead>\n",
       "  <tbody>\n",
       "    <tr>\n",
       "      <th>0</th>\n",
       "      <td>bitcoin/bitcoin</td>\n",
       "    </tr>\n",
       "    <tr>\n",
       "      <th>1</th>\n",
       "      <td>bitcoinbook/bitcoinbook</td>\n",
       "    </tr>\n",
       "    <tr>\n",
       "      <th>2</th>\n",
       "      <td>bitcoin/bips</td>\n",
       "    </tr>\n",
       "    <tr>\n",
       "      <th>3</th>\n",
       "      <td>bitcoinjs/bitcoinjs-lib</td>\n",
       "    </tr>\n",
       "    <tr>\n",
       "      <th>4</th>\n",
       "      <td>spesmilo/electrum</td>\n",
       "    </tr>\n",
       "  </tbody>\n",
       "</table>\n",
       "</div>"
      ],
      "text/plain": [
       "                       URL\n",
       "0          bitcoin/bitcoin\n",
       "1  bitcoinbook/bitcoinbook\n",
       "2             bitcoin/bips\n",
       "3  bitcoinjs/bitcoinjs-lib\n",
       "4        spesmilo/electrum"
      ]
     },
     "execution_count": 17,
     "metadata": {},
     "output_type": "execute_result"
    }
   ],
   "source": [
    "urls.head()"
   ]
  },
  {
   "cell_type": "markdown",
   "id": "dcdbe0a9-db90-4d16-8923-7d5d1ef6469c",
   "metadata": {},
   "source": [
    "Everything looks good and now the URLs we'll be using have been cached."
   ]
  }
 ],
 "metadata": {
  "kernelspec": {
   "display_name": "Python 3 (ipykernel)",
   "language": "python",
   "name": "python3"
  },
  "language_info": {
   "codemirror_mode": {
    "name": "ipython",
    "version": 3
   },
   "file_extension": ".py",
   "mimetype": "text/x-python",
   "name": "python",
   "nbconvert_exporter": "python",
   "pygments_lexer": "ipython3",
   "version": "3.9.7"
  }
 },
 "nbformat": 4,
 "nbformat_minor": 5
}
