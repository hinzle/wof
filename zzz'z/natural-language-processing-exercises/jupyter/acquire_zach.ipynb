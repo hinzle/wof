{
 "cells": [
  {
   "cell_type": "markdown",
   "metadata": {},
   "source": [
    "# Web Scraping"
   ]
  },
  {
   "cell_type": "code",
   "execution_count": 1,
   "metadata": {},
   "outputs": [],
   "source": [
    "from requests import get\n",
    "from bs4 import BeautifulSoup\n",
    "import pandas as pd"
   ]
  },
  {
   "cell_type": "code",
   "execution_count": 2,
   "metadata": {},
   "outputs": [
    {
     "data": {
      "text/plain": [
       "<Response [200]>"
      ]
     },
     "execution_count": 2,
     "metadata": {},
     "output_type": "execute_result"
    }
   ],
   "source": [
    "url = 'https://web-scraping-demo.zgulde.net/news'\n",
    "response = get(url)\n",
    "response"
   ]
  },
  {
   "cell_type": "code",
   "execution_count": 3,
   "metadata": {},
   "outputs": [
    {
     "name": "stdout",
     "output_type": "stream",
     "text": [
      "<!DOCTYPE html>\n",
      "<html lang=\"en\">\n",
      "<head>\n",
      "    <meta charset=\"UTF-8\">\n",
      "    <meta http-equiv=\"X-UA-Compatible\" content=\"IE=edge\">\n",
      "    <meta name=\"viewport\" content=\"width=device-width, initial-scale=1.0\">\n",
      "    <title>News Example Page</title>\n",
      "    <link href=\"https://unpkg.com/tailwindcss@^2/dist/tailwind.min.css\" rel=\"stylesheet\" />\n",
      "    <link rel=\"stylesheet\" href=\"https://cdn.jsdelivr.net/npm/bootstrap\n"
     ]
    }
   ],
   "source": [
    "print(response.text[:400])"
   ]
  },
  {
   "cell_type": "code",
   "execution_count": 4,
   "metadata": {},
   "outputs": [],
   "source": [
    "# Make a soup variable holding the response content\n",
    "soup = BeautifulSoup(response.text, 'html.parser')"
   ]
  },
  {
   "cell_type": "code",
   "execution_count": 5,
   "metadata": {},
   "outputs": [],
   "source": [
    "articles = soup.select('div.grid.grid-cols-4')"
   ]
  },
  {
   "cell_type": "code",
   "execution_count": 6,
   "metadata": {},
   "outputs": [
    {
     "data": {
      "text/plain": [
       "<div class=\"grid grid-cols-4 gap-x-4 border rounded pr-3 bg-green-50 hover:shadow-lg transition duration-500\">\n",
       "<img src=\"/static/placeholder.png\"/>\n",
       "<div class=\"col-span-3 space-y-3 py-3\">\n",
       "<h2 class=\"text-2xl text-green-900\">charge subject growth</h2>\n",
       "<div class=\"grid grid-cols-2 italic\">\n",
       "<p> 1997-07-16 </p>\n",
       "<p class=\"text-right\">By Jeff Blackwell DDS </p>\n",
       "</div>\n",
       "<p>Relate color get table consider guy your. Believe month how type be positive win sure. Cold call stuff finally recent home. Argue myself impact list image soon almost.\n",
       "Avoid indicate run. Usually use parent home. Get simple population husband kitchen.</p>\n",
       "</div>\n",
       "</div>"
      ]
     },
     "execution_count": 6,
     "metadata": {},
     "output_type": "execute_result"
    }
   ],
   "source": [
    "article = articles[0]\n",
    "article"
   ]
  },
  {
   "cell_type": "code",
   "execution_count": 7,
   "metadata": {},
   "outputs": [],
   "source": [
    "def parse_news_article(article):\n",
    "    output = {}\n",
    "    output['headline'] = article.find('h2').text\n",
    "    output['date'], output['byline'], output['description'] = [p.text for p in article.find_all('p')]\n",
    "    return output"
   ]
  },
  {
   "cell_type": "code",
   "execution_count": 8,
   "metadata": {},
   "outputs": [
    {
     "data": {
      "text/html": [
       "<div>\n",
       "<style scoped>\n",
       "    .dataframe tbody tr th:only-of-type {\n",
       "        vertical-align: middle;\n",
       "    }\n",
       "\n",
       "    .dataframe tbody tr th {\n",
       "        vertical-align: top;\n",
       "    }\n",
       "\n",
       "    .dataframe thead th {\n",
       "        text-align: right;\n",
       "    }\n",
       "</style>\n",
       "<table border=\"1\" class=\"dataframe\">\n",
       "  <thead>\n",
       "    <tr style=\"text-align: right;\">\n",
       "      <th></th>\n",
       "      <th>headline</th>\n",
       "      <th>date</th>\n",
       "      <th>byline</th>\n",
       "      <th>description</th>\n",
       "    </tr>\n",
       "  </thead>\n",
       "  <tbody>\n",
       "    <tr>\n",
       "      <th>0</th>\n",
       "      <td>charge subject growth</td>\n",
       "      <td>1997-07-16</td>\n",
       "      <td>By Jeff Blackwell DDS</td>\n",
       "      <td>Relate color get table consider guy your. Beli...</td>\n",
       "    </tr>\n",
       "    <tr>\n",
       "      <th>1</th>\n",
       "      <td>home bar single</td>\n",
       "      <td>2008-08-14</td>\n",
       "      <td>By Dr. Craig Ashley</td>\n",
       "      <td>Apply indicate whom notice hard skill. War ove...</td>\n",
       "    </tr>\n",
       "    <tr>\n",
       "      <th>2</th>\n",
       "      <td>remain offer despite</td>\n",
       "      <td>1997-01-18</td>\n",
       "      <td>By Eric Griffin</td>\n",
       "      <td>Idea statement attorney discussion beautiful. ...</td>\n",
       "    </tr>\n",
       "    <tr>\n",
       "      <th>3</th>\n",
       "      <td>fear drive role</td>\n",
       "      <td>1997-06-18</td>\n",
       "      <td>By Samantha Weaver</td>\n",
       "      <td>One international building behind system party...</td>\n",
       "    </tr>\n",
       "    <tr>\n",
       "      <th>4</th>\n",
       "      <td>all phone hair</td>\n",
       "      <td>1972-12-06</td>\n",
       "      <td>By Richard Peterson</td>\n",
       "      <td>Class recent wrong system today. How probably ...</td>\n",
       "    </tr>\n",
       "    <tr>\n",
       "      <th>5</th>\n",
       "      <td>stage top weight</td>\n",
       "      <td>2008-05-22</td>\n",
       "      <td>By Benjamin Williamson</td>\n",
       "      <td>Recently admit base. Then work religious belie...</td>\n",
       "    </tr>\n",
       "    <tr>\n",
       "      <th>6</th>\n",
       "      <td>if listen strategy</td>\n",
       "      <td>2001-11-12</td>\n",
       "      <td>By Anthony Nolan</td>\n",
       "      <td>Similar reality me people capital meet particu...</td>\n",
       "    </tr>\n",
       "    <tr>\n",
       "      <th>7</th>\n",
       "      <td>right system number</td>\n",
       "      <td>2010-04-14</td>\n",
       "      <td>By Catherine Coleman</td>\n",
       "      <td>Yes onto inside general. Rate song coach cut w...</td>\n",
       "    </tr>\n",
       "    <tr>\n",
       "      <th>8</th>\n",
       "      <td>high city leave</td>\n",
       "      <td>2015-12-13</td>\n",
       "      <td>By Samantha Lee</td>\n",
       "      <td>Professional ever continue imagine. Stay light...</td>\n",
       "    </tr>\n",
       "    <tr>\n",
       "      <th>9</th>\n",
       "      <td>forget treat miss</td>\n",
       "      <td>2009-04-29</td>\n",
       "      <td>By Jeffrey Larson</td>\n",
       "      <td>Prove people evidence executive increase rock....</td>\n",
       "    </tr>\n",
       "    <tr>\n",
       "      <th>10</th>\n",
       "      <td>cold as road</td>\n",
       "      <td>2020-11-18</td>\n",
       "      <td>By Margaret Young</td>\n",
       "      <td>Economy lose key trade tax us. House explain a...</td>\n",
       "    </tr>\n",
       "    <tr>\n",
       "      <th>11</th>\n",
       "      <td>risk weight run</td>\n",
       "      <td>2012-10-20</td>\n",
       "      <td>By Michael Callahan</td>\n",
       "      <td>Remember center as despite. Perform person eac...</td>\n",
       "    </tr>\n",
       "  </tbody>\n",
       "</table>\n",
       "</div>"
      ],
      "text/plain": [
       "                 headline          date                   byline  \\\n",
       "0   charge subject growth   1997-07-16    By Jeff Blackwell DDS    \n",
       "1         home bar single   2008-08-14      By Dr. Craig Ashley    \n",
       "2    remain offer despite   1997-01-18          By Eric Griffin    \n",
       "3         fear drive role   1997-06-18       By Samantha Weaver    \n",
       "4          all phone hair   1972-12-06      By Richard Peterson    \n",
       "5        stage top weight   2008-05-22   By Benjamin Williamson    \n",
       "6      if listen strategy   2001-11-12         By Anthony Nolan    \n",
       "7     right system number   2010-04-14     By Catherine Coleman    \n",
       "8         high city leave   2015-12-13          By Samantha Lee    \n",
       "9       forget treat miss   2009-04-29        By Jeffrey Larson    \n",
       "10           cold as road   2020-11-18        By Margaret Young    \n",
       "11        risk weight run   2012-10-20      By Michael Callahan    \n",
       "\n",
       "                                          description  \n",
       "0   Relate color get table consider guy your. Beli...  \n",
       "1   Apply indicate whom notice hard skill. War ove...  \n",
       "2   Idea statement attorney discussion beautiful. ...  \n",
       "3   One international building behind system party...  \n",
       "4   Class recent wrong system today. How probably ...  \n",
       "5   Recently admit base. Then work religious belie...  \n",
       "6   Similar reality me people capital meet particu...  \n",
       "7   Yes onto inside general. Rate song coach cut w...  \n",
       "8   Professional ever continue imagine. Stay light...  \n",
       "9   Prove people evidence executive increase rock....  \n",
       "10  Economy lose key trade tax us. House explain a...  \n",
       "11  Remember center as despite. Perform person eac...  "
      ]
     },
     "execution_count": 8,
     "metadata": {},
     "output_type": "execute_result"
    }
   ],
   "source": [
    "pd.DataFrame([parse_news_article(article) for article in articles])"
   ]
  },
  {
   "cell_type": "code",
   "execution_count": 9,
   "metadata": {},
   "outputs": [
    {
     "data": {
      "text/plain": [
       "<div class=\"person border rounded px-3 py-5 grid grid-cols-2 gap-x-3 bg-purple-50 hover:shadow-lg transition duration-500\">\n",
       "<h2 class=\"text-2xl text-purple-800 name col-span-full border-b\">Krystal Delgado</h2>\n",
       "<p class=\"quote col-span-full px-5 py-5 text-center text-gray-500\">\n",
       "            \"Networked intermediate concept\"\n",
       "        </p>\n",
       "<div class=\"grid grid-cols-9\">\n",
       "<i class=\"bi bi-envelope-fill text-purple-800\"></i>\n",
       "<p class=\"email col-span-8\">scottvang@gmail.com</p>\n",
       "<i class=\"bi bi-telephone-fill text-purple-800\"></i>\n",
       "<p class=\"phone col-span-8\">001-415-696-5151x4844</p>\n",
       "</div>\n",
       "<div class=\"address grid grid-cols-9\">\n",
       "<i class=\"bi bi-geo-fill text-purple-800\"></i>\n",
       "<p class=\"col-span-8\">\n",
       "                76915 Hanson Rapid Suite 580 <br/>\n",
       "                Lake Michael, GA 44288\n",
       "            </p>\n",
       "</div>\n",
       "</div>"
      ]
     },
     "execution_count": 9,
     "metadata": {},
     "output_type": "execute_result"
    }
   ],
   "source": [
    "url = 'https://web-scraping-demo.zgulde.net/people'\n",
    "response =get(url)\n",
    "soup=BeautifulSoup(response.text)\n",
    "peoples=soup.select('div.person')\n",
    "peoples[0]\n"
   ]
  },
  {
   "cell_type": "code",
   "execution_count": 16,
   "metadata": {},
   "outputs": [],
   "source": [
    "def parse_news_article(article):\n",
    "    output = {}\n",
    "    output['name'] = article.find('h2').text.strip()\n",
    "    output['quote'], output['email'], output['phone'], output['address'] = [p.text.strip() for p in article.find_all('p')]\n",
    "    return output"
   ]
  },
  {
   "cell_type": "code",
   "execution_count": 15,
   "metadata": {},
   "outputs": [
    {
     "data": {
      "text/html": [
       "<div>\n",
       "<style scoped>\n",
       "    .dataframe tbody tr th:only-of-type {\n",
       "        vertical-align: middle;\n",
       "    }\n",
       "\n",
       "    .dataframe tbody tr th {\n",
       "        vertical-align: top;\n",
       "    }\n",
       "\n",
       "    .dataframe thead th {\n",
       "        text-align: right;\n",
       "    }\n",
       "</style>\n",
       "<table border=\"1\" class=\"dataframe\">\n",
       "  <thead>\n",
       "    <tr style=\"text-align: right;\">\n",
       "      <th></th>\n",
       "      <th>name</th>\n",
       "      <th>quote</th>\n",
       "      <th>email</th>\n",
       "      <th>phone</th>\n",
       "      <th>address</th>\n",
       "    </tr>\n",
       "  </thead>\n",
       "  <tbody>\n",
       "    <tr>\n",
       "      <th>0</th>\n",
       "      <td>Krystal Delgado</td>\n",
       "      <td>\"Networked intermediate concept\"</td>\n",
       "      <td>scottvang@gmail.com</td>\n",
       "      <td>001-415-696-5151x4844</td>\n",
       "      <td>76915 Hanson Rapid Suite 580 \\n               ...</td>\n",
       "    </tr>\n",
       "    <tr>\n",
       "      <th>1</th>\n",
       "      <td>Renee Brennan</td>\n",
       "      <td>\"Reactive dynamic circuit\"</td>\n",
       "      <td>marie66@yahoo.com</td>\n",
       "      <td>(222)753-0647</td>\n",
       "      <td>614 Marissa Shores \\n                North Ste...</td>\n",
       "    </tr>\n",
       "    <tr>\n",
       "      <th>2</th>\n",
       "      <td>Rachael Reed</td>\n",
       "      <td>\"Object-based executive open system\"</td>\n",
       "      <td>joshua84@hotmail.com</td>\n",
       "      <td>001-556-399-6429x74184</td>\n",
       "      <td>7793 Proctor Squares \\n                Anderso...</td>\n",
       "    </tr>\n",
       "    <tr>\n",
       "      <th>3</th>\n",
       "      <td>Derrick Aguilar</td>\n",
       "      <td>\"Open-architected regional service-desk\"</td>\n",
       "      <td>nicole62@curry.com</td>\n",
       "      <td>(479)895-8722</td>\n",
       "      <td>1464 Skinner Hollow Suite 724 \\n              ...</td>\n",
       "    </tr>\n",
       "    <tr>\n",
       "      <th>4</th>\n",
       "      <td>Natalie Allen</td>\n",
       "      <td>\"Front-line 4thgeneration capacity\"</td>\n",
       "      <td>valeriefaulkner@hotmail.com</td>\n",
       "      <td>242.667.7071x003</td>\n",
       "      <td>815 Cassandra Point \\n                Brendanc...</td>\n",
       "    </tr>\n",
       "    <tr>\n",
       "      <th>5</th>\n",
       "      <td>Mrs. Pamela Jones</td>\n",
       "      <td>\"Monitored actuating groupware\"</td>\n",
       "      <td>kgomez@roman.com</td>\n",
       "      <td>8881784803</td>\n",
       "      <td>48139 Timothy Gardens \\n                Adamsb...</td>\n",
       "    </tr>\n",
       "    <tr>\n",
       "      <th>6</th>\n",
       "      <td>James Larson</td>\n",
       "      <td>\"Organic reciprocal approach\"</td>\n",
       "      <td>lorraine65@williams.info</td>\n",
       "      <td>001-525-513-5676x7191</td>\n",
       "      <td>075 Moore Brook Suite 291 \\n                Ne...</td>\n",
       "    </tr>\n",
       "    <tr>\n",
       "      <th>7</th>\n",
       "      <td>Tyrone Smith</td>\n",
       "      <td>\"Realigned asymmetric protocol\"</td>\n",
       "      <td>rdavis@yahoo.com</td>\n",
       "      <td>7540565093</td>\n",
       "      <td>21910 Douglas Drives \\n                Howevil...</td>\n",
       "    </tr>\n",
       "    <tr>\n",
       "      <th>8</th>\n",
       "      <td>Christian Acevedo</td>\n",
       "      <td>\"Proactive human-resource info-mediaries\"</td>\n",
       "      <td>scottgonzales@rivera-smith.com</td>\n",
       "      <td>001-608-194-7422x34036</td>\n",
       "      <td>5472 Donovan Harbors Suite 231 \\n             ...</td>\n",
       "    </tr>\n",
       "    <tr>\n",
       "      <th>9</th>\n",
       "      <td>Wendy Jordan</td>\n",
       "      <td>\"Function-based didactic complexity\"</td>\n",
       "      <td>meganbrooks@yahoo.com</td>\n",
       "      <td>+1-618-549-8001</td>\n",
       "      <td>18614 Regina Via \\n                Joseberg, N...</td>\n",
       "    </tr>\n",
       "  </tbody>\n",
       "</table>\n",
       "</div>"
      ],
      "text/plain": [
       "                name                                      quote  \\\n",
       "0    Krystal Delgado           \"Networked intermediate concept\"   \n",
       "1      Renee Brennan                 \"Reactive dynamic circuit\"   \n",
       "2       Rachael Reed       \"Object-based executive open system\"   \n",
       "3    Derrick Aguilar   \"Open-architected regional service-desk\"   \n",
       "4      Natalie Allen        \"Front-line 4thgeneration capacity\"   \n",
       "5  Mrs. Pamela Jones            \"Monitored actuating groupware\"   \n",
       "6       James Larson              \"Organic reciprocal approach\"   \n",
       "7       Tyrone Smith            \"Realigned asymmetric protocol\"   \n",
       "8  Christian Acevedo  \"Proactive human-resource info-mediaries\"   \n",
       "9       Wendy Jordan       \"Function-based didactic complexity\"   \n",
       "\n",
       "                            email                   phone  \\\n",
       "0             scottvang@gmail.com   001-415-696-5151x4844   \n",
       "1               marie66@yahoo.com           (222)753-0647   \n",
       "2            joshua84@hotmail.com  001-556-399-6429x74184   \n",
       "3              nicole62@curry.com           (479)895-8722   \n",
       "4     valeriefaulkner@hotmail.com        242.667.7071x003   \n",
       "5                kgomez@roman.com              8881784803   \n",
       "6        lorraine65@williams.info   001-525-513-5676x7191   \n",
       "7                rdavis@yahoo.com              7540565093   \n",
       "8  scottgonzales@rivera-smith.com  001-608-194-7422x34036   \n",
       "9           meganbrooks@yahoo.com         +1-618-549-8001   \n",
       "\n",
       "                                             address  \n",
       "0  76915 Hanson Rapid Suite 580 \\n               ...  \n",
       "1  614 Marissa Shores \\n                North Ste...  \n",
       "2  7793 Proctor Squares \\n                Anderso...  \n",
       "3  1464 Skinner Hollow Suite 724 \\n              ...  \n",
       "4  815 Cassandra Point \\n                Brendanc...  \n",
       "5  48139 Timothy Gardens \\n                Adamsb...  \n",
       "6  075 Moore Brook Suite 291 \\n                Ne...  \n",
       "7  21910 Douglas Drives \\n                Howevil...  \n",
       "8  5472 Donovan Harbors Suite 231 \\n             ...  \n",
       "9  18614 Regina Via \\n                Joseberg, N...  "
      ]
     },
     "execution_count": 15,
     "metadata": {},
     "output_type": "execute_result"
    }
   ],
   "source": [
    "pd.DataFrame([parse_news_article(people) for people in peoples])"
   ]
  },
  {
   "cell_type": "code",
   "execution_count": 4,
   "metadata": {},
   "outputs": [
    {
     "ename": "NameError",
     "evalue": "name 'people' is not defined",
     "output_type": "error",
     "traceback": [
      "\u001b[0;31m---------------------------------------------------------------------------\u001b[0m",
      "\u001b[0;31mNameError\u001b[0m                                 Traceback (most recent call last)",
      "\u001b[1;32m/Users/hinzlehome/codeup-data-science/natural-language-processing-exercises/jupyter/acquire.ipynb Cell 13'\u001b[0m in \u001b[0;36m<cell line: 4>\u001b[0;34m()\u001b[0m\n\u001b[1;32m      <a href='vscode-notebook-cell:/Users/hinzlehome/codeup-data-science/natural-language-processing-exercises/jupyter/acquire.ipynb#ch0000016?line=0'>1</a>\u001b[0m \u001b[39m# find vs select\u001b[39;00m\n\u001b[1;32m      <a href='vscode-notebook-cell:/Users/hinzlehome/codeup-data-science/natural-language-processing-exercises/jupyter/acquire.ipynb#ch0000016?line=1'>2</a>\u001b[0m \u001b[39m# .find is a beautiful soup method\u001b[39;00m\n\u001b[1;32m      <a href='vscode-notebook-cell:/Users/hinzlehome/codeup-data-science/natural-language-processing-exercises/jupyter/acquire.ipynb#ch0000016?line=2'>3</a>\u001b[0m \u001b[39m# .select allows you to use a CSS selector\u001b[39;00m\n\u001b[0;32m----> <a href='vscode-notebook-cell:/Users/hinzlehome/codeup-data-science/natural-language-processing-exercises/jupyter/acquire.ipynb#ch0000016?line=3'>4</a>\u001b[0m person \u001b[39m=\u001b[39m people[\u001b[39m0\u001b[39m]\n",
      "\u001b[0;31mNameError\u001b[0m: name 'people' is not defined"
     ]
    }
   ],
   "source": [
    "# find vs select\n",
    "# .find is a beautiful soup method\n",
    "# .select allows you to use a CSS selector\n",
    "person = people[0]"
   ]
  },
  {
   "cell_type": "code",
   "execution_count": 2,
   "metadata": {},
   "outputs": [
    {
     "ename": "SyntaxError",
     "evalue": "invalid syntax (3438664538.py, line 2)",
     "output_type": "error",
     "traceback": [
      "\u001b[0;36m  Input \u001b[0;32mIn [2]\u001b[0;36m\u001b[0m\n\u001b[0;31m    person.find('p',class='phone')\u001b[0m\n\u001b[0m                    ^\u001b[0m\n\u001b[0;31mSyntaxError\u001b[0m\u001b[0;31m:\u001b[0m invalid syntax\n"
     ]
    }
   ],
   "source": [
    "person.find('p',class='phone')"
   ]
  },
  {
   "cell_type": "code",
   "execution_count": 3,
   "metadata": {},
   "outputs": [
    {
     "ename": "NameError",
     "evalue": "name 'person' is not defined",
     "output_type": "error",
     "traceback": [
      "\u001b[0;31m---------------------------------------------------------------------------\u001b[0m",
      "\u001b[0;31mNameError\u001b[0m                                 Traceback (most recent call last)",
      "\u001b[1;32m/Users/hinzlehome/codeup-data-science/natural-language-processing-exercises/jupyter/acquire.ipynb Cell 14'\u001b[0m in \u001b[0;36m<cell line: 1>\u001b[0;34m()\u001b[0m\n\u001b[0;32m----> <a href='vscode-notebook-cell:/Users/hinzlehome/codeup-data-science/natural-language-processing-exercises/jupyter/acquire.ipynb#ch0000013?line=0'>1</a>\u001b[0m person\u001b[39m.\u001b[39mfind_all(\u001b[39m'\u001b[39m\u001b[39mp\u001b[39m\u001b[39m'\u001b[39m, class_\u001b[39m=\u001b[39m\u001b[39m'\u001b[39m\u001b[39mphone\u001b[39m\u001b[39m'\u001b[39m)\n",
      "\u001b[0;31mNameError\u001b[0m: name 'person' is not defined"
     ]
    }
   ],
   "source": [
    "person.find_all('p', class_='phone')"
   ]
  },
  {
   "cell_type": "code",
   "execution_count": null,
   "metadata": {},
   "outputs": [],
   "source": [
    "person.select('p.phone')"
   ]
  },
  {
   "cell_type": "code",
   "execution_count": null,
   "metadata": {},
   "outputs": [],
   "source": [
    "person.select_one('p.phone')"
   ]
  }
 ],
 "metadata": {
  "interpreter": {
   "hash": "3067ead486e059ec00ffe7555bdb889e6e264a24dc711bf108106cc7baee8d5d"
  },
  "kernelspec": {
   "display_name": "Python 3.9.12 ('base')",
   "language": "python",
   "name": "python3"
  },
  "language_info": {
   "codemirror_mode": {
    "name": "ipython",
    "version": 3
   },
   "file_extension": ".py",
   "mimetype": "text/x-python",
   "name": "python",
   "nbconvert_exporter": "python",
   "pygments_lexer": "ipython3",
   "version": "3.9.12"
  }
 },
 "nbformat": 4,
 "nbformat_minor": 2
}
