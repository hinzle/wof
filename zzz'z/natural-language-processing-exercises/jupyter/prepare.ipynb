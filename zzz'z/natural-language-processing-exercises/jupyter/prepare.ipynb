{
 "cells": [
  {
   "cell_type": "code",
   "execution_count": 22,
   "metadata": {},
   "outputs": [],
   "source": [
    "# current filepath system leaves plenty to be desired\n",
    "import sys\n",
    "local_path = '/Users/hinzlehome/codeup-data-science/natural-language-processing-exercises/'\n",
    "sys.path.insert(0, local_path)\n",
    "\n",
    "# imports.py in /utils/\n",
    "from utils.imports import *\n",
    "\n",
    "# plotting magic\n",
    "%matplotlib inline\n",
    "# plotting defaults\n",
    "plt.rc('figure', figsize=(16, 9))\n",
    "plt.style.use('seaborn-darkgrid')\n",
    "plt.rc('font', size=16)\n",
    "# plt.style.available\n",
    "# # ^^^ show available seaborn styles\n",
    "\n",
    "# !!! Warning !!! \n",
    "# *** no more warnings ***\n",
    "import warnings\n",
    "warnings.filterwarnings(\"ignore\")\n",
    "\n",
    "# # custom mods\n",
    "from utils.acquire import *\n",
    "from utils.prepare import *"
   ]
  },
  {
   "cell_type": "code",
   "execution_count": 3,
   "metadata": {},
   "outputs": [
    {
     "name": "stderr",
     "output_type": "stream",
     "text": [
      "[nltk_data] Downloading package stopwords to\n",
      "[nltk_data]     /Users/hinzlehome/nltk_data...\n",
      "[nltk_data]   Package stopwords is already up-to-date!\n"
     ]
    },
    {
     "data": {
      "text/plain": [
       "True"
      ]
     },
     "execution_count": 3,
     "metadata": {},
     "output_type": "execute_result"
    }
   ],
   "source": [
    "nltk.download('stopwords')"
   ]
  },
  {
   "cell_type": "code",
   "execution_count": 4,
   "metadata": {},
   "outputs": [],
   "source": [
    "original = '''\n",
    "What are the Math and Stats Principles You Need for Data Science?Oct 21, 2020 | Data Science\n",
    "\n",
    "\n",
    "Coming into our Data Science program, you will need to know some math and stats. However, many of our applicants actually learn in the application process – you don’t need to be an expert before applying! Data science is a very accessible field to anyone dedicated to learning new skills, and we can work with any applicant to help them learn what they need to know. But what “skills” do we mean, exactly? Just what exactly are the data science math and stats principles you need to know?\n",
    "What are the main math principles you need to know to get into Codeup’s Data Science program?\n",
    "\n",
    "\n",
    "Algebra\n",
    "Do you know PEMDAS and can you solve for x? You will need to be or become comfortable with the following:\n",
    "\n",
    "Variables (x, y, n, etc.)\n",
    "Formulas, functions, and variable manipulations (e.g. x^2 = x + 6, solve for x).\n",
    "Order of evaluation: PEMDAS: parentheses, exponents, then multiplication, division, addition, and subtraction\n",
    "Commutativity where a + b = b + a\n",
    "Associativity where a + (b + c) = (a + b) + c\n",
    "Adding and subtracting matrices\n",
    "A conceptual understanding of exponential growth/decay- things can increase at an increasing rate\n",
    "\n",
    "Descriptive Statistics\n",
    "Know what a min, max, mode, median, and average are. Have a conceptual understanding that stats/probability is about trying to quantify uncertainty.\n",
    "Data Visualization\n",
    "Know what a scatterplot is and how to read a barplot.\n",
    "How to Learn and Expand on These Concepts\n",
    "There are a number of great resources out there to teach you these and similar concepts. Khan Academy is a great starting place for data science math! If you want to know what exactly we assign our applicants, you’ll just have to apply!\n",
    " \n",
    "What about once you’re in Codeup?\n",
    "\n",
    "\n",
    "What You Won’t Do\n",
    "Do we do any mathematical proofs for concepts or perform derivations? No. \n",
    "Do we do any calculus and probability calculating by hand? No.\n",
    "Are we transforming equations, where we cancel out units or terms and do lots of algebraic gymnastics? No\n",
    "What You Will Do\n",
    "Will we have Python solve our linear algebra problems for us? Yes\n",
    "Will we have Python calculate probabilities, the area under a curve, and the slope of a line for us? Yes\n",
    "Will we have Python do all of the calculus for us? Yes\n",
    " \n",
    "See, the data science math and stats slice of the pie is certainly doable. If you like problem-solving and are ready to challenge yourself, you’ll love data science! If you are interested in learning about data science, just apply! Our Admissions Manager can work with you to get you where you need to be starting from where you are now. Let us help you get there so you can launch a great new career.\n",
    "\n",
    "Request More Info\n",
    "\n",
    "\n",
    "\n",
    "\n",
    "\n",
    "Our ProgramsFull Stack Web Development\n",
    "Data Science\n",
    "Cyber Cloud\n",
    "Systems Engineering\n",
    "\n",
    "\n",
    "\n",
    "\n",
    "\n",
    "Latest Blog Articles\n",
    "Codeup Dallas Open House\n",
    "Codeup’s Placement Team Continues Setting Records\n",
    "IT Certifications 101: Why They Matter, and Why They Don’t\n",
    "A rise in cyber attacks means opportunities for veterans in San Antonio\n",
    "Use your GI Bill® benefits to Land a Job in Tech\n",
    "\n",
    "\n",
    "\n",
    "\n",
    "\n",
    "\n",
    "\n",
    "\n",
    "\n",
    "\n",
    "\n",
    "\n",
    "\n",
    "\n",
    "\n",
    "\n",
    "\n",
    "\n",
    "\n",
    "\n",
    "\n",
    "\n",
    "\n",
    "More From This Category\n",
    "\n",
    "\n",
    "\n",
    "\n",
    "\n",
    "\n",
    "Codeup Dallas Open House\n",
    "Nov 30, 2021 | Dallas Newsletter, EventsCome join us for the re-opening of our Dallas Campus with some drinks and snacks at Codeup! Curious about what our campus looks like? Click here to register for free About this event Come join us for the re-opening of our Dallas Campus with some drinks and snacks at...\n",
    "\n",
    "\n",
    "\n",
    "\n",
    "Codeup’s Placement Team Continues Setting Records\n",
    "Nov 19, 2021 | Codeup News, EmployersOur Placement Team is simply defined as a group that manages relationships with our employer partners and our graduating students to help get our graduating students hired. Last quarter the Placement Team helped 48 students get hired to life-changing careers in tech....\n",
    "\n",
    "\n",
    "\n",
    "\n",
    "IT Certifications 101: Why They Matter, and Why They Don’t\n",
    "Nov 18, 2021 | Cybersecurity, IT Training, Tips for Prospective StudentsAWS, Google, Azure, Red Hat, CompTIA...these are big names in IT! And not only for their products, but also for the certifications they offer. If you’re new to tech, you might be wondering: Do certifications really matter? Welcome to IT Certifications 101! What’s the...\n",
    "\n",
    "'''\n"
   ]
  },
  {
   "cell_type": "code",
   "execution_count": 5,
   "metadata": {},
   "outputs": [],
   "source": [
    "def basic_clean(original):\n",
    "\tarticle=original.lower()\n",
    "\tarticle = unicodedata.normalize('NFKD', article).encode('ascii', 'ignore').decode('utf-8', 'ignore')\n",
    "\tarticle = re.sub(r\"[^\\w0-9'\\s]\", '', article)\n",
    "\treturn article"
   ]
  },
  {
   "cell_type": "code",
   "execution_count": 6,
   "metadata": {},
   "outputs": [],
   "source": [
    "article=basic_clean(original)"
   ]
  },
  {
   "cell_type": "code",
   "execution_count": 7,
   "metadata": {},
   "outputs": [],
   "source": [
    "def tokenize(article):\n",
    "\ttokenizer = nltk.tokenize.ToktokTokenizer()\n",
    "\tprint(tokenizer.tokenize(article, return_str=True))"
   ]
  },
  {
   "cell_type": "code",
   "execution_count": 8,
   "metadata": {},
   "outputs": [
    {
     "name": "stdout",
     "output_type": "stream",
     "text": [
      "what are the math and stats principles you need for data scienceoct 21 2020 data science\n",
      "\n",
      "\n",
      "coming into our data science program you will need to know some math and stats however many of our applicants actually learn in the application process you dont need to be an expert before applying data science is a very accessible field to anyone dedicated to learning new skills and we can work with any applicant to help them learn what they need to know but what skills do we mean exactly just what exactly are the data science math and stats principles you need to know\n",
      "what are the main math principles you need to know to get into codeups data science program\n",
      "\n",
      "\n",
      "algebra\n",
      "do you know pemdas and can you solve for x you will need to be or become comfortable with the following\n",
      "\n",
      "variables x y n etc\n",
      "formulas functions and variable manipulations eg x2 x 6 solve for x\n",
      "order of evaluation pemdas parentheses exponents then multiplication division addition and subtraction\n",
      "commutativity where a b b a\n",
      "associativity where a b c a b c\n",
      "adding and subtracting matrices\n",
      "a conceptual understanding of exponential growthdecay things can increase at an increasing rate\n",
      "\n",
      "descriptive statistics\n",
      "know what a min max mode median and average are have a conceptual understanding that statsprobability is about trying to quantify uncertainty\n",
      "data visualization\n",
      "know what a scatterplot is and how to read a barplot\n",
      "how to learn and expand on these concepts\n",
      "there are a number of great resources out there to teach you these and similar concepts khan academy is a great starting place for data science math if you want to know what exactly we assign our applicants youll just have to apply\n",
      " \n",
      "what about once youre in codeup\n",
      "\n",
      "\n",
      "what you wont do\n",
      "do we do any mathematical proofs for concepts or perform derivations no \n",
      "do we do any calculus and probability calculating by hand no\n",
      "are we transforming equations where we cancel out units or terms and do lots of algebraic gymnastics no\n",
      "what you will do\n",
      "will we have python solve our linear algebra problems for us yes\n",
      "will we have python calculate probabilities the area under a curve and the slope of a line for us yes\n",
      "will we have python do all of the calculus for us yes\n",
      " \n",
      "see the data science math and stats slice of the pie is certainly doable if you like problemsolving and are ready to challenge yourself youll love data science if you are interested in learning about data science just apply our admissions manager can work with you to get you where you need to be starting from where you are now let us help you get there so you can launch a great new career\n",
      "\n",
      "request more info\n",
      "\n",
      "\n",
      "\n",
      "\n",
      "\n",
      "our programsfull stack web development\n",
      "data science\n",
      "cyber cloud\n",
      "systems engineering\n",
      "\n",
      "\n",
      "\n",
      "\n",
      "\n",
      "latest blog articles\n",
      "codeup dallas open house\n",
      "codeups placement team continues setting records\n",
      "it certifications 101 why they matter and why they dont\n",
      "a rise in cyber attacks means opportunities for veterans in san antonio\n",
      "use your gi bill benefits to land a job in tech\n",
      "\n",
      "\n",
      "\n",
      "\n",
      "\n",
      "\n",
      "\n",
      "\n",
      "\n",
      "\n",
      "\n",
      "\n",
      "\n",
      "\n",
      "\n",
      "\n",
      "\n",
      "\n",
      "\n",
      "\n",
      "\n",
      "\n",
      "\n",
      "more from this category\n",
      "\n",
      "\n",
      "\n",
      "\n",
      "\n",
      "\n",
      "codeup dallas open house\n",
      "nov 30 2021 dallas newsletter eventscome join us for the reopening of our dallas campus with some drinks and snacks at codeup curious about what our campus looks like click here to register for free about this event come join us for the reopening of our dallas campus with some drinks and snacks at\n",
      "\n",
      "\n",
      "\n",
      "\n",
      "codeups placement team continues setting records\n",
      "nov 19 2021 codeup news employersour placement team is simply defined as a group that manages relationships with our employer partners and our graduating students to help get our graduating students hired last quarter the placement team helped 48 students get hired to lifechanging careers in tech\n",
      "\n",
      "\n",
      "\n",
      "\n",
      "it certifications 101 why they matter and why they dont\n",
      "nov 18 2021 cybersecurity it training tips for prospective studentsaws google azure red hat comptiathese are big names in it and not only for their products but also for the certifications they offer if youre new to tech you might be wondering do certifications really matter welcome to it certifications 101 whats the\n"
     ]
    }
   ],
   "source": [
    "tokenize(article)"
   ]
  },
  {
   "cell_type": "code",
   "execution_count": 9,
   "metadata": {},
   "outputs": [
    {
     "name": "stderr",
     "output_type": "stream",
     "text": [
      "[nltk_data] Downloading package wordnet to\n",
      "[nltk_data]     /Users/hinzlehome/nltk_data...\n",
      "[nltk_data]   Package wordnet is already up-to-date!\n",
      "[nltk_data] Downloading package omw-1.4 to\n",
      "[nltk_data]     /Users/hinzlehome/nltk_data...\n",
      "[nltk_data]   Package omw-1.4 is already up-to-date!\n"
     ]
    },
    {
     "data": {
      "text/plain": [
       "True"
      ]
     },
     "execution_count": 9,
     "metadata": {},
     "output_type": "execute_result"
    }
   ],
   "source": [
    "nltk.download('wordnet')\n",
    "nltk.download('omw-1.4')"
   ]
  },
  {
   "cell_type": "code",
   "execution_count": 10,
   "metadata": {},
   "outputs": [],
   "source": [
    "wnl = nltk.stem.WordNetLemmatizer()"
   ]
  },
  {
   "cell_type": "code",
   "execution_count": 11,
   "metadata": {},
   "outputs": [],
   "source": [
    "def lemmatize(article):\n",
    "\tlemmas = [wnl.lemmatize(word) for word in article.split()]\n",
    "\tarticle_lemmatized = ' '.join(lemmas)\n",
    "\treturn article_lemmatized"
   ]
  },
  {
   "cell_type": "code",
   "execution_count": 12,
   "metadata": {},
   "outputs": [],
   "source": [
    "article_lemmatized=lemmatize(article)"
   ]
  },
  {
   "cell_type": "code",
   "execution_count": 13,
   "metadata": {},
   "outputs": [
    {
     "name": "stdout",
     "output_type": "stream",
     "text": [
      "what are the math and stats principle you need for data scienceoct 21 2020 data science coming into our data science program you will need to know some math and stats however many of our applicant actually learn in the application process you dont need to be an expert before applying data science is a very accessible field to anyone dedicated to learning new skill and we can work with any applicant to help them learn what they need to know but what skill do we mean exactly just what exactly are the data science math and stats principle you need to know what are the main math principle you need to know to get into codeups data science program algebra do you know pemdas and can you solve for x you will need to be or become comfortable with the following variable x y n etc formula function and variable manipulation eg x2 x 6 solve for x order of evaluation pemdas parenthesis exponent then multiplication division addition and subtraction commutativity where a b b a associativity where a b c a b c adding and subtracting matrix a conceptual understanding of exponential growthdecay thing can increase at an increasing rate descriptive statistic know what a min max mode median and average are have a conceptual understanding that statsprobability is about trying to quantify uncertainty data visualization know what a scatterplot is and how to read a barplot how to learn and expand on these concept there are a number of great resource out there to teach you these and similar concept khan academy is a great starting place for data science math if you want to know what exactly we assign our applicant youll just have to apply what about once youre in codeup what you wont do do we do any mathematical proof for concept or perform derivation no do we do any calculus and probability calculating by hand no are we transforming equation where we cancel out unit or term and do lot of algebraic gymnastics no what you will do will we have python solve our linear algebra problem for u yes will we have python calculate probability the area under a curve and the slope of a line for u yes will we have python do all of the calculus for u yes see the data science math and stats slice of the pie is certainly doable if you like problemsolving and are ready to challenge yourself youll love data science if you are interested in learning about data science just apply our admission manager can work with you to get you where you need to be starting from where you are now let u help you get there so you can launch a great new career request more info our programsfull stack web development data science cyber cloud system engineering latest blog article codeup dallas open house codeups placement team continues setting record it certification 101 why they matter and why they dont a rise in cyber attack mean opportunity for veteran in san antonio use your gi bill benefit to land a job in tech more from this category codeup dallas open house nov 30 2021 dallas newsletter eventscome join u for the reopening of our dallas campus with some drink and snack at codeup curious about what our campus look like click here to register for free about this event come join u for the reopening of our dallas campus with some drink and snack at codeups placement team continues setting record nov 19 2021 codeup news employersour placement team is simply defined a a group that manages relationship with our employer partner and our graduating student to help get our graduating student hired last quarter the placement team helped 48 student get hired to lifechanging career in tech it certification 101 why they matter and why they dont nov 18 2021 cybersecurity it training tip for prospective studentsaws google azure red hat comptiathese are big name in it and not only for their product but also for the certification they offer if youre new to tech you might be wondering do certification really matter welcome to it certification 101 whats the\n"
     ]
    }
   ],
   "source": [
    "\n",
    "print(article_lemmatized)\n"
   ]
  },
  {
   "cell_type": "code",
   "execution_count": 14,
   "metadata": {},
   "outputs": [
    {
     "name": "stdout",
     "output_type": "stream",
     "text": [
      "Importing from csv\n"
     ]
    }
   ],
   "source": [
    "list=['business', 'sports', 'technology', 'entertainment']\n",
    "news_df=get_news_articles(list)"
   ]
  },
  {
   "cell_type": "code",
   "execution_count": 23,
   "metadata": {},
   "outputs": [
    {
     "name": "stdout",
     "output_type": "stream",
     "text": [
      "Unexpected exception formatting exception. Falling back to standard exception\n"
     ]
    },
    {
     "name": "stderr",
     "output_type": "stream",
     "text": [
      "Traceback (most recent call last):\n",
      "  File \"/usr/local/anaconda3/lib/python3.9/site-packages/IPython/core/interactiveshell.py\", line 3369, in run_code\n",
      "    exec(code_obj, self.user_global_ns, self.user_ns)\n",
      "  File \"/var/folders/mk/w2hz4wxx7xn5hr_56wz536gh0000gn/T/ipykernel_75135/2759429243.py\", line 1, in <cell line: 1>\n",
      "    news_df=prep_article_data(news_df,'content')\n",
      "  File \"/Users/hinzlehome/codeup-data-science/natural-language-processing-exercises/utils/prepare.py\", line 111, in prep_article_data\n",
      "    return df[['title', column,'clean', 'stemmed', 'lemmatized']]\n",
      "  File \"/usr/local/anaconda3/lib/python3.9/site-packages/pandas/core/frame.py\", line 3511, in __getitem__\n",
      "    indexer = self.columns._get_indexer_strict(key, \"columns\")[1]\n",
      "  File \"/usr/local/anaconda3/lib/python3.9/site-packages/pandas/core/indexes/base.py\", line 5782, in _get_indexer_strict\n",
      "    self._raise_if_missing(keyarr, indexer, axis_name)\n",
      "  File \"/usr/local/anaconda3/lib/python3.9/site-packages/pandas/core/indexes/base.py\", line 5845, in _raise_if_missing\n",
      "    raise KeyError(f\"{not_found} not in index\")\n",
      "KeyError: \"['title'] not in index\"\n",
      "\n",
      "During handling of the above exception, another exception occurred:\n",
      "\n",
      "Traceback (most recent call last):\n",
      "  File \"/usr/local/anaconda3/lib/python3.9/site-packages/IPython/core/interactiveshell.py\", line 1982, in showtraceback\n",
      "    stb = self.InteractiveTB.structured_traceback(\n",
      "  File \"/usr/local/anaconda3/lib/python3.9/site-packages/IPython/core/ultratb.py\", line 1118, in structured_traceback\n",
      "    return FormattedTB.structured_traceback(\n",
      "  File \"/usr/local/anaconda3/lib/python3.9/site-packages/IPython/core/ultratb.py\", line 1012, in structured_traceback\n",
      "    return VerboseTB.structured_traceback(\n",
      "  File \"/usr/local/anaconda3/lib/python3.9/site-packages/IPython/core/ultratb.py\", line 865, in structured_traceback\n",
      "    formatted_exception = self.format_exception_as_a_whole(etype, evalue, etb, number_of_lines_of_context,\n",
      "  File \"/usr/local/anaconda3/lib/python3.9/site-packages/IPython/core/ultratb.py\", line 818, in format_exception_as_a_whole\n",
      "    frames.append(self.format_record(r))\n",
      "  File \"/usr/local/anaconda3/lib/python3.9/site-packages/IPython/core/ultratb.py\", line 736, in format_record\n",
      "    result += ''.join(_format_traceback_lines(frame_info.lines, Colors, self.has_colors, lvals))\n",
      "  File \"/usr/local/anaconda3/lib/python3.9/site-packages/stack_data/utils.py\", line 145, in cached_property_wrapper\n",
      "    value = obj.__dict__[self.func.__name__] = self.func(obj)\n",
      "  File \"/usr/local/anaconda3/lib/python3.9/site-packages/stack_data/core.py\", line 698, in lines\n",
      "    pieces = self.included_pieces\n",
      "  File \"/usr/local/anaconda3/lib/python3.9/site-packages/stack_data/utils.py\", line 145, in cached_property_wrapper\n",
      "    value = obj.__dict__[self.func.__name__] = self.func(obj)\n",
      "  File \"/usr/local/anaconda3/lib/python3.9/site-packages/stack_data/core.py\", line 649, in included_pieces\n",
      "    pos = scope_pieces.index(self.executing_piece)\n",
      "  File \"/usr/local/anaconda3/lib/python3.9/site-packages/stack_data/utils.py\", line 145, in cached_property_wrapper\n",
      "    value = obj.__dict__[self.func.__name__] = self.func(obj)\n",
      "  File \"/usr/local/anaconda3/lib/python3.9/site-packages/stack_data/core.py\", line 628, in executing_piece\n",
      "    return only(\n",
      "  File \"/usr/local/anaconda3/lib/python3.9/site-packages/executing/executing.py\", line 164, in only\n",
      "    raise NotOneValueFound('Expected one value, found 0')\n",
      "executing.executing.NotOneValueFound: Expected one value, found 0\n"
     ]
    }
   ],
   "source": [
    "news_df=prep_article_data(news_df,'content')"
   ]
  },
  {
   "cell_type": "code",
   "execution_count": 24,
   "metadata": {},
   "outputs": [
    {
     "data": {
      "text/plain": [
       "headline      Bitcoin briefly drops below $30,000 for first ...\n",
       "author                                           Ridham Gambhir\n",
       "datetime                               2022-05-10T04:33:15.000Z\n",
       "category                                               business\n",
       "content       Bitcoin, in the early hours of Tuesday, fell b...\n",
       "clean         bitcoin early hours tuesday fell 30000 first t...\n",
       "stemmed       bitcoin earli hour tuesday fell 30000 first ti...\n",
       "lemmatized    bitcoin early hour tuesday fell 30000 first ti...\n",
       "Name: 0, dtype: object"
      ]
     },
     "execution_count": 24,
     "metadata": {},
     "output_type": "execute_result"
    }
   ],
   "source": [
    "news_df.loc[0]"
   ]
  },
  {
   "cell_type": "code",
   "execution_count": 15,
   "metadata": {},
   "outputs": [
    {
     "name": "stdout",
     "output_type": "stream",
     "text": [
      "Importing from csv\n"
     ]
    }
   ],
   "source": [
    "codeup_df= get_blog_articles()"
   ]
  },
  {
   "cell_type": "code",
   "execution_count": 17,
   "metadata": {},
   "outputs": [],
   "source": [
    "codeup_df=prep_article_data(codeup_df,'content')"
   ]
  },
  {
   "cell_type": "code",
   "execution_count": 19,
   "metadata": {},
   "outputs": [
    {
     "data": {
      "text/plain": [
       "title         From Bootcamp to Bootcamp | A Military Appreci...\n",
       "content       In honor of Military Appreciation Month, join ...\n",
       "clean         honor military appreciation month join us disc...\n",
       "stemmed       honor militari appreci month join us discuss c...\n",
       "lemmatized    honor military appreciation month join u discu...\n",
       "Name: 0, dtype: object"
      ]
     },
     "execution_count": 19,
     "metadata": {},
     "output_type": "execute_result"
    }
   ],
   "source": [
    "codeup_df.loc[0]"
   ]
  },
  {
   "cell_type": "markdown",
   "metadata": {},
   "source": [
    "Ask yourself:\n",
    "\n",
    "If your corpus is 493KB, would you prefer to use stemmed or lemmatized text? \n",
    "\n",
    "lemmatized\n",
    "\n",
    "If your corpus is 25MB, would you prefer to use stemmed or lemmatized text? \n",
    "\n",
    "lemmatized\n",
    "\n",
    "If your corpus is 200TB of text and you're charged by the megabyte for your hosted computational resources, would you prefer to use stemmed or lemmatized text? \n",
    "\n",
    "stemmed"
   ]
  }
 ],
 "metadata": {
  "interpreter": {
   "hash": "3067ead486e059ec00ffe7555bdb889e6e264a24dc711bf108106cc7baee8d5d"
  },
  "kernelspec": {
   "display_name": "Python 3.9.12 ('base')",
   "language": "python",
   "name": "python3"
  },
  "language_info": {
   "codemirror_mode": {
    "name": "ipython",
    "version": 3
   },
   "file_extension": ".py",
   "mimetype": "text/x-python",
   "name": "python",
   "nbconvert_exporter": "python",
   "pygments_lexer": "ipython3",
   "version": "3.9.12"
  },
  "orig_nbformat": 4
 },
 "nbformat": 4,
 "nbformat_minor": 2
}
