{
 "cells": [
  {
   "cell_type": "code",
   "execution_count": 1,
   "metadata": {},
   "outputs": [
    {
     "name": "stderr",
     "output_type": "stream",
     "text": [
      "Intel(R) Extension for Scikit-learn* enabled (https://github.com/intel/scikit-learn-intelex)\n"
     ]
    }
   ],
   "source": [
    "# current filepath system leaves plenty to be desired\n",
    "import sys\n",
    "local_path = '/Users/hinzlehome/codeup-data-science/natural-language-processing-exercises/'\n",
    "sys.path.insert(0, local_path)\n",
    "\n",
    "# imports.py in /utils/\n",
    "from utils.imports import *\n",
    "\n",
    "# plotting magic\n",
    "%matplotlib inline\n",
    "# plotting defaults\n",
    "plt.rc('figure', figsize=(16, 9))\n",
    "plt.style.use('seaborn-darkgrid')\n",
    "plt.rc('font', size=16)\n",
    "# plt.style.available\n",
    "# ^^^ show available seaborn styles\n",
    "\n",
    "# !!! Warning !!! \n",
    "# *** no more warnings ***\n",
    "# import warnings\n",
    "# warnings.filterwarnings(\"ignore\")\n",
    "\n",
    "# custom mods\n",
    "# from utils.tidy import *\n",
    "# from utils.model import *"
   ]
  },
  {
   "cell_type": "code",
   "execution_count": 2,
   "metadata": {},
   "outputs": [
    {
     "name": "stdout",
     "output_type": "stream",
     "text": [
      "aardvark starts with a vowel\n",
      "banana does not start with a vowel\n",
      "codeup does not start with a vowel\n",
      "python does not start with a vowel\n",
      "data does not start with a vowel\n",
      "science does not start with a vowel\n",
      "algorithm starts with a vowel\n"
     ]
    }
   ],
   "source": [
    "def is_vowel(word):\n",
    "    regexp = r'^[aeiouAEIOU]\\w+'\n",
    "    return re.search(regexp, word)\n",
    "\n",
    "words = 'aardvark banana codeup python data science algorithm'\n",
    "\n",
    "# [(word, startswith_vowel(word)) for word in words.split()]\n",
    "\n",
    "for word in words.split():\n",
    "    if is_vowel(word):\n",
    "        print(f'{word} starts with a vowel')\n",
    "    else:\n",
    "        print(f'{word} does not start with a vowel')"
   ]
  },
  {
   "cell_type": "code",
   "execution_count": 3,
   "metadata": {},
   "outputs": [],
   "source": [
    "# regex=r'[^.{1,32}$]'\n",
    "\n",
    "regex=r'^[a-z][a-z0-9_]{0,31}$'\n"
   ]
  },
  {
   "cell_type": "code",
   "execution_count": 4,
   "metadata": {},
   "outputs": [
    {
     "data": {
      "text/plain": [
       "['a12aa1aasasasa_asasaaaa']"
      ]
     },
     "execution_count": 4,
     "metadata": {},
     "output_type": "execute_result"
    }
   ],
   "source": [
    "word='a12aa1aasasasa_asasaaaa'\n",
    "\n",
    "re.findall(regex, word)"
   ]
  },
  {
   "cell_type": "code",
   "execution_count": 5,
   "metadata": {},
   "outputs": [
    {
     "name": "stdout",
     "output_type": "stream",
     "text": [
      "False\n",
      "True\n",
      "False\n",
      "False\n",
      "True\n",
      "True\n",
      "True\n",
      "False\n",
      "True\n",
      "False\n",
      "True\n",
      "False\n"
     ]
    }
   ],
   "source": [
    "def is_valid_username(word):  \n",
    "    \n",
    "    regexp = r'^[a-z][a-z0-9_]{0,31}$'\n",
    "    return re.findall(regexp, word)\n",
    "\n",
    "words = 'aardVark bana_na Codeu_p pytHon d_1ata science algorithm aaaaaaaaaaaaaaaaaaaaaaaaaaaaaaaaa codeup Codeup codeup123 1codeup'\n",
    "\n",
    "# [(word, startswith_vowel(word)) for word in words.split()]\n",
    "\n",
    "for word in words.split():\n",
    "    if is_valid_username(word):\n",
    "        print(f'True')\n",
    "    else:\n",
    "        print(f'False')"
   ]
  },
  {
   "cell_type": "code",
   "execution_count": 6,
   "metadata": {},
   "outputs": [],
   "source": [
    "word=\"(210) 867 5309\""
   ]
  },
  {
   "cell_type": "code",
   "execution_count": 7,
   "metadata": {},
   "outputs": [],
   "source": [
    "word=\"+1 210.867.5309\"\n"
   ]
  },
  {
   "cell_type": "code",
   "execution_count": 8,
   "metadata": {},
   "outputs": [],
   "source": [
    "word='867-5309'\n"
   ]
  },
  {
   "cell_type": "code",
   "execution_count": 9,
   "metadata": {},
   "outputs": [],
   "source": [
    "word=\"210-867-5309\""
   ]
  },
  {
   "cell_type": "code",
   "execution_count": 10,
   "metadata": {},
   "outputs": [],
   "source": [
    "regex=r'\\D*?(\\d{3})?\\D*?\\d{3}\\D*?\\d{4}'\n",
    "\n",
    "# regex=r'^[a-z][a-z0-9_]{0,31}$'\n"
   ]
  },
  {
   "cell_type": "code",
   "execution_count": 11,
   "metadata": {},
   "outputs": [
    {
     "data": {
      "text/plain": [
       "<re.Match object; span=(0, 12), match='210-867-5309'>"
      ]
     },
     "execution_count": 11,
     "metadata": {},
     "output_type": "execute_result"
    }
   ],
   "source": [
    "re.search(regex, word)"
   ]
  },
  {
   "cell_type": "code",
   "execution_count": 12,
   "metadata": {},
   "outputs": [
    {
     "data": {
      "text/plain": [
       "0    02/04/19\n",
       "1    02/05/19\n",
       "2    02/06/19\n",
       "3    02/07/19\n",
       "4    02/08/19\n",
       "5    02/09/19\n",
       "6    02/10/19\n",
       "dtype: object"
      ]
     },
     "execution_count": 12,
     "metadata": {},
     "output_type": "execute_result"
    }
   ],
   "source": [
    "dates = pd.Series([\n",
    "\t\"02/04/19\",\n",
    "\t\"02/05/19\",\n",
    "\t\"02/06/19\",\n",
    "\t\"02/07/19\",\n",
    "\t\"02/08/19\",\n",
    "\t\"02/09/19\",\n",
    "\t\"02/10/19\",\n",
    "\n",
    "\t])\n",
    "dates"
   ]
  },
  {
   "cell_type": "code",
   "execution_count": 13,
   "metadata": {},
   "outputs": [
    {
     "data": {
      "text/plain": [
       "0    19/02/04\n",
       "1    19/02/05\n",
       "2    19/02/06\n",
       "3    19/02/07\n",
       "4    19/02/08\n",
       "5    19/02/09\n",
       "6    19/02/10\n",
       "dtype: object"
      ]
     },
     "execution_count": 13,
     "metadata": {},
     "output_type": "execute_result"
    }
   ],
   "source": [
    "\n",
    "dates.str.replace(r'(\\d{2})/(\\d{2})/(\\d{2})', r'\\3/\\1/\\2', regex=True)"
   ]
  },
  {
   "cell_type": "code",
   "execution_count": 14,
   "metadata": {},
   "outputs": [],
   "source": [
    "word='''\n",
    "GET /api/v1/sales?page=86 [16/Apr/2019:193452+0000] HTTP/1.1 {200} 510348 \"python-requests/2.21.0\" 97.105.19.58\n",
    "POST /users_accounts/file-upload [16/Apr/2019:193452+0000] HTTP/1.1 {201} 42 \"User-Agent: Mozilla/5.0 (X11; Fedora; Fedora; Linux x86_64) AppleWebKit/537.36 (KHTML, like Gecko) Chrome/73.0.3683.86 Safari/537.36\" 97.105.19.58\n",
    "GET /api/v1/items?page=3 [16/Apr/2019:193453+0000] HTTP/1.1 {429} 3561 \"python-requests/2.21.0\" 97.105.19.58\n",
    "'''"
   ]
  },
  {
   "cell_type": "code",
   "execution_count": 28,
   "metadata": {},
   "outputs": [],
   "source": [
    "regex=r'(?P<method>[A-Z]+)\\s(?P<path>.*?)\\s(?P<timestamp>.*?)\\s(.*?)\\s(.*?)\\s(.*?)\\s(.*?)\\s(.*?)\\s'\n",
    "# \\[(?P<timestamp>.*?)\\]'\n",
    "\n",
    "# regex=r'(?P<ip>.*?)\\s.*?\\[(?P<timestamp>.*?)\\]\\s+\n",
    "# \"(?P<method>[A-Z]+)\\s(?P<path>.*?)\\sHTTP/1.1\"\\s(?P<status>\\d+)\\s(?P<bytes_sent>\\d+)\\s\"\n",
    "# (?P<referrer>.*?)\"\\s\"(?P<user_agent>.*?)\"'"
   ]
  },
  {
   "cell_type": "code",
   "execution_count": 30,
   "metadata": {},
   "outputs": [
    {
     "data": {
      "text/plain": [
       "[('GET',\n",
       "  '/api/v1/sales?page=86',\n",
       "  '[16/Apr/2019:193452+0000]',\n",
       "  'HTTP/1.1',\n",
       "  '{200}',\n",
       "  '510348',\n",
       "  '\"python-requests/2.21.0\"',\n",
       "  '97.105.19.58'),\n",
       " ('POST',\n",
       "  '/users_accounts/file-upload',\n",
       "  '[16/Apr/2019:193452+0000]',\n",
       "  'HTTP/1.1',\n",
       "  '{201}',\n",
       "  '42',\n",
       "  '\"User-Agent:',\n",
       "  'Mozilla/5.0'),\n",
       " ('GET',\n",
       "  '/api/v1/items?page=3',\n",
       "  '[16/Apr/2019:193453+0000]',\n",
       "  'HTTP/1.1',\n",
       "  '{429}',\n",
       "  '3561',\n",
       "  '\"python-requests/2.21.0\"',\n",
       "  '97.105.19.58')]"
      ]
     },
     "execution_count": 30,
     "metadata": {},
     "output_type": "execute_result"
    }
   ],
   "source": [
    "re.findall(regex, word)"
   ]
  }
 ],
 "metadata": {
  "interpreter": {
   "hash": "3067ead486e059ec00ffe7555bdb889e6e264a24dc711bf108106cc7baee8d5d"
  },
  "kernelspec": {
   "display_name": "Python 3.9.12 ('base')",
   "language": "python",
   "name": "python3"
  },
  "language_info": {
   "codemirror_mode": {
    "name": "ipython",
    "version": 3
   },
   "file_extension": ".py",
   "mimetype": "text/x-python",
   "name": "python",
   "nbconvert_exporter": "python",
   "pygments_lexer": "ipython3",
   "version": "3.9.12"
  },
  "orig_nbformat": 4
 },
 "nbformat": 4,
 "nbformat_minor": 2
}
