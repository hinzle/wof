{
 "cells": [
  {
   "cell_type": "markdown",
   "metadata": {},
   "source": [
    "# Import"
   ]
  },
  {
   "cell_type": "code",
   "execution_count": 1,
   "metadata": {},
   "outputs": [],
   "source": [
    "import numpy as np\n",
    "import pandas as pd\n",
    "import matplotlib.pyplot as plt\n",
    "\n",
    "np.random.seed(123)"
   ]
  },
  {
   "cell_type": "markdown",
   "metadata": {},
   "source": [
    "# numpy.random"
   ]
  },
  {
   "cell_type": "markdown",
   "metadata": {},
   "source": [
    "## np.random.choice"
   ]
  },
  {
   "cell_type": "code",
   "execution_count": 2,
   "metadata": {},
   "outputs": [
    {
     "data": {
      "text/plain": [
       "'h'"
      ]
     },
     "execution_count": 2,
     "metadata": {},
     "output_type": "execute_result"
    }
   ],
   "source": [
    "# selects random options from a list\n",
    "\n",
    "np.random.choice(['h','t'])"
   ]
  },
  {
   "cell_type": "code",
   "execution_count": 3,
   "metadata": {},
   "outputs": [
    {
     "data": {
      "text/plain": [
       "array([['t', 'h', 't', 't', 'h'],\n",
       "       ['t', 'h', 't', 'h', 'h'],\n",
       "       ['t', 'h', 'h', 't', 't'],\n",
       "       ['t', 'h', 'h', 't', 'h'],\n",
       "       ['h', 'h', 't', 'h', 'h'],\n",
       "       ['t', 'h', 'h', 't', 't'],\n",
       "       ['t', 'h', 'h', 'h', 'h'],\n",
       "       ['t', 't', 't', 't', 'h'],\n",
       "       ['t', 'h', 'h', 't', 't'],\n",
       "       ['h', 'h', 'h', 'h', 't'],\n",
       "       ['h', 't', 'h', 'h', 'h'],\n",
       "       ['h', 't', 't', 'h', 'h'],\n",
       "       ['h', 't', 'h', 't', 'h'],\n",
       "       ['h', 't', 'h', 'h', 'h'],\n",
       "       ['t', 'h', 't', 't', 'h'],\n",
       "       ['h', 't', 'h', 't', 'h'],\n",
       "       ['t', 't', 'h', 'h', 't'],\n",
       "       ['t', 'h', 'h', 'h', 't'],\n",
       "       ['t', 'h', 't', 'h', 'h'],\n",
       "       ['t', 'h', 't', 'h', 't'],\n",
       "       ['h', 't', 'h', 't', 'h'],\n",
       "       ['h', 'h', 't', 't', 't'],\n",
       "       ['t', 't', 'h', 'h', 'h'],\n",
       "       ['t', 't', 'h', 't', 't'],\n",
       "       ['h', 't', 'h', 'h', 'h'],\n",
       "       ['t', 't', 't', 'h', 't'],\n",
       "       ['t', 'h', 't', 'h', 't'],\n",
       "       ['h', 'h', 't', 't', 'h'],\n",
       "       ['h', 't', 'h', 'h', 'h'],\n",
       "       ['h', 't', 'h', 'h', 'h'],\n",
       "       ['t', 't', 't', 't', 'h'],\n",
       "       ['h', 'h', 't', 'h', 'h'],\n",
       "       ['h', 't', 'h', 't', 't'],\n",
       "       ['h', 'h', 'h', 'h', 'h'],\n",
       "       ['h', 't', 'h', 't', 't'],\n",
       "       ['h', 'h', 't', 'h', 't'],\n",
       "       ['h', 'h', 'h', 'h', 't'],\n",
       "       ['t', 't', 'h', 't', 'h'],\n",
       "       ['h', 'h', 't', 't', 't'],\n",
       "       ['h', 't', 'h', 't', 't'],\n",
       "       ['h', 'h', 't', 't', 't'],\n",
       "       ['t', 'h', 'h', 't', 'h'],\n",
       "       ['h', 'h', 'h', 't', 'h'],\n",
       "       ['t', 't', 't', 't', 't'],\n",
       "       ['h', 'h', 'h', 't', 't'],\n",
       "       ['t', 'h', 'h', 't', 'h'],\n",
       "       ['h', 'h', 'h', 'h', 'h'],\n",
       "       ['h', 'h', 't', 't', 't'],\n",
       "       ['h', 't', 'h', 'h', 'h'],\n",
       "       ['t', 'h', 'h', 'h', 't'],\n",
       "       ['h', 't', 'h', 't', 't'],\n",
       "       ['t', 't', 't', 't', 'h'],\n",
       "       ['h', 't', 'h', 't', 'h'],\n",
       "       ['t', 't', 't', 'h', 't'],\n",
       "       ['h', 't', 't', 'h', 'h'],\n",
       "       ['t', 'h', 'h', 'h', 't'],\n",
       "       ['t', 't', 'h', 't', 't'],\n",
       "       ['h', 't', 't', 'h', 't'],\n",
       "       ['t', 't', 'h', 'h', 't'],\n",
       "       ['t', 'h', 'h', 't', 'h'],\n",
       "       ['t', 'h', 't', 'h', 'h'],\n",
       "       ['t', 'h', 't', 't', 't'],\n",
       "       ['h', 'h', 'h', 't', 'h'],\n",
       "       ['h', 'h', 't', 'h', 't'],\n",
       "       ['h', 't', 't', 'h', 't'],\n",
       "       ['t', 't', 't', 'h', 'h'],\n",
       "       ['t', 't', 't', 't', 'h'],\n",
       "       ['t', 'h', 'h', 'h', 'h'],\n",
       "       ['h', 't', 'h', 't', 'h'],\n",
       "       ['h', 'h', 'h', 't', 't'],\n",
       "       ['h', 't', 't', 't', 't'],\n",
       "       ['t', 'h', 't', 't', 'h'],\n",
       "       ['t', 't', 't', 't', 'h'],\n",
       "       ['t', 't', 't', 't', 'h'],\n",
       "       ['t', 'h', 'h', 't', 'h'],\n",
       "       ['h', 'h', 't', 't', 'h'],\n",
       "       ['h', 't', 't', 'h', 'h'],\n",
       "       ['t', 'h', 'h', 'h', 'h'],\n",
       "       ['t', 'h', 'h', 'h', 't'],\n",
       "       ['t', 'h', 't', 'h', 't'],\n",
       "       ['h', 'h', 'h', 'h', 'h'],\n",
       "       ['t', 't', 'h', 't', 't'],\n",
       "       ['h', 'h', 't', 't', 'h'],\n",
       "       ['t', 'h', 't', 'h', 'h'],\n",
       "       ['h', 't', 'h', 't', 't'],\n",
       "       ['t', 'h', 't', 't', 't'],\n",
       "       ['h', 'h', 't', 'h', 't'],\n",
       "       ['h', 'h', 'h', 't', 't'],\n",
       "       ['h', 't', 't', 'h', 'h'],\n",
       "       ['t', 't', 'h', 'h', 't'],\n",
       "       ['t', 'h', 'h', 't', 'h'],\n",
       "       ['h', 't', 'h', 't', 'h'],\n",
       "       ['h', 't', 't', 'h', 'h'],\n",
       "       ['h', 'h', 't', 'h', 't'],\n",
       "       ['h', 'h', 't', 't', 't'],\n",
       "       ['t', 't', 'h', 't', 'h'],\n",
       "       ['h', 'h', 't', 't', 'h'],\n",
       "       ['t', 't', 'h', 't', 't'],\n",
       "       ['h', 't', 'h', 'h', 't'],\n",
       "       ['h', 'h', 'h', 't', 't']], dtype='<U1')"
      ]
     },
     "execution_count": 3,
     "metadata": {},
     "output_type": "execute_result"
    }
   ],
   "source": [
    "# selects random options from a list, where p=[,] is the odds for each entry in the list\n",
    "\n",
    "np.random.choice(['h','t'], p=[0.5,0.5],size=(10**2,5))"
   ]
  },
  {
   "cell_type": "markdown",
   "metadata": {},
   "source": [
    "## np.random.uniform"
   ]
  },
  {
   "cell_type": "code",
   "execution_count": 4,
   "metadata": {},
   "outputs": [
    {
     "data": {
      "text/plain": [
       "93.80444768220116"
      ]
     },
     "execution_count": 4,
     "metadata": {},
     "output_type": "execute_result"
    }
   ],
   "source": [
    "# generates numbers between a given lower and upper bound\n",
    "\n",
    "np.random.uniform(89,115)"
   ]
  },
  {
   "cell_type": "markdown",
   "metadata": {},
   "source": [
    "## np.random.random"
   ]
  },
  {
   "cell_type": "code",
   "execution_count": 5,
   "metadata": {},
   "outputs": [
    {
     "data": {
      "text/plain": [
       "0.10603525378963385"
      ]
     },
     "execution_count": 5,
     "metadata": {},
     "output_type": "execute_result"
    }
   ],
   "source": [
    "# generates numbers between 0 and 1\n",
    "\n",
    "# np.random.random()\n",
    "np.random.rand()"
   ]
  },
  {
   "cell_type": "markdown",
   "metadata": {},
   "source": [
    "## np.random.randn"
   ]
  },
  {
   "cell_type": "code",
   "execution_count": 6,
   "metadata": {},
   "outputs": [
    {
     "data": {
      "text/plain": [
       "0.8024685296970248"
      ]
     },
     "execution_count": 6,
     "metadata": {},
     "output_type": "execute_result"
    }
   ],
   "source": [
    "# generates numbers from the standard normal distribution\n",
    "\n",
    "np.random.randn()"
   ]
  },
  {
   "cell_type": "markdown",
   "metadata": {},
   "source": [
    "## np.random.normal"
   ]
  },
  {
   "cell_type": "code",
   "execution_count": 7,
   "metadata": {},
   "outputs": [
    {
     "data": {
      "text/plain": [
       "8.482201264744846"
      ]
     },
     "execution_count": 7,
     "metadata": {},
     "output_type": "execute_result"
    }
   ],
   "source": [
    "# generates numbers from a normal distribution with a specified mean and standard deviation\n",
    "\n",
    "mean=8\n",
    "std_dev=0.75\n",
    "np.random.normal(mean, std_dev)"
   ]
  },
  {
   "cell_type": "markdown",
   "metadata": {},
   "source": [
    "## np.random.randint"
   ]
  },
  {
   "cell_type": "code",
   "execution_count": 8,
   "metadata": {},
   "outputs": [
    {
     "data": {
      "text/plain": [
       "2"
      ]
     },
     "execution_count": 8,
     "metadata": {},
     "output_type": "execute_result"
    }
   ],
   "source": [
    "np.random.randint(1, 366)"
   ]
  },
  {
   "cell_type": "markdown",
   "metadata": {},
   "source": [
    "# Exercises"
   ]
  },
  {
   "cell_type": "markdown",
   "metadata": {},
   "source": [
    "## 1"
   ]
  },
  {
   "cell_type": "code",
   "execution_count": 9,
   "metadata": {},
   "outputs": [
    {
     "data": {
      "text/html": [
       "<div>\n",
       "<style scoped>\n",
       "    .dataframe tbody tr th:only-of-type {\n",
       "        vertical-align: middle;\n",
       "    }\n",
       "\n",
       "    .dataframe tbody tr th {\n",
       "        vertical-align: top;\n",
       "    }\n",
       "\n",
       "    .dataframe thead th {\n",
       "        text-align: right;\n",
       "    }\n",
       "</style>\n",
       "<table border=\"1\" class=\"dataframe\">\n",
       "  <thead>\n",
       "    <tr style=\"text-align: right;\">\n",
       "      <th></th>\n",
       "      <th>0</th>\n",
       "      <th>1</th>\n",
       "    </tr>\n",
       "  </thead>\n",
       "  <tbody>\n",
       "    <tr>\n",
       "      <th>0</th>\n",
       "      <td>2</td>\n",
       "      <td>4</td>\n",
       "    </tr>\n",
       "    <tr>\n",
       "      <th>1</th>\n",
       "      <td>3</td>\n",
       "      <td>4</td>\n",
       "    </tr>\n",
       "    <tr>\n",
       "      <th>2</th>\n",
       "      <td>1</td>\n",
       "      <td>3</td>\n",
       "    </tr>\n",
       "    <tr>\n",
       "      <th>3</th>\n",
       "      <td>1</td>\n",
       "      <td>4</td>\n",
       "    </tr>\n",
       "    <tr>\n",
       "      <th>4</th>\n",
       "      <td>4</td>\n",
       "      <td>2</td>\n",
       "    </tr>\n",
       "  </tbody>\n",
       "</table>\n",
       "</div>"
      ],
      "text/plain": [
       "   0  1\n",
       "0  2  4\n",
       "1  3  4\n",
       "2  1  3\n",
       "3  1  4\n",
       "4  4  2"
      ]
     },
     "execution_count": 9,
     "metadata": {},
     "output_type": "execute_result"
    }
   ],
   "source": [
    "rolls = pd.DataFrame(np.random.randint(1, 7, size=(10000, 2)))\n",
    "rolls.head()"
   ]
  },
  {
   "cell_type": "markdown",
   "metadata": {},
   "source": [
    "How likely is it that you roll doubles when rolling two dice?\n",
    "\n"
   ]
  },
  {
   "cell_type": "code",
   "execution_count": 10,
   "metadata": {},
   "outputs": [
    {
     "data": {
      "text/plain": [
       "0.1658"
      ]
     },
     "execution_count": 10,
     "metadata": {},
     "output_type": "execute_result"
    }
   ],
   "source": [
    "doubles = rolls.apply(lambda row: row.values[0]==row.values[1], axis=1)\n",
    "doubles.mean()"
   ]
  },
  {
   "cell_type": "markdown",
   "metadata": {},
   "source": [
    "## 2"
   ]
  },
  {
   "cell_type": "code",
   "execution_count": 11,
   "metadata": {},
   "outputs": [
    {
     "data": {
      "text/html": [
       "<div>\n",
       "<style scoped>\n",
       "    .dataframe tbody tr th:only-of-type {\n",
       "        vertical-align: middle;\n",
       "    }\n",
       "\n",
       "    .dataframe tbody tr th {\n",
       "        vertical-align: top;\n",
       "    }\n",
       "\n",
       "    .dataframe thead th {\n",
       "        text-align: right;\n",
       "    }\n",
       "</style>\n",
       "<table border=\"1\" class=\"dataframe\">\n",
       "  <thead>\n",
       "    <tr style=\"text-align: right;\">\n",
       "      <th></th>\n",
       "      <th>0</th>\n",
       "      <th>1</th>\n",
       "      <th>2</th>\n",
       "      <th>3</th>\n",
       "      <th>4</th>\n",
       "      <th>5</th>\n",
       "      <th>6</th>\n",
       "      <th>7</th>\n",
       "    </tr>\n",
       "  </thead>\n",
       "  <tbody>\n",
       "    <tr>\n",
       "      <th>7019</th>\n",
       "      <td>1</td>\n",
       "      <td>0</td>\n",
       "      <td>0</td>\n",
       "      <td>0</td>\n",
       "      <td>1</td>\n",
       "      <td>0</td>\n",
       "      <td>1</td>\n",
       "      <td>0</td>\n",
       "    </tr>\n",
       "    <tr>\n",
       "      <th>7027</th>\n",
       "      <td>0</td>\n",
       "      <td>0</td>\n",
       "      <td>0</td>\n",
       "      <td>1</td>\n",
       "      <td>0</td>\n",
       "      <td>1</td>\n",
       "      <td>1</td>\n",
       "      <td>0</td>\n",
       "    </tr>\n",
       "    <tr>\n",
       "      <th>9026</th>\n",
       "      <td>0</td>\n",
       "      <td>1</td>\n",
       "      <td>0</td>\n",
       "      <td>1</td>\n",
       "      <td>0</td>\n",
       "      <td>1</td>\n",
       "      <td>1</td>\n",
       "      <td>0</td>\n",
       "    </tr>\n",
       "    <tr>\n",
       "      <th>1123</th>\n",
       "      <td>1</td>\n",
       "      <td>0</td>\n",
       "      <td>0</td>\n",
       "      <td>1</td>\n",
       "      <td>1</td>\n",
       "      <td>1</td>\n",
       "      <td>0</td>\n",
       "      <td>1</td>\n",
       "    </tr>\n",
       "    <tr>\n",
       "      <th>6480</th>\n",
       "      <td>0</td>\n",
       "      <td>1</td>\n",
       "      <td>0</td>\n",
       "      <td>1</td>\n",
       "      <td>1</td>\n",
       "      <td>0</td>\n",
       "      <td>0</td>\n",
       "      <td>0</td>\n",
       "    </tr>\n",
       "    <tr>\n",
       "      <th>8326</th>\n",
       "      <td>0</td>\n",
       "      <td>0</td>\n",
       "      <td>0</td>\n",
       "      <td>1</td>\n",
       "      <td>0</td>\n",
       "      <td>1</td>\n",
       "      <td>0</td>\n",
       "      <td>0</td>\n",
       "    </tr>\n",
       "    <tr>\n",
       "      <th>6235</th>\n",
       "      <td>1</td>\n",
       "      <td>1</td>\n",
       "      <td>0</td>\n",
       "      <td>1</td>\n",
       "      <td>1</td>\n",
       "      <td>0</td>\n",
       "      <td>1</td>\n",
       "      <td>0</td>\n",
       "    </tr>\n",
       "    <tr>\n",
       "      <th>5911</th>\n",
       "      <td>0</td>\n",
       "      <td>1</td>\n",
       "      <td>0</td>\n",
       "      <td>1</td>\n",
       "      <td>0</td>\n",
       "      <td>0</td>\n",
       "      <td>1</td>\n",
       "      <td>1</td>\n",
       "    </tr>\n",
       "    <tr>\n",
       "      <th>5446</th>\n",
       "      <td>0</td>\n",
       "      <td>1</td>\n",
       "      <td>1</td>\n",
       "      <td>1</td>\n",
       "      <td>1</td>\n",
       "      <td>0</td>\n",
       "      <td>1</td>\n",
       "      <td>0</td>\n",
       "    </tr>\n",
       "    <tr>\n",
       "      <th>803</th>\n",
       "      <td>1</td>\n",
       "      <td>0</td>\n",
       "      <td>0</td>\n",
       "      <td>0</td>\n",
       "      <td>0</td>\n",
       "      <td>1</td>\n",
       "      <td>0</td>\n",
       "      <td>0</td>\n",
       "    </tr>\n",
       "  </tbody>\n",
       "</table>\n",
       "</div>"
      ],
      "text/plain": [
       "      0  1  2  3  4  5  6  7\n",
       "7019  1  0  0  0  1  0  1  0\n",
       "7027  0  0  0  1  0  1  1  0\n",
       "9026  0  1  0  1  0  1  1  0\n",
       "1123  1  0  0  1  1  1  0  1\n",
       "6480  0  1  0  1  1  0  0  0\n",
       "8326  0  0  0  1  0  1  0  0\n",
       "6235  1  1  0  1  1  0  1  0\n",
       "5911  0  1  0  1  0  0  1  1\n",
       "5446  0  1  1  1  1  0  1  0\n",
       "803   1  0  0  0  0  1  0  0"
      ]
     },
     "execution_count": 11,
     "metadata": {},
     "output_type": "execute_result"
    }
   ],
   "source": [
    "rolls = pd.DataFrame(np.random.randint(2, size=(10000, 8)))\n",
    "rolls.sample(10)"
   ]
  },
  {
   "cell_type": "markdown",
   "metadata": {},
   "source": [
    "3 heads"
   ]
  },
  {
   "cell_type": "code",
   "execution_count": 12,
   "metadata": {},
   "outputs": [
    {
     "data": {
      "text/plain": [
       "0.2251"
      ]
     },
     "execution_count": 12,
     "metadata": {},
     "output_type": "execute_result"
    }
   ],
   "source": [
    "(rolls.sum(axis=1)==3).mean()"
   ]
  },
  {
   "cell_type": "markdown",
   "metadata": {},
   "source": [
    "\\> 3 heads"
   ]
  },
  {
   "cell_type": "code",
   "execution_count": 13,
   "metadata": {},
   "outputs": [
    {
     "data": {
      "text/plain": [
       "0.6327"
      ]
     },
     "execution_count": 13,
     "metadata": {},
     "output_type": "execute_result"
    }
   ],
   "source": [
    "(rolls.sum(axis=1)>3).mean()"
   ]
  },
  {
   "cell_type": "markdown",
   "metadata": {},
   "source": [
    "## 3"
   ]
  },
  {
   "cell_type": "code",
   "execution_count": 14,
   "metadata": {},
   "outputs": [
    {
     "data": {
      "text/html": [
       "<div>\n",
       "<style scoped>\n",
       "    .dataframe tbody tr th:only-of-type {\n",
       "        vertical-align: middle;\n",
       "    }\n",
       "\n",
       "    .dataframe tbody tr th {\n",
       "        vertical-align: top;\n",
       "    }\n",
       "\n",
       "    .dataframe thead th {\n",
       "        text-align: right;\n",
       "    }\n",
       "</style>\n",
       "<table border=\"1\" class=\"dataframe\">\n",
       "  <thead>\n",
       "    <tr style=\"text-align: right;\">\n",
       "      <th></th>\n",
       "      <th>0</th>\n",
       "      <th>1</th>\n",
       "    </tr>\n",
       "  </thead>\n",
       "  <tbody>\n",
       "    <tr>\n",
       "      <th>0</th>\n",
       "      <td>web</td>\n",
       "      <td>web</td>\n",
       "    </tr>\n",
       "    <tr>\n",
       "      <th>1</th>\n",
       "      <td>web</td>\n",
       "      <td>web</td>\n",
       "    </tr>\n",
       "    <tr>\n",
       "      <th>2</th>\n",
       "      <td>web</td>\n",
       "      <td>web</td>\n",
       "    </tr>\n",
       "    <tr>\n",
       "      <th>3</th>\n",
       "      <td>data</td>\n",
       "      <td>data</td>\n",
       "    </tr>\n",
       "    <tr>\n",
       "      <th>4</th>\n",
       "      <td>web</td>\n",
       "      <td>web</td>\n",
       "    </tr>\n",
       "  </tbody>\n",
       "</table>\n",
       "</div>"
      ],
      "text/plain": [
       "      0     1\n",
       "0   web   web\n",
       "1   web   web\n",
       "2   web   web\n",
       "3  data  data\n",
       "4   web   web"
      ]
     },
     "execution_count": 14,
     "metadata": {},
     "output_type": "execute_result"
    }
   ],
   "source": [
    "boards = pd.DataFrame(np.random.choice(['data', 'web', 'web', 'web'], size=(10000, 2)))\n",
    "boards.head()"
   ]
  },
  {
   "cell_type": "code",
   "execution_count": 15,
   "metadata": {},
   "outputs": [
    {
     "data": {
      "text/html": [
       "<div>\n",
       "<style scoped>\n",
       "    .dataframe tbody tr th:only-of-type {\n",
       "        vertical-align: middle;\n",
       "    }\n",
       "\n",
       "    .dataframe tbody tr th {\n",
       "        vertical-align: top;\n",
       "    }\n",
       "\n",
       "    .dataframe thead th {\n",
       "        text-align: right;\n",
       "    }\n",
       "</style>\n",
       "<table border=\"1\" class=\"dataframe\">\n",
       "  <thead>\n",
       "    <tr style=\"text-align: right;\">\n",
       "      <th></th>\n",
       "      <th>0</th>\n",
       "      <th>1</th>\n",
       "    </tr>\n",
       "  </thead>\n",
       "  <tbody>\n",
       "    <tr>\n",
       "      <th>0</th>\n",
       "      <td>web</td>\n",
       "      <td>web</td>\n",
       "    </tr>\n",
       "    <tr>\n",
       "      <th>1</th>\n",
       "      <td>data</td>\n",
       "      <td>web</td>\n",
       "    </tr>\n",
       "    <tr>\n",
       "      <th>2</th>\n",
       "      <td>web</td>\n",
       "      <td>web</td>\n",
       "    </tr>\n",
       "    <tr>\n",
       "      <th>3</th>\n",
       "      <td>web</td>\n",
       "      <td>data</td>\n",
       "    </tr>\n",
       "    <tr>\n",
       "      <th>4</th>\n",
       "      <td>data</td>\n",
       "      <td>data</td>\n",
       "    </tr>\n",
       "  </tbody>\n",
       "</table>\n",
       "</div>"
      ],
      "text/plain": [
       "      0     1\n",
       "0   web   web\n",
       "1  data   web\n",
       "2   web   web\n",
       "3   web  data\n",
       "4  data  data"
      ]
     },
     "execution_count": 15,
     "metadata": {},
     "output_type": "execute_result"
    }
   ],
   "source": [
    "boards = pd.DataFrame(np.random.choice(['data', 'web'],p=[0.25,0.75], size=(10000, 2)))\n",
    "boards.head()"
   ]
  },
  {
   "cell_type": "markdown",
   "metadata": {},
   "source": [
    "What are the odds that the two billboards I drive past both have data science students on them?\n",
    "\n"
   ]
  },
  {
   "cell_type": "code",
   "execution_count": 16,
   "metadata": {},
   "outputs": [
    {
     "data": {
      "text/plain": [
       "0.063"
      ]
     },
     "execution_count": 16,
     "metadata": {},
     "output_type": "execute_result"
    }
   ],
   "source": [
    "is_a_data_board=boards.apply(lambda row: row.values[0]==row.values[1]=='data', axis=1)\n",
    "is_a_data_board.mean()"
   ]
  },
  {
   "cell_type": "markdown",
   "metadata": {},
   "source": [
    "## 4"
   ]
  },
  {
   "cell_type": "markdown",
   "metadata": {},
   "source": [
    "How likely is it that I will be able to buy some poptarts on Friday afternoon?"
   ]
  },
  {
   "cell_type": "code",
   "execution_count": 17,
   "metadata": {},
   "outputs": [
    {
     "data": {
      "text/html": [
       "<div>\n",
       "<style scoped>\n",
       "    .dataframe tbody tr th:only-of-type {\n",
       "        vertical-align: middle;\n",
       "    }\n",
       "\n",
       "    .dataframe tbody tr th {\n",
       "        vertical-align: top;\n",
       "    }\n",
       "\n",
       "    .dataframe thead th {\n",
       "        text-align: right;\n",
       "    }\n",
       "</style>\n",
       "<table border=\"1\" class=\"dataframe\">\n",
       "  <thead>\n",
       "    <tr style=\"text-align: right;\">\n",
       "      <th></th>\n",
       "      <th>0</th>\n",
       "      <th>1</th>\n",
       "      <th>2</th>\n",
       "      <th>3</th>\n",
       "    </tr>\n",
       "  </thead>\n",
       "  <tbody>\n",
       "    <tr>\n",
       "      <th>0</th>\n",
       "      <td>3.836558</td>\n",
       "      <td>0.309594</td>\n",
       "      <td>1.735574</td>\n",
       "      <td>3.715802</td>\n",
       "    </tr>\n",
       "    <tr>\n",
       "      <th>1</th>\n",
       "      <td>3.108726</td>\n",
       "      <td>2.163225</td>\n",
       "      <td>2.077014</td>\n",
       "      <td>1.002633</td>\n",
       "    </tr>\n",
       "    <tr>\n",
       "      <th>2</th>\n",
       "      <td>2.052550</td>\n",
       "      <td>6.478665</td>\n",
       "      <td>2.438922</td>\n",
       "      <td>0.753673</td>\n",
       "    </tr>\n",
       "    <tr>\n",
       "      <th>3</th>\n",
       "      <td>1.826419</td>\n",
       "      <td>4.258575</td>\n",
       "      <td>3.922517</td>\n",
       "      <td>2.283408</td>\n",
       "    </tr>\n",
       "    <tr>\n",
       "      <th>4</th>\n",
       "      <td>2.929803</td>\n",
       "      <td>2.793640</td>\n",
       "      <td>1.992100</td>\n",
       "      <td>2.812075</td>\n",
       "    </tr>\n",
       "  </tbody>\n",
       "</table>\n",
       "</div>"
      ],
      "text/plain": [
       "          0         1         2         3\n",
       "0  3.836558  0.309594  1.735574  3.715802\n",
       "1  3.108726  2.163225  2.077014  1.002633\n",
       "2  2.052550  6.478665  2.438922  0.753673\n",
       "3  1.826419  4.258575  3.922517  2.283408\n",
       "4  2.929803  2.793640  1.992100  2.812075"
      ]
     },
     "execution_count": 17,
     "metadata": {},
     "output_type": "execute_result"
    }
   ],
   "source": [
    "tarts = pd.DataFrame(np.random.normal(3,1.5, size=(10000, 4)))\n",
    "tarts.head()"
   ]
  },
  {
   "cell_type": "code",
   "execution_count": 18,
   "metadata": {},
   "outputs": [
    {
     "data": {
      "text/plain": [
       "0.9524"
      ]
     },
     "execution_count": 18,
     "metadata": {},
     "output_type": "execute_result"
    }
   ],
   "source": [
    "(tarts.sum(axis=1)<17).mean()"
   ]
  },
  {
   "cell_type": "code",
   "execution_count": 19,
   "metadata": {},
   "outputs": [],
   "source": [
    "purchases= np.random.normal(3,1.5, size=(10**5,4)).round()"
   ]
  },
  {
   "cell_type": "code",
   "execution_count": 20,
   "metadata": {},
   "outputs": [],
   "source": [
    "purchases = np.where(purchases<0,0,purchases)"
   ]
  },
  {
   "cell_type": "code",
   "execution_count": 21,
   "metadata": {},
   "outputs": [
    {
     "data": {
      "text/plain": [
       "0.92907"
      ]
     },
     "execution_count": 21,
     "metadata": {},
     "output_type": "execute_result"
    }
   ],
   "source": [
    "(purchases.sum(axis=1)<=16).mean()"
   ]
  },
  {
   "cell_type": "markdown",
   "metadata": {},
   "source": [
    "## 5"
   ]
  },
  {
   "cell_type": "code",
   "execution_count": 22,
   "metadata": {},
   "outputs": [
    {
     "data": {
      "text/html": [
       "<div>\n",
       "<style scoped>\n",
       "    .dataframe tbody tr th:only-of-type {\n",
       "        vertical-align: middle;\n",
       "    }\n",
       "\n",
       "    .dataframe tbody tr th {\n",
       "        vertical-align: top;\n",
       "    }\n",
       "\n",
       "    .dataframe thead th {\n",
       "        text-align: right;\n",
       "    }\n",
       "</style>\n",
       "<table border=\"1\" class=\"dataframe\">\n",
       "  <thead>\n",
       "    <tr style=\"text-align: right;\">\n",
       "      <th></th>\n",
       "      <th>0</th>\n",
       "    </tr>\n",
       "  </thead>\n",
       "  <tbody>\n",
       "    <tr>\n",
       "      <th>0</th>\n",
       "      <td>175.354161</td>\n",
       "    </tr>\n",
       "    <tr>\n",
       "      <th>1</th>\n",
       "      <td>184.600235</td>\n",
       "    </tr>\n",
       "    <tr>\n",
       "      <th>2</th>\n",
       "      <td>180.922736</td>\n",
       "    </tr>\n",
       "    <tr>\n",
       "      <th>3</th>\n",
       "      <td>182.115921</td>\n",
       "    </tr>\n",
       "    <tr>\n",
       "      <th>4</th>\n",
       "      <td>174.242147</td>\n",
       "    </tr>\n",
       "  </tbody>\n",
       "</table>\n",
       "</div>"
      ],
      "text/plain": [
       "            0\n",
       "0  175.354161\n",
       "1  184.600235\n",
       "2  180.922736\n",
       "3  182.115921\n",
       "4  174.242147"
      ]
     },
     "execution_count": 22,
     "metadata": {},
     "output_type": "execute_result"
    }
   ],
   "source": [
    "men = pd.DataFrame(np.random.normal(178,8, size=(10000)))\n",
    "men.head()"
   ]
  },
  {
   "cell_type": "code",
   "execution_count": 23,
   "metadata": {},
   "outputs": [
    {
     "data": {
      "text/html": [
       "<div>\n",
       "<style scoped>\n",
       "    .dataframe tbody tr th:only-of-type {\n",
       "        vertical-align: middle;\n",
       "    }\n",
       "\n",
       "    .dataframe tbody tr th {\n",
       "        vertical-align: top;\n",
       "    }\n",
       "\n",
       "    .dataframe thead th {\n",
       "        text-align: right;\n",
       "    }\n",
       "</style>\n",
       "<table border=\"1\" class=\"dataframe\">\n",
       "  <thead>\n",
       "    <tr style=\"text-align: right;\">\n",
       "      <th></th>\n",
       "      <th>0</th>\n",
       "    </tr>\n",
       "  </thead>\n",
       "  <tbody>\n",
       "    <tr>\n",
       "      <th>0</th>\n",
       "      <td>173.733766</td>\n",
       "    </tr>\n",
       "    <tr>\n",
       "      <th>1</th>\n",
       "      <td>168.591145</td>\n",
       "    </tr>\n",
       "    <tr>\n",
       "      <th>2</th>\n",
       "      <td>172.473423</td>\n",
       "    </tr>\n",
       "    <tr>\n",
       "      <th>3</th>\n",
       "      <td>169.975794</td>\n",
       "    </tr>\n",
       "    <tr>\n",
       "      <th>4</th>\n",
       "      <td>175.708957</td>\n",
       "    </tr>\n",
       "  </tbody>\n",
       "</table>\n",
       "</div>"
      ],
      "text/plain": [
       "            0\n",
       "0  173.733766\n",
       "1  168.591145\n",
       "2  172.473423\n",
       "3  169.975794\n",
       "4  175.708957"
      ]
     },
     "execution_count": 23,
     "metadata": {},
     "output_type": "execute_result"
    }
   ],
   "source": [
    "women = pd.DataFrame(np.random.normal(170,6,size=(10000)))\n",
    "women.head()"
   ]
  },
  {
   "cell_type": "markdown",
   "metadata": {},
   "source": [
    "If a man and woman are chosen at random, P(woman taller than man)?"
   ]
  },
  {
   "cell_type": "code",
   "execution_count": 24,
   "metadata": {},
   "outputs": [
    {
     "data": {
      "text/plain": [
       "0    0.2059\n",
       "dtype: float64"
      ]
     },
     "execution_count": 24,
     "metadata": {},
     "output_type": "execute_result"
    }
   ],
   "source": [
    "taller = women>men\n",
    "taller.mean()"
   ]
  },
  {
   "cell_type": "markdown",
   "metadata": {},
   "source": [
    "## 6"
   ]
  },
  {
   "cell_type": "code",
   "execution_count": 25,
   "metadata": {},
   "outputs": [],
   "source": [
    "def corrupted(dls):\n",
    "\tinstalls= pd.DataFrame(np.random.choice(\n",
    "\t\t[True,False],\n",
    "\t\tp=[1/250, 249/250],\n",
    "\t\tsize =(10**5,dls)\n",
    "\t\t))\n",
    "\treturn (installs.sum(axis=1)==0).mean()\n",
    "\t \n"
   ]
  },
  {
   "cell_type": "markdown",
   "metadata": {},
   "source": [
    "What are the odds that after having 50 students download anaconda, no one has an installation issue?"
   ]
  },
  {
   "cell_type": "code",
   "execution_count": 26,
   "metadata": {},
   "outputs": [
    {
     "data": {
      "text/plain": [
       "0.81985"
      ]
     },
     "execution_count": 26,
     "metadata": {},
     "output_type": "execute_result"
    }
   ],
   "source": [
    "downloads_50 = corrupted(50)\n",
    "downloads_50"
   ]
  },
  {
   "cell_type": "markdown",
   "metadata": {},
   "source": [
    "What are the odds that after having 100 students download anaconda, no one has an installation issue?"
   ]
  },
  {
   "cell_type": "code",
   "execution_count": 27,
   "metadata": {},
   "outputs": [
    {
     "data": {
      "text/plain": [
       "0.66887"
      ]
     },
     "execution_count": 27,
     "metadata": {},
     "output_type": "execute_result"
    }
   ],
   "source": [
    "downloads_100 = corrupted(100)\n",
    "downloads_100"
   ]
  },
  {
   "cell_type": "code",
   "execution_count": 28,
   "metadata": {},
   "outputs": [
    {
     "data": {
      "text/html": [
       "<div>\n",
       "<style scoped>\n",
       "    .dataframe tbody tr th:only-of-type {\n",
       "        vertical-align: middle;\n",
       "    }\n",
       "\n",
       "    .dataframe tbody tr th {\n",
       "        vertical-align: top;\n",
       "    }\n",
       "\n",
       "    .dataframe thead th {\n",
       "        text-align: right;\n",
       "    }\n",
       "</style>\n",
       "<table border=\"1\" class=\"dataframe\">\n",
       "  <thead>\n",
       "    <tr style=\"text-align: right;\">\n",
       "      <th></th>\n",
       "      <th>0</th>\n",
       "    </tr>\n",
       "  </thead>\n",
       "  <tbody>\n",
       "    <tr>\n",
       "      <th>0</th>\n",
       "      <td>0.665555</td>\n",
       "    </tr>\n",
       "    <tr>\n",
       "      <th>1</th>\n",
       "      <td>0.869136</td>\n",
       "    </tr>\n",
       "    <tr>\n",
       "      <th>2</th>\n",
       "      <td>0.117346</td>\n",
       "    </tr>\n",
       "    <tr>\n",
       "      <th>3</th>\n",
       "      <td>0.009372</td>\n",
       "    </tr>\n",
       "    <tr>\n",
       "      <th>4</th>\n",
       "      <td>0.622547</td>\n",
       "    </tr>\n",
       "  </tbody>\n",
       "</table>\n",
       "</div>"
      ],
      "text/plain": [
       "          0\n",
       "0  0.665555\n",
       "1  0.869136\n",
       "2  0.117346\n",
       "3  0.009372\n",
       "4  0.622547"
      ]
     },
     "execution_count": 28,
     "metadata": {},
     "output_type": "execute_result"
    }
   ],
   "source": [
    "installs_150 = pd.DataFrame(np.random.random(size=(150)))\n",
    "installs_150.head()"
   ]
  },
  {
   "cell_type": "markdown",
   "metadata": {},
   "source": [
    "What is the probability that we observe an installation issue within the first 150 students that download anaconda?\n",
    "\n"
   ]
  },
  {
   "cell_type": "code",
   "execution_count": 29,
   "metadata": {},
   "outputs": [
    {
     "data": {
      "text/plain": [
       "0.45143999999999995"
      ]
     },
     "execution_count": 29,
     "metadata": {},
     "output_type": "execute_result"
    }
   ],
   "source": [
    "1-corrupted(150)"
   ]
  },
  {
   "cell_type": "markdown",
   "metadata": {},
   "source": [
    "How likely is it that 450 students all download anaconda without an issue?"
   ]
  },
  {
   "cell_type": "code",
   "execution_count": 30,
   "metadata": {},
   "outputs": [
    {
     "data": {
      "text/plain": [
       "0.16445"
      ]
     },
     "execution_count": 30,
     "metadata": {},
     "output_type": "execute_result"
    }
   ],
   "source": [
    "corrupted(450)"
   ]
  },
  {
   "cell_type": "markdown",
   "metadata": {},
   "source": [
    "## 7"
   ]
  },
  {
   "cell_type": "code",
   "execution_count": 31,
   "metadata": {},
   "outputs": [],
   "source": [
    "# trucks = pd.DataFrame(np.random.random(size=(10**10)))\n",
    "# trucks.head()\n",
    "\n",
    "# this frame took 1m 27.5s to run"
   ]
  },
  {
   "cell_type": "code",
   "execution_count": 32,
   "metadata": {},
   "outputs": [
    {
     "data": {
      "text/html": [
       "<div>\n",
       "<style scoped>\n",
       "    .dataframe tbody tr th:only-of-type {\n",
       "        vertical-align: middle;\n",
       "    }\n",
       "\n",
       "    .dataframe tbody tr th {\n",
       "        vertical-align: top;\n",
       "    }\n",
       "\n",
       "    .dataframe thead th {\n",
       "        text-align: right;\n",
       "    }\n",
       "</style>\n",
       "<table border=\"1\" class=\"dataframe\">\n",
       "  <thead>\n",
       "    <tr style=\"text-align: right;\">\n",
       "      <th></th>\n",
       "      <th>0</th>\n",
       "      <th>1</th>\n",
       "      <th>2</th>\n",
       "    </tr>\n",
       "  </thead>\n",
       "  <tbody>\n",
       "    <tr>\n",
       "      <th>0</th>\n",
       "      <td>0.755801</td>\n",
       "      <td>0.191608</td>\n",
       "      <td>0.046051</td>\n",
       "    </tr>\n",
       "    <tr>\n",
       "      <th>1</th>\n",
       "      <td>0.863315</td>\n",
       "      <td>0.395434</td>\n",
       "      <td>0.452865</td>\n",
       "    </tr>\n",
       "    <tr>\n",
       "      <th>2</th>\n",
       "      <td>0.526740</td>\n",
       "      <td>0.716009</td>\n",
       "      <td>0.500243</td>\n",
       "    </tr>\n",
       "    <tr>\n",
       "      <th>3</th>\n",
       "      <td>0.234120</td>\n",
       "      <td>0.859247</td>\n",
       "      <td>0.292846</td>\n",
       "    </tr>\n",
       "    <tr>\n",
       "      <th>4</th>\n",
       "      <td>0.619772</td>\n",
       "      <td>0.418487</td>\n",
       "      <td>0.633450</td>\n",
       "    </tr>\n",
       "  </tbody>\n",
       "</table>\n",
       "</div>"
      ],
      "text/plain": [
       "          0         1         2\n",
       "0  0.755801  0.191608  0.046051\n",
       "1  0.863315  0.395434  0.452865\n",
       "2  0.526740  0.716009  0.500243\n",
       "3  0.234120  0.859247  0.292846\n",
       "4  0.619772  0.418487  0.633450"
      ]
     },
     "execution_count": 32,
     "metadata": {},
     "output_type": "execute_result"
    }
   ],
   "source": [
    "trucks = pd.DataFrame(np.random.rand(10**5,3))\n",
    "trucks.head()"
   ]
  },
  {
   "cell_type": "markdown",
   "metadata": {},
   "source": [
    "You haven't seen a food truck there in 3 days. How unlikely is this?"
   ]
  },
  {
   "cell_type": "code",
   "execution_count": 33,
   "metadata": {},
   "outputs": [
    {
     "data": {
      "text/plain": [
       "0.02726"
      ]
     },
     "execution_count": 33,
     "metadata": {},
     "output_type": "execute_result"
    }
   ],
   "source": [
    "((trucks>0.7).sum(axis=1)==3).mean()\n"
   ]
  },
  {
   "cell_type": "code",
   "execution_count": 34,
   "metadata": {},
   "outputs": [
    {
     "data": {
      "text/html": [
       "<div>\n",
       "<style scoped>\n",
       "    .dataframe tbody tr th:only-of-type {\n",
       "        vertical-align: middle;\n",
       "    }\n",
       "\n",
       "    .dataframe tbody tr th {\n",
       "        vertical-align: top;\n",
       "    }\n",
       "\n",
       "    .dataframe thead th {\n",
       "        text-align: right;\n",
       "    }\n",
       "</style>\n",
       "<table border=\"1\" class=\"dataframe\">\n",
       "  <thead>\n",
       "    <tr style=\"text-align: right;\">\n",
       "      <th></th>\n",
       "      <th>0</th>\n",
       "      <th>1</th>\n",
       "      <th>2</th>\n",
       "      <th>3</th>\n",
       "      <th>4</th>\n",
       "      <th>5</th>\n",
       "      <th>6</th>\n",
       "    </tr>\n",
       "  </thead>\n",
       "  <tbody>\n",
       "    <tr>\n",
       "      <th>0</th>\n",
       "      <td>0.915953</td>\n",
       "      <td>0.751481</td>\n",
       "      <td>0.957154</td>\n",
       "      <td>0.759187</td>\n",
       "      <td>0.304402</td>\n",
       "      <td>0.340691</td>\n",
       "      <td>0.036463</td>\n",
       "    </tr>\n",
       "    <tr>\n",
       "      <th>1</th>\n",
       "      <td>0.386371</td>\n",
       "      <td>0.365957</td>\n",
       "      <td>0.154303</td>\n",
       "      <td>0.664207</td>\n",
       "      <td>0.787171</td>\n",
       "      <td>0.118559</td>\n",
       "      <td>0.771261</td>\n",
       "    </tr>\n",
       "    <tr>\n",
       "      <th>2</th>\n",
       "      <td>0.377026</td>\n",
       "      <td>0.609773</td>\n",
       "      <td>0.069027</td>\n",
       "      <td>0.241912</td>\n",
       "      <td>0.444007</td>\n",
       "      <td>0.227020</td>\n",
       "      <td>0.173221</td>\n",
       "    </tr>\n",
       "    <tr>\n",
       "      <th>3</th>\n",
       "      <td>0.976906</td>\n",
       "      <td>0.364007</td>\n",
       "      <td>0.667013</td>\n",
       "      <td>0.599645</td>\n",
       "      <td>0.360373</td>\n",
       "      <td>0.954647</td>\n",
       "      <td>0.156337</td>\n",
       "    </tr>\n",
       "    <tr>\n",
       "      <th>4</th>\n",
       "      <td>0.511576</td>\n",
       "      <td>0.365173</td>\n",
       "      <td>0.196864</td>\n",
       "      <td>0.225769</td>\n",
       "      <td>0.703938</td>\n",
       "      <td>0.765150</td>\n",
       "      <td>0.885622</td>\n",
       "    </tr>\n",
       "  </tbody>\n",
       "</table>\n",
       "</div>"
      ],
      "text/plain": [
       "          0         1         2         3         4         5         6\n",
       "0  0.915953  0.751481  0.957154  0.759187  0.304402  0.340691  0.036463\n",
       "1  0.386371  0.365957  0.154303  0.664207  0.787171  0.118559  0.771261\n",
       "2  0.377026  0.609773  0.069027  0.241912  0.444007  0.227020  0.173221\n",
       "3  0.976906  0.364007  0.667013  0.599645  0.360373  0.954647  0.156337\n",
       "4  0.511576  0.365173  0.196864  0.225769  0.703938  0.765150  0.885622"
      ]
     },
     "execution_count": 34,
     "metadata": {},
     "output_type": "execute_result"
    }
   ],
   "source": [
    "trucks = pd.DataFrame(np.random.rand(10**5,7))\n",
    "trucks.head()"
   ]
  },
  {
   "cell_type": "markdown",
   "metadata": {},
   "source": [
    "How likely is it that a food truck will show up sometime this week?"
   ]
  },
  {
   "cell_type": "code",
   "execution_count": 35,
   "metadata": {},
   "outputs": [
    {
     "data": {
      "text/plain": [
       "0.91765"
      ]
     },
     "execution_count": 35,
     "metadata": {},
     "output_type": "execute_result"
    }
   ],
   "source": [
    "((trucks>0.7).sum(axis=1)>=1).mean()"
   ]
  },
  {
   "cell_type": "markdown",
   "metadata": {},
   "source": [
    "## 8"
   ]
  },
  {
   "cell_type": "code",
   "execution_count": 36,
   "metadata": {},
   "outputs": [],
   "source": [
    "\n",
    "def bdays(people):\n",
    "\tbdays=pd.DataFrame(np.random.randint(1,366,size=(10**4,people)))\n",
    "\tchance=((people-(bdays.nunique(axis=1)))>=1).mean()\n",
    "\treturn chance"
   ]
  },
  {
   "cell_type": "markdown",
   "metadata": {},
   "source": [
    "23 people are in the same room, what are the odds that two of them share a birthday? "
   ]
  },
  {
   "cell_type": "code",
   "execution_count": 37,
   "metadata": {},
   "outputs": [
    {
     "data": {
      "text/plain": [
       "0.5142"
      ]
     },
     "execution_count": 37,
     "metadata": {},
     "output_type": "execute_result"
    }
   ],
   "source": [
    "bdays(23)"
   ]
  },
  {
   "cell_type": "markdown",
   "metadata": {},
   "source": [
    "What if it's 20 people?"
   ]
  },
  {
   "cell_type": "code",
   "execution_count": 38,
   "metadata": {},
   "outputs": [
    {
     "data": {
      "text/plain": [
       "0.4047"
      ]
     },
     "execution_count": 38,
     "metadata": {},
     "output_type": "execute_result"
    }
   ],
   "source": [
    "bdays(20)"
   ]
  },
  {
   "cell_type": "markdown",
   "metadata": {},
   "source": [
    "40?"
   ]
  },
  {
   "cell_type": "code",
   "execution_count": 39,
   "metadata": {},
   "outputs": [
    {
     "data": {
      "text/plain": [
       "0.8852"
      ]
     },
     "execution_count": 39,
     "metadata": {},
     "output_type": "execute_result"
    }
   ],
   "source": [
    "bdays(40)"
   ]
  },
  {
   "cell_type": "markdown",
   "metadata": {},
   "source": [
    "## Mage Duel!"
   ]
  },
  {
   "cell_type": "code",
   "execution_count": 40,
   "metadata": {},
   "outputs": [],
   "source": [
    "battles=10**5\n",
    "\n",
    "# 10**1 rds: life = 19, hits = -4\n",
    "# 10**2 rds: life = 33, hits = -1\n",
    "# 10**4 rds: life = 319, hits = 109\n",
    "# i don't see a clear winner\n",
    "\n",
    "# new code\n",
    "# you_mage wins 35%\n",
    "# me_mage wins 55%"
   ]
  },
  {
   "cell_type": "code",
   "execution_count": 41,
   "metadata": {},
   "outputs": [],
   "source": [
    "me_mage_hit = pd.DataFrame(np.random.randint(1,5, size=(battles,6)))\n",
    "# me_mage_hit.head()\n"
   ]
  },
  {
   "cell_type": "code",
   "execution_count": 42,
   "metadata": {},
   "outputs": [],
   "source": [
    "me_mage_life = pd.DataFrame(np.random.randint(1,5, size=(battles,6)))\n",
    "# me_mage_life.head()\n"
   ]
  },
  {
   "cell_type": "code",
   "execution_count": 43,
   "metadata": {},
   "outputs": [],
   "source": [
    "# me_mage_hit.sum(axis=1).sum()"
   ]
  },
  {
   "cell_type": "code",
   "execution_count": 44,
   "metadata": {},
   "outputs": [],
   "source": [
    "you_mage_hit=pd.DataFrame(np.random.randint(1,7, size=(battles,4)))\n",
    "# you_mage_hit.head()"
   ]
  },
  {
   "cell_type": "code",
   "execution_count": 45,
   "metadata": {},
   "outputs": [],
   "source": [
    "you_mage_life=pd.DataFrame(np.random.randint(1,7, size=(battles,4)))\n",
    "# you_mage_life.head()"
   ]
  },
  {
   "cell_type": "code",
   "execution_count": 46,
   "metadata": {},
   "outputs": [
    {
     "data": {
      "text/plain": [
       "0.36811"
      ]
     },
     "execution_count": 46,
     "metadata": {},
     "output_type": "execute_result"
    }
   ],
   "source": [
    "you_mage_wins=you_mage_hit.sum(axis=1)>me_mage_life.sum(axis=1)\n",
    "you_mage_wins.mean()"
   ]
  },
  {
   "cell_type": "code",
   "execution_count": 47,
   "metadata": {},
   "outputs": [
    {
     "data": {
      "text/plain": [
       "0.54466"
      ]
     },
     "execution_count": 47,
     "metadata": {},
     "output_type": "execute_result"
    }
   ],
   "source": [
    "me_mage_wins=me_mage_hit.sum(axis=1)>you_mage_life.sum(axis=1)\n",
    "me_mage_wins.mean()"
   ]
  }
 ],
 "metadata": {
  "interpreter": {
   "hash": "3067ead486e059ec00ffe7555bdb889e6e264a24dc711bf108106cc7baee8d5d"
  },
  "kernelspec": {
   "display_name": "Python 3.9.7 ('base')",
   "language": "python",
   "name": "python3"
  },
  "language_info": {
   "codemirror_mode": {
    "name": "ipython",
    "version": 3
   },
   "file_extension": ".py",
   "mimetype": "text/x-python",
   "name": "python",
   "nbconvert_exporter": "python",
   "pygments_lexer": "ipython3",
   "version": "3.9.7"
  },
  "orig_nbformat": 4
 },
 "nbformat": 4,
 "nbformat_minor": 2
}
