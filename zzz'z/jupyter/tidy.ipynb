{
 "cells": [
  {
   "cell_type": "markdown",
   "metadata": {},
   "source": [
    "# Imports"
   ]
  },
  {
   "cell_type": "code",
   "execution_count": 1,
   "metadata": {},
   "outputs": [
    {
     "name": "stderr",
     "output_type": "stream",
     "text": [
      "Intel(R) Extension for Scikit-learn* enabled (https://github.com/intel/scikit-learn-intelex)\n"
     ]
    }
   ],
   "source": [
    "# current filepath system leaves plenty to be desired\n",
    "import sys\n",
    "local_path = '/Users/hinzlehome/codeup-data-science/binance-project/'\n",
    "sys.path.insert(0, local_path)\n",
    "\n",
    "# imports.py in /utils/\n",
    "from utils.imports import *\n",
    "\n",
    "# plotting magic\n",
    "%matplotlib inline\n",
    "\n",
    "\n",
    "# !!! Warning !!! \n",
    "# *** no more warnings ***\n",
    "# import warnings\n",
    "# warnings.filterwarnings(\"ignore\")\n",
    "\n",
    "# custom mods\n"
   ]
  },
  {
   "cell_type": "code",
   "execution_count": null,
   "metadata": {},
   "outputs": [],
   "source": [
    "payload = {'symbol':'BTCUSD','interval':'1m','limit':'1000'}\n",
    "r = requests.get('https://api.binance.us/api/v3/klines', params=payload)\n",
    "btcusd_json=r.json()\n",
    "btcusd_df=pd.DataFrame(btcusd_json)\n",
    "columns=['open_time','open','high','low','close','volume','close_time','quote_asset','number_of_trades','taker_buy_base_asset_vol','taker_buy_quote_asset_vol','ignore']\n",
    "btcusd_df.columns=columns"
   ]
  },
  {
   "cell_type": "code",
   "execution_count": null,
   "metadata": {},
   "outputs": [],
   "source": [
    "btcusd_df.to_csv('/Users/hinzlehome/codeup-data-science/binance-project/csv/btcusd.csv', index=False)"
   ]
  },
  {
   "cell_type": "code",
   "execution_count": null,
   "metadata": {},
   "outputs": [],
   "source": [
    "def tidy_btcusd():\n",
    "\tif os.path.exists('/Users/hinzlehome/codeup-data-science/binance-project/csv/btcusd.csv'):\n",
    "\t\tprint('cached csv')\n",
    "\t\tdf = pd.read_csv('/Users/hinzlehome/codeup-data-science/binance-project/csv/btcusd.csv')\n",
    "\t\treturn df\n",
    "\telse:\n",
    "\t\tpayload = {'symbol':'BTCUSD','interval':'1m','limit':'1000'}\n",
    "\t\tr = requests.get('https://api.binance.us/api/v3/klines', params=payload)\n",
    "\t\tbtcusd_json=r.json()\n",
    "\t\tbtcusd_df=pd.DataFrame(btcusd_json)\n",
    "\t\tcolumns=['open_time','open','high','low','close','volume','close_time','quote_asset','number_of_trades','taker_buy_base_asset_vol','taker_buy_quote_asset_vol','ignore']\n",
    "\t\tbtcusd_df.columns=columns\n",
    "\t\tbtcusd_df.to_csv('/Users/hinzlehome/codeup-data-science/binance-project/csv/btcusd.csv', index=False)\n",
    "\t\treturn btcusd_df\n",
    "\n",
    "\t\t# x=True\n",
    "\t\t# while x:\n",
    "\t\t# \turl = domain + endpoint\n",
    "\t\t# \tresponse = requests.get(url)\n",
    "\t\t# \tdata = response.json()\n",
    "\t\t# \tstores.extend(data['payload']['stores'])\n",
    "\t\t# \tendpoint = data['payload']['next_page']\n",
    "\t\t\t# if data['payload']['next_page'] == None:\n",
    "\t\t\t# \tx=False\n",
    "\t\t\t# \tstores=pd.DataFrame(stores)\n",
    "\t\t\t# \tstores.to_csv('/Users/hinzlehome/codeup-data-science/time-series-exercises/csvs/stores.csv', index=False)\n",
    "\t\t\t# \treturn stores\n",
    "\t\t\t# else:\n",
    "\t\t\t# \tcontinue"
   ]
  },
  {
   "cell_type": "code",
   "execution_count": null,
   "metadata": {},
   "outputs": [],
   "source": [
    "df=tidy_btcusd()"
   ]
  },
  {
   "cell_type": "code",
   "execution_count": null,
   "metadata": {},
   "outputs": [],
   "source": [
    "df.head()"
   ]
  },
  {
   "cell_type": "code",
   "execution_count": null,
   "metadata": {},
   "outputs": [],
   "source": [
    "# def merge_on_sales():\n",
    "# \tstores=acquire_stores()\n",
    "# \titems=acquire_items()\n",
    "# \tsales=acquire_sales()\n",
    "\n",
    "# \tsales = sales.rename(columns={'item': 'item_id', 'store': 'store_id'})\n",
    "# \tsales=sales.merge(items,on='item_id')\n",
    "# \tsales=sales.merge(stores,on='store_id')\n",
    "\n",
    "# \treturn sales\n",
    "\t"
   ]
  }
 ],
 "metadata": {
  "interpreter": {
   "hash": "3067ead486e059ec00ffe7555bdb889e6e264a24dc711bf108106cc7baee8d5d"
  },
  "kernelspec": {
   "display_name": "Python 3 (ipykernel)",
   "language": "python",
   "name": "python3"
  },
  "language_info": {
   "codemirror_mode": {
    "name": "ipython",
    "version": 3
   },
   "file_extension": ".py",
   "mimetype": "text/x-python",
   "name": "python",
   "nbconvert_exporter": "python",
   "pygments_lexer": "ipython3",
   "version": "3.9.12"
  }
 },
 "nbformat": 4,
 "nbformat_minor": 2
}
