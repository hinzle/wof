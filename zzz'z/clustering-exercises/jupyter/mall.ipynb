{
 "cells": [
  {
   "cell_type": "code",
   "execution_count": 1,
   "metadata": {},
   "outputs": [],
   "source": [
    "import sys\n",
    "sys.path.insert(0, '/Users/hinzlehome/codeup-data-science/clustering-exercises/')\n",
    "\n",
    "from utils.imports import *\n",
    "\n",
    "import utils.acquire as acq"
   ]
  },
  {
   "cell_type": "markdown",
   "metadata": {},
   "source": [
    "# !!! Demo\n",
    "working=df[['bathroomcnt','bedroomcnt','fips','taxvaluedollarcnt']]\n",
    "working.fips.value_counts()\n",
    "working.bathroomcnt.value_counts()\n",
    "working=working[(working.bathroomcnt>=1) & (working.bathroomcnt<7) & (working.fips!=6037)]\n",
    "group=working.groupby(['bathroomcnt','bedroomcnt']).taxvaluedollarcnt.sum()\n",
    "group.max()\n",
    "\n",
    "# this is the net taxvaluedollarcntgroup for 3 bed, 2 bath single family home.\n",
    "\n",
    "sns.histplot(data=working,x='bathroomcnt',y='taxvaluedollarcnt',hue='bedroomcnt')\n",
    "alpha=0.05\n",
    "$H_0$ bathroom count and tax value are independent.\n",
    "r, p = stats.pearsonr(working.bathroomcnt, working.taxvaluedollarcnt)\n",
    "r, p\n",
    "if p < alpha:\n",
    "\tprint('\\nReject H_0')\n",
    "\n",
    "else: \n",
    "\tprint('\\nFail to Reject H_0')\n",
    "\n",
    "\n",
    "if r<=0.2:\n",
    "\tprint(\"no correlation\")\n",
    "elif r<=0.5:\n",
    "\tprint(\"weak correlation\")\n",
    "elif r<=0.75:\n",
    "\tprint(\"moderate correlation\")\n",
    "else:\n",
    "\tprint(\"strong correlation\")\n",
    "$H_0$ bedroom count and tax value are independent.\n",
    "r, p = stats.pearsonr(working.bedroomcnt, working.taxvaluedollarcnt)\n",
    "r, p\n",
    "if r<=0.2:\n",
    "\tprint(\"no correlation\")\n",
    "elif r<=0.5:\n",
    "\tprint(\"weak correlation\")\n",
    "elif r<=0.75:\n",
    "\tprint(\"moderate correlation\")\n",
    "else:\n",
    "\tprint(\"strong correlation\")\n",
    "if p < alpha:\n",
    "\tprint('\\nReject H_0')\n",
    "\n",
    "else: \n",
    "\tprint('\\nFail to Reject H_0')\n",
    "\n"
   ]
  }
 ],
 "metadata": {
  "interpreter": {
   "hash": "3067ead486e059ec00ffe7555bdb889e6e264a24dc711bf108106cc7baee8d5d"
  },
  "kernelspec": {
   "display_name": "Python 3.9.7 ('base')",
   "language": "python",
   "name": "python3"
  },
  "language_info": {
   "codemirror_mode": {
    "name": "ipython",
    "version": 3
   },
   "file_extension": ".py",
   "mimetype": "text/x-python",
   "name": "python",
   "nbconvert_exporter": "python",
   "pygments_lexer": "ipython3",
   "version": "3.9.7"
  },
  "orig_nbformat": 4
 },
 "nbformat": 4,
 "nbformat_minor": 2
}
