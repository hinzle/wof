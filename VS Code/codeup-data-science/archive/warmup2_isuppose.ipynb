{
 "cells": [
  {
   "cell_type": "code",
   "execution_count": 3,
   "id": "4f95fefb-13eb-4017-a1ba-ce979d1e0da0",
   "metadata": {},
   "outputs": [],
   "source": [
    "import pandas as pd\n",
    "\n",
    "df = pd.read_csv('https://raw.githubusercontent.com/zgulde/tidytuesday/master/data/2022/2022-02-01/breed_traits.csv')"
   ]
  },
  {
   "attachments": {
    "805baeb8-a81a-4f98-8aa5-7769c38791fb.png": {
     "image/png": "[encoded data removed]"
    }
   },
   "cell_type": "markdown",
   "id": "49a426a3-aba0-44de-8dff-0c05e36e6df9",
   "metadata": {},
   "source": [
    "![image.png](attachment:805baeb8-a81a-4f98-8aa5-7769c38791fb.png)"
   ]
  },
  {
   "cell_type": "code",
   "execution_count": 2,
   "id": "c5f7730c",
   "metadata": {},
   "outputs": [
    {
     "name": "stdout",
     "output_type": "stream",
     "text": [
      "<class 'pandas.core.frame.DataFrame'>\n",
      "RangeIndex: 195 entries, 0 to 194\n",
      "Data columns (total 17 columns):\n",
      " #   Column                      Non-Null Count  Dtype \n",
      "---  ------                      --------------  ----- \n",
      " 0   Breed                       195 non-null    object\n",
      " 1   Affectionate With Family    195 non-null    int64 \n",
      " 2   Good With Young Children    195 non-null    int64 \n",
      " 3   Good With Other Dogs        195 non-null    int64 \n",
      " 4   Shedding Level              195 non-null    int64 \n",
      " 5   Coat Grooming Frequency     195 non-null    int64 \n",
      " 6   Drooling Level              195 non-null    int64 \n",
      " 7   Coat Type                   195 non-null    object\n",
      " 8   Coat Length                 195 non-null    object\n",
      " 9   Openness To Strangers       195 non-null    int64 \n",
      " 10  Playfulness Level           195 non-null    int64 \n",
      " 11  Watchdog/Protective Nature  195 non-null    int64 \n",
      " 12  Adaptability Level          195 non-null    int64 \n",
      " 13  Trainability Level          195 non-null    int64 \n",
      " 14  Energy Level                195 non-null    int64 \n",
      " 15  Barking Level               195 non-null    int64 \n",
      " 16  Mental Stimulation Needs    195 non-null    int64 \n",
      "dtypes: int64(14), object(3)\n",
      "memory usage: 26.0+ KB\n"
     ]
    }
   ],
   "source": [
    "df.info()"
   ]
  },
  {
   "cell_type": "code",
   "execution_count": 3,
   "id": "52da15af",
   "metadata": {},
   "outputs": [
    {
     "data": {
      "text/html": [
       "<div>\n",
       "<style scoped>\n",
       "    .dataframe tbody tr th:only-of-type {\n",
       "        vertical-align: middle;\n",
       "    }\n",
       "\n",
       "    .dataframe tbody tr th {\n",
       "        vertical-align: top;\n",
       "    }\n",
       "\n",
       "    .dataframe thead th {\n",
       "        text-align: right;\n",
       "    }\n",
       "</style>\n",
       "<table border=\"1\" class=\"dataframe\">\n",
       "  <thead>\n",
       "    <tr style=\"text-align: right;\">\n",
       "      <th></th>\n",
       "      <th>Breed</th>\n",
       "      <th>Affectionate With Family</th>\n",
       "      <th>Good With Young Children</th>\n",
       "      <th>Good With Other Dogs</th>\n",
       "      <th>Shedding Level</th>\n",
       "      <th>Coat Grooming Frequency</th>\n",
       "      <th>Drooling Level</th>\n",
       "      <th>Coat Type</th>\n",
       "      <th>Coat Length</th>\n",
       "      <th>Openness To Strangers</th>\n",
       "      <th>Playfulness Level</th>\n",
       "      <th>Watchdog/Protective Nature</th>\n",
       "      <th>Adaptability Level</th>\n",
       "      <th>Trainability Level</th>\n",
       "      <th>Energy Level</th>\n",
       "      <th>Barking Level</th>\n",
       "      <th>Mental Stimulation Needs</th>\n",
       "    </tr>\n",
       "  </thead>\n",
       "  <tbody>\n",
       "    <tr>\n",
       "      <th>0</th>\n",
       "      <td>Retrievers (Labrador)</td>\n",
       "      <td>5</td>\n",
       "      <td>5</td>\n",
       "      <td>5</td>\n",
       "      <td>4</td>\n",
       "      <td>2</td>\n",
       "      <td>2</td>\n",
       "      <td>Double</td>\n",
       "      <td>Short</td>\n",
       "      <td>5</td>\n",
       "      <td>5</td>\n",
       "      <td>3</td>\n",
       "      <td>5</td>\n",
       "      <td>5</td>\n",
       "      <td>5</td>\n",
       "      <td>3</td>\n",
       "      <td>4</td>\n",
       "    </tr>\n",
       "    <tr>\n",
       "      <th>1</th>\n",
       "      <td>French Bulldogs</td>\n",
       "      <td>5</td>\n",
       "      <td>5</td>\n",
       "      <td>4</td>\n",
       "      <td>3</td>\n",
       "      <td>1</td>\n",
       "      <td>3</td>\n",
       "      <td>Smooth</td>\n",
       "      <td>Short</td>\n",
       "      <td>5</td>\n",
       "      <td>5</td>\n",
       "      <td>3</td>\n",
       "      <td>5</td>\n",
       "      <td>4</td>\n",
       "      <td>3</td>\n",
       "      <td>1</td>\n",
       "      <td>3</td>\n",
       "    </tr>\n",
       "    <tr>\n",
       "      <th>2</th>\n",
       "      <td>German Shepherd Dogs</td>\n",
       "      <td>5</td>\n",
       "      <td>5</td>\n",
       "      <td>3</td>\n",
       "      <td>4</td>\n",
       "      <td>2</td>\n",
       "      <td>2</td>\n",
       "      <td>Double</td>\n",
       "      <td>Medium</td>\n",
       "      <td>3</td>\n",
       "      <td>4</td>\n",
       "      <td>5</td>\n",
       "      <td>5</td>\n",
       "      <td>5</td>\n",
       "      <td>5</td>\n",
       "      <td>3</td>\n",
       "      <td>5</td>\n",
       "    </tr>\n",
       "    <tr>\n",
       "      <th>3</th>\n",
       "      <td>Retrievers (Golden)</td>\n",
       "      <td>5</td>\n",
       "      <td>5</td>\n",
       "      <td>5</td>\n",
       "      <td>4</td>\n",
       "      <td>2</td>\n",
       "      <td>2</td>\n",
       "      <td>Double</td>\n",
       "      <td>Medium</td>\n",
       "      <td>5</td>\n",
       "      <td>4</td>\n",
       "      <td>3</td>\n",
       "      <td>5</td>\n",
       "      <td>5</td>\n",
       "      <td>3</td>\n",
       "      <td>1</td>\n",
       "      <td>4</td>\n",
       "    </tr>\n",
       "    <tr>\n",
       "      <th>4</th>\n",
       "      <td>Bulldogs</td>\n",
       "      <td>4</td>\n",
       "      <td>3</td>\n",
       "      <td>3</td>\n",
       "      <td>3</td>\n",
       "      <td>3</td>\n",
       "      <td>3</td>\n",
       "      <td>Smooth</td>\n",
       "      <td>Short</td>\n",
       "      <td>4</td>\n",
       "      <td>4</td>\n",
       "      <td>3</td>\n",
       "      <td>3</td>\n",
       "      <td>4</td>\n",
       "      <td>3</td>\n",
       "      <td>2</td>\n",
       "      <td>3</td>\n",
       "    </tr>\n",
       "  </tbody>\n",
       "</table>\n",
       "</div>"
      ],
      "text/plain": [
       "                   Breed  Affectionate With Family  Good With Young Children  \\\n",
       "0  Retrievers (Labrador)                         5                         5   \n",
       "1        French Bulldogs                         5                         5   \n",
       "2   German Shepherd Dogs                         5                         5   \n",
       "3    Retrievers (Golden)                         5                         5   \n",
       "4               Bulldogs                         4                         3   \n",
       "\n",
       "   Good With Other Dogs  Shedding Level  Coat Grooming Frequency  \\\n",
       "0                     5               4                        2   \n",
       "1                     4               3                        1   \n",
       "2                     3               4                        2   \n",
       "3                     5               4                        2   \n",
       "4                     3               3                        3   \n",
       "\n",
       "   Drooling Level Coat Type Coat Length  Openness To Strangers  \\\n",
       "0               2    Double       Short                      5   \n",
       "1               3    Smooth       Short                      5   \n",
       "2               2    Double      Medium                      3   \n",
       "3               2    Double      Medium                      5   \n",
       "4               3    Smooth       Short                      4   \n",
       "\n",
       "   Playfulness Level  Watchdog/Protective Nature  Adaptability Level  \\\n",
       "0                  5                           3                   5   \n",
       "1                  5                           3                   5   \n",
       "2                  4                           5                   5   \n",
       "3                  4                           3                   5   \n",
       "4                  4                           3                   3   \n",
       "\n",
       "   Trainability Level  Energy Level  Barking Level  Mental Stimulation Needs  \n",
       "0                   5             5              3                         4  \n",
       "1                   4             3              1                         3  \n",
       "2                   5             5              3                         5  \n",
       "3                   5             3              1                         4  \n",
       "4                   4             3              2                         3  "
      ]
     },
     "execution_count": 3,
     "metadata": {},
     "output_type": "execute_result"
    }
   ],
   "source": [
    "df.head()"
   ]
  },
  {
   "cell_type": "markdown",
   "id": "5daad97e-3690-4d06-a295-2de4eb3a6e28",
   "metadata": {},
   "source": [
    "This dataset contains information on different dog breeds. Answer the following questions:\n"
   ]
  },
  {
   "cell_type": "markdown",
   "id": "057f580f",
   "metadata": {},
   "source": [
    "\n",
    "- How many breeds have an energy level of 5? `35`\n"
   ]
  },
  {
   "cell_type": "code",
   "execution_count": 8,
   "id": "647a10b8",
   "metadata": {},
   "outputs": [
    {
     "data": {
      "text/plain": [
       "35"
      ]
     },
     "execution_count": 8,
     "metadata": {},
     "output_type": "execute_result"
    }
   ],
   "source": [
    "(df['Energy Level']==5).sum()"
   ]
  },
  {
   "cell_type": "markdown",
   "id": "2723c5f5",
   "metadata": {},
   "source": [
    "- How many different coat types are there? `10`\n"
   ]
  },
  {
   "cell_type": "code",
   "execution_count": 10,
   "id": "d5d19a1e",
   "metadata": {},
   "outputs": [
    {
     "data": {
      "text/plain": [
       "10"
      ]
     },
     "execution_count": 10,
     "metadata": {},
     "output_type": "execute_result"
    }
   ],
   "source": [
    "df['Coat Type'].nunique()"
   ]
  },
  {
   "cell_type": "markdown",
   "id": "f440b3dc",
   "metadata": {},
   "source": [
    "- What is the average drooling level of breeds with a long coat length? `1.483`\n"
   ]
  },
  {
   "cell_type": "code",
   "execution_count": 20,
   "id": "2fc573ec",
   "metadata": {},
   "outputs": [
    {
     "data": {
      "text/plain": [
       "1.4827586206896552"
      ]
     },
     "execution_count": 20,
     "metadata": {},
     "output_type": "execute_result"
    }
   ],
   "source": [
    "new_df=df[df['Coat Length']=='Long']\n",
    "new_df['Drooling Level'].mean()\n"
   ]
  },
  {
   "cell_type": "code",
   "execution_count": 11,
   "id": "bc7da4b6",
   "metadata": {},
   "outputs": [
    {
     "data": {
      "text/html": [
       "<div>\n",
       "<style scoped>\n",
       "    .dataframe tbody tr th:only-of-type {\n",
       "        vertical-align: middle;\n",
       "    }\n",
       "\n",
       "    .dataframe tbody tr th {\n",
       "        vertical-align: top;\n",
       "    }\n",
       "\n",
       "    .dataframe thead th {\n",
       "        text-align: right;\n",
       "    }\n",
       "</style>\n",
       "<table border=\"1\" class=\"dataframe\">\n",
       "  <thead>\n",
       "    <tr style=\"text-align: right;\">\n",
       "      <th></th>\n",
       "      <th>Breed</th>\n",
       "      <th>Affectionate With Family</th>\n",
       "      <th>Good With Young Children</th>\n",
       "      <th>Good With Other Dogs</th>\n",
       "      <th>Shedding Level</th>\n",
       "      <th>Coat Grooming Frequency</th>\n",
       "      <th>Drooling Level</th>\n",
       "      <th>Coat Type</th>\n",
       "      <th>Coat Length</th>\n",
       "      <th>Openness To Strangers</th>\n",
       "      <th>Playfulness Level</th>\n",
       "      <th>Watchdog/Protective Nature</th>\n",
       "      <th>Adaptability Level</th>\n",
       "      <th>Trainability Level</th>\n",
       "      <th>Energy Level</th>\n",
       "      <th>Barking Level</th>\n",
       "      <th>Mental Stimulation Needs</th>\n",
       "    </tr>\n",
       "  </thead>\n",
       "  <tbody>\n",
       "    <tr>\n",
       "      <th>0</th>\n",
       "      <td>Retrievers (Labrador)</td>\n",
       "      <td>5</td>\n",
       "      <td>5</td>\n",
       "      <td>5</td>\n",
       "      <td>4</td>\n",
       "      <td>2</td>\n",
       "      <td>2</td>\n",
       "      <td>Double</td>\n",
       "      <td>Short</td>\n",
       "      <td>5</td>\n",
       "      <td>5</td>\n",
       "      <td>3</td>\n",
       "      <td>5</td>\n",
       "      <td>5</td>\n",
       "      <td>5</td>\n",
       "      <td>3</td>\n",
       "      <td>4</td>\n",
       "    </tr>\n",
       "    <tr>\n",
       "      <th>1</th>\n",
       "      <td>French Bulldogs</td>\n",
       "      <td>5</td>\n",
       "      <td>5</td>\n",
       "      <td>4</td>\n",
       "      <td>3</td>\n",
       "      <td>1</td>\n",
       "      <td>3</td>\n",
       "      <td>Smooth</td>\n",
       "      <td>Short</td>\n",
       "      <td>5</td>\n",
       "      <td>5</td>\n",
       "      <td>3</td>\n",
       "      <td>5</td>\n",
       "      <td>4</td>\n",
       "      <td>3</td>\n",
       "      <td>1</td>\n",
       "      <td>3</td>\n",
       "    </tr>\n",
       "    <tr>\n",
       "      <th>2</th>\n",
       "      <td>German Shepherd Dogs</td>\n",
       "      <td>5</td>\n",
       "      <td>5</td>\n",
       "      <td>3</td>\n",
       "      <td>4</td>\n",
       "      <td>2</td>\n",
       "      <td>2</td>\n",
       "      <td>Double</td>\n",
       "      <td>Medium</td>\n",
       "      <td>3</td>\n",
       "      <td>4</td>\n",
       "      <td>5</td>\n",
       "      <td>5</td>\n",
       "      <td>5</td>\n",
       "      <td>5</td>\n",
       "      <td>3</td>\n",
       "      <td>5</td>\n",
       "    </tr>\n",
       "    <tr>\n",
       "      <th>3</th>\n",
       "      <td>Retrievers (Golden)</td>\n",
       "      <td>5</td>\n",
       "      <td>5</td>\n",
       "      <td>5</td>\n",
       "      <td>4</td>\n",
       "      <td>2</td>\n",
       "      <td>2</td>\n",
       "      <td>Double</td>\n",
       "      <td>Medium</td>\n",
       "      <td>5</td>\n",
       "      <td>4</td>\n",
       "      <td>3</td>\n",
       "      <td>5</td>\n",
       "      <td>5</td>\n",
       "      <td>3</td>\n",
       "      <td>1</td>\n",
       "      <td>4</td>\n",
       "    </tr>\n",
       "    <tr>\n",
       "      <th>4</th>\n",
       "      <td>Bulldogs</td>\n",
       "      <td>4</td>\n",
       "      <td>3</td>\n",
       "      <td>3</td>\n",
       "      <td>3</td>\n",
       "      <td>3</td>\n",
       "      <td>3</td>\n",
       "      <td>Smooth</td>\n",
       "      <td>Short</td>\n",
       "      <td>4</td>\n",
       "      <td>4</td>\n",
       "      <td>3</td>\n",
       "      <td>3</td>\n",
       "      <td>4</td>\n",
       "      <td>3</td>\n",
       "      <td>2</td>\n",
       "      <td>3</td>\n",
       "    </tr>\n",
       "  </tbody>\n",
       "</table>\n",
       "</div>"
      ],
      "text/plain": [
       "                   Breed  Affectionate With Family  Good With Young Children  \\\n",
       "0  Retrievers (Labrador)                         5                         5   \n",
       "1        French Bulldogs                         5                         5   \n",
       "2   German Shepherd Dogs                         5                         5   \n",
       "3    Retrievers (Golden)                         5                         5   \n",
       "4               Bulldogs                         4                         3   \n",
       "\n",
       "   Good With Other Dogs  Shedding Level  Coat Grooming Frequency  \\\n",
       "0                     5               4                        2   \n",
       "1                     4               3                        1   \n",
       "2                     3               4                        2   \n",
       "3                     5               4                        2   \n",
       "4                     3               3                        3   \n",
       "\n",
       "   Drooling Level Coat Type Coat Length  Openness To Strangers  \\\n",
       "0               2    Double       Short                      5   \n",
       "1               3    Smooth       Short                      5   \n",
       "2               2    Double      Medium                      3   \n",
       "3               2    Double      Medium                      5   \n",
       "4               3    Smooth       Short                      4   \n",
       "\n",
       "   Playfulness Level  Watchdog/Protective Nature  Adaptability Level  \\\n",
       "0                  5                           3                   5   \n",
       "1                  5                           3                   5   \n",
       "2                  4                           5                   5   \n",
       "3                  4                           3                   5   \n",
       "4                  4                           3                   3   \n",
       "\n",
       "   Trainability Level  Energy Level  Barking Level  Mental Stimulation Needs  \n",
       "0                   5             5              3                         4  \n",
       "1                   4             3              1                         3  \n",
       "2                   5             5              3                         5  \n",
       "3                   5             3              1                         4  \n",
       "4                   4             3              2                         3  "
      ]
     },
     "execution_count": 11,
     "metadata": {},
     "output_type": "execute_result"
    }
   ],
   "source": [
    "df.head()"
   ]
  },
  {
   "cell_type": "markdown",
   "id": "b6c7153b",
   "metadata": {},
   "source": [
    "- What is the barking level of Anatolian Shepherd Dogs? `3`\n"
   ]
  },
  {
   "cell_type": "code",
   "execution_count": 4,
   "id": "0d4cbfb1",
   "metadata": {},
   "outputs": [
    {
     "data": {
      "text/html": [
       "<div>\n",
       "<style scoped>\n",
       "    .dataframe tbody tr th:only-of-type {\n",
       "        vertical-align: middle;\n",
       "    }\n",
       "\n",
       "    .dataframe tbody tr th {\n",
       "        vertical-align: top;\n",
       "    }\n",
       "\n",
       "    .dataframe thead th {\n",
       "        text-align: right;\n",
       "    }\n",
       "</style>\n",
       "<table border=\"1\" class=\"dataframe\">\n",
       "  <thead>\n",
       "    <tr style=\"text-align: right;\">\n",
       "      <th></th>\n",
       "      <th>Breed</th>\n",
       "      <th>Barking Level</th>\n",
       "    </tr>\n",
       "  </thead>\n",
       "  <tbody>\n",
       "    <tr>\n",
       "      <th>84</th>\n",
       "      <td>Anatolian Shepherd Dogs</td>\n",
       "      <td>3</td>\n",
       "    </tr>\n",
       "  </tbody>\n",
       "</table>\n",
       "</div>"
      ],
      "text/plain": [
       "                      Breed  Barking Level\n",
       "84  Anatolian Shepherd Dogs              3"
      ]
     },
     "execution_count": 4,
     "metadata": {},
     "output_type": "execute_result"
    }
   ],
   "source": [
    "df.loc[df.Breed.str.startswith('Anatolian'), ['Breed', 'Barking Level']]"
   ]
  },
  {
   "cell_type": "code",
   "execution_count": 43,
   "id": "f7534153",
   "metadata": {},
   "outputs": [
    {
     "data": {
      "text/plain": [
       "84    3\n",
       "Name: Barking Level, dtype: int64"
      ]
     },
     "execution_count": 43,
     "metadata": {},
     "output_type": "execute_result"
    }
   ],
   "source": [
    "nn_df=df[df.Breed.str.contains('Anatolian')]\n",
    "nn_df['Barking Level']"
   ]
  },
  {
   "cell_type": "markdown",
   "id": "dd92df55",
   "metadata": {},
   "source": [
    "- How many breeds have a smooth coat type, a short coat length, and a playfulness level of 3? `27`\n"
   ]
  },
  {
   "cell_type": "code",
   "execution_count": 48,
   "id": "3a06a696",
   "metadata": {},
   "outputs": [],
   "source": [
    "nnew_df=df[df['Coat Type']=='Smooth']\n"
   ]
  },
  {
   "cell_type": "code",
   "execution_count": 49,
   "id": "d6ff25ba",
   "metadata": {},
   "outputs": [],
   "source": [
    "nnn_df=nnew_df[nnew_df['Coat Length']=='Short']"
   ]
  },
  {
   "cell_type": "code",
   "execution_count": 56,
   "id": "b8faf62f",
   "metadata": {},
   "outputs": [],
   "source": [
    "nnn_dff=nnn_df[nnn_df['Playfulness Level']==3]"
   ]
  },
  {
   "cell_type": "code",
   "execution_count": 67,
   "id": "9d0ae658",
   "metadata": {},
   "outputs": [
    {
     "data": {
      "text/plain": [
       "27"
      ]
     },
     "execution_count": 67,
     "metadata": {},
     "output_type": "execute_result"
    }
   ],
   "source": [
    "nnn_dff.Breed.value_counts().sum()"
   ]
  },
  {
   "cell_type": "code",
   "execution_count": 44,
   "id": "e1180dd0",
   "metadata": {},
   "outputs": [
    {
     "data": {
      "text/html": [
       "<div>\n",
       "<style scoped>\n",
       "    .dataframe tbody tr th:only-of-type {\n",
       "        vertical-align: middle;\n",
       "    }\n",
       "\n",
       "    .dataframe tbody tr th {\n",
       "        vertical-align: top;\n",
       "    }\n",
       "\n",
       "    .dataframe thead th {\n",
       "        text-align: right;\n",
       "    }\n",
       "</style>\n",
       "<table border=\"1\" class=\"dataframe\">\n",
       "  <thead>\n",
       "    <tr style=\"text-align: right;\">\n",
       "      <th></th>\n",
       "      <th>Breed</th>\n",
       "      <th>Affectionate With Family</th>\n",
       "      <th>Good With Young Children</th>\n",
       "      <th>Good With Other Dogs</th>\n",
       "      <th>Shedding Level</th>\n",
       "      <th>Coat Grooming Frequency</th>\n",
       "      <th>Drooling Level</th>\n",
       "      <th>Coat Type</th>\n",
       "      <th>Coat Length</th>\n",
       "      <th>Openness To Strangers</th>\n",
       "      <th>Playfulness Level</th>\n",
       "      <th>Watchdog/Protective Nature</th>\n",
       "      <th>Adaptability Level</th>\n",
       "      <th>Trainability Level</th>\n",
       "      <th>Energy Level</th>\n",
       "      <th>Barking Level</th>\n",
       "      <th>Mental Stimulation Needs</th>\n",
       "    </tr>\n",
       "  </thead>\n",
       "  <tbody>\n",
       "    <tr>\n",
       "      <th>0</th>\n",
       "      <td>Retrievers (Labrador)</td>\n",
       "      <td>5</td>\n",
       "      <td>5</td>\n",
       "      <td>5</td>\n",
       "      <td>4</td>\n",
       "      <td>2</td>\n",
       "      <td>2</td>\n",
       "      <td>Double</td>\n",
       "      <td>Short</td>\n",
       "      <td>5</td>\n",
       "      <td>5</td>\n",
       "      <td>3</td>\n",
       "      <td>5</td>\n",
       "      <td>5</td>\n",
       "      <td>5</td>\n",
       "      <td>3</td>\n",
       "      <td>4</td>\n",
       "    </tr>\n",
       "    <tr>\n",
       "      <th>1</th>\n",
       "      <td>French Bulldogs</td>\n",
       "      <td>5</td>\n",
       "      <td>5</td>\n",
       "      <td>4</td>\n",
       "      <td>3</td>\n",
       "      <td>1</td>\n",
       "      <td>3</td>\n",
       "      <td>Smooth</td>\n",
       "      <td>Short</td>\n",
       "      <td>5</td>\n",
       "      <td>5</td>\n",
       "      <td>3</td>\n",
       "      <td>5</td>\n",
       "      <td>4</td>\n",
       "      <td>3</td>\n",
       "      <td>1</td>\n",
       "      <td>3</td>\n",
       "    </tr>\n",
       "    <tr>\n",
       "      <th>2</th>\n",
       "      <td>German Shepherd Dogs</td>\n",
       "      <td>5</td>\n",
       "      <td>5</td>\n",
       "      <td>3</td>\n",
       "      <td>4</td>\n",
       "      <td>2</td>\n",
       "      <td>2</td>\n",
       "      <td>Double</td>\n",
       "      <td>Medium</td>\n",
       "      <td>3</td>\n",
       "      <td>4</td>\n",
       "      <td>5</td>\n",
       "      <td>5</td>\n",
       "      <td>5</td>\n",
       "      <td>5</td>\n",
       "      <td>3</td>\n",
       "      <td>5</td>\n",
       "    </tr>\n",
       "    <tr>\n",
       "      <th>3</th>\n",
       "      <td>Retrievers (Golden)</td>\n",
       "      <td>5</td>\n",
       "      <td>5</td>\n",
       "      <td>5</td>\n",
       "      <td>4</td>\n",
       "      <td>2</td>\n",
       "      <td>2</td>\n",
       "      <td>Double</td>\n",
       "      <td>Medium</td>\n",
       "      <td>5</td>\n",
       "      <td>4</td>\n",
       "      <td>3</td>\n",
       "      <td>5</td>\n",
       "      <td>5</td>\n",
       "      <td>3</td>\n",
       "      <td>1</td>\n",
       "      <td>4</td>\n",
       "    </tr>\n",
       "    <tr>\n",
       "      <th>4</th>\n",
       "      <td>Bulldogs</td>\n",
       "      <td>4</td>\n",
       "      <td>3</td>\n",
       "      <td>3</td>\n",
       "      <td>3</td>\n",
       "      <td>3</td>\n",
       "      <td>3</td>\n",
       "      <td>Smooth</td>\n",
       "      <td>Short</td>\n",
       "      <td>4</td>\n",
       "      <td>4</td>\n",
       "      <td>3</td>\n",
       "      <td>3</td>\n",
       "      <td>4</td>\n",
       "      <td>3</td>\n",
       "      <td>2</td>\n",
       "      <td>3</td>\n",
       "    </tr>\n",
       "  </tbody>\n",
       "</table>\n",
       "</div>"
      ],
      "text/plain": [
       "                   Breed  Affectionate With Family  Good With Young Children  \\\n",
       "0  Retrievers (Labrador)                         5                         5   \n",
       "1        French Bulldogs                         5                         5   \n",
       "2   German Shepherd Dogs                         5                         5   \n",
       "3    Retrievers (Golden)                         5                         5   \n",
       "4               Bulldogs                         4                         3   \n",
       "\n",
       "   Good With Other Dogs  Shedding Level  Coat Grooming Frequency  \\\n",
       "0                     5               4                        2   \n",
       "1                     4               3                        1   \n",
       "2                     3               4                        2   \n",
       "3                     5               4                        2   \n",
       "4                     3               3                        3   \n",
       "\n",
       "   Drooling Level Coat Type Coat Length  Openness To Strangers  \\\n",
       "0               2    Double       Short                      5   \n",
       "1               3    Smooth       Short                      5   \n",
       "2               2    Double      Medium                      3   \n",
       "3               2    Double      Medium                      5   \n",
       "4               3    Smooth       Short                      4   \n",
       "\n",
       "   Playfulness Level  Watchdog/Protective Nature  Adaptability Level  \\\n",
       "0                  5                           3                   5   \n",
       "1                  5                           3                   5   \n",
       "2                  4                           5                   5   \n",
       "3                  4                           3                   5   \n",
       "4                  4                           3                   3   \n",
       "\n",
       "   Trainability Level  Energy Level  Barking Level  Mental Stimulation Needs  \n",
       "0                   5             5              3                         4  \n",
       "1                   4             3              1                         3  \n",
       "2                   5             5              3                         5  \n",
       "3                   5             3              1                         4  \n",
       "4                   4             3              2                         3  "
      ]
     },
     "execution_count": 44,
     "metadata": {},
     "output_type": "execute_result"
    }
   ],
   "source": [
    "df.head()"
   ]
  },
  {
   "cell_type": "markdown",
   "id": "1e7f41c3",
   "metadata": {},
   "source": [
    "- What percentage of breeds fall into each value of adaptability level? Make a visualization like the one below showing this"
   ]
  },
  {
   "cell_type": "code",
   "execution_count": 5,
   "id": "3f6e28de",
   "metadata": {},
   "outputs": [
    {
     "data": {
      "text/plain": [
       "27"
      ]
     },
     "execution_count": 5,
     "metadata": {},
     "output_type": "execute_result"
    }
   ],
   "source": [
    "subset = df[df['Coat Type'] == 'Smooth'].copy()\n",
    "subset = subset[subset['Coat Length'] == 'Short']\n",
    "subset = subset[subset['Playfulness Level'] == 3]\n",
    "subset.shape[0]"
   ]
  },
  {
   "cell_type": "code",
   "execution_count": 6,
   "id": "e9d2932a",
   "metadata": {},
   "outputs": [
    {
     "data": {
      "text/plain": [
       "0    0.005128\n",
       "1    0.138462\n",
       "2    0.210256\n",
       "3    0.558974\n",
       "4    0.082051\n",
       "5    0.005128\n",
       "Name: Shedding Level, dtype: float64"
      ]
     },
     "execution_count": 6,
     "metadata": {},
     "output_type": "execute_result"
    }
   ],
   "source": [
    "import matplotlib.pyplot as plt\n",
    "\n",
    "shedding_levels = df['Shedding Level'].value_counts().sort_index()\n",
    "shedding_levels / shedding_levels.sum()"
   ]
  },
  {
   "cell_type": "code",
   "execution_count": 7,
   "id": "c370dfcf",
   "metadata": {},
   "outputs": [
    {
     "data": {
      "image/png": "[encoded data removed]",
      "text/plain": [
       "<Figure size 504x216 with 1 Axes>"
      ]
     },
     "metadata": {
      "needs_background": "light"
     },
     "output_type": "display_data"
    }
   ],
   "source": [
    "shedding_levels.plot.bar(\n",
    "    width=.9,\n",
    "    ec='black',\n",
    "    fc='white',\n",
    "    figsize=(7, 3),\n",
    "    title='Distribution of Shedding Levels',\n",
    "    ylabel='# of Breeds',\n",
    "    xlabel='Shedding Level',\n",
    ")\n",
    "plt.xticks(rotation=0)\n",
    "plt.show()\n"
   ]
  },
  {
   "cell_type": "markdown",
   "id": "a006e29f",
   "metadata": {},
   "source": [
    "- How many breeds have a smooth coat type, a short coat length, and a playfulness level of 3? `27`\n",
    "- What percentage of breeds fall into each value of adaptability level? Make a visualization like the one below showing this"
   ]
  }
 ],
 "metadata": {
  "kernelspec": {
   "display_name": "Python 3",
   "language": "python",
   "name": "python3"
  },
  "language_info": {
   "codemirror_mode": {
    "name": "ipython",
    "version": 3
   },
   "file_extension": ".py",
   "mimetype": "text/x-python",
   "name": "python",
   "nbconvert_exporter": "python",
   "pygments_lexer": "ipython3",
   "version": "3.9.7"
  }
 },
 "nbformat": 4,
 "nbformat_minor": 5
}
