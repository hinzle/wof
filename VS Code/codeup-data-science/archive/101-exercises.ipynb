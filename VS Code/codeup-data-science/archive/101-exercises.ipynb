{
 "cells": [
  {
   "cell_type": "markdown",
   "source": [
    "# Welcome to 101 Exercises for Python Fundamentals\n",
    "\n",
    "Solving these exercises will help make you a better programmer. Solve them in order, because each solution builds scaffolding, working code, and knowledge you can use on future problems. Read the directions carefully, and have fun!\n",
    "\n",
    "> \"Learning to program takes a little bit of study and a *lot* of practice\" - Luis Montealegre"
   ],
   "metadata": {
    "_kg_hide-input": false
   }
  },
  {
   "cell_type": "markdown",
   "source": [
    "## Getting Started\n",
    "0. Create your own account on [Kaggle.com](https://www.kaggle.com/account/login?phase=startRegisterTab) and return to this page.\n",
    "1. Click the blue \"Copy and Edit\" in the upper-right part of this document to create your own copy to your own Kaggle account.\n",
    "2. As you complete exercises, be sure to click the blue \"Save\" button to create save points for your work.\n",
    "3. If you need to refresh and restart this learning environment, go to **Run** then select **Restart Session**. \n",
    "4. If you need a fresh, blank copy of this document, go to https://www.kaggle.com/ryanorsinger/101-exercises/ and click \"Copy and Edit\""
   ],
   "metadata": {}
  },
  {
   "cell_type": "markdown",
   "source": [
    "## Orientation\n",
    "- This code notebook is composed of cells. Each cell is either text or Python code.\n",
    "- To run a cell of code, click the \"play button\" icon to the left of the cell or click on the cell and press \"Shift+Enter\" on your keyboard. This will execute the Python code contained in the cell. Executing a cell that defines a variable is important before executing or authoring a cell that depends on that previously created variable assignment.\n",
    "- **Expect to see lots of errors** the first time you load this page. \n",
    "- **Expect to see lots of errors** for all cells run without code that matches the assertion tests.\n",
    "- Until you click the blue \"Copy and Edit\" button to make your own copy, you will see an entire page of errors. This is part of the automated tests.\n",
    "- Each *assert* line is both an example and a test that tests for the presence and functionality of the instructed exercise. \n",
    "\n",
    "## The only 3 conditions that produce no errors:\n",
    "1. When you make a fresh **copy** of the project to your own account (by clicking \"Copy and Edit\")\n",
    "2. When you go to \"Run\" and then click \"Restart Session\"\n",
    "3. When every single assertion passes.\n",
    "\n",
    "\n",
    "## Outline\n",
    "- Each cell starts with a problem statement that describes the exercise to complete.\n",
    "- Underneath each problem statement, learners will need to write code to produce an answer.\n",
    "- The **assert** lines test to see that your code solves the problem appropriately\n",
    "- Many exercises will rely on previous solutions to be correctly completed\n",
    "- The `print(\"Exercise is complete\")` line will only run if your solution passes the assertion test(s)\n",
    "- Be sure to create programmatic solutions that will work for all inputs:\n",
    "- For example, calling the `is_even(2)` returns `True`, but your function should work for all even numbers, both positive and negative.\n",
    "\n",
    "\n",
    "## Guidance\n",
    "- Get Python to do the work for you. For example, if the exercise instructs you to reverse a list of numbers, your job is to find the \n",
    "- Save often by clicking the blue \"Save\" button.\n",
    "- If you need to clear the output or reset the notebook, go to \"Run\" then \"Restart Session\" to clear up any error messages.\n",
    "- Do not move or alter the lines of code that contain the `assert` statements. Those are what run your solution and test its actual output vs. expected outputs.\n",
    "- Seek to understand the problem before trying to solve it. Can you explain the problem to someone else in English? Can you explain the solution in English?\n",
    "- Slow down and read any error messages you encounter. Error messages provide insight into how to resolve the error. When in doubt, put your exact error into a search engine and look for results that reference an identical or similar problem.\n",
    "\n",
    "## Get Python To Do The Work For You\n",
    "One of the main jobs of a programming language is to help people solve problems programatically, so we don't have to do so much by hand. For example, it's easy for a person to manually reverse the list `[1, 2, 3]`, but imagine reversing a list of a million things or sorting a list of even a hundred things. When we write programmatic solutions in code, we are providing instructions to the computer to do a task. Computers follow the letter of the code, not the intent, and do exactly what they are told to do. In this way, Python can reverse a list of 3 numbers or 100 numbers or ten million numbers with the same instructions. Repetition is a key idea behind programming languages.\n",
    "\n",
    "This means that your task with these exercises is to determine a sequence of steps that solve the problem and then find the Python code that will run those instructions. If you're sorting or reversing things by hand, you're not doing it right!\n",
    "\n",
    "## How To Discover How To Do Something in Python\n",
    "1. The first step is to make sure you know what the problem is asking.\n",
    "2. The second step is to determine, in English (or your first spoken language), what steps you need to take.\n",
    "3. Use a search engine to look for code examples to identical or similar problems.\n",
    "\n",
    "One of the best ways to discover how to do things in Python is to use a search engine. Go to your favorite search engine and search for \"how to reverse a list in Python\" or \"how to sort a list in Python\". That's how both learners and professionals find answers and examples all the time. Search for what you want and add \"in Python\" and you'll get lots of code examples. Searching for \"How to sum a list of numbers in Python\" is a very effective way to discover exactly how to do that task."
   ],
   "metadata": {}
  },
  {
   "cell_type": "markdown",
   "source": [
    "### Learning to Program and Code\n",
    "- You can make a new blank cell for Python code at any time in this document.\n",
    "- If you want more freedom to explore learning Python in a blank notebook, go here https://www.kaggle.com/notebooks/welcome and make yourself a blank, new notebook.\n",
    "- Programming is an intellectual activity of designing a solution. \"Coding\" means turning your programmatic solution into code w/ all the right syntax and parts of the programming language.\n",
    "- Expect to make mistakes and adopt the attitude that **the error message provides the information you need to proceed**. You will put lots of error messages into search engines to learn this craft!\n",
    "- Because computers have zero ability to read in between the lines or \"catch the drift\" or know what you mean, code only does what it is told to do.\n",
    "- Code doesn't do what you *want* it to do, code does what you've told it to do.\n",
    "- Before writing any code, figure out how you would solve the problem in spoken language to describe the sequence of steps in the solution.\n",
    "- Think about your solution in English (or your natural language). It's **critical** to solve the problem in your natural language before trying to get a programming language to do the work."
   ],
   "metadata": {}
  },
  {
   "cell_type": "markdown",
   "source": [
    "## Troubleshooting\n",
    "- If this entire document shows \"Name Error\" for many cells, it means you should read the \"Getting Started\" instructions above to make your own copy.\n",
    "- Be sure to commit your work to make save points, as you go.\n",
    "- If you load this page and you see your code but not the results of the code, be sure to run each cell (shift + Enter makes this quick)\n",
    "- \"Name Error\" means that you need to assign a variable or define the function as instructed.\n",
    "- \"Assertion Error\" means that your provided solution does not match the correct answer.\n",
    "- \"Type Error\" means that your data type provided is not accurate\n",
    "- If your kernel freezes, click on \"Run\" then select \"Restart Session\"\n",
    "- If you require additional troubleshooting assistance, click on \"Help\" and then \"Docs\" to access documentation for this platform.\n",
    "- If you have discoverd a bug or typo, please triple check your spelling then create a new issue at [https://github.com/ryanorsinger/101-exercises/issues](https://github.com/ryanorsinger/101-exercises/issues) to notify the author."
   ],
   "metadata": {}
  },
  {
   "cell_type": "code",
   "execution_count": 1,
   "source": [
    "# Example problem:\n",
    "# Uncomment the line below and run this cell.\n",
    "# The hashtag \"#\" character in a line of Python code is the comment character. To \"comment\" means to add the # and to \"uncomment\" means to remove the # character.\n",
    "\n",
    "doing_python_right_now = True\n",
    "\n",
    "# The lines below will test your answer. If you see an error, then it means that your answer is incorrect or incomplete.\n",
    "assert doing_python_right_now == True, \"If you see a NameError, it means that the variable is not created and assigned a value. An 'Assertion Error' means that the value of the variable is incorrect.\" \n",
    "print(\"Exercise 0 is correct\") # This line will print if your solution passes the assertion above."
   ],
   "outputs": [
    {
     "output_type": "stream",
     "name": "stdout",
     "text": [
      "Exercise 0 is correct\n"
     ]
    }
   ],
   "metadata": {
    "_cell_guid": "79c7e3d0-c299-4dcb-8224-4455121ee9b0",
    "_uuid": "d629ff2d2480ee46fbb7e2d37f6b5fab8052498a",
    "execution": {
     "iopub.execute_input": "2021-08-18T18:45:10.057597Z",
     "iopub.status.busy": "2021-08-18T18:45:10.057272Z",
     "iopub.status.idle": "2021-08-18T18:45:10.062998Z",
     "shell.execute_reply": "2021-08-18T18:45:10.061935Z",
     "shell.execute_reply.started": "2021-08-18T18:45:10.057548Z"
    }
   }
  },
  {
   "cell_type": "code",
   "execution_count": 2,
   "source": [
    "# Exercise 1\n",
    "# On the line below, create a variable named on_mars_right_now and assign it the boolean value of False\n",
    "\n",
    "on_mars_right_now=False\n",
    "\n",
    "assert on_mars_right_now == False, \"If you see a Name Error, be sure to create the variable and assign it a value.\"\n",
    "print(\"Exercise 1 is correct.\")"
   ],
   "outputs": [
    {
     "output_type": "stream",
     "name": "stdout",
     "text": [
      "Exercise 1 is correct.\n"
     ]
    }
   ],
   "metadata": {
    "execution": {
     "iopub.execute_input": "2021-08-18T18:45:10.074081Z",
     "iopub.status.busy": "2021-08-18T18:45:10.073674Z",
     "iopub.status.idle": "2021-08-18T18:45:10.083392Z",
     "shell.execute_reply": "2021-08-18T18:45:10.082335Z",
     "shell.execute_reply.started": "2021-08-18T18:45:10.073989Z"
    }
   }
  },
  {
   "cell_type": "code",
   "execution_count": 3,
   "source": [
    "# Exercise 2\n",
    "# Create a variable named fruits and assign it a list of fruits containing the following fruit names as strings: \n",
    "# mango, banana, guava, kiwi, and strawberry.\n",
    "\n",
    "fruits = [\"mango\", \"banana\", \"guava\", \"kiwi\", \"strawberry\"]\n",
    "assert fruits == [\"mango\", \"banana\", \"guava\", \"kiwi\", \"strawberry\"], \"If you see an Assert Error, ensure the variable contains all the strings in the provided order\"\n",
    "print(\"Exercise 2 is correct.\")"
   ],
   "outputs": [
    {
     "output_type": "stream",
     "name": "stdout",
     "text": [
      "Exercise 2 is correct.\n"
     ]
    }
   ],
   "metadata": {
    "execution": {
     "iopub.execute_input": "2021-08-18T18:45:10.086798Z",
     "iopub.status.busy": "2021-08-18T18:45:10.086388Z",
     "iopub.status.idle": "2021-08-18T18:45:10.096685Z",
     "shell.execute_reply": "2021-08-18T18:45:10.095485Z",
     "shell.execute_reply.started": "2021-08-18T18:45:10.086722Z"
    }
   }
  },
  {
   "cell_type": "code",
   "execution_count": 4,
   "source": [
    "# Exercise 3\n",
    "# Create a variable named vegetables and assign it a list of fruits containing the following vegetable names as strings: \n",
    "# eggplant, broccoli, carrot, cauliflower, and zucchini\n",
    "\n",
    "vegetables = [\"eggplant\", \"broccoli\", \"carrot\", \"cauliflower\", \"zucchini\"]\n",
    "assert vegetables == [\"eggplant\", \"broccoli\", \"carrot\", \"cauliflower\", \"zucchini\"], \"Ensure the variable contains all the strings in the provided order\"\n",
    "print(\"Exercise 3 is correct.\")"
   ],
   "outputs": [
    {
     "output_type": "stream",
     "name": "stdout",
     "text": [
      "Exercise 3 is correct.\n"
     ]
    }
   ],
   "metadata": {
    "execution": {
     "iopub.execute_input": "2021-08-18T18:45:10.102996Z",
     "iopub.status.busy": "2021-08-18T18:45:10.102663Z",
     "iopub.status.idle": "2021-08-18T18:45:10.110440Z",
     "shell.execute_reply": "2021-08-18T18:45:10.109254Z",
     "shell.execute_reply.started": "2021-08-18T18:45:10.102943Z"
    }
   }
  },
  {
   "cell_type": "code",
   "execution_count": 5,
   "source": [
    "# Exercise 4\n",
    "# Create a variable named numbers and assign it a list of numbers, 1, 2, 3, 4, 5, 6, 7, 8, 9, 10\n",
    "numbers = [1, 2, 3, 4, 5, 6, 7, 8, 9, 10]\n",
    "assert numbers == [1, 2, 3, 4, 5, 6, 7, 8, 9, 10], \"Ensure the variable contains the numbers 1-10 in order.\"\n",
    "print(\"Exercise 4 is correct.\")"
   ],
   "outputs": [
    {
     "output_type": "stream",
     "name": "stdout",
     "text": [
      "Exercise 4 is correct.\n"
     ]
    }
   ],
   "metadata": {
    "execution": {
     "iopub.execute_input": "2021-08-18T18:45:10.117312Z",
     "iopub.status.busy": "2021-08-18T18:45:10.116997Z",
     "iopub.status.idle": "2021-08-18T18:45:10.123964Z",
     "shell.execute_reply": "2021-08-18T18:45:10.123077Z",
     "shell.execute_reply.started": "2021-08-18T18:45:10.117260Z"
    }
   }
  },
  {
   "cell_type": "markdown",
   "source": [
    "## List Operations\n",
    "**Hint** Recommend finding and using built-in Python functionality whenever possible."
   ],
   "metadata": {}
  },
  {
   "cell_type": "code",
   "execution_count": 6,
   "source": [
    "# Exercise 5\n",
    "# Given the following assigment of the list of fruits, add \"tomato\" to the end of the list. \n",
    "fruits = [\"mango\", \"banana\", \"guava\", \"kiwi\", \"strawberry\"]\n",
    "fruits.append(\"tomato\")\n",
    "assert fruits == [\"mango\", \"banana\", \"guava\", \"kiwi\", \"strawberry\", \"tomato\"], \"Ensure the variable contains all the strings in the right order\"\n",
    "print(\"Exercise 5 is correct\")"
   ],
   "outputs": [
    {
     "output_type": "stream",
     "name": "stdout",
     "text": [
      "Exercise 5 is correct\n"
     ]
    }
   ],
   "metadata": {
    "execution": {
     "iopub.execute_input": "2021-08-18T18:45:10.135256Z",
     "iopub.status.busy": "2021-08-18T18:45:10.134867Z",
     "iopub.status.idle": "2021-08-18T18:45:10.141674Z",
     "shell.execute_reply": "2021-08-18T18:45:10.140839Z",
     "shell.execute_reply.started": "2021-08-18T18:45:10.135200Z"
    }
   }
  },
  {
   "cell_type": "code",
   "execution_count": 7,
   "source": [
    "# Exercise 6\n",
    "# Given the following assignment of the vegetables list, add \"tomato\" to the end of the list.\n",
    "vegetables = [\"eggplant\", \"broccoli\", \"carrot\", \"cauliflower\", \"zucchini\"]\n",
    "vegetables.append(\"tomato\")\n",
    "\n",
    "assert vegetables == [\"eggplant\", \"broccoli\", \"carrot\", \"cauliflower\", \"zucchini\", \"tomato\"], \"Ensure the variable contains all the strings in the provided order\"\n",
    "print(\"Exercise 6 is correct\")"
   ],
   "outputs": [
    {
     "output_type": "stream",
     "name": "stdout",
     "text": [
      "Exercise 6 is correct\n"
     ]
    }
   ],
   "metadata": {
    "execution": {
     "iopub.execute_input": "2021-08-18T18:45:10.159788Z",
     "iopub.status.busy": "2021-08-18T18:45:10.159434Z",
     "iopub.status.idle": "2021-08-18T18:45:10.166121Z",
     "shell.execute_reply": "2021-08-18T18:45:10.165323Z",
     "shell.execute_reply.started": "2021-08-18T18:45:10.159730Z"
    }
   }
  },
  {
   "cell_type": "code",
   "execution_count": 8,
   "source": [
    "# Exercise 7\n",
    "# Given the list of numbers defined below, reverse the list of numbers that you created above. \n",
    "\n",
    "numbers = [1, 2, 3, 4, 5, 6, 7, 8, 9, 10]\n",
    "numbers = numbers[::-1]\n",
    "\n",
    "assert numbers == [10, 9, 8, 7, 6, 5, 4, 3, 2, 1], \"Assert Error means that the answer is incorrect.\" \n",
    "print(\"Exercise 7 is correct.\")"
   ],
   "outputs": [
    {
     "output_type": "stream",
     "name": "stdout",
     "text": [
      "Exercise 7 is correct.\n"
     ]
    }
   ],
   "metadata": {
    "execution": {
     "iopub.execute_input": "2021-08-18T18:45:10.180271Z",
     "iopub.status.busy": "2021-08-18T18:45:10.179948Z",
     "iopub.status.idle": "2021-08-18T18:45:10.187630Z",
     "shell.execute_reply": "2021-08-18T18:45:10.186330Z",
     "shell.execute_reply.started": "2021-08-18T18:45:10.180216Z"
    }
   }
  },
  {
   "cell_type": "code",
   "execution_count": 9,
   "source": [
    "# Exercise 8\n",
    "# Sort the vegetables in alphabetical order\n",
    "vegetables=sorted(vegetables)\n",
    "assert vegetables == ['broccoli', 'carrot', 'cauliflower', 'eggplant', 'tomato', 'zucchini']\n",
    "print(\"Exercise 8 is correct.\")"
   ],
   "outputs": [
    {
     "output_type": "stream",
     "name": "stdout",
     "text": [
      "Exercise 8 is correct.\n"
     ]
    }
   ],
   "metadata": {
    "execution": {
     "iopub.execute_input": "2021-08-18T18:45:10.257750Z",
     "iopub.status.busy": "2021-08-18T18:45:10.257419Z",
     "iopub.status.idle": "2021-08-18T18:45:10.263915Z",
     "shell.execute_reply": "2021-08-18T18:45:10.262438Z",
     "shell.execute_reply.started": "2021-08-18T18:45:10.257701Z"
    }
   }
  },
  {
   "cell_type": "code",
   "execution_count": 10,
   "source": [
    "# Exercise 9\n",
    "# Write the code necessary to sort the fruits in reverse alphabetical order\n",
    "fruits=sorted(fruits,reverse=True)\n",
    "assert fruits == ['tomato', 'strawberry', 'mango', 'kiwi', 'guava', 'banana']\n",
    "print(\"Exercise 9 is correct.\")"
   ],
   "outputs": [
    {
     "output_type": "stream",
     "name": "stdout",
     "text": [
      "Exercise 9 is correct.\n"
     ]
    }
   ],
   "metadata": {
    "execution": {
     "iopub.execute_input": "2021-08-18T18:45:10.298228Z",
     "iopub.status.busy": "2021-08-18T18:45:10.297916Z",
     "iopub.status.idle": "2021-08-18T18:45:10.304789Z",
     "shell.execute_reply": "2021-08-18T18:45:10.303370Z",
     "shell.execute_reply.started": "2021-08-18T18:45:10.298181Z"
    }
   }
  },
  {
   "cell_type": "code",
   "execution_count": 11,
   "source": [
    "# Exercise 10\n",
    "# Write the code necessary to produce a single list that holds all fruits then all vegetables in the order as they were sorted above.\n",
    "fruits_and_veggies = fruits + vegetables\n",
    "assert fruits_and_veggies == ['tomato', 'strawberry', 'mango', 'kiwi', 'guava', 'banana', 'broccoli', 'carrot', 'cauliflower', 'eggplant', 'tomato', 'zucchini']\n",
    "print(\"Exercise 10 is correct\")"
   ],
   "outputs": [
    {
     "output_type": "stream",
     "name": "stdout",
     "text": [
      "Exercise 10 is correct\n"
     ]
    }
   ],
   "metadata": {
    "execution": {
     "iopub.execute_input": "2021-08-18T18:45:10.335208Z",
     "iopub.status.busy": "2021-08-18T18:45:10.334905Z",
     "iopub.status.idle": "2021-08-18T18:45:10.341865Z",
     "shell.execute_reply": "2021-08-18T18:45:10.340808Z",
     "shell.execute_reply.started": "2021-08-18T18:45:10.335166Z"
    }
   }
  },
  {
   "cell_type": "markdown",
   "source": [
    "## Basic Functions\n",
    "![](http://)**Hint** Be sure to `return` values from your function definitions. The assert statements will call your function(s) for you."
   ],
   "metadata": {}
  },
  {
   "cell_type": "code",
   "execution_count": 12,
   "source": [
    "# Run this cell in order to generate some numbers to use in our functions after this.\n",
    "import random\n",
    "    \n",
    "positive_even_number = random.randrange(2, 101, 2)\n",
    "negative_even_number = random.randrange(-100, -1, 2)\n",
    "\n",
    "positive_odd_number = random.randrange(1, 100, 2)\n",
    "negative_odd_number = random.randrange(-101, 0, 2)\n",
    "print(\"We now have some random numbers available for future exercises.\")\n",
    "print(\"The random positive even number is\", positive_even_number)\n",
    "print(\"The random positive odd nubmer is\", positive_odd_number)\n",
    "print(\"The random negative even number\", negative_even_number)\n",
    "print(\"The random negative odd number\", negative_odd_number)\n"
   ],
   "outputs": [
    {
     "output_type": "stream",
     "name": "stdout",
     "text": [
      "We now have some random numbers available for future exercises.\n",
      "The random positive even number is 86\n",
      "The random positive odd nubmer is 49\n",
      "The random negative even number -66\n",
      "The random negative odd number -79\n"
     ]
    }
   ],
   "metadata": {
    "execution": {
     "iopub.execute_input": "2021-08-18T18:45:10.394791Z",
     "iopub.status.busy": "2021-08-18T18:45:10.394476Z",
     "iopub.status.idle": "2021-08-18T18:45:10.405312Z",
     "shell.execute_reply": "2021-08-18T18:45:10.403629Z",
     "shell.execute_reply.started": "2021-08-18T18:45:10.394744Z"
    }
   }
  },
  {
   "cell_type": "code",
   "execution_count": 13,
   "source": [
    "# Example function defintion:\n",
    "# Write a say_hello function that adds the string \"Hello, \" to the beginning and \"!\" to the end of any given input.\n",
    "def say_hello(name):\n",
    "    return \"Hello, \" + name + \"!\"\n",
    "\n",
    "assert say_hello(\"Jane\") == \"Hello, Jane!\", \"Double check the inputs and data types\"\n",
    "assert say_hello(\"Pat\") == \"Hello, Pat!\", \"Double check the inputs and data types\"\n",
    "assert say_hello(\"Astrud\") == \"Hello, Astrud!\", \"Double check the inputs and data types\"\n",
    "print(\"The example function definition ran appropriately\")"
   ],
   "outputs": [
    {
     "output_type": "stream",
     "name": "stdout",
     "text": [
      "The example function definition ran appropriately\n"
     ]
    }
   ],
   "metadata": {
    "execution": {
     "iopub.execute_input": "2021-08-18T18:45:10.420199Z",
     "iopub.status.busy": "2021-08-18T18:45:10.419750Z",
     "iopub.status.idle": "2021-08-18T18:45:10.432253Z",
     "shell.execute_reply": "2021-08-18T18:45:10.431032Z",
     "shell.execute_reply.started": "2021-08-18T18:45:10.420140Z"
    }
   }
  },
  {
   "cell_type": "code",
   "execution_count": 14,
   "source": [
    "# Another example function definition:\n",
    "# This plus_two function takes in a variable and adds 2 to it.\n",
    "def plus_two(number):\n",
    "    return number + 2\n",
    "\n",
    "assert plus_two(3) == 5\n",
    "assert plus_two(0) == 2\n",
    "assert plus_two(-2) == 0\n",
    "print(\"The plus_two assertions executed appropriately... The second function definition example executed appropriately.\")"
   ],
   "outputs": [
    {
     "output_type": "stream",
     "name": "stdout",
     "text": [
      "The plus_two assertions executed appropriately... The second function definition example executed appropriately.\n"
     ]
    }
   ],
   "metadata": {
    "execution": {
     "iopub.execute_input": "2021-08-18T18:45:10.461613Z",
     "iopub.status.busy": "2021-08-18T18:45:10.461309Z",
     "iopub.status.idle": "2021-08-18T18:45:10.469118Z",
     "shell.execute_reply": "2021-08-18T18:45:10.468195Z",
     "shell.execute_reply.started": "2021-08-18T18:45:10.461568Z"
    }
   }
  },
  {
   "cell_type": "code",
   "execution_count": 15,
   "source": [
    "# Exercise 11\n",
    "# Write a function definition for a function named add_one that takes in a number and returns that number plus one.\n",
    "\n",
    "def add_one(number):\n",
    "    number=number+1\n",
    "    return number\n",
    "assert add_one(2) == 3, \"Ensure that the function is defined, named properly, and returns the correct value\"\n",
    "assert add_one(0) == 1, \"Zero plus one is one.\"\n",
    "assert add_one(positive_even_number) == positive_even_number + 1, \"Ensure that the function is defined, named properly, and returns the correct value\"\n",
    "assert add_one(negative_odd_number) == negative_odd_number + 1, \"Ensure that the function is defined, named properly, and returns the correct value\"\n",
    "print(\"Exercise 11 is correct.\") "
   ],
   "outputs": [
    {
     "output_type": "stream",
     "name": "stdout",
     "text": [
      "Exercise 11 is correct.\n"
     ]
    }
   ],
   "metadata": {
    "execution": {
     "iopub.execute_input": "2021-08-18T18:45:10.481688Z",
     "iopub.status.busy": "2021-08-18T18:45:10.481369Z",
     "iopub.status.idle": "2021-08-18T18:45:10.490834Z",
     "shell.execute_reply": "2021-08-18T18:45:10.489548Z",
     "shell.execute_reply.started": "2021-08-18T18:45:10.481641Z"
    }
   }
  },
  {
   "cell_type": "code",
   "execution_count": 16,
   "source": [
    "# Exercise 12\n",
    "# Write a function definition named is_positive that takes in a number and returns True or False if that number is positive.\n",
    "def is_positive(number):\n",
    "    if number>0:\n",
    "        return True\n",
    "    else:\n",
    "        return False\n",
    "assert is_positive(positive_odd_number) == True, \"Ensure that the function is defined, named properly, and returns the correct value\"\n",
    "assert is_positive(positive_even_number) == True, \"Ensure that the function is defined, named properly, and returns the correct value\"\n",
    "assert is_positive(negative_odd_number) == False, \"Ensure that the function is defined, named properly, and returns the correct value\"\n",
    "assert is_positive(negative_even_number) == False, \"Ensure that the function is defined, named properly, and returns the correct value\"\n",
    "print(\"Exercise 12 is correct.\")"
   ],
   "outputs": [
    {
     "output_type": "stream",
     "name": "stdout",
     "text": [
      "Exercise 12 is correct.\n"
     ]
    }
   ],
   "metadata": {
    "execution": {
     "iopub.execute_input": "2021-08-18T18:45:10.500954Z",
     "iopub.status.busy": "2021-08-18T18:45:10.500537Z",
     "iopub.status.idle": "2021-08-18T18:45:10.509524Z",
     "shell.execute_reply": "2021-08-18T18:45:10.508263Z",
     "shell.execute_reply.started": "2021-08-18T18:45:10.500876Z"
    }
   }
  },
  {
   "cell_type": "code",
   "execution_count": 17,
   "source": [
    "# Exercise 13\n",
    "# Write a function definition named is_negative that takes in a number and returns True or False if that number is negative.\n",
    "def is_negative(number):\n",
    "    if number<0:\n",
    "        return True\n",
    "    else:\n",
    "        return False\n",
    "assert is_negative(positive_odd_number) == False, \"Ensure that the function is defined, named properly, and returns the correct value\"\n",
    "assert is_negative(positive_even_number) == False, \"Ensure that the function is defined, named properly, and returns the correct value\"\n",
    "assert is_negative(negative_odd_number) == True, \"Ensure that the function is defined, named properly, and returns the correct value\"\n",
    "assert is_negative(negative_even_number) == True, \"Ensure that the function is defined, named properly, and returns the correct value\"\n",
    "print(\"Exercise 13 is correct.\")"
   ],
   "outputs": [
    {
     "output_type": "stream",
     "name": "stdout",
     "text": [
      "Exercise 13 is correct.\n"
     ]
    }
   ],
   "metadata": {
    "execution": {
     "iopub.execute_input": "2021-08-18T18:45:10.532089Z",
     "iopub.status.busy": "2021-08-18T18:45:10.531720Z",
     "iopub.status.idle": "2021-08-18T18:45:10.539794Z",
     "shell.execute_reply": "2021-08-18T18:45:10.538923Z",
     "shell.execute_reply.started": "2021-08-18T18:45:10.532041Z"
    }
   }
  },
  {
   "cell_type": "code",
   "execution_count": 18,
   "source": [
    "# Exercise 14\n",
    "# Write a function definition named is_odd that takes in a number and returns True or False if that number is odd.\n",
    "def is_odd(number):\n",
    "    if number%2==0:\n",
    "        return False\n",
    "    else:\n",
    "        return True\n",
    "assert is_odd(positive_odd_number) == True, \"Ensure that the function is defined, named properly, and returns the correct value\"\n",
    "assert is_odd(positive_even_number) == False, \"Ensure that the function is defined, named properly, and returns the correct value\"\n",
    "assert is_odd(negative_odd_number) == True, \"Ensure that the function is defined, named properly, and returns the correct value\"\n",
    "assert is_odd(negative_even_number) == False, \"Ensure that the function is defined, named properly, and returns the correct value\"\n",
    "print(\"Exercise 14 is correct.\")"
   ],
   "outputs": [
    {
     "output_type": "stream",
     "name": "stdout",
     "text": [
      "Exercise 14 is correct.\n"
     ]
    }
   ],
   "metadata": {
    "execution": {
     "iopub.execute_input": "2021-08-18T18:45:10.564184Z",
     "iopub.status.busy": "2021-08-18T18:45:10.563856Z",
     "iopub.status.idle": "2021-08-18T18:45:10.571616Z",
     "shell.execute_reply": "2021-08-18T18:45:10.570744Z",
     "shell.execute_reply.started": "2021-08-18T18:45:10.564136Z"
    }
   }
  },
  {
   "cell_type": "code",
   "execution_count": 19,
   "source": [
    "# Exercise 15\n",
    "# Write a function definition named is_even that takes in a number and returns True or False if that number is even.\n",
    "def is_even(number):\n",
    "    if number%2==0:\n",
    "        return True\n",
    "    else:\n",
    "        return False\n",
    "assert is_even(2) == True, \"Ensure that the function is defined, named properly, and returns the correct value\"\n",
    "assert is_even(positive_odd_number) == False, \"Ensure that the function is defined, named properly, and returns the correct value\"\n",
    "assert is_even(positive_even_number) == True, \"Ensure that the function is defined, named properly, and returns the correct value\"\n",
    "assert is_even(negative_odd_number) == False, \"Ensure that the function is defined, named properly, and returns the correct value\"\n",
    "assert is_even(negative_even_number) == True, \"Ensure that the function is defined, named properly, and returns the correct value\"\n",
    "print(\"Exercise 15 is correct.\")"
   ],
   "outputs": [
    {
     "output_type": "stream",
     "name": "stdout",
     "text": [
      "Exercise 15 is correct.\n"
     ]
    }
   ],
   "metadata": {
    "execution": {
     "iopub.execute_input": "2021-08-18T18:45:10.583363Z",
     "iopub.status.busy": "2021-08-18T18:45:10.583055Z",
     "iopub.status.idle": "2021-08-18T18:45:10.592078Z",
     "shell.execute_reply": "2021-08-18T18:45:10.590862Z",
     "shell.execute_reply.started": "2021-08-18T18:45:10.583317Z"
    }
   }
  },
  {
   "cell_type": "code",
   "execution_count": 20,
   "source": [
    "# Exercise 16\n",
    "# Write a function definition named identity that takes in any argument and returns that argument's value. Don't overthink this one!\n",
    "def identity(x):\n",
    "    return x\n",
    "assert identity(fruits) == fruits, \"Ensure that the function is defined, named properly, and returns the correct value\"\n",
    "assert identity(vegetables) == vegetables, \"Ensure that the function is defined, named properly, and returns the correct value\"\n",
    "assert identity(positive_odd_number) == positive_odd_number, \"Ensure that the function is defined, named properly, and returns the correct value\"\n",
    "assert identity(positive_even_number) == positive_even_number, \"Ensure that the function is defined, named properly, and returns the correct value\"\n",
    "assert identity(negative_odd_number) == negative_odd_number, \"Ensure that the function is defined, named properly, and returns the correct value\"\n",
    "assert identity(negative_even_number) == negative_even_number, \"Ensure that the function is defined, named properly, and returns the correct value\"\n",
    "print(\"Exercise 16 is correct.\")"
   ],
   "outputs": [
    {
     "output_type": "stream",
     "name": "stdout",
     "text": [
      "Exercise 16 is correct.\n"
     ]
    }
   ],
   "metadata": {
    "execution": {
     "iopub.execute_input": "2021-08-18T18:45:10.615263Z",
     "iopub.status.busy": "2021-08-18T18:45:10.614920Z",
     "iopub.status.idle": "2021-08-18T18:45:10.622988Z",
     "shell.execute_reply": "2021-08-18T18:45:10.622083Z",
     "shell.execute_reply.started": "2021-08-18T18:45:10.615207Z"
    }
   }
  },
  {
   "cell_type": "code",
   "execution_count": 21,
   "source": [
    "# Exercise 17\n",
    "# Write a function definition named is_positive_odd that takes in a number and returns True or False if the value is both greater than zero and odd\n",
    "def is_positive_odd(number):\n",
    "    if is_odd(number):\n",
    "        if is_positive(number):\n",
    "            return True\n",
    "        else:\n",
    "            return False\n",
    "    else:\n",
    "        return False\n",
    "assert is_positive_odd(3) == True, \"Double check your syntax and logic\" \n",
    "assert is_positive_odd(positive_odd_number) == True, \"Double check your syntax and logic\"\n",
    "assert is_positive_odd(positive_even_number) == False, \"Double check your syntax and logic\"\n",
    "assert is_positive_odd(negative_odd_number) == False, \"Double check your syntax and logic\"\n",
    "assert is_positive_odd(negative_even_number) == False, \"Double check your syntax and logic\"\n",
    "print(\"Exercise 17 is correct.\")"
   ],
   "outputs": [
    {
     "output_type": "stream",
     "name": "stdout",
     "text": [
      "Exercise 17 is correct.\n"
     ]
    }
   ],
   "metadata": {
    "execution": {
     "iopub.execute_input": "2021-08-18T18:45:10.641212Z",
     "iopub.status.busy": "2021-08-18T18:45:10.640888Z",
     "iopub.status.idle": "2021-08-18T18:45:10.649976Z",
     "shell.execute_reply": "2021-08-18T18:45:10.649083Z",
     "shell.execute_reply.started": "2021-08-18T18:45:10.641167Z"
    }
   }
  },
  {
   "cell_type": "code",
   "execution_count": 22,
   "source": [
    "# Exercise 18\n",
    "# Write a function definition named is_positive_even that takes in a number and returns True or False if the value is both greater than zero and even\n",
    "def is_positive_even(number):\n",
    "    if is_even(number):\n",
    "        if is_positive(number):\n",
    "            return True\n",
    "        else:\n",
    "            return False\n",
    "    else:\n",
    "        return False\n",
    "assert is_positive_even(4) == True, \"Double check your syntax and logic\" \n",
    "assert is_positive_even(positive_odd_number) == False, \"Double check your syntax and logic\"\n",
    "assert is_positive_even(positive_even_number) == True, \"Double check your syntax and logic\"\n",
    "assert is_positive_even(negative_odd_number) == False, \"Double check your syntax and logic\"\n",
    "assert is_positive_even(negative_even_number) == False, \"Double check your syntax and logic\"\n",
    "print(\"Exercise 18 is correct.\")"
   ],
   "outputs": [
    {
     "output_type": "stream",
     "name": "stdout",
     "text": [
      "Exercise 18 is correct.\n"
     ]
    }
   ],
   "metadata": {
    "execution": {
     "iopub.execute_input": "2021-08-18T18:45:10.674895Z",
     "iopub.status.busy": "2021-08-18T18:45:10.674547Z",
     "iopub.status.idle": "2021-08-18T18:45:10.682997Z",
     "shell.execute_reply": "2021-08-18T18:45:10.682222Z",
     "shell.execute_reply.started": "2021-08-18T18:45:10.674838Z"
    }
   }
  },
  {
   "cell_type": "code",
   "execution_count": 23,
   "source": [
    "# Exercise 19\n",
    "# Write a function definition named is_negative_odd that takes in a number and returns True or False if the value is both less than zero and odd.\n",
    "def is_negative_odd(number):\n",
    "    if is_odd(number):\n",
    "        if is_negative(number):\n",
    "            return True\n",
    "        else:\n",
    "            return False\n",
    "    else:\n",
    "        return False\n",
    "assert is_negative_odd(-3) == True, \"Double check your syntax and logic\" \n",
    "assert is_negative_odd(positive_odd_number) == False, \"Double check your syntax and logic\"\n",
    "assert is_negative_odd(positive_even_number) == False, \"Double check your syntax and logic\"\n",
    "assert is_negative_odd(negative_odd_number) == True, \"Double check your syntax and logic\"\n",
    "assert is_negative_odd(negative_even_number) == False, \"Double check your syntax and logic\"\n",
    "print(\"Exercise 19 is correct.\")\n"
   ],
   "outputs": [
    {
     "output_type": "stream",
     "name": "stdout",
     "text": [
      "Exercise 19 is correct.\n"
     ]
    }
   ],
   "metadata": {
    "execution": {
     "iopub.execute_input": "2021-08-18T18:45:10.697194Z",
     "iopub.status.busy": "2021-08-18T18:45:10.696910Z",
     "iopub.status.idle": "2021-08-18T18:45:10.705734Z",
     "shell.execute_reply": "2021-08-18T18:45:10.704575Z",
     "shell.execute_reply.started": "2021-08-18T18:45:10.697159Z"
    }
   }
  },
  {
   "cell_type": "code",
   "execution_count": 24,
   "source": [
    "# Exercise 20\n",
    "# Write a function definition named is_negative_even that takes in a number and returns True or False if the value is both less than zero and even.\n",
    "def is_negative_even(number):\n",
    "    if is_even(number):\n",
    "        if is_negative(number):\n",
    "            return True\n",
    "        else:\n",
    "            return False\n",
    "    else:\n",
    "        return False\n",
    "assert is_negative_even(-4) == True, \"Double check your syntax and logic\" \n",
    "assert is_negative_even(positive_odd_number) == False, \"Double check your syntax and logic\"\n",
    "assert is_negative_even(positive_even_number) == False, \"Double check your syntax and logic\"\n",
    "assert is_negative_even(negative_odd_number) == False, \"Double check your syntax and logic\"\n",
    "assert is_negative_even(negative_even_number) == True, \"Double check your syntax and logic\"\n",
    "print(\"Exercise 20 is correct.\")"
   ],
   "outputs": [
    {
     "output_type": "stream",
     "name": "stdout",
     "text": [
      "Exercise 20 is correct.\n"
     ]
    }
   ],
   "metadata": {
    "execution": {
     "iopub.execute_input": "2021-08-18T18:45:10.732755Z",
     "iopub.status.busy": "2021-08-18T18:45:10.732439Z",
     "iopub.status.idle": "2021-08-18T18:45:10.741284Z",
     "shell.execute_reply": "2021-08-18T18:45:10.739976Z",
     "shell.execute_reply.started": "2021-08-18T18:45:10.732708Z"
    }
   }
  },
  {
   "cell_type": "code",
   "execution_count": 25,
   "source": [
    "# Exercise 21\n",
    "# Write a function definition named half that takes in a number and returns half the provided number.\n",
    "def half(number):\n",
    "    halved=number/2\n",
    "    return halved\n",
    "assert half(4) == 2\n",
    "assert half(5) == 2.5\n",
    "assert half(positive_odd_number) == positive_odd_number / 2\n",
    "assert half(positive_even_number) == positive_even_number / 2\n",
    "assert half(negative_odd_number) == negative_odd_number / 2\n",
    "assert half(negative_even_number) == negative_even_number / 2\n",
    "print(\"Exercise 21 is correct.\")"
   ],
   "outputs": [
    {
     "output_type": "stream",
     "name": "stdout",
     "text": [
      "Exercise 21 is correct.\n"
     ]
    }
   ],
   "metadata": {
    "execution": {
     "iopub.execute_input": "2021-08-18T18:45:10.758332Z",
     "iopub.status.busy": "2021-08-18T18:45:10.757999Z",
     "iopub.status.idle": "2021-08-18T18:45:10.765708Z",
     "shell.execute_reply": "2021-08-18T18:45:10.764978Z",
     "shell.execute_reply.started": "2021-08-18T18:45:10.758293Z"
    }
   }
  },
  {
   "cell_type": "code",
   "execution_count": 26,
   "source": [
    "# Exercise 22\n",
    "# Write a function definition named double that takes in a number and returns double the provided number.\n",
    "def double(number):\n",
    "    doubled=number*2\n",
    "    return doubled\n",
    "assert double(4) == 8\n",
    "assert double(5) == 10\n",
    "assert double(positive_odd_number) == positive_odd_number * 2\n",
    "assert double(positive_even_number) == positive_even_number * 2\n",
    "assert double(negative_odd_number) == negative_odd_number * 2\n",
    "assert double(negative_even_number) == negative_even_number * 2\n",
    "print(\"Exercise 22 is correct.\")"
   ],
   "outputs": [
    {
     "output_type": "stream",
     "name": "stdout",
     "text": [
      "Exercise 22 is correct.\n"
     ]
    }
   ],
   "metadata": {
    "execution": {
     "iopub.execute_input": "2021-08-18T18:45:10.980289Z",
     "iopub.status.busy": "2021-08-18T18:45:10.979983Z",
     "iopub.status.idle": "2021-08-18T18:45:10.987869Z",
     "shell.execute_reply": "2021-08-18T18:45:10.986908Z",
     "shell.execute_reply.started": "2021-08-18T18:45:10.980252Z"
    }
   }
  },
  {
   "cell_type": "code",
   "execution_count": 27,
   "source": [
    "# Exercise 23\n",
    "# Write a function definition named triple that takes in a number and returns triple the provided number.\n",
    "def triple(number):\n",
    "    tripled = number*3\n",
    "    return tripled\n",
    "assert triple(4) == 12\n",
    "assert triple(5) == 15\n",
    "assert triple(positive_odd_number) == positive_odd_number * 3\n",
    "assert triple(positive_even_number) == positive_even_number * 3\n",
    "assert triple(negative_odd_number) == negative_odd_number * 3\n",
    "assert triple(negative_even_number) == negative_even_number * 3\n",
    "print(\"Exercise 23 is correct.\")"
   ],
   "outputs": [
    {
     "output_type": "stream",
     "name": "stdout",
     "text": [
      "Exercise 23 is correct.\n"
     ]
    }
   ],
   "metadata": {
    "execution": {
     "iopub.execute_input": "2021-08-18T18:45:11.036314Z",
     "iopub.status.busy": "2021-08-18T18:45:11.035968Z",
     "iopub.status.idle": "2021-08-18T18:45:11.044863Z",
     "shell.execute_reply": "2021-08-18T18:45:11.043629Z",
     "shell.execute_reply.started": "2021-08-18T18:45:11.036257Z"
    }
   }
  },
  {
   "cell_type": "code",
   "execution_count": 28,
   "source": [
    "# Exercise 24\n",
    "# Write a function definition named reverse_sign that takes in a number and returns the provided number but with the sign reversed.\n",
    "def reverse_sign(number):\n",
    "    reversed=-number\n",
    "    return reversed\n",
    "assert reverse_sign(4) == -4\n",
    "assert reverse_sign(-5) == 5\n",
    "assert reverse_sign(positive_odd_number) == positive_odd_number * -1\n",
    "assert reverse_sign(positive_even_number) == positive_even_number * -1\n",
    "assert reverse_sign(negative_odd_number) == negative_odd_number * -1\n",
    "assert reverse_sign(negative_even_number) == negative_even_number * -1\n",
    "print(\"Exercise 24 is correct.\")"
   ],
   "outputs": [
    {
     "output_type": "stream",
     "name": "stdout",
     "text": [
      "Exercise 24 is correct.\n"
     ]
    }
   ],
   "metadata": {
    "execution": {
     "iopub.execute_input": "2021-08-18T18:45:11.053727Z",
     "iopub.status.busy": "2021-08-18T18:45:11.053382Z",
     "iopub.status.idle": "2021-08-18T18:45:11.062308Z",
     "shell.execute_reply": "2021-08-18T18:45:11.061138Z",
     "shell.execute_reply.started": "2021-08-18T18:45:11.053670Z"
    }
   }
  },
  {
   "cell_type": "code",
   "execution_count": 29,
   "source": [
    "# Exercise 25\n",
    "# Write a function definition named absolute_value that takes in a number and returns the absolute value of the provided number\n",
    "def absolute_value(number):\n",
    "    abso=abs(number)\n",
    "    return abso\n",
    "\n",
    "assert absolute_value(4) == 4\n",
    "assert absolute_value(-5) == 5\n",
    "assert absolute_value(positive_odd_number) == positive_odd_number\n",
    "assert absolute_value(positive_even_number) == positive_even_number\n",
    "assert absolute_value(negative_odd_number) == negative_odd_number * -1\n",
    "assert absolute_value(negative_even_number) == negative_even_number * -1\n",
    "print(\"Exercise 25 is correct.\")"
   ],
   "outputs": [
    {
     "output_type": "stream",
     "name": "stdout",
     "text": [
      "Exercise 25 is correct.\n"
     ]
    }
   ],
   "metadata": {
    "execution": {
     "iopub.execute_input": "2021-08-18T18:45:11.073267Z",
     "iopub.status.busy": "2021-08-18T18:45:11.072897Z",
     "iopub.status.idle": "2021-08-18T18:45:11.081992Z",
     "shell.execute_reply": "2021-08-18T18:45:11.080686Z",
     "shell.execute_reply.started": "2021-08-18T18:45:11.073214Z"
    }
   }
  },
  {
   "cell_type": "code",
   "execution_count": 30,
   "source": [
    "# Exercise 26\n",
    "# Write a function definition named is_multiple_of_three that takes in a number and returns True or False if the number is evenly divisible by 3.\n",
    "def is_multiple_of_three(number):\n",
    "    if number%3==0:\n",
    "        return True\n",
    "    else:\n",
    "        return False\n",
    "assert is_multiple_of_three(3) == True\n",
    "assert is_multiple_of_three(15) == True\n",
    "assert is_multiple_of_three(9) == True\n",
    "assert is_multiple_of_three(4) == False\n",
    "assert is_multiple_of_three(10) == False\n",
    "print(\"Exercise 26 is correct.\")"
   ],
   "outputs": [
    {
     "output_type": "stream",
     "name": "stdout",
     "text": [
      "Exercise 26 is correct.\n"
     ]
    }
   ],
   "metadata": {
    "execution": {
     "iopub.execute_input": "2021-08-18T18:45:11.092305Z",
     "iopub.status.busy": "2021-08-18T18:45:11.091985Z",
     "iopub.status.idle": "2021-08-18T18:45:11.102089Z",
     "shell.execute_reply": "2021-08-18T18:45:11.100932Z",
     "shell.execute_reply.started": "2021-08-18T18:45:11.092258Z"
    }
   }
  },
  {
   "cell_type": "code",
   "execution_count": 31,
   "source": [
    "# Exercise 27\n",
    "# Write a function definition named is_multiple_of_five that takes in a number and returns True or False if the number is evenly divisible by 5.\n",
    "def is_multiple_of_five(number):\n",
    "    if number%5==0:\n",
    "        return True\n",
    "    else:\n",
    "        return False\n",
    "assert is_multiple_of_five(3) == False\n",
    "assert is_multiple_of_five(15) == True\n",
    "assert is_multiple_of_five(9) == False\n",
    "assert is_multiple_of_five(4) == False\n",
    "assert is_multiple_of_five(10) == True\n",
    "print(\"Exercise 27 is correct.\")"
   ],
   "outputs": [
    {
     "output_type": "stream",
     "name": "stdout",
     "text": [
      "Exercise 27 is correct.\n"
     ]
    }
   ],
   "metadata": {
    "execution": {
     "iopub.execute_input": "2021-08-18T18:45:11.111932Z",
     "iopub.status.busy": "2021-08-18T18:45:11.111554Z",
     "iopub.status.idle": "2021-08-18T18:45:11.120084Z",
     "shell.execute_reply": "2021-08-18T18:45:11.119172Z",
     "shell.execute_reply.started": "2021-08-18T18:45:11.111847Z"
    }
   }
  },
  {
   "cell_type": "code",
   "execution_count": 32,
   "source": [
    "# Exercise 28\n",
    "# Write a function definition named is_multiple_of_both_three_and_five that takes in a number and returns True or False if the number is evenly divisible by both 3 and 5.\n",
    "def is_multiple_of_both_three_and_five(number):\n",
    "    if is_multiple_of_five(number):\n",
    "        if is_multiple_of_three(number):\n",
    "            return True\n",
    "        else:\n",
    "            return False\n",
    "    else:\n",
    "        return False\n",
    "\n",
    "assert is_multiple_of_both_three_and_five(15) == True\n",
    "assert is_multiple_of_both_three_and_five(45) == True\n",
    "assert is_multiple_of_both_three_and_five(3) == False\n",
    "assert is_multiple_of_both_three_and_five(9) == False\n",
    "assert is_multiple_of_both_three_and_five(4) == False\n",
    "print(\"Exercise 28 is correct.\")"
   ],
   "outputs": [
    {
     "output_type": "stream",
     "name": "stdout",
     "text": [
      "Exercise 28 is correct.\n"
     ]
    }
   ],
   "metadata": {
    "execution": {
     "iopub.execute_input": "2021-08-18T18:45:11.131036Z",
     "iopub.status.busy": "2021-08-18T18:45:11.130672Z",
     "iopub.status.idle": "2021-08-18T18:45:11.142640Z",
     "shell.execute_reply": "2021-08-18T18:45:11.141721Z",
     "shell.execute_reply.started": "2021-08-18T18:45:11.130969Z"
    }
   }
  },
  {
   "cell_type": "code",
   "execution_count": 33,
   "source": [
    "# Exercise 29\n",
    "# Write a function definition named square that takes in a number and returns the number times itself.\n",
    "def square(number):\n",
    "    squared=number**2\n",
    "    return squared\n",
    "assert square(3) == 9\n",
    "assert square(2) == 4\n",
    "assert square(9) == 81\n",
    "assert square(positive_odd_number) == positive_odd_number * positive_odd_number\n",
    "print(\"Exercise 29 is correct.\")"
   ],
   "outputs": [
    {
     "output_type": "stream",
     "name": "stdout",
     "text": [
      "Exercise 29 is correct.\n"
     ]
    }
   ],
   "metadata": {
    "execution": {
     "iopub.execute_input": "2021-08-18T18:45:11.149134Z",
     "iopub.status.busy": "2021-08-18T18:45:11.148651Z",
     "iopub.status.idle": "2021-08-18T18:45:11.157361Z",
     "shell.execute_reply": "2021-08-18T18:45:11.156438Z",
     "shell.execute_reply.started": "2021-08-18T18:45:11.149086Z"
    }
   }
  },
  {
   "cell_type": "code",
   "execution_count": 34,
   "source": [
    "# Exercise 30\n",
    "# Write a function definition named add that takes in two numbers and returns the sum.\n",
    "def add(x,y):\n",
    "    sum=x+y\n",
    "    return sum\n",
    "assert add(3, 2) == 5\n",
    "assert add(10, -2) == 8\n",
    "assert add(5, 7) == 12\n",
    "print(\"Exercise 30 is correct.\")"
   ],
   "outputs": [
    {
     "output_type": "stream",
     "name": "stdout",
     "text": [
      "Exercise 30 is correct.\n"
     ]
    }
   ],
   "metadata": {
    "execution": {
     "iopub.execute_input": "2021-08-18T18:45:11.159669Z",
     "iopub.status.busy": "2021-08-18T18:45:11.159391Z",
     "iopub.status.idle": "2021-08-18T18:45:11.172196Z",
     "shell.execute_reply": "2021-08-18T18:45:11.170775Z",
     "shell.execute_reply.started": "2021-08-18T18:45:11.159626Z"
    }
   }
  },
  {
   "cell_type": "code",
   "execution_count": 35,
   "source": [
    "# Exercise 31\n",
    "# Write a function definition named cube that takes in a number and returns the number times itself, times itself.\n",
    "def cube(x):\n",
    "    cubed=x**3\n",
    "    return cubed\n",
    "assert cube(3) == 27\n",
    "assert cube(2) == 8\n",
    "assert cube(5) == 125\n",
    "assert cube(positive_odd_number) == positive_odd_number * positive_odd_number * positive_odd_number\n",
    "print(\"Exercise 31 is correct.\")"
   ],
   "outputs": [
    {
     "output_type": "stream",
     "name": "stdout",
     "text": [
      "Exercise 31 is correct.\n"
     ]
    }
   ],
   "metadata": {
    "execution": {
     "iopub.execute_input": "2021-08-18T18:45:11.175950Z",
     "iopub.status.busy": "2021-08-18T18:45:11.175360Z",
     "iopub.status.idle": "2021-08-18T18:45:11.187589Z",
     "shell.execute_reply": "2021-08-18T18:45:11.186131Z",
     "shell.execute_reply.started": "2021-08-18T18:45:11.175794Z"
    }
   }
  },
  {
   "cell_type": "code",
   "execution_count": 36,
   "source": [
    "# Exercise 32\n",
    "# Write a function definition named square_root that takes in a number and returns the square root of the provided number\n",
    "def square_root(x):\n",
    "    rooted=x**(1/2)\n",
    "    return rooted\n",
    "assert square_root(4) == 2.0\n",
    "assert square_root(64) == 8.0\n",
    "assert square_root(81) == 9.0\n",
    "print(\"Exercise 32 is correct.\")"
   ],
   "outputs": [
    {
     "output_type": "stream",
     "name": "stdout",
     "text": [
      "Exercise 32 is correct.\n"
     ]
    }
   ],
   "metadata": {
    "execution": {
     "iopub.execute_input": "2021-08-18T18:45:11.193463Z",
     "iopub.status.busy": "2021-08-18T18:45:11.193035Z",
     "iopub.status.idle": "2021-08-18T18:45:11.202120Z",
     "shell.execute_reply": "2021-08-18T18:45:11.200701Z",
     "shell.execute_reply.started": "2021-08-18T18:45:11.193382Z"
    }
   }
  },
  {
   "cell_type": "code",
   "execution_count": 37,
   "source": [
    "# Exercise 33\n",
    "# Write a function definition named subtract that takes in two numbers and returns the first minus the second argument.\n",
    "def subtract(x,y):\n",
    "    sub=x-y\n",
    "    return sub\n",
    "assert subtract(8, 6) == 2\n",
    "assert subtract(27, 4) == 23\n",
    "assert subtract(12, 2) == 10\n",
    "print(\"Exercise 33 is correct.\")"
   ],
   "outputs": [
    {
     "output_type": "stream",
     "name": "stdout",
     "text": [
      "Exercise 33 is correct.\n"
     ]
    }
   ],
   "metadata": {
    "execution": {
     "iopub.execute_input": "2021-08-18T18:45:11.211900Z",
     "iopub.status.busy": "2021-08-18T18:45:11.211534Z",
     "iopub.status.idle": "2021-08-18T18:45:11.219154Z",
     "shell.execute_reply": "2021-08-18T18:45:11.218275Z",
     "shell.execute_reply.started": "2021-08-18T18:45:11.211812Z"
    }
   }
  },
  {
   "cell_type": "code",
   "execution_count": 38,
   "source": [
    "# Exercise 34\n",
    "# Write a function definition named multiply that takes in two numbers and returns the first times the second argument.\n",
    "def multiply(x,y):\n",
    "    prod=x*y\n",
    "    return prod\n",
    "assert multiply(2, 1) == 2\n",
    "assert multiply(3, 5) == 15\n",
    "assert multiply(5, 2) == 10\n",
    "print(\"Exercise 34 is correct.\")"
   ],
   "outputs": [
    {
     "output_type": "stream",
     "name": "stdout",
     "text": [
      "Exercise 34 is correct.\n"
     ]
    }
   ],
   "metadata": {
    "execution": {
     "iopub.execute_input": "2021-08-18T18:45:11.230965Z",
     "iopub.status.busy": "2021-08-18T18:45:11.230610Z",
     "iopub.status.idle": "2021-08-18T18:45:11.240322Z",
     "shell.execute_reply": "2021-08-18T18:45:11.238532Z",
     "shell.execute_reply.started": "2021-08-18T18:45:11.230920Z"
    }
   }
  },
  {
   "cell_type": "code",
   "execution_count": 39,
   "source": [
    "# Exercise 35\n",
    "# Write a function definition named divide that takes in two numbers and returns the first argument divided by the second argument.\n",
    "def divide(x,y):\n",
    "    div=x/y\n",
    "    return div\n",
    "assert divide(27, 9) == 3\n",
    "assert divide(15, 3) == 5\n",
    "assert divide(5, 2) == 2.5\n",
    "assert divide(10, 2) == 5\n",
    "print(\"Exercise 35 is correct.\")"
   ],
   "outputs": [
    {
     "output_type": "stream",
     "name": "stdout",
     "text": [
      "Exercise 35 is correct.\n"
     ]
    }
   ],
   "metadata": {
    "execution": {
     "iopub.execute_input": "2021-08-18T18:45:11.243810Z",
     "iopub.status.busy": "2021-08-18T18:45:11.243377Z",
     "iopub.status.idle": "2021-08-18T18:45:11.255904Z",
     "shell.execute_reply": "2021-08-18T18:45:11.254505Z",
     "shell.execute_reply.started": "2021-08-18T18:45:11.243737Z"
    }
   }
  },
  {
   "cell_type": "code",
   "execution_count": 40,
   "source": [
    "# Exercise 36\n",
    "# Write a function definition named quotient that takes in two numbers and returns only the quotient from dividing the first argument by the second argument.\n",
    "def quotient(x,y):\n",
    "    quotient=int(x/y)\n",
    "    return quotient\n",
    "assert quotient(27, 9) == 3\n",
    "assert quotient(5, 2) == 2\n",
    "assert quotient(10, 3) == 3\n",
    "print(\"Exercise 36 is correct.\")"
   ],
   "outputs": [
    {
     "output_type": "stream",
     "name": "stdout",
     "text": [
      "Exercise 36 is correct.\n"
     ]
    }
   ],
   "metadata": {
    "execution": {
     "iopub.execute_input": "2021-08-18T18:45:11.265393Z",
     "iopub.status.busy": "2021-08-18T18:45:11.264996Z",
     "iopub.status.idle": "2021-08-18T18:45:11.272685Z",
     "shell.execute_reply": "2021-08-18T18:45:11.271492Z",
     "shell.execute_reply.started": "2021-08-18T18:45:11.265329Z"
    }
   }
  },
  {
   "cell_type": "code",
   "execution_count": 41,
   "source": [
    "# Exercise 37\n",
    "# Write a function definition named remainder that takes in two numbers and returns the remainder of first argument divided by the second argument.\n",
    "def remainder(x,y):\n",
    "    remainder=x%y\n",
    "    return remainder\n",
    "assert remainder(3, 3) == 0\n",
    "assert remainder(5, 2) == 1\n",
    "assert remainder(7, 5) == 2\n",
    "print(\"Exercise 37 is correct.\")"
   ],
   "outputs": [
    {
     "output_type": "stream",
     "name": "stdout",
     "text": [
      "Exercise 37 is correct.\n"
     ]
    }
   ],
   "metadata": {
    "execution": {
     "iopub.execute_input": "2021-08-18T18:45:11.274895Z",
     "iopub.status.busy": "2021-08-18T18:45:11.274568Z",
     "iopub.status.idle": "2021-08-18T18:45:11.287923Z",
     "shell.execute_reply": "2021-08-18T18:45:11.287040Z",
     "shell.execute_reply.started": "2021-08-18T18:45:11.274814Z"
    }
   }
  },
  {
   "cell_type": "code",
   "execution_count": 42,
   "source": [
    "# Exercise 38\n",
    "# Write a function definition named sum_of_squares that takes in two numbers, squares each number, then returns the sum of both squares.\n",
    "def sum_of_squares(x,y):\n",
    "    x2=square(x)\n",
    "    y2=square(y)\n",
    "    sum2=add(x2,y2)\n",
    "    return sum2\n",
    "assert sum_of_squares(3, 2) == 13\n",
    "assert sum_of_squares(5, 2) == 29\n",
    "assert sum_of_squares(2, 4) == 20\n",
    "print(\"Exercise 38 is correct.\")"
   ],
   "outputs": [
    {
     "output_type": "stream",
     "name": "stdout",
     "text": [
      "Exercise 38 is correct.\n"
     ]
    }
   ],
   "metadata": {
    "execution": {
     "iopub.execute_input": "2021-08-18T18:45:11.295335Z",
     "iopub.status.busy": "2021-08-18T18:45:11.294706Z",
     "iopub.status.idle": "2021-08-18T18:45:11.310282Z",
     "shell.execute_reply": "2021-08-18T18:45:11.308961Z",
     "shell.execute_reply.started": "2021-08-18T18:45:11.295094Z"
    }
   }
  },
  {
   "cell_type": "code",
   "execution_count": 43,
   "source": [
    "# Exercise 39\n",
    "# Write a function definition named times_two_plus_three that takes in a number, multiplies it by two, adds 3 and returns the result.\n",
    "def times_two_plus_three(x):\n",
    "    ttpt=x*2+3\n",
    "    return ttpt\n",
    "assert times_two_plus_three(0) == 3\n",
    "assert times_two_plus_three(1) == 5\n",
    "assert times_two_plus_three(2) == 7\n",
    "assert times_two_plus_three(3) == 9\n",
    "assert times_two_plus_three(5) == 13\n",
    "print(\"Exercise 39 is correct.\")"
   ],
   "outputs": [
    {
     "output_type": "stream",
     "name": "stdout",
     "text": [
      "Exercise 39 is correct.\n"
     ]
    }
   ],
   "metadata": {
    "execution": {
     "iopub.execute_input": "2021-08-18T18:45:11.314016Z",
     "iopub.status.busy": "2021-08-18T18:45:11.313561Z",
     "iopub.status.idle": "2021-08-18T18:45:11.324674Z",
     "shell.execute_reply": "2021-08-18T18:45:11.322975Z",
     "shell.execute_reply.started": "2021-08-18T18:45:11.313952Z"
    }
   }
  },
  {
   "cell_type": "code",
   "execution_count": 44,
   "source": [
    "# Exercise 40\n",
    "# Write a function definition named area_of_rectangle that takes in two numbers and returns the product.\n",
    "def area_of_rectangle(x,y):\n",
    "    area=multiply(x,y)\n",
    "    return area\n",
    "assert area_of_rectangle(1, 3) == 3\n",
    "assert area_of_rectangle(5, 2) == 10\n",
    "assert area_of_rectangle(2, 7) == 14\n",
    "assert area_of_rectangle(5.3, 10.3) == 54.59\n",
    "print(\"Exercise 40 is correct.\")"
   ],
   "outputs": [
    {
     "output_type": "stream",
     "name": "stdout",
     "text": [
      "Exercise 40 is correct.\n"
     ]
    }
   ],
   "metadata": {
    "execution": {
     "iopub.execute_input": "2021-08-18T18:45:11.326814Z",
     "iopub.status.busy": "2021-08-18T18:45:11.326155Z",
     "iopub.status.idle": "2021-08-18T18:45:11.341645Z",
     "shell.execute_reply": "2021-08-18T18:45:11.340212Z",
     "shell.execute_reply.started": "2021-08-18T18:45:11.326769Z"
    }
   }
  },
  {
   "cell_type": "code",
   "execution_count": 45,
   "source": [
    "import math\n",
    "# Exercise 41\n",
    "# Write a function definition named area_of_circle that takes in a number representing a circle's radius and returns the area of the circl\n",
    "def area_of_circle(r):\n",
    "    areac=r**2*math.pi\n",
    "    return areac\n",
    "assert area_of_circle(3) == 28.274333882308138\n",
    "assert area_of_circle(5) == 78.53981633974483\n",
    "assert area_of_circle(7) == 153.93804002589985\n",
    "print(\"Exercise 41 is correct.\")"
   ],
   "outputs": [
    {
     "output_type": "stream",
     "name": "stdout",
     "text": [
      "Exercise 41 is correct.\n"
     ]
    }
   ],
   "metadata": {
    "execution": {
     "iopub.execute_input": "2021-08-18T18:45:11.344924Z",
     "iopub.status.busy": "2021-08-18T18:45:11.344166Z",
     "iopub.status.idle": "2021-08-18T18:45:11.357812Z",
     "shell.execute_reply": "2021-08-18T18:45:11.356883Z",
     "shell.execute_reply.started": "2021-08-18T18:45:11.344852Z"
    }
   }
  },
  {
   "cell_type": "code",
   "execution_count": 46,
   "source": [
    "import math\n",
    "# Exercise 42\n",
    "# Write a function definition named circumference that takes in a number representing a circle's radius and returns the circumference.\n",
    "def circumference(r):\n",
    "    circumference=2*r*math.pi\n",
    "    return circumference\n",
    "assert circumference(3) == 18.84955592153876\n",
    "assert circumference(5) == 31.41592653589793\n",
    "assert circumference(7) == 43.982297150257104\n",
    "print(\"Exercise 42 is correct.\")"
   ],
   "outputs": [
    {
     "output_type": "stream",
     "name": "stdout",
     "text": [
      "Exercise 42 is correct.\n"
     ]
    }
   ],
   "metadata": {
    "execution": {
     "iopub.execute_input": "2021-08-18T18:45:11.360132Z",
     "iopub.status.busy": "2021-08-18T18:45:11.359724Z",
     "iopub.status.idle": "2021-08-18T18:45:11.368928Z",
     "shell.execute_reply": "2021-08-18T18:45:11.368183Z",
     "shell.execute_reply.started": "2021-08-18T18:45:11.360093Z"
    }
   }
  },
  {
   "cell_type": "markdown",
   "source": [
    "## Functions working with strings"
   ],
   "metadata": {}
  },
  {
   "cell_type": "code",
   "execution_count": 47,
   "source": [
    "# Exercise 43\n",
    "# Write a function definition named is_vowel that takes in value and returns True if the value is a, e, i, o, u in upper or lower case.\n",
    "def is_vowel(x):\n",
    "    vowels=[\"a\",\"e\",\"i\",\"o\",\"u\",\"A\",\"E\",\"I\",\"O\",\"U\"]\n",
    "    for i in vowels:\n",
    "        if x == i:\n",
    "            return True\n",
    "            break\n",
    "    else:\n",
    "        return False\n",
    "\n",
    "    \n",
    "assert is_vowel(\"a\") == True\n",
    "assert is_vowel(\"U\") == True\n",
    "assert is_vowel(\"banana\") == False\n",
    "assert is_vowel(\"Q\") == False\n",
    "assert is_vowel(\"y\") == False\n",
    "print(\"Exercise 43 is correct.\")"
   ],
   "outputs": [
    {
     "output_type": "stream",
     "name": "stdout",
     "text": [
      "Exercise 43 is correct.\n"
     ]
    }
   ],
   "metadata": {
    "execution": {
     "iopub.execute_input": "2021-08-18T18:45:11.375594Z",
     "iopub.status.busy": "2021-08-18T18:45:11.375308Z",
     "iopub.status.idle": "2021-08-18T18:45:11.386239Z",
     "shell.execute_reply": "2021-08-18T18:45:11.385571Z",
     "shell.execute_reply.started": "2021-08-18T18:45:11.375548Z"
    }
   }
  },
  {
   "cell_type": "code",
   "execution_count": 48,
   "source": [
    "# Exercise 44\n",
    "# Write a function definition named has_vowels that takes in value and returns True if the string contains any vowels.\n",
    "def has_vowels(string):\n",
    "    for i in string:\n",
    "        if is_vowel(i):\n",
    "            return True\n",
    "            break\n",
    "    return False\n",
    "        \n",
    "assert has_vowels(\"banana\") == True\n",
    "assert has_vowels(\"ubuntu\") == True\n",
    "assert has_vowels(\"QQQQ\") == False\n",
    "assert has_vowels(\"wyrd\") == False\n",
    "print(\"Exercise 44 is correct.\")"
   ],
   "outputs": [
    {
     "output_type": "stream",
     "name": "stdout",
     "text": [
      "Exercise 44 is correct.\n"
     ]
    }
   ],
   "metadata": {
    "execution": {
     "iopub.execute_input": "2021-08-18T18:45:11.422198Z",
     "iopub.status.busy": "2021-08-18T18:45:11.421797Z",
     "iopub.status.idle": "2021-08-18T18:45:11.430145Z",
     "shell.execute_reply": "2021-08-18T18:45:11.428881Z",
     "shell.execute_reply.started": "2021-08-18T18:45:11.422148Z"
    }
   }
  },
  {
   "cell_type": "code",
   "execution_count": 49,
   "source": [
    "# Exercise 45\n",
    "# Write a function definition named count_vowels that takes in value and returns the count of the nubmer of vowels in a sequence.\n",
    "def count_vowels(string):\n",
    "    word_vowels=[]\n",
    "    for i in string:\n",
    "        if is_vowel(i):\n",
    "            word_vowels.append(i)\n",
    "    num_vowels=len(word_vowels)\n",
    "    return num_vowels\n",
    "assert count_vowels(\"banana\") == 3\n",
    "assert count_vowels(\"ubuntu\") == 3\n",
    "assert count_vowels(\"mango\") == 2\n",
    "assert count_vowels(\"QQQQ\") == 0\n",
    "assert count_vowels(\"wyrd\") == 0\n",
    "print(\"Exercise 45 is correct.\")"
   ],
   "outputs": [
    {
     "output_type": "stream",
     "name": "stdout",
     "text": [
      "Exercise 45 is correct.\n"
     ]
    }
   ],
   "metadata": {
    "execution": {
     "iopub.execute_input": "2021-08-18T18:45:11.482786Z",
     "iopub.status.busy": "2021-08-18T18:45:11.482452Z",
     "iopub.status.idle": "2021-08-18T18:45:11.491922Z",
     "shell.execute_reply": "2021-08-18T18:45:11.490556Z",
     "shell.execute_reply.started": "2021-08-18T18:45:11.482736Z"
    }
   }
  },
  {
   "cell_type": "code",
   "execution_count": 50,
   "source": [
    "import re\n",
    "# Exercise 46\n",
    "# Write a function definition named remove_vowels that takes in string and returns the string without any vowels\n",
    "def remove_vowels(string):    \n",
    "\n",
    "    \n",
    "    return (re.sub(\"[aeiouAEIOU]\",\"\",string)) \n",
    "assert remove_vowels(\"banana\") == \"bnn\"\n",
    "assert remove_vowels(\"ubuntu\") == \"bnt\"\n",
    "assert remove_vowels(\"mango\") == \"mng\"\n",
    "assert remove_vowels(\"QQQQ\") == \"QQQQ\"\n",
    "print(\"Exercise 46 is correct.\")"
   ],
   "outputs": [
    {
     "output_type": "stream",
     "name": "stdout",
     "text": [
      "Exercise 46 is correct.\n"
     ]
    }
   ],
   "metadata": {
    "execution": {
     "iopub.execute_input": "2021-08-18T18:45:11.514135Z",
     "iopub.status.busy": "2021-08-18T18:45:11.513616Z",
     "iopub.status.idle": "2021-08-18T18:45:11.522998Z",
     "shell.execute_reply": "2021-08-18T18:45:11.522048Z",
     "shell.execute_reply.started": "2021-08-18T18:45:11.514076Z"
    }
   }
  },
  {
   "cell_type": "code",
   "execution_count": 51,
   "source": [
    "# Exercise 47\n",
    "# Write a function definition named starts_with_vowel that takes in string and True if the string starts with a vowel\n",
    "def starts_with_vowel(string):\n",
    "    if is_vowel(string[0]):\n",
    "        return True\n",
    "    else:\n",
    "        return False\n",
    "assert starts_with_vowel(\"ubuntu\") == True\n",
    "assert starts_with_vowel(\"banana\") == False\n",
    "assert starts_with_vowel(\"mango\") == False\n",
    "print(\"Exercise 47 is correct.\")"
   ],
   "outputs": [
    {
     "output_type": "stream",
     "name": "stdout",
     "text": [
      "Exercise 47 is correct.\n"
     ]
    }
   ],
   "metadata": {
    "execution": {
     "iopub.execute_input": "2021-08-18T18:45:11.566623Z",
     "iopub.status.busy": "2021-08-18T18:45:11.566310Z",
     "iopub.status.idle": "2021-08-18T18:45:11.573237Z",
     "shell.execute_reply": "2021-08-18T18:45:11.572422Z",
     "shell.execute_reply.started": "2021-08-18T18:45:11.566574Z"
    }
   }
  },
  {
   "cell_type": "code",
   "execution_count": 52,
   "source": [
    "# Exercise 48\n",
    "# Write a function definition named ends_with_vowel that takes in string and True if the string ends with a vowel\n",
    "def ends_with_vowel(string):\n",
    "    if is_vowel(string[-1]):\n",
    "        return True\n",
    "    else:\n",
    "        return False\n",
    "assert ends_with_vowel(\"ubuntu\") == True\n",
    "assert ends_with_vowel(\"banana\") == True\n",
    "assert ends_with_vowel(\"mango\") == True\n",
    "assert ends_with_vowel(\"spinach\") == False\n",
    "print(\"Exercise 48 is correct.\")"
   ],
   "outputs": [
    {
     "output_type": "stream",
     "name": "stdout",
     "text": [
      "Exercise 48 is correct.\n"
     ]
    }
   ],
   "metadata": {
    "execution": {
     "iopub.execute_input": "2021-08-18T18:45:11.584023Z",
     "iopub.status.busy": "2021-08-18T18:45:11.583669Z",
     "iopub.status.idle": "2021-08-18T18:45:11.592167Z",
     "shell.execute_reply": "2021-08-18T18:45:11.590900Z",
     "shell.execute_reply.started": "2021-08-18T18:45:11.583962Z"
    }
   }
  },
  {
   "cell_type": "code",
   "execution_count": 53,
   "source": [
    "# Exercise 49\n",
    "# Write a function definition named starts_and_ends_with_vowel that takes in string and returns True if the string starts and ends with a vowel\n",
    "def starts_and_ends_with_vowel(string):\n",
    "    if starts_with_vowel(string):\n",
    "        if ends_with_vowel(string):\n",
    "            return True\n",
    "    return False        \n",
    "assert starts_and_ends_with_vowel(\"ubuntu\") == True\n",
    "assert starts_and_ends_with_vowel(\"banana\") == False\n",
    "assert starts_and_ends_with_vowel(\"mango\") == False\n",
    "print(\"Exercise 49 is correct.\")"
   ],
   "outputs": [
    {
     "output_type": "stream",
     "name": "stdout",
     "text": [
      "Exercise 49 is correct.\n"
     ]
    }
   ],
   "metadata": {
    "execution": {
     "iopub.execute_input": "2021-08-18T18:45:11.640689Z",
     "iopub.status.busy": "2021-08-18T18:45:11.640193Z",
     "iopub.status.idle": "2021-08-18T18:45:11.649232Z",
     "shell.execute_reply": "2021-08-18T18:45:11.648229Z",
     "shell.execute_reply.started": "2021-08-18T18:45:11.640624Z"
    }
   }
  },
  {
   "cell_type": "markdown",
   "source": [
    "## Accessing List Elements"
   ],
   "metadata": {}
  },
  {
   "cell_type": "code",
   "execution_count": 54,
   "source": [
    "# Exercise 50\n",
    "# Write a function definition named first that takes in sequence and returns the first value of that sequence.\n",
    "def first(x):\n",
    "    return x[0]\n",
    "assert first(\"ubuntu\") == \"u\"\n",
    "assert first([1, 2, 3]) == 1\n",
    "assert first([\"python\", \"is\", \"awesome\"]) == \"python\"\n",
    "print(\"Exercise 50 is correct.\")"
   ],
   "outputs": [
    {
     "output_type": "stream",
     "name": "stdout",
     "text": [
      "Exercise 50 is correct.\n"
     ]
    }
   ],
   "metadata": {
    "execution": {
     "iopub.execute_input": "2021-08-18T18:45:11.664021Z",
     "iopub.status.busy": "2021-08-18T18:45:11.663677Z",
     "iopub.status.idle": "2021-08-18T18:45:11.671620Z",
     "shell.execute_reply": "2021-08-18T18:45:11.670433Z",
     "shell.execute_reply.started": "2021-08-18T18:45:11.663958Z"
    }
   }
  },
  {
   "cell_type": "code",
   "execution_count": 55,
   "source": [
    "# Exercise 51\n",
    "# Write a function definition named second that takes in sequence and returns the second value of that sequence.\n",
    "def second(x):\n",
    "    return x[1]\n",
    "assert second(\"ubuntu\") == \"b\"\n",
    "assert second([1, 2, 3]) == 2\n",
    "assert second([\"python\", \"is\", \"awesome\"]) == \"is\"\n",
    "print(\"Exercise 51 is correct.\")"
   ],
   "outputs": [
    {
     "output_type": "stream",
     "name": "stdout",
     "text": [
      "Exercise 51 is correct.\n"
     ]
    }
   ],
   "metadata": {
    "execution": {
     "iopub.execute_input": "2021-08-18T18:45:11.683939Z",
     "iopub.status.busy": "2021-08-18T18:45:11.683633Z",
     "iopub.status.idle": "2021-08-18T18:45:11.691281Z",
     "shell.execute_reply": "2021-08-18T18:45:11.690289Z",
     "shell.execute_reply.started": "2021-08-18T18:45:11.683893Z"
    }
   }
  },
  {
   "cell_type": "code",
   "execution_count": 56,
   "source": [
    "# Exercise 52\n",
    "# Write a function definition named third that takes in sequence and returns the third value of that sequence.\n",
    "def third(x):\n",
    "    return x[2]\n",
    "assert third(\"ubuntu\") == \"u\"\n",
    "assert third([1, 2, 3]) == 3\n",
    "assert third([\"python\", \"is\", \"awesome\"]) == \"awesome\"\n",
    "print(\"Exercise 52 is correct.\")"
   ],
   "outputs": [
    {
     "output_type": "stream",
     "name": "stdout",
     "text": [
      "Exercise 52 is correct.\n"
     ]
    }
   ],
   "metadata": {
    "execution": {
     "iopub.execute_input": "2021-08-18T18:45:11.700153Z",
     "iopub.status.busy": "2021-08-18T18:45:11.699798Z",
     "iopub.status.idle": "2021-08-18T18:45:11.708195Z",
     "shell.execute_reply": "2021-08-18T18:45:11.707033Z",
     "shell.execute_reply.started": "2021-08-18T18:45:11.700102Z"
    }
   }
  },
  {
   "cell_type": "code",
   "execution_count": 57,
   "source": [
    "# Exercise 53\n",
    "# Write a function definition named forth that takes in sequence and returns the forth value of that sequence.\n",
    "def forth(x):\n",
    "    return x[3]\n",
    "assert forth(\"ubuntu\") == \"n\"\n",
    "assert forth([1, 2, 3, 4]) == 4\n",
    "assert forth([\"python\", \"is\", \"awesome\", \"right?\"]) == \"right?\"\n",
    "print(\"Exercise 53 is correct.\")"
   ],
   "outputs": [
    {
     "output_type": "stream",
     "name": "stdout",
     "text": [
      "Exercise 53 is correct.\n"
     ]
    }
   ],
   "metadata": {
    "execution": {
     "iopub.execute_input": "2021-08-18T18:45:11.721616Z",
     "iopub.status.busy": "2021-08-18T18:45:11.721136Z",
     "iopub.status.idle": "2021-08-18T18:45:11.731365Z",
     "shell.execute_reply": "2021-08-18T18:45:11.730012Z",
     "shell.execute_reply.started": "2021-08-18T18:45:11.721538Z"
    }
   }
  },
  {
   "cell_type": "code",
   "execution_count": 58,
   "source": [
    "# Exercise 54\n",
    "# Write a function definition named last that takes in sequence and returns the last value of that sequence.\n",
    "def last(x):\n",
    "    return x[-1]\n",
    "assert last(\"ubuntu\") == \"u\"\n",
    "assert last([1, 2, 3, 4]) == 4\n",
    "assert last([\"python\", \"is\", \"awesome\"]) == \"awesome\"\n",
    "assert last([\"kiwi\", \"mango\", \"guava\"]) == \"guava\"\n",
    "print(\"Exercise 54 is correct.\")"
   ],
   "outputs": [
    {
     "output_type": "stream",
     "name": "stdout",
     "text": [
      "Exercise 54 is correct.\n"
     ]
    }
   ],
   "metadata": {
    "execution": {
     "iopub.execute_input": "2021-08-18T18:45:11.743131Z",
     "iopub.status.busy": "2021-08-18T18:45:11.742845Z",
     "iopub.status.idle": "2021-08-18T18:45:11.752124Z",
     "shell.execute_reply": "2021-08-18T18:45:11.750756Z",
     "shell.execute_reply.started": "2021-08-18T18:45:11.743094Z"
    }
   }
  },
  {
   "cell_type": "code",
   "execution_count": 59,
   "source": [
    "# Exercise 55\n",
    "# Write a function definition named second_to_last that takes in sequence and returns the second to last value of that sequence.\n",
    "def second_to_last(x):\n",
    "    return x[-2]\n",
    "assert second_to_last(\"ubuntu\") == \"t\"\n",
    "assert second_to_last([1, 2, 3, 4]) == 3\n",
    "assert second_to_last([\"python\", \"is\", \"awesome\"]) == \"is\"\n",
    "assert second_to_last([\"kiwi\", \"mango\", \"guava\"]) == \"mango\"\n",
    "print(\"Exercise 55 is correct.\")"
   ],
   "outputs": [
    {
     "output_type": "stream",
     "name": "stdout",
     "text": [
      "Exercise 55 is correct.\n"
     ]
    }
   ],
   "metadata": {
    "execution": {
     "iopub.execute_input": "2021-08-18T18:45:11.754681Z",
     "iopub.status.busy": "2021-08-18T18:45:11.754352Z",
     "iopub.status.idle": "2021-08-18T18:45:11.771300Z",
     "shell.execute_reply": "2021-08-18T18:45:11.762972Z",
     "shell.execute_reply.started": "2021-08-18T18:45:11.754615Z"
    }
   }
  },
  {
   "cell_type": "code",
   "execution_count": 60,
   "source": [
    "# Exercise 56\n",
    "# Write a function definition named third_to_last that takes in sequence and returns the third to last value of that sequence.\n",
    "def third_to_last(x):\n",
    "    return x[-3]\n",
    "assert third_to_last(\"ubuntu\") == \"n\"\n",
    "assert third_to_last([1, 2, 3, 4]) == 2\n",
    "assert third_to_last([\"python\", \"is\", \"awesome\"]) == \"python\"\n",
    "assert third_to_last([\"strawberry\", \"kiwi\", \"mango\", \"guava\"]) == \"kiwi\"\n",
    "print(\"Exercise 56 is correct.\")"
   ],
   "outputs": [
    {
     "output_type": "stream",
     "name": "stdout",
     "text": [
      "Exercise 56 is correct.\n"
     ]
    }
   ],
   "metadata": {
    "execution": {
     "iopub.execute_input": "2021-08-18T18:45:11.774570Z",
     "iopub.status.busy": "2021-08-18T18:45:11.774198Z",
     "iopub.status.idle": "2021-08-18T18:45:11.785190Z",
     "shell.execute_reply": "2021-08-18T18:45:11.784058Z",
     "shell.execute_reply.started": "2021-08-18T18:45:11.774514Z"
    }
   }
  },
  {
   "cell_type": "code",
   "execution_count": 61,
   "source": [
    "# Exercise 57\n",
    "# Write a function definition named first_and_second that takes in sequence and returns the first and second value of that sequence as a list\n",
    "def first_and_second(x):\n",
    "    firstandsecond=[x[0],x[1]]\n",
    "    return firstandsecond\n",
    "    \n",
    "assert first_and_second([1, 2, 3, 4]) == [1, 2]\n",
    "assert first_and_second([\"python\", \"is\", \"awesome\"]) == [\"python\", \"is\"]\n",
    "assert first_and_second([\"strawberry\", \"kiwi\", \"mango\", \"guava\"]) == [\"strawberry\", \"kiwi\"]\n",
    "print(\"Exercise 57 is correct.\")"
   ],
   "outputs": [
    {
     "output_type": "stream",
     "name": "stdout",
     "text": [
      "Exercise 57 is correct.\n"
     ]
    }
   ],
   "metadata": {
    "execution": {
     "iopub.execute_input": "2021-08-18T18:45:11.788662Z",
     "iopub.status.busy": "2021-08-18T18:45:11.788309Z",
     "iopub.status.idle": "2021-08-18T18:45:11.799914Z",
     "shell.execute_reply": "2021-08-18T18:45:11.798547Z",
     "shell.execute_reply.started": "2021-08-18T18:45:11.788595Z"
    }
   }
  },
  {
   "cell_type": "code",
   "execution_count": 62,
   "source": [
    "# Exercise 58\n",
    "# Write a function definition named first_and_last that takes in sequence and returns the first and last value of that sequence as a list\n",
    "def first_and_last(x):\n",
    "    firstandsecond=[x[0],x[-1]]\n",
    "    return firstandsecond\n",
    "assert first_and_last([1, 2, 3, 4]) == [1, 4]\n",
    "assert first_and_last([\"python\", \"is\", \"awesome\"]) == [\"python\", \"awesome\"]\n",
    "assert first_and_last([\"strawberry\", \"kiwi\", \"mango\", \"guava\"]) == [\"strawberry\", \"guava\"]\n",
    "print(\"Exercise 58 is correct.\")"
   ],
   "outputs": [
    {
     "output_type": "stream",
     "name": "stdout",
     "text": [
      "Exercise 58 is correct.\n"
     ]
    }
   ],
   "metadata": {
    "execution": {
     "iopub.execute_input": "2021-08-18T18:45:11.815686Z",
     "iopub.status.busy": "2021-08-18T18:45:11.815306Z",
     "iopub.status.idle": "2021-08-18T18:45:11.824041Z",
     "shell.execute_reply": "2021-08-18T18:45:11.822894Z",
     "shell.execute_reply.started": "2021-08-18T18:45:11.815617Z"
    }
   }
  },
  {
   "cell_type": "code",
   "execution_count": 63,
   "source": [
    "# Exercise 59\n",
    "# Write a function definition named first_to_last that takes in sequence and returns the sequence with the first value moved to the end of the sequence.\n",
    "def first_to_last(x):\n",
    "    x.append(x[0])\n",
    "    x.remove(x[0])\n",
    "    return x\n",
    "assert first_to_last([1, 2, 3, 4]) == [2, 3, 4, 1]\n",
    "assert first_to_last([\"python\", \"is\", \"awesome\"]) == [\"is\", \"awesome\", \"python\"]\n",
    "assert first_to_last([\"strawberry\", \"kiwi\", \"mango\", \"guava\"]) == [\"kiwi\", \"mango\", \"guava\", \"strawberry\"]\n",
    "print(\"Exercise 59 is correct.\")"
   ],
   "outputs": [
    {
     "output_type": "stream",
     "name": "stdout",
     "text": [
      "Exercise 59 is correct.\n"
     ]
    }
   ],
   "metadata": {
    "execution": {
     "iopub.execute_input": "2021-08-18T18:45:11.826036Z",
     "iopub.status.busy": "2021-08-18T18:45:11.825592Z",
     "iopub.status.idle": "2021-08-18T18:45:11.836883Z",
     "shell.execute_reply": "2021-08-18T18:45:11.835877Z",
     "shell.execute_reply.started": "2021-08-18T18:45:11.825988Z"
    }
   }
  },
  {
   "cell_type": "markdown",
   "source": [
    "## Functions to describe data "
   ],
   "metadata": {}
  },
  {
   "cell_type": "code",
   "execution_count": 64,
   "source": [
    "# Exercise 60\n",
    "# Write a function definition named sum_all that takes in sequence of numbers and returns all the numbers added together.\n",
    "def sum_all(list):\n",
    "    #sumoflist=0\n",
    "    #for i in list:\n",
    "    #    sumoflist=sumoflist+i\n",
    "    return sum(list)    \n",
    "assert sum_all([1, 2, 3, 4]) == 10\n",
    "assert sum_all([3, 3, 3]) == 9\n",
    "assert sum_all([0, 5, 6]) == 11\n",
    "print(\"Exercise 60 is correct.\")"
   ],
   "outputs": [
    {
     "output_type": "stream",
     "name": "stdout",
     "text": [
      "Exercise 60 is correct.\n"
     ]
    }
   ],
   "metadata": {
    "execution": {
     "iopub.execute_input": "2021-08-18T18:45:11.848453Z",
     "iopub.status.busy": "2021-08-18T18:45:11.848123Z",
     "iopub.status.idle": "2021-08-18T18:45:11.856184Z",
     "shell.execute_reply": "2021-08-18T18:45:11.855346Z",
     "shell.execute_reply.started": "2021-08-18T18:45:11.848399Z"
    }
   }
  },
  {
   "cell_type": "code",
   "execution_count": 65,
   "source": [
    "# Exercise 61\n",
    "# Write a function definition named mean that takes in sequence of numbers and returns the average value\n",
    "def mean(list):\n",
    "    mean=sum_all(list)/len(list)\n",
    "    return mean\n",
    "assert mean([1, 2, 3, 4]) == 2.5\n",
    "assert mean([3, 3, 3]) == 3\n",
    "assert mean([1, 5, 6]) == 4\n",
    "print(\"Exercise 61 is correct.\")"
   ],
   "outputs": [
    {
     "output_type": "stream",
     "name": "stdout",
     "text": [
      "Exercise 61 is correct.\n"
     ]
    }
   ],
   "metadata": {
    "execution": {
     "iopub.execute_input": "2021-08-18T18:45:11.858153Z",
     "iopub.status.busy": "2021-08-18T18:45:11.857849Z",
     "iopub.status.idle": "2021-08-18T18:45:11.870448Z",
     "shell.execute_reply": "2021-08-18T18:45:11.869354Z",
     "shell.execute_reply.started": "2021-08-18T18:45:11.858110Z"
    }
   }
  },
  {
   "cell_type": "code",
   "execution_count": 66,
   "source": [
    "# Exercise 62\n",
    "# Write a function definition named median that takes in sequence of numbers and returns the average value\n",
    "import statistics\n",
    "def median(list):\n",
    "    median=statistics.median(list)\n",
    "    return median\n",
    "    \n",
    "assert median([1, 2, 3, 4, 5]) == 3.0\n",
    "assert median([1, 2, 3]) == 2.0\n",
    "assert median([1, 5, 6]) == 5.0\n",
    "assert median([1, 2, 5, 6]) == 3.5\n",
    "print(\"Exercise 62 is correct.\")"
   ],
   "outputs": [
    {
     "output_type": "stream",
     "name": "stdout",
     "text": [
      "Exercise 62 is correct.\n"
     ]
    }
   ],
   "metadata": {
    "execution": {
     "iopub.execute_input": "2021-08-18T18:45:11.882425Z",
     "iopub.status.busy": "2021-08-18T18:45:11.882107Z",
     "iopub.status.idle": "2021-08-18T18:45:11.891617Z",
     "shell.execute_reply": "2021-08-18T18:45:11.890563Z",
     "shell.execute_reply.started": "2021-08-18T18:45:11.882371Z"
    }
   }
  },
  {
   "cell_type": "code",
   "execution_count": 67,
   "source": [
    "# Exercise 63\n",
    "# Write a function definition named mode that takes in sequence of numbers and returns the most commonly occuring value\n",
    "def mode(list):\n",
    "    mode=statistics.mode(list)\n",
    "    return mode\n",
    "assert mode([1, 2, 2, 3, 4]) == 2\n",
    "assert mode([1, 1, 2, 3]) == 1\n",
    "assert mode([2, 2, 3, 3, 3]) == 3\n",
    "print(\"Exercise 63 is correct.\")"
   ],
   "outputs": [
    {
     "output_type": "stream",
     "name": "stdout",
     "text": [
      "Exercise 63 is correct.\n"
     ]
    }
   ],
   "metadata": {
    "execution": {
     "iopub.execute_input": "2021-08-18T18:45:11.893845Z",
     "iopub.status.busy": "2021-08-18T18:45:11.893519Z",
     "iopub.status.idle": "2021-08-18T18:45:11.901437Z",
     "shell.execute_reply": "2021-08-18T18:45:11.900712Z",
     "shell.execute_reply.started": "2021-08-18T18:45:11.893774Z"
    }
   }
  },
  {
   "cell_type": "code",
   "execution_count": 68,
   "source": [
    "# Exercise 64\n",
    "# Write a function definition named product_of_all that takes in sequence of numbers and returns the product of multiplying all the numbers together\n",
    "import numpy\n",
    "def product_of_all(list):\n",
    "        productofall=numpy.prod(list)\n",
    "        return productofall\n",
    "assert product_of_all([1, 2, 3]) == 6\n",
    "assert product_of_all([3, 4, 5]) == 60\n",
    "assert product_of_all([2, 2, 3, 0]) == 0\n",
    "print(\"Exercise 64 is correct.\")"
   ],
   "outputs": [
    {
     "output_type": "stream",
     "name": "stdout",
     "text": [
      "Exercise 64 is correct.\n"
     ]
    }
   ],
   "metadata": {
    "execution": {
     "iopub.execute_input": "2021-08-18T18:45:11.917024Z",
     "iopub.status.busy": "2021-08-18T18:45:11.916623Z",
     "iopub.status.idle": "2021-08-18T18:45:11.925203Z",
     "shell.execute_reply": "2021-08-18T18:45:11.924069Z",
     "shell.execute_reply.started": "2021-08-18T18:45:11.916964Z"
    }
   }
  },
  {
   "cell_type": "markdown",
   "source": [
    "## Applying functions to lists"
   ],
   "metadata": {}
  },
  {
   "cell_type": "code",
   "execution_count": 69,
   "source": [
    "# Run this cell in order to use the following list of numbers for the next exercises\n",
    "numbers = [-5, -4, -3, -2, -1, 1, 2, 3, 4, 5] \n",
    "print(numbers)"
   ],
   "outputs": [
    {
     "output_type": "stream",
     "name": "stdout",
     "text": [
      "[-5, -4, -3, -2, -1, 1, 2, 3, 4, 5]\n"
     ]
    }
   ],
   "metadata": {
    "execution": {
     "iopub.execute_input": "2021-08-18T18:45:11.927290Z",
     "iopub.status.busy": "2021-08-18T18:45:11.926944Z",
     "iopub.status.idle": "2021-08-18T18:45:11.936972Z",
     "shell.execute_reply": "2021-08-18T18:45:11.935727Z",
     "shell.execute_reply.started": "2021-08-18T18:45:11.927220Z"
    }
   }
  },
  {
   "cell_type": "code",
   "execution_count": 70,
   "source": [
    "# Exercise 65\n",
    "# Write a function definition named get_highest_number that takes in sequence of numbers and returns the largest number.\n",
    "\n",
    "def get_highest_number(list):\n",
    "    highest=max(list)\n",
    "    return highest\n",
    "assert get_highest_number([1, 2, 3]) == 3\n",
    "assert get_highest_number([-5, -4, -3, -2, -1, 1, 2, 3, 4, 5]) == 5\n",
    "assert get_highest_number([-5, -3, 1]) == 1\n",
    "print(\"Exercise 65 is correct.\")"
   ],
   "outputs": [
    {
     "output_type": "stream",
     "name": "stdout",
     "text": [
      "Exercise 65 is correct.\n"
     ]
    }
   ],
   "metadata": {
    "execution": {
     "iopub.execute_input": "2021-08-18T18:45:11.947453Z",
     "iopub.status.busy": "2021-08-18T18:45:11.947167Z",
     "iopub.status.idle": "2021-08-18T18:45:11.956039Z",
     "shell.execute_reply": "2021-08-18T18:45:11.955105Z",
     "shell.execute_reply.started": "2021-08-18T18:45:11.947410Z"
    }
   }
  },
  {
   "cell_type": "code",
   "execution_count": 71,
   "source": [
    "# Exercise 66\n",
    "# Write a function definition named get_smallest_number that takes in sequence of numbers and returns the smallest number.\n",
    "def get_smallest_number(list):\n",
    "    smallest=min(list)\n",
    "    return smallest\n",
    "assert get_smallest_number([1, 2, 3]) == 1\n",
    "assert get_smallest_number([-5, -4, -3, -2, -1, 1, 2, 3, 4, 5]) == -5\n",
    "assert get_smallest_number([-4, -3, 1]) == -4\n",
    "print(\"Exercise 66 is correct.\")"
   ],
   "outputs": [
    {
     "output_type": "stream",
     "name": "stdout",
     "text": [
      "Exercise 66 is correct.\n"
     ]
    }
   ],
   "metadata": {
    "execution": {
     "iopub.execute_input": "2021-08-18T18:45:11.957936Z",
     "iopub.status.busy": "2021-08-18T18:45:11.957608Z",
     "iopub.status.idle": "2021-08-18T18:45:11.968532Z",
     "shell.execute_reply": "2021-08-18T18:45:11.967638Z",
     "shell.execute_reply.started": "2021-08-18T18:45:11.957886Z"
    }
   }
  },
  {
   "cell_type": "code",
   "execution_count": 72,
   "source": [
    "# Exercise 67\n",
    "# Write a function definition named only_odd_numbers that takes in sequence of numbers and returns the odd numbers in a list.\n",
    "\n",
    "def only_odd_numbers(list):\n",
    "    odd_list=[]\n",
    "    for i in list:\n",
    "        if is_odd(i):\n",
    "            odd_list.append(i)\n",
    "        else:\n",
    "            pass\n",
    "    return odd_list\n",
    "\n",
    "assert only_odd_numbers([1, 2, 3]) == [1, 3]\n",
    "assert only_odd_numbers([-5, -4, -3, -2, -1, 1, 2, 3, 4, 5]) == [-5, -3, -1, 1, 3, 5]\n",
    "assert only_odd_numbers([-4, -3, 1]) == [-3, 1]\n",
    "print(\"Exercise 67 is correct.\")"
   ],
   "outputs": [
    {
     "output_type": "stream",
     "name": "stdout",
     "text": [
      "Exercise 67 is correct.\n"
     ]
    }
   ],
   "metadata": {
    "execution": {
     "iopub.execute_input": "2021-08-18T18:45:11.995572Z",
     "iopub.status.busy": "2021-08-18T18:45:11.994663Z",
     "iopub.status.idle": "2021-08-18T18:45:12.008930Z",
     "shell.execute_reply": "2021-08-18T18:45:12.007886Z",
     "shell.execute_reply.started": "2021-08-18T18:45:11.995508Z"
    }
   }
  },
  {
   "cell_type": "code",
   "execution_count": 73,
   "source": [
    "# Exercise 68\n",
    "# Write a function definition named only_even_numbers that takes in sequence of numbers and returns the even numbers in a list.\n",
    "def only_even_numbers(list):\n",
    "    even_list=[]\n",
    "    for i in list:\n",
    "        if is_even(i):\n",
    "            even_list.append(i)\n",
    "        else:\n",
    "            pass\n",
    "    return even_list\n",
    "\n",
    "assert only_even_numbers([1, 2, 3]) == [2]\n",
    "assert only_even_numbers([-5, -4, -3, -2, -1, 1, 2, 3, 4, 5]) == [-4, -2, 2, 4]\n",
    "assert only_even_numbers([-4, -3, 1]) == [-4]\n",
    "print(\"Exercise 68 is correct.\")"
   ],
   "outputs": [
    {
     "output_type": "stream",
     "name": "stdout",
     "text": [
      "Exercise 68 is correct.\n"
     ]
    }
   ],
   "metadata": {
    "execution": {
     "iopub.execute_input": "2021-08-18T18:45:12.021051Z",
     "iopub.status.busy": "2021-08-18T18:45:12.020652Z",
     "iopub.status.idle": "2021-08-18T18:45:12.032843Z",
     "shell.execute_reply": "2021-08-18T18:45:12.031510Z",
     "shell.execute_reply.started": "2021-08-18T18:45:12.020993Z"
    }
   }
  },
  {
   "cell_type": "code",
   "execution_count": 74,
   "source": [
    "# Exercise 69\n",
    "# Write a function definition named only_positive_numbers that takes in sequence of numbers and returns the positive numbers in a list.\n",
    "def only_positive_numbers(list):\n",
    "    positive_list=[]\n",
    "    for i in list:\n",
    "        if is_positive(i):\n",
    "            positive_list.append(i)\n",
    "        else:\n",
    "            pass\n",
    "    return positive_list\n",
    "assert only_positive_numbers([1, 2, 3]) == [1, 2, 3]\n",
    "assert only_positive_numbers([-5, -4, -3, -2, -1, 1, 2, 3, 4, 5]) == [1, 2, 3, 4, 5]\n",
    "assert only_positive_numbers([-4, -3, 1]) == [1]\n",
    "print(\"Exercise 69 is correct.\")"
   ],
   "outputs": [
    {
     "output_type": "stream",
     "name": "stdout",
     "text": [
      "Exercise 69 is correct.\n"
     ]
    }
   ],
   "metadata": {
    "execution": {
     "iopub.execute_input": "2021-08-18T18:45:12.035384Z",
     "iopub.status.busy": "2021-08-18T18:45:12.034838Z",
     "iopub.status.idle": "2021-08-18T18:45:12.046377Z",
     "shell.execute_reply": "2021-08-18T18:45:12.045477Z",
     "shell.execute_reply.started": "2021-08-18T18:45:12.035121Z"
    }
   }
  },
  {
   "cell_type": "code",
   "execution_count": 75,
   "source": [
    "# Exercise 70\n",
    "# Write a function definition named only_negative_numbers that takes in sequence of numbers and returns the negative numbers in a list.\n",
    "def only_negative_numbers(list):\n",
    "    negative_list=[]\n",
    "    for i in list:\n",
    "        if is_negative(i):\n",
    "            negative_list.append(i)\n",
    "        else:\n",
    "            pass\n",
    "    return negative_list\n",
    "assert only_negative_numbers([1, 2, 3]) == []\n",
    "assert only_negative_numbers([-5, -4, -3, -2, -1, 1, 2, 3, 4, 5]) == [-5, -4, -3, -2, -1]\n",
    "assert only_negative_numbers([-4, -3, 1]) == [-4, -3]\n",
    "print(\"Exercise 70 is correct.\")"
   ],
   "outputs": [
    {
     "output_type": "stream",
     "name": "stdout",
     "text": [
      "Exercise 70 is correct.\n"
     ]
    }
   ],
   "metadata": {
    "execution": {
     "iopub.execute_input": "2021-08-18T18:45:12.066289Z",
     "iopub.status.busy": "2021-08-18T18:45:12.065848Z",
     "iopub.status.idle": "2021-08-18T18:45:12.081121Z",
     "shell.execute_reply": "2021-08-18T18:45:12.078536Z",
     "shell.execute_reply.started": "2021-08-18T18:45:12.066219Z"
    }
   }
  },
  {
   "cell_type": "code",
   "execution_count": 76,
   "source": [
    "# Exercise 71\n",
    "# Write a function definition named has_evens that takes in sequence of numbers and returns True if there are any even numbers in the sequence\n",
    "def has_evens(list):\n",
    "    for i in list:\n",
    "        if is_even(i):\n",
    "            return True\n",
    "            break\n",
    "        else:\n",
    "            pass\n",
    "    return False\n",
    "assert has_evens([1, 2, 3]) == True\n",
    "assert has_evens([2, 5, 6]) == True\n",
    "assert has_evens([3, 3, 3]) == False\n",
    "assert has_evens([]) == False\n",
    "print(\"Exercise 71 is correct.\")"
   ],
   "outputs": [
    {
     "output_type": "stream",
     "name": "stdout",
     "text": [
      "Exercise 71 is correct.\n"
     ]
    }
   ],
   "metadata": {
    "execution": {
     "iopub.execute_input": "2021-08-18T18:45:12.085359Z",
     "iopub.status.busy": "2021-08-18T18:45:12.084496Z",
     "iopub.status.idle": "2021-08-18T18:45:12.099544Z",
     "shell.execute_reply": "2021-08-18T18:45:12.098051Z",
     "shell.execute_reply.started": "2021-08-18T18:45:12.085291Z"
    }
   }
  },
  {
   "cell_type": "code",
   "execution_count": 77,
   "source": [
    "# Exercise 72\n",
    "# Write a function definition named count_evens that takes in sequence of numbers and returns the number of even numbers\n",
    "def count_evens(list):\n",
    "    even_count_list=[]\n",
    "    for i in list:\n",
    "        if is_even(i):\n",
    "            even_count_list.append(i)\n",
    "        else:\n",
    "            pass\n",
    "    return len(even_count_list)\n",
    "assert count_evens([1, 2, 3]) == 1\n",
    "assert count_evens([2, 5, 6]) == 2\n",
    "assert count_evens([3, 3, 3]) == 0\n",
    "assert count_evens([5, 6, 7, 8] ) == 2\n",
    "print(\"Exercise 72 is correct.\")"
   ],
   "outputs": [
    {
     "output_type": "stream",
     "name": "stdout",
     "text": [
      "Exercise 72 is correct.\n"
     ]
    }
   ],
   "metadata": {
    "execution": {
     "iopub.execute_input": "2021-08-18T18:45:12.102575Z",
     "iopub.status.busy": "2021-08-18T18:45:12.102083Z",
     "iopub.status.idle": "2021-08-18T18:45:12.117882Z",
     "shell.execute_reply": "2021-08-18T18:45:12.115001Z",
     "shell.execute_reply.started": "2021-08-18T18:45:12.102501Z"
    }
   }
  },
  {
   "cell_type": "code",
   "execution_count": 78,
   "source": [
    "# Exercise 73\n",
    "# Write a function definition named has_odds that takes in sequence of numbers and returns True if there are any odd numbers in the sequence\n",
    "def has_odds(list):\n",
    "    for i in list:\n",
    "        if is_odd(i):\n",
    "            return True\n",
    "            break\n",
    "        else:\n",
    "            pass\n",
    "    return False\n",
    "assert has_odds([1, 2, 3]) == True\n",
    "assert has_odds([2, 5, 6]) == True\n",
    "assert has_odds([3, 3, 3]) == True\n",
    "assert has_odds([2, 4, 6]) == False\n",
    "print(\"Exercise 73 is correct.\")"
   ],
   "outputs": [
    {
     "output_type": "stream",
     "name": "stdout",
     "text": [
      "Exercise 73 is correct.\n"
     ]
    }
   ],
   "metadata": {
    "execution": {
     "iopub.execute_input": "2021-08-18T18:45:12.121450Z",
     "iopub.status.busy": "2021-08-18T18:45:12.120717Z",
     "iopub.status.idle": "2021-08-18T18:45:12.133648Z",
     "shell.execute_reply": "2021-08-18T18:45:12.132428Z",
     "shell.execute_reply.started": "2021-08-18T18:45:12.121368Z"
    }
   }
  },
  {
   "cell_type": "code",
   "execution_count": 79,
   "source": [
    "# Exercise 74\n",
    "# Write a function definition named count_odds that takes in sequence of numbers and returns True if there are any odd numbers in the sequence\n",
    "def count_odds(list):\n",
    "    odd_count_list=[]\n",
    "    for i in list:\n",
    "        if is_odd(i):\n",
    "            odd_count_list.append(i)\n",
    "        else:\n",
    "            pass\n",
    "    return len(odd_count_list)\n",
    "assert count_odds([1, 2, 3]) == 2\n",
    "assert count_odds([2, 5, 6]) == 1\n",
    "assert count_odds([3, 3, 3]) == 3\n",
    "assert count_odds([2, 4, 6]) == 0\n",
    "print(\"Exercise 74 is correct.\")"
   ],
   "outputs": [
    {
     "output_type": "stream",
     "name": "stdout",
     "text": [
      "Exercise 74 is correct.\n"
     ]
    }
   ],
   "metadata": {
    "execution": {
     "iopub.execute_input": "2021-08-18T18:45:12.136660Z",
     "iopub.status.busy": "2021-08-18T18:45:12.136248Z",
     "iopub.status.idle": "2021-08-18T18:45:12.149493Z",
     "shell.execute_reply": "2021-08-18T18:45:12.147399Z",
     "shell.execute_reply.started": "2021-08-18T18:45:12.136590Z"
    }
   }
  },
  {
   "cell_type": "code",
   "execution_count": 80,
   "source": [
    "# Exercise 75\n",
    "# Write a function definition named count_negatives that takes in sequence of numbers and returns a count of the number of negative numbers\n",
    "def count_negatives(list):\n",
    "    negative_count_list=[]\n",
    "    for i in list:\n",
    "        if is_negative(i):\n",
    "            negative_count_list.append(i)\n",
    "        else:\n",
    "            pass\n",
    "    return len(negative_count_list)\n",
    "assert count_negatives([1, -2, 3]) == 1\n",
    "assert count_negatives([2, -5, -6]) == 2\n",
    "assert count_negatives([3, 3, 3]) == 0\n",
    "print(\"Exercise 75 is correct.\")"
   ],
   "outputs": [
    {
     "output_type": "stream",
     "name": "stdout",
     "text": [
      "Exercise 75 is correct.\n"
     ]
    }
   ],
   "metadata": {
    "execution": {
     "iopub.execute_input": "2021-08-18T18:45:12.151997Z",
     "iopub.status.busy": "2021-08-18T18:45:12.151642Z",
     "iopub.status.idle": "2021-08-18T18:45:12.162509Z",
     "shell.execute_reply": "2021-08-18T18:45:12.161573Z",
     "shell.execute_reply.started": "2021-08-18T18:45:12.151940Z"
    }
   }
  },
  {
   "cell_type": "code",
   "execution_count": 81,
   "source": [
    "# Exercise 76\n",
    "# Write a function definition named count_positives that takes in sequence of numbers and returns a count of the number of positive numbers\n",
    "def count_positives(list):\n",
    "    positive_count_list=[]\n",
    "    for i in list:\n",
    "        if is_positive(i):\n",
    "            positive_count_list.append(i)\n",
    "        else:\n",
    "            pass\n",
    "    return len(positive_count_list)\n",
    "assert count_positives([1, -2, 3]) == 2\n",
    "assert count_positives([2, -5, -6]) == 1\n",
    "assert count_positives([3, 3, 3]) == 3\n",
    "assert count_positives([-2, -1, -5]) == 0\n",
    "print(\"Exercise 76 is correct.\")"
   ],
   "outputs": [
    {
     "output_type": "stream",
     "name": "stdout",
     "text": [
      "Exercise 76 is correct.\n"
     ]
    }
   ],
   "metadata": {
    "execution": {
     "iopub.execute_input": "2021-08-18T18:45:12.165083Z",
     "iopub.status.busy": "2021-08-18T18:45:12.164775Z",
     "iopub.status.idle": "2021-08-18T18:45:12.176705Z",
     "shell.execute_reply": "2021-08-18T18:45:12.175518Z",
     "shell.execute_reply.started": "2021-08-18T18:45:12.165035Z"
    }
   }
  },
  {
   "cell_type": "code",
   "execution_count": 82,
   "source": [
    "# Exercise 77\n",
    "# Write a function definition named only_positive_evens that takes in sequence of numbers and returns a list containing all the positive evens from the sequence\n",
    "def only_positive_evens(list):\n",
    "    pos_even_list=only_positive_numbers(list)\n",
    "    pos_even_list=only_even_numbers(pos_even_list)\n",
    "    return pos_even_list\n",
    "        \n",
    "assert only_positive_evens([1, -2, 3]) == []\n",
    "assert only_positive_evens([2, -5, -6]) == [2]\n",
    "assert only_positive_evens([3, 3, 4, 6]) == [4, 6]\n",
    "assert only_positive_evens([2, 3, 4, -1, -5]) == [2, 4]\n",
    "print(\"Exercise 77 is correct.\")"
   ],
   "outputs": [
    {
     "output_type": "stream",
     "name": "stdout",
     "text": [
      "Exercise 77 is correct.\n"
     ]
    }
   ],
   "metadata": {
    "execution": {
     "iopub.execute_input": "2021-08-18T18:45:12.179533Z",
     "iopub.status.busy": "2021-08-18T18:45:12.179240Z",
     "iopub.status.idle": "2021-08-18T18:45:12.189921Z",
     "shell.execute_reply": "2021-08-18T18:45:12.189093Z",
     "shell.execute_reply.started": "2021-08-18T18:45:12.179480Z"
    }
   }
  },
  {
   "cell_type": "code",
   "execution_count": 83,
   "source": [
    "# Exercise 78\n",
    "# Write a function definition named only_positive_odds that takes in sequence of numbers and returns a list containing all the positive odd numbers from the sequence\n",
    "def only_positive_odds(list):\n",
    "    pos_odds_list=only_positive_numbers(list)\n",
    "    pos_odds_list=only_odd_numbers(pos_odds_list)\n",
    "    return pos_odds_list\n",
    "assert only_positive_odds([1, -2, 3]) == [1, 3]\n",
    "assert only_positive_odds([2, -5, -6]) == []\n",
    "assert only_positive_odds([3, 3, 4, 6]) == [3, 3]\n",
    "assert only_positive_odds([2, 3, 4, -1, -5]) == [3]\n",
    "print(\"Exercise 78 is correct.\")"
   ],
   "outputs": [
    {
     "output_type": "stream",
     "name": "stdout",
     "text": [
      "Exercise 78 is correct.\n"
     ]
    }
   ],
   "metadata": {
    "execution": {
     "iopub.execute_input": "2021-08-18T18:45:12.191618Z",
     "iopub.status.busy": "2021-08-18T18:45:12.191390Z",
     "iopub.status.idle": "2021-08-18T18:45:12.204199Z",
     "shell.execute_reply": "2021-08-18T18:45:12.203373Z",
     "shell.execute_reply.started": "2021-08-18T18:45:12.191584Z"
    }
   }
  },
  {
   "cell_type": "code",
   "execution_count": 84,
   "source": [
    "# Exercise 79\n",
    "# Write a function definition named only_negative_evens that takes in sequence of numbers and returns a list containing all the negative even numbers from the sequence\n",
    "def only_negative_evens(list):\n",
    "    neg_evens_list=only_negative_numbers(list)\n",
    "    neg_evens_list=only_even_numbers(neg_evens_list)\n",
    "    return neg_evens_list\n",
    "assert only_negative_evens([1, -2, 3]) == [-2]\n",
    "assert only_negative_evens([2, -5, -6]) == [-6]\n",
    "assert only_negative_evens([3, 3, 4, 6]) == []\n",
    "assert only_negative_evens([-2, 3, 4, -1, -4]) == [-2, -4]\n",
    "print(\"Exercise 79 is correct.\")"
   ],
   "outputs": [
    {
     "output_type": "stream",
     "name": "stdout",
     "text": [
      "Exercise 79 is correct.\n"
     ]
    }
   ],
   "metadata": {
    "execution": {
     "iopub.execute_input": "2021-08-18T18:45:12.208487Z",
     "iopub.status.busy": "2021-08-18T18:45:12.207935Z",
     "iopub.status.idle": "2021-08-18T18:45:12.219368Z",
     "shell.execute_reply": "2021-08-18T18:45:12.218525Z",
     "shell.execute_reply.started": "2021-08-18T18:45:12.208328Z"
    }
   }
  },
  {
   "cell_type": "code",
   "execution_count": 85,
   "source": [
    "# Exercise 80\n",
    "# Write a function definition named only_negative_odds that takes in sequence of numbers and returns a list containing all the negative odd numbers from the sequence\n",
    "def only_negative_odds(list):\n",
    "    neg_odds_list=only_negative_numbers(list)\n",
    "    neg_odds_list=only_odd_numbers(neg_odds_list)\n",
    "    return neg_odds_list\n",
    "assert only_negative_odds([1, -2, 3]) == []\n",
    "assert only_negative_odds([2, -5, -6]) == [-5]\n",
    "assert only_negative_odds([3, 3, 4, 6]) == []\n",
    "assert only_negative_odds([2, -3, 4, -1, -4]) == [-3, -1]\n",
    "print(\"Exercise 80 is correct.\")"
   ],
   "outputs": [
    {
     "output_type": "stream",
     "name": "stdout",
     "text": [
      "Exercise 80 is correct.\n"
     ]
    }
   ],
   "metadata": {
    "execution": {
     "iopub.execute_input": "2021-08-18T18:45:12.226176Z",
     "iopub.status.busy": "2021-08-18T18:45:12.225594Z",
     "iopub.status.idle": "2021-08-18T18:45:12.236642Z",
     "shell.execute_reply": "2021-08-18T18:45:12.235571Z",
     "shell.execute_reply.started": "2021-08-18T18:45:12.226102Z"
    }
   }
  },
  {
   "cell_type": "code",
   "execution_count": 86,
   "source": [
    "# Exercise 81\n",
    "# Write a function definition named shortest_string that takes in a list of strings and returns the shortest string in the list.\n",
    "def shortest_string(list):\n",
    "    short_string=min(list, key=len)\n",
    "    return short_string\n",
    "assert shortest_string([\"kiwi\", \"mango\", \"strawberry\"]) == \"kiwi\"\n",
    "assert shortest_string([\"hello\", \"everybody\"]) == \"hello\"\n",
    "assert shortest_string([\"mary\", \"had\", \"a\", \"little\", \"lamb\"]) == \"a\"\n",
    "print(\"Exercise 81 is correct.\")"
   ],
   "outputs": [
    {
     "output_type": "stream",
     "name": "stdout",
     "text": [
      "Exercise 81 is correct.\n"
     ]
    }
   ],
   "metadata": {
    "execution": {
     "iopub.execute_input": "2021-08-18T18:45:12.242001Z",
     "iopub.status.busy": "2021-08-18T18:45:12.241298Z",
     "iopub.status.idle": "2021-08-18T18:45:12.250657Z",
     "shell.execute_reply": "2021-08-18T18:45:12.249527Z",
     "shell.execute_reply.started": "2021-08-18T18:45:12.241942Z"
    }
   }
  },
  {
   "cell_type": "code",
   "execution_count": 87,
   "source": [
    "# Exercise 82\n",
    "# Write a function definition named longest_string that takes in sequence of strings and returns the longest string in the list.\n",
    "def longest_string(list):\n",
    "    long_string=max(list, key=len)\n",
    "    return long_string\n",
    "assert longest_string([\"kiwi\", \"mango\", \"strawberry\"]) == \"strawberry\"\n",
    "assert longest_string([\"hello\", \"everybody\"]) == \"everybody\"\n",
    "assert longest_string([\"mary\", \"had\", \"a\", \"little\", \"lamb\"]) == \"little\"\n",
    "print(\"Exercise 82 is correct.\")"
   ],
   "outputs": [
    {
     "output_type": "stream",
     "name": "stdout",
     "text": [
      "Exercise 82 is correct.\n"
     ]
    }
   ],
   "metadata": {
    "execution": {
     "iopub.execute_input": "2021-08-18T18:45:12.256591Z",
     "iopub.status.busy": "2021-08-18T18:45:12.255953Z",
     "iopub.status.idle": "2021-08-18T18:45:12.264837Z",
     "shell.execute_reply": "2021-08-18T18:45:12.263982Z",
     "shell.execute_reply.started": "2021-08-18T18:45:12.256518Z"
    }
   }
  },
  {
   "cell_type": "markdown",
   "source": [
    "## Working with sets\n",
    "**Hint** Take a look at the `set` function in Python, the `set` data type, and built-in `set` methods."
   ],
   "metadata": {}
  },
  {
   "cell_type": "code",
   "execution_count": 88,
   "source": [
    "# Example set function usage\n",
    "print(set(\"kiwi\"))\n",
    "print(set([1, 2, 2, 3, 3, 3, 4, 4, 4, 4]))"
   ],
   "outputs": [
    {
     "output_type": "stream",
     "name": "stdout",
     "text": [
      "{'k', 'i', 'w'}\n",
      "{1, 2, 3, 4}\n"
     ]
    }
   ],
   "metadata": {
    "execution": {
     "iopub.execute_input": "2021-08-18T18:45:12.270693Z",
     "iopub.status.busy": "2021-08-18T18:45:12.269914Z",
     "iopub.status.idle": "2021-08-18T18:45:12.280552Z",
     "shell.execute_reply": "2021-08-18T18:45:12.279268Z",
     "shell.execute_reply.started": "2021-08-18T18:45:12.270640Z"
    }
   }
  },
  {
   "cell_type": "code",
   "execution_count": 89,
   "source": [
    "# Exercise 83\n",
    "# Write a function definition named get_unique_values that takes in a list and returns a set with only the unique values from that list.\n",
    "def get_unique_values(list):\n",
    "    unique_list=set(list)\n",
    "    return unique_list\n",
    "assert get_unique_values([\"ant\", \"ant\", \"mosquito\", \"mosquito\", \"ladybug\"]) == {\"ant\", \"mosquito\", \"ladybug\"}\n",
    "assert get_unique_values([\"b\", \"a\", \"n\", \"a\", \"n\", \"a\", \"s\"]) == {\"b\", \"a\", \"n\", \"s\"}\n",
    "assert get_unique_values([\"mary\", \"had\", \"a\", \"little\", \"lamb\", \"little\", \"lamb\", \"little\", \"lamb\"]) == {\"mary\", \"had\", \"a\", \"little\", \"lamb\"}\n",
    "print(\"Exercise 83 is correct.\")"
   ],
   "outputs": [
    {
     "output_type": "stream",
     "name": "stdout",
     "text": [
      "Exercise 83 is correct.\n"
     ]
    }
   ],
   "metadata": {
    "execution": {
     "iopub.execute_input": "2021-08-18T18:45:12.284394Z",
     "iopub.status.busy": "2021-08-18T18:45:12.283917Z",
     "iopub.status.idle": "2021-08-18T18:45:12.293892Z",
     "shell.execute_reply": "2021-08-18T18:45:12.293001Z",
     "shell.execute_reply.started": "2021-08-18T18:45:12.284327Z"
    }
   }
  },
  {
   "cell_type": "code",
   "execution_count": 90,
   "source": [
    "# Exercise 84\n",
    "# Write a function definition named get_unique_values_from_two_lists that takes two lists and returns a single set with only the unique values\n",
    "def get_unique_values_from_two_lists(list1,list2):\n",
    "    or_list=list1+list2\n",
    "    or_list=set(or_list)\n",
    "    return or_list\n",
    "assert get_unique_values_from_two_lists([5, 1, 2, 3], [3, 4, 5, 5]) == {1, 2, 3, 4, 5}\n",
    "assert get_unique_values_from_two_lists([1, 1], [2, 2, 3]) == {1, 2, 3}\n",
    "assert get_unique_values_from_two_lists([\"tomato\", \"mango\", \"kiwi\"], [\"eggplant\", \"tomato\", \"broccoli\"]) == {\"tomato\", \"mango\", \"kiwi\", \"eggplant\", \"broccoli\"}\n",
    "print(\"Exercise 84 is correct.\")"
   ],
   "outputs": [
    {
     "output_type": "stream",
     "name": "stdout",
     "text": [
      "Exercise 84 is correct.\n"
     ]
    }
   ],
   "metadata": {
    "execution": {
     "iopub.execute_input": "2021-08-18T18:45:12.298849Z",
     "iopub.status.busy": "2021-08-18T18:45:12.298197Z",
     "iopub.status.idle": "2021-08-18T18:45:12.309330Z",
     "shell.execute_reply": "2021-08-18T18:45:12.308602Z",
     "shell.execute_reply.started": "2021-08-18T18:45:12.298753Z"
    }
   }
  },
  {
   "cell_type": "code",
   "execution_count": 91,
   "source": [
    "# Exercise 85\n",
    "# Write a function definition named get_values_in_common that takes two lists and returns a single set with the values that each list has in common\n",
    "def get_values_in_common(list1,list2):\n",
    "    a_set=set(list1)\n",
    "    b_set=set(list2)\n",
    "    if len(a_set.intersection(b_set)) > 0:\n",
    "        return(a_set.intersection(b_set)) \n",
    "    else:\n",
    "        return(\"no common elements\")\n",
    "assert get_values_in_common([5, 1, 2, 3], [3, 4, 5, 5]) == {3, 5}\n",
    "assert get_values_in_common([1, 2], [2, 2, 3]) == {2}\n",
    "assert get_values_in_common([\"tomato\", \"mango\", \"kiwi\"], [\"eggplant\", \"tomato\", \"broccoli\"]) == {\"tomato\"}\n",
    "print(\"Exercise 85 is correct.\")"
   ],
   "outputs": [
    {
     "output_type": "stream",
     "name": "stdout",
     "text": [
      "Exercise 85 is correct.\n"
     ]
    }
   ],
   "metadata": {
    "execution": {
     "iopub.execute_input": "2021-08-18T18:45:12.328798Z",
     "iopub.status.busy": "2021-08-18T18:45:12.328131Z",
     "iopub.status.idle": "2021-08-18T18:45:12.339390Z",
     "shell.execute_reply": "2021-08-18T18:45:12.338297Z",
     "shell.execute_reply.started": "2021-08-18T18:45:12.328746Z"
    }
   }
  },
  {
   "cell_type": "code",
   "execution_count": 92,
   "source": [
    "# Exercise 86\n",
    "# Write a function definition named get_values_not_in_common that takes two lists and returns a single set with the values that each list does not have in common\n",
    "def get_values_not_in_common(list1,list2):\n",
    "    two_unique_set=set(list1).symmetric_difference(set(list2))\n",
    "    \n",
    "    return two_unique_set\n",
    "assert get_values_not_in_common([5, 1, 2, 3], [3, 4, 5, 5]) == {1, 2, 4}\n",
    "assert get_values_not_in_common([1, 1], [2, 2, 3]) == {1, 2, 3}\n",
    "assert get_values_not_in_common([\"tomato\", \"mango\", \"kiwi\"], [\"eggplant\", \"tomato\", \"broccoli\"]) == {\"mango\", \"kiwi\", \"eggplant\", \"broccoli\"}\n",
    "print(\"Exercise 86 is correct.\")"
   ],
   "outputs": [
    {
     "output_type": "stream",
     "name": "stdout",
     "text": [
      "Exercise 86 is correct.\n"
     ]
    }
   ],
   "metadata": {
    "execution": {
     "iopub.execute_input": "2021-08-18T18:45:12.342221Z",
     "iopub.status.busy": "2021-08-18T18:45:12.341655Z",
     "iopub.status.idle": "2021-08-18T18:45:12.357669Z",
     "shell.execute_reply": "2021-08-18T18:45:12.356683Z",
     "shell.execute_reply.started": "2021-08-18T18:45:12.342163Z"
    }
   }
  },
  {
   "cell_type": "markdown",
   "source": [
    "## Working with Dictionaries\n"
   ],
   "metadata": {}
  },
  {
   "cell_type": "code",
   "execution_count": 93,
   "source": [
    "# Run this cell in order to have these two dictionary variables defined.\n",
    "tukey_paper = {\n",
    "    \"title\": \"The Future of Data Analysis\",\n",
    "    \"author\": \"John W. Tukey\",\n",
    "    \"link\": \"https://projecteuclid.org/euclid.aoms/1177704711\",\n",
    "    \"year_published\": 1962\n",
    "}\n",
    "\n",
    "thomas_paper = {\n",
    "    \"title\": \"A mathematical model of glutathione metabolism\",\n",
    "    \"author\": \"Rachel Thomas\",\n",
    "    \"link\": \"https://www.ncbi.nlm.nih.gov/pubmed/18442411\",\n",
    "    \"year_published\": 2008\n",
    "}\n",
    "print(tukey_paper,\"\\n\")\n",
    "print(thomas_paper)"
   ],
   "outputs": [
    {
     "output_type": "stream",
     "name": "stdout",
     "text": [
      "{'title': 'The Future of Data Analysis', 'author': 'John W. Tukey', 'link': 'https://projecteuclid.org/euclid.aoms/1177704711', 'year_published': 1962} \n",
      "\n",
      "{'title': 'A mathematical model of glutathione metabolism', 'author': 'Rachel Thomas', 'link': 'https://www.ncbi.nlm.nih.gov/pubmed/18442411', 'year_published': 2008}\n"
     ]
    }
   ],
   "metadata": {
    "execution": {
     "iopub.execute_input": "2021-08-18T18:45:12.360273Z",
     "iopub.status.busy": "2021-08-18T18:45:12.359451Z",
     "iopub.status.idle": "2021-08-18T18:45:12.373669Z",
     "shell.execute_reply": "2021-08-18T18:45:12.372641Z",
     "shell.execute_reply.started": "2021-08-18T18:45:12.360202Z"
    }
   }
  },
  {
   "cell_type": "code",
   "execution_count": 94,
   "source": [
    "# Exercise 87\n",
    "# Write a function named get_paper_title that takes in a dictionary and returns the title property\n",
    "def get_paper_title(dict):\n",
    "    paper_title=dict['title']\n",
    "    return paper_title\n",
    "assert get_paper_title(tukey_paper) == \"The Future of Data Analysis\"\n",
    "assert get_paper_title(thomas_paper) == \"A mathematical model of glutathione metabolism\"\n",
    "print(\"Exercise 87 is correct.\")"
   ],
   "outputs": [
    {
     "output_type": "stream",
     "name": "stdout",
     "text": [
      "Exercise 87 is correct.\n"
     ]
    }
   ],
   "metadata": {
    "execution": {
     "iopub.execute_input": "2021-08-18T18:45:12.377307Z",
     "iopub.status.busy": "2021-08-18T18:45:12.376415Z",
     "iopub.status.idle": "2021-08-18T18:45:12.385844Z",
     "shell.execute_reply": "2021-08-18T18:45:12.384561Z",
     "shell.execute_reply.started": "2021-08-18T18:45:12.377094Z"
    }
   }
  },
  {
   "cell_type": "code",
   "execution_count": 95,
   "source": [
    "# Exercise 88\n",
    "# Write a function named get_year_published that takes in a dictionary and returns the value behind the \"year_published\" key.\n",
    "def get_year_published(dict):\n",
    "    year_published=dict['year_published']\n",
    "    return year_published\n",
    "assert get_year_published(tukey_paper) == 1962\n",
    "assert get_year_published(thomas_paper) == 2008\n",
    "print(\"Exercise 88 is correct.\")"
   ],
   "outputs": [
    {
     "output_type": "stream",
     "name": "stdout",
     "text": [
      "Exercise 88 is correct.\n"
     ]
    }
   ],
   "metadata": {
    "execution": {
     "iopub.execute_input": "2021-08-18T18:45:12.388909Z",
     "iopub.status.busy": "2021-08-18T18:45:12.388487Z",
     "iopub.status.idle": "2021-08-18T18:45:12.406023Z",
     "shell.execute_reply": "2021-08-18T18:45:12.404897Z",
     "shell.execute_reply.started": "2021-08-18T18:45:12.388839Z"
    }
   }
  },
  {
   "cell_type": "code",
   "execution_count": 96,
   "source": [
    "# Run this code to create data for the next two questions\n",
    "book = {\n",
    "    \"title\": \"Genetic Algorithms and Machine Learning for Programmers\",\n",
    "    \"price\": 36.99,\n",
    "    \"author\": \"Frances Buontempo\"\n",
    "}\n",
    "print(book)"
   ],
   "outputs": [
    {
     "output_type": "stream",
     "name": "stdout",
     "text": [
      "{'title': 'Genetic Algorithms and Machine Learning for Programmers', 'price': 36.99, 'author': 'Frances Buontempo'}\n"
     ]
    }
   ],
   "metadata": {
    "execution": {
     "iopub.execute_input": "2021-08-18T18:45:12.409031Z",
     "iopub.status.busy": "2021-08-18T18:45:12.408257Z",
     "iopub.status.idle": "2021-08-18T18:45:12.419080Z",
     "shell.execute_reply": "2021-08-18T18:45:12.418126Z",
     "shell.execute_reply.started": "2021-08-18T18:45:12.408961Z"
    }
   }
  },
  {
   "cell_type": "code",
   "execution_count": 97,
   "source": [
    "# Exercise 89\n",
    "# Write a function named get_price that takes in a dictionary and returns the price\n",
    "def get_price(dict):\n",
    "    get_price=dict['price']\n",
    "    return get_price\n",
    "assert get_price(book) == 36.99\n",
    "print(\"Exercise 89 is complete.\")"
   ],
   "outputs": [
    {
     "output_type": "stream",
     "name": "stdout",
     "text": [
      "Exercise 89 is complete.\n"
     ]
    }
   ],
   "metadata": {
    "execution": {
     "iopub.execute_input": "2021-08-18T18:45:12.421662Z",
     "iopub.status.busy": "2021-08-18T18:45:12.421001Z",
     "iopub.status.idle": "2021-08-18T18:45:12.430761Z",
     "shell.execute_reply": "2021-08-18T18:45:12.429453Z",
     "shell.execute_reply.started": "2021-08-18T18:45:12.421593Z"
    }
   }
  },
  {
   "cell_type": "code",
   "execution_count": 98,
   "source": [
    "# Exercise 90\n",
    "# Write a function named get_book_author that takes in a dictionary (the above declared book variable) and returns the author's name\n",
    "def get_book_author(dict):\n",
    "    get_book_author=dict['author']\n",
    "    return get_book_author\n",
    "assert get_book_author(book) == \"Frances Buontempo\"\n",
    "print(\"Exercise 90 is complete.\")"
   ],
   "outputs": [
    {
     "output_type": "stream",
     "name": "stdout",
     "text": [
      "Exercise 90 is complete.\n"
     ]
    }
   ],
   "metadata": {
    "execution": {
     "iopub.execute_input": "2021-08-18T18:45:12.434312Z",
     "iopub.status.busy": "2021-08-18T18:45:12.433407Z",
     "iopub.status.idle": "2021-08-18T18:45:12.444621Z",
     "shell.execute_reply": "2021-08-18T18:45:12.443463Z",
     "shell.execute_reply.started": "2021-08-18T18:45:12.434246Z"
    }
   }
  },
  {
   "cell_type": "markdown",
   "source": [
    "## Working with Lists of Dictionaries\n",
    "**Hint** If you need an example of lists of dictionaries, see [https://gist.github.com/ryanorsinger/fce8154028a924c1073eac24c7c3f409](https://gist.github.com/ryanorsinger/fce8154028a924c1073eac24c7c3f409)"
   ],
   "metadata": {}
  },
  {
   "cell_type": "code",
   "execution_count": 99,
   "source": [
    "# Run this cell in order to have some setup data for the next exercises\n",
    "books = [\n",
    "    {\n",
    "        \"title\": \"Genetic Algorithms and Machine Learning for Programmers\",\n",
    "        \"price\": 36.99,\n",
    "        \"author\": \"Frances Buontempo\"\n",
    "    },\n",
    "    {\n",
    "        \"title\": \"The Visual Display of Quantitative Information\",\n",
    "        \"price\": 38.00,\n",
    "        \"author\": \"Edward Tufte\"\n",
    "    },\n",
    "    {\n",
    "        \"title\": \"Practical Object-Oriented Design\",\n",
    "        \"author\": \"Sandi Metz\",\n",
    "        \"price\": 30.47\n",
    "    },\n",
    "    {\n",
    "        \"title\": \"Weapons of Math Destruction\",\n",
    "        \"author\": \"Cathy O'Neil\",\n",
    "        \"price\": 17.44\n",
    "    }\n",
    "]"
   ],
   "outputs": [],
   "metadata": {
    "execution": {
     "iopub.execute_input": "2021-08-18T18:45:12.447577Z",
     "iopub.status.busy": "2021-08-18T18:45:12.446907Z",
     "iopub.status.idle": "2021-08-18T18:45:12.456874Z",
     "shell.execute_reply": "2021-08-18T18:45:12.455674Z",
     "shell.execute_reply.started": "2021-08-18T18:45:12.447516Z"
    }
   }
  },
  {
   "cell_type": "code",
   "execution_count": 100,
   "source": [
    "# Exercise 91\n",
    "# Write a function named get_number_of_books that takes in a list of objects and returns the number of dictionaries in that list.\n",
    "def get_number_of_books(list):\n",
    "    return len(list)\n",
    "assert get_number_of_books(books) == 4\n",
    "print(\"Exercise 91 is complete.\")"
   ],
   "outputs": [
    {
     "output_type": "stream",
     "name": "stdout",
     "text": [
      "Exercise 91 is complete.\n"
     ]
    }
   ],
   "metadata": {
    "execution": {
     "iopub.execute_input": "2021-08-18T18:45:12.460205Z",
     "iopub.status.busy": "2021-08-18T18:45:12.459776Z",
     "iopub.status.idle": "2021-08-18T18:45:12.477005Z",
     "shell.execute_reply": "2021-08-18T18:45:12.475446Z",
     "shell.execute_reply.started": "2021-08-18T18:45:12.460138Z"
    }
   }
  },
  {
   "cell_type": "code",
   "execution_count": 101,
   "source": [
    "# Exercise 92\n",
    "# Write a function named total_of_book_prices that takes in a list of dictionaries and returns the sum total of all the book prices added together\n",
    "def total_of_book_prices(list):\n",
    "    bookprices=[]\n",
    "    for i in list:    \n",
    "        bookprices.append(dict(i)['price'])\n",
    "    return sum(bookprices)\n",
    "assert total_of_book_prices(books) == 122.9\n",
    "print(\"Exercise 92 is complete.\")"
   ],
   "outputs": [
    {
     "output_type": "stream",
     "name": "stdout",
     "text": [
      "Exercise 92 is complete.\n"
     ]
    }
   ],
   "metadata": {
    "execution": {
     "iopub.execute_input": "2021-08-18T18:45:12.480580Z",
     "iopub.status.busy": "2021-08-18T18:45:12.479897Z",
     "iopub.status.idle": "2021-08-18T18:45:12.490374Z",
     "shell.execute_reply": "2021-08-18T18:45:12.489400Z",
     "shell.execute_reply.started": "2021-08-18T18:45:12.480502Z"
    }
   }
  },
  {
   "cell_type": "code",
   "execution_count": 102,
   "source": [
    "# Exercise 93\n",
    "# Write a function named get_average_book_price that takes in a list of dictionaries and returns the average book price.\n",
    "def get_average_book_price(list):\n",
    "    bookprices=[]\n",
    "    for i in list:    \n",
    "        bookprices.append(dict(i)['price'])\n",
    "    return mean(bookprices)\n",
    "assert get_average_book_price(books) == 30.725\n",
    "print(\"Exercise 93 is complete.\")"
   ],
   "outputs": [
    {
     "output_type": "stream",
     "name": "stdout",
     "text": [
      "Exercise 93 is complete.\n"
     ]
    }
   ],
   "metadata": {
    "execution": {
     "iopub.execute_input": "2021-08-18T18:45:12.493161Z",
     "iopub.status.busy": "2021-08-18T18:45:12.492415Z",
     "iopub.status.idle": "2021-08-18T18:45:12.502775Z",
     "shell.execute_reply": "2021-08-18T18:45:12.501230Z",
     "shell.execute_reply.started": "2021-08-18T18:45:12.493098Z"
    }
   }
  },
  {
   "cell_type": "code",
   "execution_count": 103,
   "source": [
    "# Exercise 94\n",
    "# Write a function called highest_price_book that takes in the above defined list of dictionaries \"books\" and returns the dictionary containing the title, price, and author of the book with the highest priced book.\n",
    "# Hint: Much like sometimes start functions with a variable set to zero, you may want to create a dictionary with the price set to zero to compare to each dictionary's price in the list\n",
    "def highest_price_book(list):\n",
    "    priciestbook=max(list, key=lambda x:x['price'])\n",
    "    return priciestbook\n",
    "assert highest_price_book(books) == {\n",
    "    \"title\": \"The Visual Display of Quantitative Information\",\n",
    "    \"price\": 38.00,\n",
    "    \"author\": \"Edward Tufte\"\n",
    "}\n",
    "\n",
    "print(\"Exercise 94 is complete\")"
   ],
   "outputs": [
    {
     "output_type": "stream",
     "name": "stdout",
     "text": [
      "Exercise 94 is complete\n"
     ]
    }
   ],
   "metadata": {
    "execution": {
     "iopub.execute_input": "2021-08-18T18:45:12.505650Z",
     "iopub.status.busy": "2021-08-18T18:45:12.505264Z",
     "iopub.status.idle": "2021-08-18T18:45:12.517504Z",
     "shell.execute_reply": "2021-08-18T18:45:12.516507Z",
     "shell.execute_reply.started": "2021-08-18T18:45:12.505576Z"
    }
   }
  },
  {
   "cell_type": "code",
   "execution_count": 104,
   "source": [
    "# Exercise 95\n",
    "# Write a function called lowest_priced_book that takes in the above defined list of dictionaries \"books\" and returns the dictionary containing the title, price, and author of the book with the lowest priced book.\n",
    "# Hint: Much like sometimes start functions with a variable set to zero or float('inf'), you may want to create a dictionary with the price set to float('inf') to compare to each dictionary in the list\n",
    "def lowest_price_book(list):\n",
    "    cheapestbook=min(list, key=lambda x:x['price'])\n",
    "    return cheapestbook\n",
    "\n",
    "assert lowest_price_book(books) == {\n",
    "    \"title\": \"Weapons of Math Destruction\",\n",
    "    \"author\": \"Cathy O'Neil\",\n",
    "    \"price\": 17.44\n",
    "}\n",
    "print(\"Exercise 95 is complete.\")"
   ],
   "outputs": [
    {
     "output_type": "stream",
     "name": "stdout",
     "text": [
      "Exercise 95 is complete.\n"
     ]
    }
   ],
   "metadata": {
    "execution": {
     "iopub.execute_input": "2021-08-18T18:45:12.522882Z",
     "iopub.status.busy": "2021-08-18T18:45:12.522173Z",
     "iopub.status.idle": "2021-08-18T18:45:12.532726Z",
     "shell.execute_reply": "2021-08-18T18:45:12.531617Z",
     "shell.execute_reply.started": "2021-08-18T18:45:12.522798Z"
    }
   }
  },
  {
   "cell_type": "code",
   "execution_count": 105,
   "source": [
    "shopping_cart = {\n",
    "    \"tax\": .08,\n",
    "    \"items\": [\n",
    "        {\n",
    "            \"title\": \"orange juice\",\n",
    "            \"price\": 3.99,\n",
    "            \"quantity\": 1\n",
    "        },\n",
    "        {\n",
    "            \"title\": \"rice\",\n",
    "            \"price\": 1.99,\n",
    "            \"quantity\": 3\n",
    "        },\n",
    "        {\n",
    "            \"title\": \"beans\",\n",
    "            \"price\": 0.99,\n",
    "            \"quantity\": 3\n",
    "        },\n",
    "        {\n",
    "            \"title\": \"chili sauce\",\n",
    "            \"price\": 2.99,\n",
    "            \"quantity\": 1\n",
    "        },\n",
    "        {\n",
    "            \"title\": \"chocolate\",\n",
    "            \"price\": 0.75,\n",
    "            \"quantity\": 9\n",
    "        }\n",
    "    ]\n",
    "}\n",
    "print(shopping_cart)"
   ],
   "outputs": [
    {
     "output_type": "stream",
     "name": "stdout",
     "text": [
      "{'tax': 0.08, 'items': [{'title': 'orange juice', 'price': 3.99, 'quantity': 1}, {'title': 'rice', 'price': 1.99, 'quantity': 3}, {'title': 'beans', 'price': 0.99, 'quantity': 3}, {'title': 'chili sauce', 'price': 2.99, 'quantity': 1}, {'title': 'chocolate', 'price': 0.75, 'quantity': 9}]}\n"
     ]
    }
   ],
   "metadata": {
    "execution": {
     "iopub.execute_input": "2021-08-18T18:45:12.543088Z",
     "iopub.status.busy": "2021-08-18T18:45:12.542376Z",
     "iopub.status.idle": "2021-08-18T18:45:12.555139Z",
     "shell.execute_reply": "2021-08-18T18:45:12.553698Z",
     "shell.execute_reply.started": "2021-08-18T18:45:12.543027Z"
    }
   }
  },
  {
   "cell_type": "code",
   "execution_count": 106,
   "source": [
    "# Exercise 96\n",
    "# Write a function named get_tax_rate that takes in the above shopping cart as input and returns the tax rate.\n",
    "# Hint: How do you access a key's value on a dictionary? The tax rate is one key of the entire shopping_cart dictionary.\n",
    "def get_tax_rate(x):\n",
    "    return x['tax']\n",
    "assert get_tax_rate(shopping_cart) == .08\n",
    "print(\"Exercise 96 is complete\")"
   ],
   "outputs": [
    {
     "output_type": "stream",
     "name": "stdout",
     "text": [
      "Exercise 96 is complete\n"
     ]
    }
   ],
   "metadata": {
    "execution": {
     "iopub.execute_input": "2021-08-18T18:45:12.558924Z",
     "iopub.status.busy": "2021-08-18T18:45:12.558304Z",
     "iopub.status.idle": "2021-08-18T18:45:12.569038Z",
     "shell.execute_reply": "2021-08-18T18:45:12.568002Z",
     "shell.execute_reply.started": "2021-08-18T18:45:12.558847Z"
    }
   }
  },
  {
   "cell_type": "code",
   "execution_count": 107,
   "source": [
    "# Exercise 97\n",
    "# Write a function named number_of_item_types that takes in the shopping cart as input and returns the number of unique item types in the shopping cart. \n",
    "# We're not yet using the quantity of each item, but rather focusing on determining how many different types of items are in the cart.\n",
    "def number_of_item_types(x):\n",
    "    items=x['items']\n",
    "    titlelist=list(map(lambda d: d['title'], items))\n",
    "    titlecount=get_unique_values(titlelist)\n",
    "    return len(titlecount)\n",
    "assert number_of_item_types(shopping_cart) == 5\n",
    "print(\"Exercise 97 is complete.\")"
   ],
   "outputs": [
    {
     "output_type": "stream",
     "name": "stdout",
     "text": [
      "Exercise 97 is complete.\n"
     ]
    }
   ],
   "metadata": {
    "execution": {
     "iopub.execute_input": "2021-08-18T18:45:12.571223Z",
     "iopub.status.busy": "2021-08-18T18:45:12.570740Z",
     "iopub.status.idle": "2021-08-18T18:45:12.583795Z",
     "shell.execute_reply": "2021-08-18T18:45:12.582426Z",
     "shell.execute_reply.started": "2021-08-18T18:45:12.571155Z"
    }
   }
  },
  {
   "cell_type": "code",
   "execution_count": 108,
   "source": [
    "# Exercise 98\n",
    "# Write a function named total_number_of_items that takes in the shopping cart as input and returns the total number all item quantities.\n",
    "# This should return the sum of all of the quantities from each item type\n",
    "def total_number_of_items(x):\n",
    "    items=x['items']\n",
    "    itemsqty=list(map(lambda d: d['quantity'], items))\n",
    "    return sum(itemsqty)\n",
    "assert total_number_of_items(shopping_cart) == 17\n",
    "print(\"Exercise 98 is complete.\")"
   ],
   "outputs": [
    {
     "output_type": "stream",
     "name": "stdout",
     "text": [
      "Exercise 98 is complete.\n"
     ]
    }
   ],
   "metadata": {
    "execution": {
     "iopub.execute_input": "2021-08-18T18:45:12.587052Z",
     "iopub.status.busy": "2021-08-18T18:45:12.586584Z",
     "iopub.status.idle": "2021-08-18T18:45:12.598273Z",
     "shell.execute_reply": "2021-08-18T18:45:12.596689Z",
     "shell.execute_reply.started": "2021-08-18T18:45:12.586985Z"
    }
   }
  },
  {
   "cell_type": "code",
   "execution_count": 109,
   "source": [
    "# Exercise 99\n",
    "# Write a function named get_average_item_price that takes in the shopping cart as an input and returns the average of all the item prices.\n",
    "# Hint - This should determine the total price divided by the number of types of items. This does not account for each item type's quantity.\n",
    "def get_average_item_price(x):\n",
    "    itemspricessummed=sum(list(map(lambda d: d['price'], x['items'])))/number_of_item_types(x)\n",
    "    return itemspricessummed\n",
    "assert get_average_item_price(shopping_cart) == 2.1420000000000003\n",
    "print(\"Exercise 99 is complete.\")"
   ],
   "outputs": [
    {
     "output_type": "stream",
     "name": "stdout",
     "text": [
      "Exercise 99 is complete.\n"
     ]
    }
   ],
   "metadata": {
    "execution": {
     "iopub.execute_input": "2021-08-18T18:45:12.601519Z",
     "iopub.status.busy": "2021-08-18T18:45:12.600993Z",
     "iopub.status.idle": "2021-08-18T18:45:12.614906Z",
     "shell.execute_reply": "2021-08-18T18:45:12.613555Z",
     "shell.execute_reply.started": "2021-08-18T18:45:12.601440Z"
    }
   }
  },
  {
   "cell_type": "code",
   "execution_count": 110,
   "source": [
    "# Exercise 100\n",
    "# Write a function named get_average_spent_per_item that takes in the shopping cart and returns the average of summing each item's quanties times that item's price.\n",
    "# Hint: You may need to set an initial total price and total total quantity to zero, then sum up and divide that total price by the total quantity\n",
    "import numpy as np\n",
    "def get_average_spent_per_item(x):\n",
    "    itempriceslist=np.array(list(map(lambda d:d['price'], x['items'])))\n",
    "    itemqtylist=np.array(list(map(lambda d: float(d['quantity']), x['items'])))\n",
    "    itemtotprice=sum(list(np.multiply(itempriceslist,itemqtylist)))\n",
    "    return itemtotprice/total_number_of_items(x)\n",
    "    \n",
    "assert get_average_spent_per_item(shopping_cart) == 1.333529411764706\n",
    "print(\"Exercise 100 is complete.\")"
   ],
   "outputs": [
    {
     "output_type": "stream",
     "name": "stdout",
     "text": [
      "Exercise 100 is complete.\n"
     ]
    }
   ],
   "metadata": {
    "execution": {
     "iopub.execute_input": "2021-08-18T18:45:12.617491Z",
     "iopub.status.busy": "2021-08-18T18:45:12.617101Z",
     "iopub.status.idle": "2021-08-18T18:45:12.629619Z",
     "shell.execute_reply": "2021-08-18T18:45:12.628627Z",
     "shell.execute_reply.started": "2021-08-18T18:45:12.617432Z"
    }
   }
  },
  {
   "cell_type": "code",
   "execution_count": 111,
   "source": [
    "# Exercise 101\n",
    "# Write a function named most_spent_on_item that takes in the shopping cart as input and returns the dictionary associated with the item that has the highest price*quantity.\n",
    "# Be sure to do this as programmatically as possible. \n",
    "# Hint: Similarly to how we sometimes begin a function with setting a variable to zero, we need a starting place:\n",
    "# Hint: Consider creating a variable that is a dictionary with the keys \"price\" and \"quantity\" both set to 0. You can then compare each item's price and quantity total to the one from \"most\"\n",
    "def most_spent_on_item(x):\n",
    "    for i in x['items']:\n",
    "        i['total_price']=i['price']*i['quantity']\n",
    "    itemwithtots=sorted(list(x['items']),key=lambda n:n['total_price'])    \n",
    "    itemwithtots[-1].pop('total_price')\n",
    "    return itemwithtots[-1]\n",
    "assert most_spent_on_item(shopping_cart) == {\n",
    "    \"title\": \"chocolate\",\n",
    "    \"price\": 0.75,\n",
    "    \"quantity\": 9\n",
    "}\n",
    "print(\"Exercise 101 is complete.\")"
   ],
   "outputs": [
    {
     "output_type": "stream",
     "name": "stdout",
     "text": [
      "Exercise 101 is complete.\n"
     ]
    }
   ],
   "metadata": {
    "execution": {
     "iopub.execute_input": "2021-08-18T18:45:12.633110Z",
     "iopub.status.busy": "2021-08-18T18:45:12.632213Z",
     "iopub.status.idle": "2021-08-18T18:45:12.647959Z",
     "shell.execute_reply": "2021-08-18T18:45:12.646880Z",
     "shell.execute_reply.started": "2021-08-18T18:45:12.633043Z"
    }
   }
  },
  {
   "cell_type": "markdown",
   "source": [
    "Created by [Ryan Orsinger](https://ryanorsinger.com)\n",
    "\n",
    "Source code on [https://github.com/ryanorsinger/101-exercises](https://github.com/ryanorsinger/101-exercises)\n",
    "\n",
    "Proudly hosted on [Kaggle.com](https://kaggle.com/ryanorsinger)"
   ],
   "metadata": {}
  }
 ],
 "metadata": {
  "kernelspec": {
   "display_name": "Python 3",
   "language": "python",
   "name": "python3"
  },
  "language_info": {
   "codemirror_mode": {
    "name": "ipython",
    "version": 3
   },
   "file_extension": ".py",
   "mimetype": "text/x-python",
   "name": "python",
   "nbconvert_exporter": "python",
   "pygments_lexer": "ipython3",
   "version": "3.6.6"
  }
 },
 "nbformat": 4,
 "nbformat_minor": 4
}