{
 "cells": [
  {
   "cell_type": "markdown",
   "metadata": {},
   "source": [
    "---\n",
    "# Imports"
   ]
  },
  {
   "cell_type": "code",
   "execution_count": 1,
   "metadata": {},
   "outputs": [
    {
     "name": "stderr",
     "output_type": "stream",
     "text": [
      "Intel(R) Extension for Scikit-learn* enabled (https://github.com/intel/scikit-learn-intelex)\n"
     ]
    }
   ],
   "source": [
    "# current filepath system leaves plenty to be desired\n",
    "import sys\n",
    "local_path = '/Users/hinzlehome/codeup-data-science/anomaly-detection-exercises/'\n",
    "sys.path.insert(0, local_path)\n",
    "\n",
    "# imports.py in /utils/\n",
    "from utils.imports import *\n",
    "\n",
    "# plotting magic\n",
    "%matplotlib inline\n",
    "# plotting defaults\n",
    "plt.rc('figure', figsize=(16, 9))\n",
    "plt.style.use('seaborn-darkgrid')\n",
    "plt.rc('font', size=16)\n",
    "# plt.style.available\n",
    "# ^^^ show available seaborn styles\n",
    "\n",
    "# !!! Warning !!! \n",
    "# *** no more warnings ***\n",
    "# import warnings\n",
    "# warnings.filterwarnings(\"ignore\")\n",
    "\n",
    "# custom mods\n",
    "# from utils.tidy import *\n",
    "# from utils.model import *\n"
   ]
  },
  {
   "cell_type": "markdown",
   "metadata": {},
   "source": [
    "---\n",
    "# Quiz"
   ]
  },
  {
   "cell_type": "code",
   "execution_count": 2,
   "metadata": {},
   "outputs": [],
   "source": [
    "df=pd.read_csv('https://gist.githubusercontent.com/zgulde/b1cc93bf8bb4140ace71e0a3e44b8dcb/raw/17b5ac23c86baed88baf2c01b49d4913963f7cf2/data.csv')"
   ]
  },
  {
   "cell_type": "code",
   "execution_count": 3,
   "metadata": {},
   "outputs": [
    {
     "data": {
      "text/html": [
       "<div>\n",
       "<style scoped>\n",
       "    .dataframe tbody tr th:only-of-type {\n",
       "        vertical-align: middle;\n",
       "    }\n",
       "\n",
       "    .dataframe tbody tr th {\n",
       "        vertical-align: top;\n",
       "    }\n",
       "\n",
       "    .dataframe thead th {\n",
       "        text-align: right;\n",
       "    }\n",
       "</style>\n",
       "<table border=\"1\" class=\"dataframe\">\n",
       "  <thead>\n",
       "    <tr style=\"text-align: right;\">\n",
       "      <th></th>\n",
       "      <th>web_browser</th>\n",
       "      <th>water_ml</th>\n",
       "      <th>coffee_ml</th>\n",
       "      <th>pet</th>\n",
       "      <th>favorite_color</th>\n",
       "    </tr>\n",
       "  </thead>\n",
       "  <tbody>\n",
       "    <tr>\n",
       "      <th>0</th>\n",
       "      <td>Edge</td>\n",
       "      <td>1460.908387</td>\n",
       "      <td>1215.178520</td>\n",
       "      <td>dog</td>\n",
       "      <td>beige</td>\n",
       "    </tr>\n",
       "    <tr>\n",
       "      <th>1</th>\n",
       "      <td>Firefox</td>\n",
       "      <td>1518.863237</td>\n",
       "      <td>1401.531823</td>\n",
       "      <td>cat</td>\n",
       "      <td>navy</td>\n",
       "    </tr>\n",
       "    <tr>\n",
       "      <th>2</th>\n",
       "      <td>Edge</td>\n",
       "      <td>1219.323161</td>\n",
       "      <td>1726.410266</td>\n",
       "      <td>hamster</td>\n",
       "      <td>bisque</td>\n",
       "    </tr>\n",
       "    <tr>\n",
       "      <th>3</th>\n",
       "      <td>Opera</td>\n",
       "      <td>1068.023818</td>\n",
       "      <td>2860.242041</td>\n",
       "      <td>hamster</td>\n",
       "      <td>midnightblue</td>\n",
       "    </tr>\n",
       "    <tr>\n",
       "      <th>4</th>\n",
       "      <td>Safari</td>\n",
       "      <td>890.031813</td>\n",
       "      <td>933.430086</td>\n",
       "      <td>hamster</td>\n",
       "      <td>gainsboro</td>\n",
       "    </tr>\n",
       "  </tbody>\n",
       "</table>\n",
       "</div>"
      ],
      "text/plain": [
       "  web_browser     water_ml    coffee_ml      pet favorite_color\n",
       "0        Edge  1460.908387  1215.178520      dog          beige\n",
       "1     Firefox  1518.863237  1401.531823      cat           navy\n",
       "2        Edge  1219.323161  1726.410266  hamster         bisque\n",
       "3       Opera  1068.023818  2860.242041  hamster   midnightblue\n",
       "4      Safari   890.031813   933.430086  hamster      gainsboro"
      ]
     },
     "execution_count": 3,
     "metadata": {},
     "output_type": "execute_result"
    }
   ],
   "source": [
    "df.head()"
   ]
  },
  {
   "cell_type": "code",
   "execution_count": 7,
   "metadata": {},
   "outputs": [
    {
     "data": {
      "text/html": [
       "<div>\n",
       "<style scoped>\n",
       "    .dataframe tbody tr th:only-of-type {\n",
       "        vertical-align: middle;\n",
       "    }\n",
       "\n",
       "    .dataframe tbody tr th {\n",
       "        vertical-align: top;\n",
       "    }\n",
       "\n",
       "    .dataframe thead th {\n",
       "        text-align: right;\n",
       "    }\n",
       "</style>\n",
       "<table border=\"1\" class=\"dataframe\">\n",
       "  <thead>\n",
       "    <tr style=\"text-align: right;\">\n",
       "      <th></th>\n",
       "      <th>water_ml</th>\n",
       "      <th>coffee_ml</th>\n",
       "    </tr>\n",
       "  </thead>\n",
       "  <tbody>\n",
       "    <tr>\n",
       "      <th>count</th>\n",
       "      <td>12973.000000</td>\n",
       "      <td>12973.000000</td>\n",
       "    </tr>\n",
       "    <tr>\n",
       "      <th>mean</th>\n",
       "      <td>1500.728759</td>\n",
       "      <td>1609.381064</td>\n",
       "    </tr>\n",
       "    <tr>\n",
       "      <th>std</th>\n",
       "      <td>250.770173</td>\n",
       "      <td>798.470218</td>\n",
       "    </tr>\n",
       "    <tr>\n",
       "      <th>min</th>\n",
       "      <td>478.022749</td>\n",
       "      <td>0.000000</td>\n",
       "    </tr>\n",
       "    <tr>\n",
       "      <th>25%</th>\n",
       "      <td>1330.831325</td>\n",
       "      <td>1849.806498</td>\n",
       "    </tr>\n",
       "    <tr>\n",
       "      <th>50%</th>\n",
       "      <td>1499.350729</td>\n",
       "      <td>1968.440345</td>\n",
       "    </tr>\n",
       "    <tr>\n",
       "      <th>75%</th>\n",
       "      <td>1671.373552</td>\n",
       "      <td>2050.635132</td>\n",
       "    </tr>\n",
       "    <tr>\n",
       "      <th>max</th>\n",
       "      <td>2536.881493</td>\n",
       "      <td>2408.021308</td>\n",
       "    </tr>\n",
       "  </tbody>\n",
       "</table>\n",
       "</div>"
      ],
      "text/plain": [
       "           water_ml     coffee_ml\n",
       "count  12973.000000  12973.000000\n",
       "mean    1500.728759   1609.381064\n",
       "std      250.770173    798.470218\n",
       "min      478.022749      0.000000\n",
       "25%     1330.831325   1849.806498\n",
       "50%     1499.350729   1968.440345\n",
       "75%     1671.373552   2050.635132\n",
       "max     2536.881493   2408.021308"
      ]
     },
     "execution_count": 7,
     "metadata": {},
     "output_type": "execute_result"
    }
   ],
   "source": [
    "df[df.web_browser=='Chrome'].describe()"
   ]
  },
  {
   "cell_type": "code",
   "execution_count": 10,
   "metadata": {},
   "outputs": [
    {
     "data": {
      "text/plain": [
       "Edge       13429\n",
       "Safari     13237\n",
       "Opera      13098\n",
       "Firefox    12988\n",
       "Chrome     12973\n",
       "Name: web_browser, dtype: int64"
      ]
     },
     "execution_count": 10,
     "metadata": {},
     "output_type": "execute_result"
    }
   ],
   "source": [
    "df.web_browser.value_counts()"
   ]
  },
  {
   "cell_type": "code",
   "execution_count": 14,
   "metadata": {},
   "outputs": [
    {
     "data": {
      "text/plain": [
       "Firefox    2630\n",
       "Edge       2629\n",
       "Safari     2616\n",
       "Opera      2571\n",
       "Chrome     2536\n",
       "Name: web_browser, dtype: int64"
      ]
     },
     "execution_count": 14,
     "metadata": {},
     "output_type": "execute_result"
    }
   ],
   "source": [
    "df[df.coffee_ml==0].web_browser.value_counts()"
   ]
  },
  {
   "cell_type": "code",
   "execution_count": 20,
   "metadata": {},
   "outputs": [
    {
     "data": {
      "text/plain": [
       "1893"
      ]
     },
     "execution_count": 20,
     "metadata": {},
     "output_type": "execute_result"
    }
   ],
   "source": [
    "df[df.coffee_ml<1000].pet.isna().sum()"
   ]
  },
  {
   "cell_type": "code",
   "execution_count": 24,
   "metadata": {},
   "outputs": [
    {
     "data": {
      "text/plain": [
       "orchid                  111\n",
       "green                   110\n",
       "violet                  109\n",
       "gainsboro               107\n",
       "bisque                  106\n",
       "dimgray                 106\n",
       "lightpink               106\n",
       "gray                    105\n",
       "snow                    105\n",
       "linen                   103\n",
       "skyblue                 103\n",
       "darkslateblue           102\n",
       "lavender                102\n",
       "lightgoldenrodyellow    102\n",
       "blanchedalmond          101\n",
       "ivory                   100\n",
       "slateblue               100\n",
       "lawngreen               100\n",
       "darkgray                100\n",
       "seashell                100\n",
       "mediumseagreen           99\n",
       "darkgreen                99\n",
       "brown                    99\n",
       "rosybrown                99\n",
       "lightgrey                99\n",
       "coral                    98\n",
       "cyan                     98\n",
       "seagreen                 98\n",
       "navajowhite              98\n",
       "aliceblue                98\n",
       "red                      98\n",
       "limegreen                98\n",
       "olive                    98\n",
       "maroon                   98\n",
       "azure                    97\n",
       "mediumspringgreen        97\n",
       "oldlace                  97\n",
       "powderblue               96\n",
       "salmon                   96\n",
       "forestgreen              96\n",
       "pink                     96\n",
       "orange                   96\n",
       "lightslategray           95\n",
       "lightslategrey           95\n",
       "darkgoldenrod            95\n",
       "whitesmoke               95\n",
       "deeppink                 94\n",
       "slategrey                94\n",
       "teal                     94\n",
       "white                    93\n",
       "darkorchid               93\n",
       "burlywood                93\n",
       "darkturquoise            92\n",
       "darkslategrey            92\n",
       "deepskyblue              92\n",
       "lightgray                92\n",
       "darkmagenta              92\n",
       "palevioletred            92\n",
       "palegoldenrod            92\n",
       "magenta                  92\n",
       "palegreen                92\n",
       "firebrick                92\n",
       "navy                     91\n",
       "dodgerblue               91\n",
       "khaki                    91\n",
       "yellow                   91\n",
       "lightblue                91\n",
       "lightcoral               91\n",
       "lightsalmon              90\n",
       "cornflowerblue           90\n",
       "midnightblue             90\n",
       "lemonchiffon             90\n",
       "aquamarine               90\n",
       "papayawhip               90\n",
       "lime                     90\n",
       "crimson                  90\n",
       "fuchsia                  90\n",
       "mediumblue               90\n",
       "purple                   89\n",
       "darkkhaki                89\n",
       "sienna                   89\n",
       "lightseagreen            89\n",
       "mediumpurple             89\n",
       "beige                    89\n",
       "mediumaquamarine         89\n",
       "darkblue                 89\n",
       "blue                     89\n",
       "lightgreen               89\n",
       "chocolate                88\n",
       "steelblue                88\n",
       "silver                   88\n",
       "darkviolet               88\n",
       "tan                      88\n",
       "mediumvioletred          88\n",
       "gold                     87\n",
       "darkorange               87\n",
       "tomato                   87\n",
       "royalblue                87\n",
       "darksalmon               87\n",
       "yellowgreen              87\n",
       "cadetblue                87\n",
       "slategray                87\n",
       "orangered                86\n",
       "mediumturquoise          86\n",
       "mintcream                86\n",
       "plum                     86\n",
       "floralwhite              85\n",
       "black                    85\n",
       "lightskyblue             84\n",
       "thistle                  84\n",
       "wheat                    84\n",
       "mistyrose                84\n",
       "lavenderblush            83\n",
       "darkseagreen             83\n",
       "indigo                   83\n",
       "moccasin                 83\n",
       "turquoise                82\n",
       "lightsteelblue           81\n",
       "honeydew                 81\n",
       "rebeccapurple            81\n",
       "olivedrab                80\n",
       "mediumslateblue          80\n",
       "cornsilk                 80\n",
       "darkslategray            80\n",
       "springgreen              80\n",
       "dimgrey                  79\n",
       "lightcyan                79\n",
       "saddlebrown              79\n",
       "chartreuse               79\n",
       "aqua                     79\n",
       "darkgrey                 79\n",
       "peru                     78\n",
       "lightyellow              78\n",
       "ghostwhite               78\n",
       "greenyellow              78\n",
       "hotpink                  78\n",
       "blueviolet               77\n",
       "darkred                  77\n",
       "darkolivegreen           77\n",
       "paleturquoise            76\n",
       "sandybrown               76\n",
       "grey                     75\n",
       "mediumorchid             75\n",
       "darkcyan                 74\n",
       "goldenrod                73\n",
       "peachpuff                69\n",
       "antiquewhite             69\n",
       "indianred                67\n",
       "Name: favorite_color, dtype: int64"
      ]
     },
     "execution_count": 24,
     "metadata": {},
     "output_type": "execute_result"
    }
   ],
   "source": [
    "df[df.pet=='hamster'].favorite_color.value_counts()"
   ]
  },
  {
   "cell_type": "code",
   "execution_count": 32,
   "metadata": {},
   "outputs": [
    {
     "name": "stdout",
     "output_type": "stream",
     "text": [
      "1438.9847194920067\n",
      "1494.2606149535568\n",
      "1468.7936182905446\n"
     ]
    }
   ],
   "source": [
    "print(df[df.favorite_color=='crimson'].coffee_ml.median())\n",
    "print(df[df.favorite_color=='pink'].coffee_ml.median())\n",
    "print(df[df.favorite_color=='lavender'].coffee_ml.median())"
   ]
  },
  {
   "cell_type": "code",
   "execution_count": 49,
   "metadata": {},
   "outputs": [
    {
     "data": {
      "text/plain": [
       "3468.6120616596595"
      ]
     },
     "execution_count": 49,
     "metadata": {},
     "output_type": "execute_result"
    }
   ],
   "source": [
    "s=df.coffee_ml\n",
    "k=1.5\n",
    "q1, q3 = s.quantile([.25, .75])\n",
    "iqr = q3 - q1\n",
    "upper_bound = q3 + k * iqr\n"
   ]
  },
  {
   "cell_type": "code",
   "execution_count": 51,
   "metadata": {},
   "outputs": [
    {
     "data": {
      "text/plain": [
       "74"
      ]
     },
     "execution_count": 51,
     "metadata": {},
     "output_type": "execute_result"
    }
   ],
   "source": [
    "(df.coffee_ml>upper_bound).sum()"
   ]
  },
  {
   "cell_type": "code",
   "execution_count": 60,
   "metadata": {},
   "outputs": [],
   "source": [
    "df.pet=df.pet.fillna('no_pet')"
   ]
  },
  {
   "cell_type": "code",
   "execution_count": 74,
   "metadata": {},
   "outputs": [
    {
     "data": {
      "text/plain": [
       "('no_pet', 'darkgoldenrod', 'Firefox')"
      ]
     },
     "execution_count": 74,
     "metadata": {},
     "output_type": "execute_result"
    }
   ],
   "source": [
    "df.groupby(['pet','favorite_color','web_browser']).mean().water_ml.idxmin()"
   ]
  },
  {
   "cell_type": "code",
   "execution_count": 82,
   "metadata": {},
   "outputs": [
    {
     "data": {
      "text/plain": [
       "water_ml     1186.747830\n",
       "coffee_ml    1576.599178\n",
       "Name: (no_pet, darkgoldenrod, Firefox), dtype: float64"
      ]
     },
     "execution_count": 82,
     "metadata": {},
     "output_type": "execute_result"
    }
   ],
   "source": [
    "position=df.groupby(['pet','favorite_color','web_browser']).mean().water_ml.idxmin()\n",
    "df.groupby(['pet','favorite_color','web_browser']).mean().loc[position]"
   ]
  },
  {
   "cell_type": "code",
   "execution_count": 95,
   "metadata": {},
   "outputs": [
    {
     "data": {
      "text/plain": [
       "[Text(0.5, 1.0, 'Average Coffee Consumption by Web Browser Used'),\n",
       " Text(0.5, 0, 'Web Browser Used'),\n",
       " Text(0, 0.5, 'Average Coffe Consumption [ml]')]"
      ]
     },
     "execution_count": 95,
     "metadata": {},
     "output_type": "execute_result"
    },
    {
     "data": {
      "image/png": "[encoded data removed]",
      "text/plain": [
       "<Figure size 1152x648 with 1 Axes>"
      ]
     },
     "metadata": {},
     "output_type": "display_data"
    }
   ],
   "source": [
    "sns.barplot(data=df,x='web_browser',y='coffee_ml',ci=None).set(title='Average Coffee Consumption by Web Browser Used',xlabel='Web Browser Used', ylabel='Average Coffee Consumption [ml]')"
   ]
  },
  {
   "cell_type": "code",
   "execution_count": 96,
   "metadata": {},
   "outputs": [
    {
     "data": {
      "text/plain": [
       "[Text(0.5, 1.0, 'Average Coffee Consumption by Web Browser Used'),\n",
       " Text(0.5, 0, 'Web Browser Used'),\n",
       " Text(0, 0.5, 'Average Coffee Consumption [ml]')]"
      ]
     },
     "execution_count": 96,
     "metadata": {},
     "output_type": "execute_result"
    },
    {
     "data": {
      "image/png": "[encoded data removed]",
      "text/plain": [
       "<Figure size 1152x648 with 1 Axes>"
      ]
     },
     "metadata": {},
     "output_type": "display_data"
    }
   ],
   "source": [
    "sns.barplot(data=df,x='web_browser',y='coffee_ml',ci=None).set(title='Average Coffee Consumption by Web Browser Used',xlabel='Web Browser Used', ylabel='Average Coffee Consumption [ml]')"
   ]
  }
 ],
 "metadata": {
  "interpreter": {
   "hash": "3067ead486e059ec00ffe7555bdb889e6e264a24dc711bf108106cc7baee8d5d"
  },
  "kernelspec": {
   "display_name": "Python 3.9.12 ('base')",
   "language": "python",
   "name": "python3"
  },
  "language_info": {
   "codemirror_mode": {
    "name": "ipython",
    "version": 3
   },
   "file_extension": ".py",
   "mimetype": "text/x-python",
   "name": "python",
   "nbconvert_exporter": "python",
   "pygments_lexer": "ipython3",
   "version": "3.9.12"
  },
  "orig_nbformat": 4
 },
 "nbformat": 4,
 "nbformat_minor": 2
}
