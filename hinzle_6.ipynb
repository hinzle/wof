{
 "cells": [
  {
   "cell_type": "markdown",
   "metadata": {},
   "source": [
    "---\n",
    "# Imports"
   ]
  },
  {
   "cell_type": "code",
   "execution_count": 1,
   "metadata": {},
   "outputs": [
    {
     "name": "stderr",
     "output_type": "stream",
     "text": [
      "Intel(R) Extension for Scikit-learn* enabled (https://github.com/intel/scikit-learn-intelex)\n"
     ]
    }
   ],
   "source": [
    "# imports.py\n",
    "from imports import *\n",
    "from sklearn.datasets import make_blobs\n",
    "\n",
    "# plotting magic\n",
    "%matplotlib inline\n",
    "\n",
    "# custom mods\n",
    "import tidy\n",
    "import model_h\n",
    "import wrangle"
   ]
  },
  {
   "cell_type": "markdown",
   "metadata": {},
   "source": [
    "---\n",
    "# Wrangle"
   ]
  },
  {
   "cell_type": "code",
   "execution_count": 2,
   "metadata": {},
   "outputs": [
    {
     "name": "stdout",
     "output_type": "stream",
     "text": [
      "cached csv\n"
     ]
    }
   ],
   "source": [
    "df=wrangle.wrangle_df()\n",
    "\n",
    "# df.info()\n",
    "# # model_h.print_btcusd(df)\n",
    "# df.head()"
   ]
  },
  {
   "cell_type": "code",
   "execution_count": 3,
   "metadata": {},
   "outputs": [],
   "source": [
    "df['atr'] = talib.ATR(df.high, df.low, df.close, 14)"
   ]
  },
  {
   "cell_type": "code",
   "execution_count": 4,
   "metadata": {},
   "outputs": [],
   "source": [
    "df=df.loc['2021-2':]"
   ]
  },
  {
   "cell_type": "markdown",
   "metadata": {},
   "source": [
    "---\n",
    "# Train / Validate Split*"
   ]
  },
  {
   "cell_type": "code",
   "execution_count": 5,
   "metadata": {},
   "outputs": [],
   "source": [
    "train, val=tidy.split_ii(df)"
   ]
  },
  {
   "cell_type": "code",
   "execution_count": 6,
   "metadata": {},
   "outputs": [
    {
     "name": "stdout",
     "output_type": "stream",
     "text": [
      "<class 'pandas.core.frame.DataFrame'>\n",
      "DatetimeIndex: 448 entries, 2021-02-01 to 2022-04-24\n",
      "Data columns (total 34 columns):\n",
      " #   Column                        Non-Null Count  Dtype  \n",
      "---  ------                        --------------  -----  \n",
      " 0   open                          448 non-null    float64\n",
      " 1   high                          448 non-null    float64\n",
      " 2   low                           448 non-null    float64\n",
      " 3   close                         448 non-null    float64\n",
      " 4   volume                        448 non-null    float64\n",
      " 5   fwd_log_ret                   448 non-null    float64\n",
      " 6   fwd_ret                       448 non-null    float64\n",
      " 7   fwd_pct_chg                   448 non-null    float64\n",
      " 8   fwd_close_positive            448 non-null    float64\n",
      " 9   macd                          448 non-null    float64\n",
      " 10  signal                        448 non-null    float64\n",
      " 11  histo                         448 non-null    float64\n",
      " 12  cross                         448 non-null    float64\n",
      " 13  histy                         448 non-null    float64\n",
      " 14  month_9                       448 non-null    float64\n",
      " 15  month_10                      448 non-null    float64\n",
      " 16  day_20                        448 non-null    float64\n",
      " 17  day_1                         448 non-null    float64\n",
      " 18  day_9                         448 non-null    float64\n",
      " 19  atr_above_threshold_0.01      448 non-null    object \n",
      " 20  atr_above_threshold_0.05      448 non-null    object \n",
      " 21  atr_above_threshold_0.1       448 non-null    object \n",
      " 22  atr_above_threshold_0.2       448 non-null    object \n",
      " 23  atr_above_threshold_0.3       448 non-null    object \n",
      " 24  avg-fees-per-transaction      448 non-null    float64\n",
      " 25  cost-per-transaction-percent  448 non-null    float64\n",
      " 26  cost-per-transaction          448 non-null    float64\n",
      " 27  difficulty                    448 non-null    float64\n",
      " 28  hash-rate                     448 non-null    float64\n",
      " 29  miners-revenue                448 non-null    float64\n",
      " 30  transaction-fees-to-miners    448 non-null    float64\n",
      " 31  sentiment                     448 non-null    float64\n",
      " 32  obv_close_product             448 non-null    float64\n",
      " 33  atr                           448 non-null    float64\n",
      "dtypes: float64(29), object(5)\n",
      "memory usage: 122.5+ KB\n"
     ]
    }
   ],
   "source": [
    "train.info()"
   ]
  },
  {
   "cell_type": "markdown",
   "metadata": {},
   "source": [
    "---\n",
    "# Baseline\n"
   ]
  },
  {
   "cell_type": "code",
   "execution_count": 7,
   "metadata": {},
   "outputs": [
    {
     "data": {
      "text/plain": [
       "13.24133300892858"
      ]
     },
     "execution_count": 7,
     "metadata": {},
     "output_type": "execute_result"
    }
   ],
   "source": [
    "(train.close[-1]-train.close[0])/len(train)\n",
    "\n",
    "# UPDATE: DAILY simple return\n",
    "# this is simple return if you bought 1 btc in 2014-09-17 and sold in 2022-03-23\n"
   ]
  },
  {
   "cell_type": "code",
   "execution_count": 8,
   "metadata": {},
   "outputs": [
    {
     "data": {
      "text/plain": [
       "5.922707660714098"
      ]
     },
     "execution_count": 8,
     "metadata": {},
     "output_type": "execute_result"
    }
   ],
   "source": [
    "(train.close.sum()-train.open.sum())/len(train)\n",
    "\n",
    "# UPDATE: DAILY simple return\n",
    "# this is simple return if you bought every morning and sold every night"
   ]
  },
  {
   "cell_type": "markdown",
   "metadata": {},
   "source": [
    "---\n",
    "# Model Results"
   ]
  },
  {
   "cell_type": "code",
   "execution_count": 9,
   "metadata": {},
   "outputs": [],
   "source": [
    "df1=pd.read_csv('classi_train_ii.csv').drop('Unnamed: 0',axis=1).set_index(train.index)\n",
    "df2=pd.read_csv('classi_val_ii.csv').drop('Unnamed: 0',axis=1).set_index(val.index)\n",
    "df3=pd.read_csv('reg_val_ii.csv').drop('Unnamed: 0',axis=1).set_index(val.index)\n",
    "df4=pd.read_csv('reg_train_ii.csv').drop('Unnamed: 0',axis=1).set_index(train.index)"
   ]
  },
  {
   "cell_type": "code",
   "execution_count": 10,
   "metadata": {},
   "outputs": [
    {
     "data": {
      "text/html": [
       "<div>\n",
       "<style scoped>\n",
       "    .dataframe tbody tr th:only-of-type {\n",
       "        vertical-align: middle;\n",
       "    }\n",
       "\n",
       "    .dataframe tbody tr th {\n",
       "        vertical-align: top;\n",
       "    }\n",
       "\n",
       "    .dataframe thead th {\n",
       "        text-align: right;\n",
       "    }\n",
       "</style>\n",
       "<table border=\"1\" class=\"dataframe\">\n",
       "  <thead>\n",
       "    <tr style=\"text-align: right;\">\n",
       "      <th></th>\n",
       "      <th>fwd_ret</th>\n",
       "      <th>reg</th>\n",
       "    </tr>\n",
       "  </thead>\n",
       "  <tbody>\n",
       "    <tr>\n",
       "      <th>count</th>\n",
       "      <td>448.000000</td>\n",
       "      <td>448.000000</td>\n",
       "    </tr>\n",
       "    <tr>\n",
       "      <th>mean</th>\n",
       "      <td>-0.004920</td>\n",
       "      <td>-0.004920</td>\n",
       "    </tr>\n",
       "    <tr>\n",
       "      <th>std</th>\n",
       "      <td>0.910264</td>\n",
       "      <td>0.168598</td>\n",
       "    </tr>\n",
       "    <tr>\n",
       "      <th>min</th>\n",
       "      <td>-3.869731</td>\n",
       "      <td>-0.444194</td>\n",
       "    </tr>\n",
       "    <tr>\n",
       "      <th>25%</th>\n",
       "      <td>-0.507171</td>\n",
       "      <td>-0.124955</td>\n",
       "    </tr>\n",
       "    <tr>\n",
       "      <th>50%</th>\n",
       "      <td>0.000000</td>\n",
       "      <td>0.008499</td>\n",
       "    </tr>\n",
       "    <tr>\n",
       "      <th>75%</th>\n",
       "      <td>0.492829</td>\n",
       "      <td>0.112714</td>\n",
       "    </tr>\n",
       "    <tr>\n",
       "      <th>max</th>\n",
       "      <td>3.710846</td>\n",
       "      <td>0.546021</td>\n",
       "    </tr>\n",
       "  </tbody>\n",
       "</table>\n",
       "</div>"
      ],
      "text/plain": [
       "          fwd_ret         reg\n",
       "count  448.000000  448.000000\n",
       "mean    -0.004920   -0.004920\n",
       "std      0.910264    0.168598\n",
       "min     -3.869731   -0.444194\n",
       "25%     -0.507171   -0.124955\n",
       "50%      0.000000    0.008499\n",
       "75%      0.492829    0.112714\n",
       "max      3.710846    0.546021"
      ]
     },
     "execution_count": 10,
     "metadata": {},
     "output_type": "execute_result"
    }
   ],
   "source": [
    "df4.describe()"
   ]
  },
  {
   "cell_type": "code",
   "execution_count": 11,
   "metadata": {},
   "outputs": [],
   "source": [
    "train=pd.concat([train,df1,df4.reg],axis=1)\n",
    "val=pd.concat([val,df2,df3],axis=1)"
   ]
  },
  {
   "cell_type": "code",
   "execution_count": 12,
   "metadata": {},
   "outputs": [],
   "source": [
    "profit=[]\n",
    "\n",
    "for row in train.index:\n",
    "\tif (train.reg.loc[row]>=-10.007)&(train['class'].loc[row]==1):\n",
    "\t\tprofit.append(train.close.loc[row+pd.DateOffset(days=1)]-train.open.loc[row+pd.DateOffset(days=1)])\n",
    "\t\t# print(train.close.loc[row+pd.DateOffset(days=1)]-train.open.loc[row+pd.DateOffset(days=1)])\n",
    "\tif (train.reg.loc[row]<-10.007)&(train['class'].loc[row]==0):\n",
    "\t\tprofit.append(train.open.loc[row+pd.DateOffset(days=1)]-train.close.loc[row+pd.DateOffset(days=1)])\n",
    "\t\t# train.loc[row,'profit']=(df.open-df.close)\n",
    "\tif (row+pd.DateOffset(days=1))>=train.index[-1]:\n",
    "\t\tbreak\n",
    "\telse:\n",
    "\t\tprofit.append(0)\n",
    "\t\t# train.loc[row,'profit']=(0)\n",
    "\n"
   ]
  },
  {
   "cell_type": "code",
   "execution_count": 13,
   "metadata": {},
   "outputs": [
    {
     "data": {
      "text/plain": [
       "25.850006078125016"
      ]
     },
     "execution_count": 13,
     "metadata": {},
     "output_type": "execute_result"
    }
   ],
   "source": [
    "sum(profit)/len(train)"
   ]
  },
  {
   "cell_type": "markdown",
   "metadata": {},
   "source": [
    "---\n",
    "# Test"
   ]
  },
  {
   "cell_type": "markdown",
   "metadata": {},
   "source": [
    "## *Baseline*"
   ]
  },
  {
   "cell_type": "code",
   "execution_count": 14,
   "metadata": {},
   "outputs": [
    {
     "data": {
      "text/plain": [
       "-360.09075520000005"
      ]
     },
     "execution_count": 14,
     "metadata": {},
     "output_type": "execute_result"
    }
   ],
   "source": [
    "(val.close[-1]-val.close[0])/len(val)\n",
    "\n",
    "# UPDATE: DAILY simple return\n",
    "# this is simple return if you bought 1 btc in 2014-09-17 and sold in 2022-03-23\n"
   ]
  },
  {
   "cell_type": "code",
   "execution_count": 15,
   "metadata": {},
   "outputs": [
    {
     "data": {
      "text/plain": [
       "-324.4180989666648"
      ]
     },
     "execution_count": 15,
     "metadata": {},
     "output_type": "execute_result"
    }
   ],
   "source": [
    "(val.close.sum()-val.open.sum())/len(val)\n",
    "\n",
    "# UPDATE: DAILY simple return\n",
    "# this is simple return if you bought every morning and sold every night"
   ]
  },
  {
   "cell_type": "markdown",
   "metadata": {},
   "source": [
    "## *Test Profit*"
   ]
  },
  {
   "cell_type": "code",
   "execution_count": 16,
   "metadata": {},
   "outputs": [],
   "source": [
    "profit_val=[]\n",
    "\n",
    "for row in val.index:\n",
    "\tif (val.reg.loc[row]>=-10.007)&(val['class'].loc[row]==1):\n",
    "\t\tprofit_val.append(val.close.loc[row+pd.DateOffset(days=1)]-val.open.loc[row+pd.DateOffset(days=1)])\n",
    "\t\t# print(val.close.loc[row+pd.DateOffset(days=1)]-val.open.loc[row+pd.DateOffset(days=1)])\n",
    "\tif (val.reg.loc[row]<-10.007)&(val['class'].loc[row]==0):\n",
    "\t\tprofit_val.append(val.open.loc[row+pd.DateOffset(days=1)]-val.close.loc[row+pd.DateOffset(days=1)])\n",
    "\t\t# val.loc[row,'profit_val']=(df.open-df.close)\n",
    "\tif (row+pd.DateOffset(days=1))>=val.index[-1]:\n",
    "\t\tbreak\n",
    "\telse:\n",
    "\t\tprofit_val.append(0)"
   ]
  },
  {
   "cell_type": "code",
   "execution_count": 17,
   "metadata": {},
   "outputs": [
    {
     "data": {
      "text/plain": [
       "-107.78424476666684"
      ]
     },
     "execution_count": 17,
     "metadata": {},
     "output_type": "execute_result"
    }
   ],
   "source": [
    "sum(profit_val)/len(val)"
   ]
  }
 ],
 "metadata": {
  "interpreter": {
   "hash": "3067ead486e059ec00ffe7555bdb889e6e264a24dc711bf108106cc7baee8d5d"
  },
  "kernelspec": {
   "display_name": "Python 3.9.12 ('base')",
   "language": "python",
   "name": "python3"
  },
  "language_info": {
   "codemirror_mode": {
    "name": "ipython",
    "version": 3
   },
   "file_extension": ".py",
   "mimetype": "text/x-python",
   "name": "python",
   "nbconvert_exporter": "python",
   "pygments_lexer": "ipython3",
   "version": "3.9.12"
  },
  "orig_nbformat": 4
 },
 "nbformat": 4,
 "nbformat_minor": 2
}
