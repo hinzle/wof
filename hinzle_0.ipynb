{
 "cells": [
  {
   "cell_type": "markdown",
   "metadata": {},
   "source": [
    "---\n",
    "# Imports"
   ]
  },
  {
   "cell_type": "code",
   "execution_count": 1,
   "metadata": {},
   "outputs": [
    {
     "name": "stderr",
     "output_type": "stream",
     "text": [
      "Intel(R) Extension for Scikit-learn* enabled (https://github.com/intel/scikit-learn-intelex)\n"
     ]
    }
   ],
   "source": [
    "# imports.py\n",
    "from imports import *\n",
    "from sklearn.datasets import make_blobs\n",
    "\n",
    "# plotting magic\n",
    "%matplotlib inline\n",
    "\n",
    "# custom mods\n",
    "import tidy\n",
    "import model_h\n",
    "import wrangle"
   ]
  },
  {
   "cell_type": "markdown",
   "metadata": {},
   "source": [
    "---\n",
    "# Tidiness"
   ]
  },
  {
   "cell_type": "code",
   "execution_count": 2,
   "metadata": {},
   "outputs": [
    {
     "name": "stdout",
     "output_type": "stream",
     "text": [
      "cached csv\n",
      "<class 'pandas.core.frame.DataFrame'>\n",
      "DatetimeIndex: 2770 entries, 2014-10-20 to 2022-05-24\n",
      "Data columns (total 33 columns):\n",
      " #   Column                        Non-Null Count  Dtype  \n",
      "---  ------                        --------------  -----  \n",
      " 0   open                          2770 non-null   float64\n",
      " 1   high                          2770 non-null   float64\n",
      " 2   low                           2770 non-null   float64\n",
      " 3   close                         2770 non-null   float64\n",
      " 4   volume                        2770 non-null   float64\n",
      " 5   fwd_log_ret                   2770 non-null   float64\n",
      " 6   fwd_ret                       2770 non-null   float64\n",
      " 7   fwd_pct_chg                   2770 non-null   float64\n",
      " 8   fwd_close_positive            2770 non-null   float64\n",
      " 9   macd                          2770 non-null   float64\n",
      " 10  signal                        2770 non-null   float64\n",
      " 11  histo                         2770 non-null   float64\n",
      " 12  cross                         2770 non-null   float64\n",
      " 13  histy                         2770 non-null   float64\n",
      " 14  month_9                       2770 non-null   float64\n",
      " 15  month_10                      2770 non-null   float64\n",
      " 16  day_20                        2770 non-null   float64\n",
      " 17  day_1                         2770 non-null   float64\n",
      " 18  day_9                         2770 non-null   float64\n",
      " 19  atr_above_threshold_0.01      2770 non-null   object \n",
      " 20  atr_above_threshold_0.05      2770 non-null   object \n",
      " 21  atr_above_threshold_0.1       2770 non-null   object \n",
      " 22  atr_above_threshold_0.2       2770 non-null   object \n",
      " 23  atr_above_threshold_0.3       2770 non-null   object \n",
      " 24  avg-fees-per-transaction      2770 non-null   float64\n",
      " 25  cost-per-transaction-percent  2770 non-null   float64\n",
      " 26  cost-per-transaction          2770 non-null   float64\n",
      " 27  difficulty                    2770 non-null   float64\n",
      " 28  hash-rate                     2770 non-null   float64\n",
      " 29  miners-revenue                2770 non-null   float64\n",
      " 30  transaction-fees-to-miners    2770 non-null   float64\n",
      " 31  sentiment                     2770 non-null   float64\n",
      " 32  obv_close_product             2770 non-null   float64\n",
      "dtypes: float64(28), object(5)\n",
      "memory usage: 735.8+ KB\n"
     ]
    },
    {
     "data": {
      "text/html": [
       "<div>\n",
       "<style scoped>\n",
       "    .dataframe tbody tr th:only-of-type {\n",
       "        vertical-align: middle;\n",
       "    }\n",
       "\n",
       "    .dataframe tbody tr th {\n",
       "        vertical-align: top;\n",
       "    }\n",
       "\n",
       "    .dataframe thead th {\n",
       "        text-align: right;\n",
       "    }\n",
       "</style>\n",
       "<table border=\"1\" class=\"dataframe\">\n",
       "  <thead>\n",
       "    <tr style=\"text-align: right;\">\n",
       "      <th></th>\n",
       "      <th>open</th>\n",
       "      <th>high</th>\n",
       "      <th>low</th>\n",
       "      <th>close</th>\n",
       "      <th>volume</th>\n",
       "      <th>fwd_log_ret</th>\n",
       "      <th>fwd_ret</th>\n",
       "      <th>fwd_pct_chg</th>\n",
       "      <th>fwd_close_positive</th>\n",
       "      <th>macd</th>\n",
       "      <th>signal</th>\n",
       "      <th>histo</th>\n",
       "      <th>cross</th>\n",
       "      <th>histy</th>\n",
       "      <th>month_9</th>\n",
       "      <th>month_10</th>\n",
       "      <th>day_20</th>\n",
       "      <th>day_1</th>\n",
       "      <th>day_9</th>\n",
       "      <th>atr_above_threshold_0.01</th>\n",
       "      <th>atr_above_threshold_0.05</th>\n",
       "      <th>atr_above_threshold_0.1</th>\n",
       "      <th>atr_above_threshold_0.2</th>\n",
       "      <th>atr_above_threshold_0.3</th>\n",
       "      <th>avg-fees-per-transaction</th>\n",
       "      <th>cost-per-transaction-percent</th>\n",
       "      <th>cost-per-transaction</th>\n",
       "      <th>difficulty</th>\n",
       "      <th>hash-rate</th>\n",
       "      <th>miners-revenue</th>\n",
       "      <th>transaction-fees-to-miners</th>\n",
       "      <th>sentiment</th>\n",
       "      <th>obv_close_product</th>\n",
       "    </tr>\n",
       "  </thead>\n",
       "  <tbody>\n",
       "    <tr>\n",
       "      <th>2014-10-20</th>\n",
       "      <td>389.230988</td>\n",
       "      <td>390.084015</td>\n",
       "      <td>378.252014</td>\n",
       "      <td>382.845001</td>\n",
       "      <td>16419000.0</td>\n",
       "      <td>0.009437</td>\n",
       "      <td>3.630005</td>\n",
       "      <td>0.009482</td>\n",
       "      <td>1.0</td>\n",
       "      <td>-6.216836</td>\n",
       "      <td>-14.504225</td>\n",
       "      <td>8.287389</td>\n",
       "      <td>0.0</td>\n",
       "      <td>1.0</td>\n",
       "      <td>0.0</td>\n",
       "      <td>1.0</td>\n",
       "      <td>1.0</td>\n",
       "      <td>0.0</td>\n",
       "      <td>0.0</td>\n",
       "      <td>False</td>\n",
       "      <td>False</td>\n",
       "      <td>False</td>\n",
       "      <td>False</td>\n",
       "      <td>False</td>\n",
       "      <td>0.059651</td>\n",
       "      <td>2.830044</td>\n",
       "      <td>24.826121</td>\n",
       "      <td>3.500248e+10</td>\n",
       "      <td>233157.697776</td>\n",
       "      <td>1.747486e+06</td>\n",
       "      <td>4198.799233</td>\n",
       "      <td>0.234784</td>\n",
       "      <td>0.458883</td>\n",
       "    </tr>\n",
       "    <tr>\n",
       "      <th>2014-10-21</th>\n",
       "      <td>382.420990</td>\n",
       "      <td>392.645996</td>\n",
       "      <td>380.834015</td>\n",
       "      <td>386.475006</td>\n",
       "      <td>14188900.0</td>\n",
       "      <td>-0.008620</td>\n",
       "      <td>-3.317016</td>\n",
       "      <td>-0.008583</td>\n",
       "      <td>0.0</td>\n",
       "      <td>-5.196584</td>\n",
       "      <td>-12.642697</td>\n",
       "      <td>7.446112</td>\n",
       "      <td>0.0</td>\n",
       "      <td>1.0</td>\n",
       "      <td>0.0</td>\n",
       "      <td>1.0</td>\n",
       "      <td>0.0</td>\n",
       "      <td>0.0</td>\n",
       "      <td>0.0</td>\n",
       "      <td>False</td>\n",
       "      <td>False</td>\n",
       "      <td>False</td>\n",
       "      <td>False</td>\n",
       "      <td>False</td>\n",
       "      <td>0.060749</td>\n",
       "      <td>2.830044</td>\n",
       "      <td>20.194035</td>\n",
       "      <td>3.500248e+10</td>\n",
       "      <td>233157.697776</td>\n",
       "      <td>1.903490e+06</td>\n",
       "      <td>5726.216590</td>\n",
       "      <td>0.274812</td>\n",
       "      <td>0.510393</td>\n",
       "    </tr>\n",
       "    <tr>\n",
       "      <th>2014-10-22</th>\n",
       "      <td>386.118011</td>\n",
       "      <td>388.575989</td>\n",
       "      <td>382.248993</td>\n",
       "      <td>383.157990</td>\n",
       "      <td>11641300.0</td>\n",
       "      <td>-0.066750</td>\n",
       "      <td>-24.740998</td>\n",
       "      <td>-0.064571</td>\n",
       "      <td>0.0</td>\n",
       "      <td>-4.602627</td>\n",
       "      <td>-11.034683</td>\n",
       "      <td>6.432056</td>\n",
       "      <td>0.0</td>\n",
       "      <td>1.0</td>\n",
       "      <td>0.0</td>\n",
       "      <td>1.0</td>\n",
       "      <td>0.0</td>\n",
       "      <td>0.0</td>\n",
       "      <td>0.0</td>\n",
       "      <td>False</td>\n",
       "      <td>False</td>\n",
       "      <td>False</td>\n",
       "      <td>False</td>\n",
       "      <td>False</td>\n",
       "      <td>0.060749</td>\n",
       "      <td>2.830044</td>\n",
       "      <td>20.194035</td>\n",
       "      <td>3.500248e+10</td>\n",
       "      <td>297537.062088</td>\n",
       "      <td>1.903490e+06</td>\n",
       "      <td>5726.216590</td>\n",
       "      <td>0.258505</td>\n",
       "      <td>0.465414</td>\n",
       "    </tr>\n",
       "    <tr>\n",
       "      <th>2014-10-23</th>\n",
       "      <td>382.962006</td>\n",
       "      <td>385.048004</td>\n",
       "      <td>356.446991</td>\n",
       "      <td>358.416992</td>\n",
       "      <td>26456900.0</td>\n",
       "      <td>-0.000201</td>\n",
       "      <td>-0.071991</td>\n",
       "      <td>-0.000201</td>\n",
       "      <td>0.0</td>\n",
       "      <td>-6.058464</td>\n",
       "      <td>-10.039439</td>\n",
       "      <td>3.980975</td>\n",
       "      <td>0.0</td>\n",
       "      <td>1.0</td>\n",
       "      <td>0.0</td>\n",
       "      <td>1.0</td>\n",
       "      <td>0.0</td>\n",
       "      <td>0.0</td>\n",
       "      <td>0.0</td>\n",
       "      <td>False</td>\n",
       "      <td>False</td>\n",
       "      <td>False</td>\n",
       "      <td>False</td>\n",
       "      <td>False</td>\n",
       "      <td>0.060749</td>\n",
       "      <td>2.566983</td>\n",
       "      <td>20.194035</td>\n",
       "      <td>3.500248e+10</td>\n",
       "      <td>297537.062088</td>\n",
       "      <td>1.903490e+06</td>\n",
       "      <td>5726.216590</td>\n",
       "      <td>0.277373</td>\n",
       "      <td>0.286309</td>\n",
       "    </tr>\n",
       "    <tr>\n",
       "      <th>2014-10-24</th>\n",
       "      <td>358.591003</td>\n",
       "      <td>364.345001</td>\n",
       "      <td>353.304993</td>\n",
       "      <td>358.345001</td>\n",
       "      <td>15585700.0</td>\n",
       "      <td>-0.031391</td>\n",
       "      <td>-11.074005</td>\n",
       "      <td>-0.030903</td>\n",
       "      <td>0.0</td>\n",
       "      <td>-7.135779</td>\n",
       "      <td>-9.458707</td>\n",
       "      <td>2.322928</td>\n",
       "      <td>0.0</td>\n",
       "      <td>1.0</td>\n",
       "      <td>0.0</td>\n",
       "      <td>1.0</td>\n",
       "      <td>0.0</td>\n",
       "      <td>0.0</td>\n",
       "      <td>0.0</td>\n",
       "      <td>False</td>\n",
       "      <td>False</td>\n",
       "      <td>False</td>\n",
       "      <td>False</td>\n",
       "      <td>False</td>\n",
       "      <td>0.056403</td>\n",
       "      <td>2.566983</td>\n",
       "      <td>18.762679</td>\n",
       "      <td>3.500248e+10</td>\n",
       "      <td>297537.062088</td>\n",
       "      <td>1.603290e+06</td>\n",
       "      <td>4819.681933</td>\n",
       "      <td>0.276173</td>\n",
       "      <td>0.302494</td>\n",
       "    </tr>\n",
       "  </tbody>\n",
       "</table>\n",
       "</div>"
      ],
      "text/plain": [
       "                  open        high         low       close      volume  \\\n",
       "2014-10-20  389.230988  390.084015  378.252014  382.845001  16419000.0   \n",
       "2014-10-21  382.420990  392.645996  380.834015  386.475006  14188900.0   \n",
       "2014-10-22  386.118011  388.575989  382.248993  383.157990  11641300.0   \n",
       "2014-10-23  382.962006  385.048004  356.446991  358.416992  26456900.0   \n",
       "2014-10-24  358.591003  364.345001  353.304993  358.345001  15585700.0   \n",
       "\n",
       "            fwd_log_ret    fwd_ret  fwd_pct_chg  fwd_close_positive      macd  \\\n",
       "2014-10-20     0.009437   3.630005     0.009482                 1.0 -6.216836   \n",
       "2014-10-21    -0.008620  -3.317016    -0.008583                 0.0 -5.196584   \n",
       "2014-10-22    -0.066750 -24.740998    -0.064571                 0.0 -4.602627   \n",
       "2014-10-23    -0.000201  -0.071991    -0.000201                 0.0 -6.058464   \n",
       "2014-10-24    -0.031391 -11.074005    -0.030903                 0.0 -7.135779   \n",
       "\n",
       "               signal     histo  cross  histy  month_9  month_10  day_20  \\\n",
       "2014-10-20 -14.504225  8.287389    0.0    1.0      0.0       1.0     1.0   \n",
       "2014-10-21 -12.642697  7.446112    0.0    1.0      0.0       1.0     0.0   \n",
       "2014-10-22 -11.034683  6.432056    0.0    1.0      0.0       1.0     0.0   \n",
       "2014-10-23 -10.039439  3.980975    0.0    1.0      0.0       1.0     0.0   \n",
       "2014-10-24  -9.458707  2.322928    0.0    1.0      0.0       1.0     0.0   \n",
       "\n",
       "            day_1  day_9 atr_above_threshold_0.01 atr_above_threshold_0.05  \\\n",
       "2014-10-20    0.0    0.0                    False                    False   \n",
       "2014-10-21    0.0    0.0                    False                    False   \n",
       "2014-10-22    0.0    0.0                    False                    False   \n",
       "2014-10-23    0.0    0.0                    False                    False   \n",
       "2014-10-24    0.0    0.0                    False                    False   \n",
       "\n",
       "           atr_above_threshold_0.1 atr_above_threshold_0.2  \\\n",
       "2014-10-20                   False                   False   \n",
       "2014-10-21                   False                   False   \n",
       "2014-10-22                   False                   False   \n",
       "2014-10-23                   False                   False   \n",
       "2014-10-24                   False                   False   \n",
       "\n",
       "           atr_above_threshold_0.3  avg-fees-per-transaction  \\\n",
       "2014-10-20                   False                  0.059651   \n",
       "2014-10-21                   False                  0.060749   \n",
       "2014-10-22                   False                  0.060749   \n",
       "2014-10-23                   False                  0.060749   \n",
       "2014-10-24                   False                  0.056403   \n",
       "\n",
       "            cost-per-transaction-percent  cost-per-transaction    difficulty  \\\n",
       "2014-10-20                      2.830044             24.826121  3.500248e+10   \n",
       "2014-10-21                      2.830044             20.194035  3.500248e+10   \n",
       "2014-10-22                      2.830044             20.194035  3.500248e+10   \n",
       "2014-10-23                      2.566983             20.194035  3.500248e+10   \n",
       "2014-10-24                      2.566983             18.762679  3.500248e+10   \n",
       "\n",
       "                hash-rate  miners-revenue  transaction-fees-to-miners  \\\n",
       "2014-10-20  233157.697776    1.747486e+06                 4198.799233   \n",
       "2014-10-21  233157.697776    1.903490e+06                 5726.216590   \n",
       "2014-10-22  297537.062088    1.903490e+06                 5726.216590   \n",
       "2014-10-23  297537.062088    1.903490e+06                 5726.216590   \n",
       "2014-10-24  297537.062088    1.603290e+06                 4819.681933   \n",
       "\n",
       "            sentiment  obv_close_product  \n",
       "2014-10-20   0.234784           0.458883  \n",
       "2014-10-21   0.274812           0.510393  \n",
       "2014-10-22   0.258505           0.465414  \n",
       "2014-10-23   0.277373           0.286309  \n",
       "2014-10-24   0.276173           0.302494  "
      ]
     },
     "execution_count": 2,
     "metadata": {},
     "output_type": "execute_result"
    }
   ],
   "source": [
    "df=wrangle.wrangle_df()\n",
    "df.info()\n",
    "# model_h.print_btcusd(df)\n",
    "df.head()"
   ]
  },
  {
   "cell_type": "code",
   "execution_count": 3,
   "metadata": {},
   "outputs": [
    {
     "data": {
      "text/plain": [
       "<AxesSubplot:>"
      ]
     },
     "execution_count": 3,
     "metadata": {},
     "output_type": "execute_result"
    },
    {
     "data": {
      "image/png": "[encoded data removed]",
      "text/plain": [
       "<Figure size 432x288 with 1 Axes>"
      ]
     },
     "metadata": {
      "needs_background": "light"
     },
     "output_type": "display_data"
    }
   ],
   "source": [
    "df.close.resample('m').mean().plot(alpha=.2, label='resample')"
   ]
  },
  {
   "cell_type": "code",
   "execution_count": 4,
   "metadata": {},
   "outputs": [
    {
     "name": "stdout",
     "output_type": "stream",
     "text": [
      "<class 'pandas.core.frame.DataFrame'>\n",
      "DatetimeIndex: 32 entries, 2022-03-23 to 2022-04-23\n",
      "Data columns (total 33 columns):\n",
      " #   Column                        Non-Null Count  Dtype  \n",
      "---  ------                        --------------  -----  \n",
      " 0   open                          32 non-null     float64\n",
      " 1   high                          32 non-null     float64\n",
      " 2   low                           32 non-null     float64\n",
      " 3   close                         32 non-null     float64\n",
      " 4   volume                        32 non-null     float64\n",
      " 5   fwd_log_ret                   32 non-null     float64\n",
      " 6   fwd_ret                       32 non-null     float64\n",
      " 7   fwd_pct_chg                   32 non-null     float64\n",
      " 8   fwd_close_positive            32 non-null     float64\n",
      " 9   macd                          32 non-null     float64\n",
      " 10  signal                        32 non-null     float64\n",
      " 11  histo                         32 non-null     float64\n",
      " 12  cross                         32 non-null     float64\n",
      " 13  histy                         32 non-null     float64\n",
      " 14  month_9                       32 non-null     float64\n",
      " 15  month_10                      32 non-null     float64\n",
      " 16  day_20                        32 non-null     float64\n",
      " 17  day_1                         32 non-null     float64\n",
      " 18  day_9                         32 non-null     float64\n",
      " 19  atr_above_threshold_0.01      32 non-null     object \n",
      " 20  atr_above_threshold_0.05      32 non-null     object \n",
      " 21  atr_above_threshold_0.1       32 non-null     object \n",
      " 22  atr_above_threshold_0.2       32 non-null     object \n",
      " 23  atr_above_threshold_0.3       32 non-null     object \n",
      " 24  avg-fees-per-transaction      32 non-null     float64\n",
      " 25  cost-per-transaction-percent  32 non-null     float64\n",
      " 26  cost-per-transaction          32 non-null     float64\n",
      " 27  difficulty                    32 non-null     float64\n",
      " 28  hash-rate                     32 non-null     float64\n",
      " 29  miners-revenue                32 non-null     float64\n",
      " 30  transaction-fees-to-miners    32 non-null     float64\n",
      " 31  sentiment                     32 non-null     float64\n",
      " 32  obv_close_product             32 non-null     float64\n",
      "dtypes: float64(28), object(5)\n",
      "memory usage: 8.5+ KB\n"
     ]
    },
    {
     "data": {
      "text/plain": [
       "(None,\n",
       "                     open          high           low         close  \\\n",
       " 2022-03-23  42364.378906  42893.507813  41877.507813  42892.957031   \n",
       " 2022-03-24  42886.652344  44131.855469  42726.164063  43960.933594   \n",
       " 2022-03-25  43964.546875  44999.492188  43706.285156  44348.730469   \n",
       " 2022-03-26  44349.859375  44735.996094  44166.273438  44500.828125   \n",
       " 2022-03-27  44505.355469  46827.546875  44437.292969  46820.492188   \n",
       " \n",
       "                   volume  fwd_log_ret      fwd_ret  fwd_pct_chg  \\\n",
       " 2022-03-23  2.524294e+10     0.024594  1067.976563     0.024899   \n",
       " 2022-03-24  3.104299e+10     0.008783   387.796875     0.008821   \n",
       " 2022-03-25  3.057441e+10     0.003424   152.097656     0.003430   \n",
       " 2022-03-26  1.695046e+10     0.050813  2319.664063     0.052126   \n",
       " 2022-03-27  2.816089e+10     0.006546   307.511718     0.006568   \n",
       " \n",
       "             fwd_close_positive         macd      signal       histo  cross  \\\n",
       " 2022-03-23                 1.0   496.267336  152.548856  343.718480    0.0   \n",
       " 2022-03-24                 1.0   676.647807  257.368646  419.279161    0.0   \n",
       " 2022-03-25                 1.0   841.195815  374.134080  467.061735    0.0   \n",
       " 2022-03-26                 1.0   972.662064  493.839677  478.822387    0.0   \n",
       " 2022-03-27                 1.0  1249.622645  644.996270  604.626374    0.0   \n",
       " \n",
       "             histy  month_9  month_10  day_20  day_1  day_9  \\\n",
       " 2022-03-23    1.0      0.0       0.0     0.0    0.0    0.0   \n",
       " 2022-03-24    1.0      0.0       0.0     0.0    0.0    0.0   \n",
       " 2022-03-25    1.0      0.0       0.0     0.0    0.0    0.0   \n",
       " 2022-03-26    1.0      0.0       0.0     0.0    0.0    0.0   \n",
       " 2022-03-27    1.0      0.0       0.0     0.0    0.0    0.0   \n",
       " \n",
       "            atr_above_threshold_0.01 atr_above_threshold_0.05  \\\n",
       " 2022-03-23                    False                    False   \n",
       " 2022-03-24                    False                    False   \n",
       " 2022-03-25                    False                    False   \n",
       " 2022-03-26                    False                    False   \n",
       " 2022-03-27                    False                    False   \n",
       " \n",
       "            atr_above_threshold_0.1 atr_above_threshold_0.2  \\\n",
       " 2022-03-23                   False                   False   \n",
       " 2022-03-24                   False                   False   \n",
       " 2022-03-25                   False                   False   \n",
       " 2022-03-26                   False                   False   \n",
       " 2022-03-27                   False                   False   \n",
       " \n",
       "            atr_above_threshold_0.3  avg-fees-per-transaction  \\\n",
       " 2022-03-23                   False                  1.735049   \n",
       " 2022-03-24                   False                  1.735049   \n",
       " 2022-03-25                   False                  1.968806   \n",
       " 2022-03-26                   False                  1.968806   \n",
       " 2022-03-27                   False                  1.968806   \n",
       " \n",
       "             cost-per-transaction-percent  cost-per-transaction    difficulty  \\\n",
       " 2022-03-23                      0.631079            150.769510  2.745271e+13   \n",
       " 2022-03-24                      0.922893            150.769510  2.745271e+13   \n",
       " 2022-03-25                      0.922893            150.511149  2.745271e+13   \n",
       " 2022-03-26                      0.922893            150.511149  2.745271e+13   \n",
       " 2022-03-27                      0.921668            150.511149  2.745271e+13   \n",
       " \n",
       "                hash-rate  miners-revenue  transaction-fees-to-miners  \\\n",
       " 2022-03-23  1.978788e+08    3.988894e+07               459040.050128   \n",
       " 2022-03-24  1.978788e+08    3.988894e+07               459040.050128   \n",
       " 2022-03-25  1.978788e+08    4.375645e+07               572369.415451   \n",
       " 2022-03-26  2.197137e+08    4.375645e+07               572369.415451   \n",
       " 2022-03-27  2.197137e+08    4.375645e+07               572369.415451   \n",
       " \n",
       "             sentiment  obv_close_product  \n",
       " 2022-03-23   0.082640           0.577934  \n",
       " 2022-03-24   0.092771           0.940801  \n",
       " 2022-03-25   0.071903           0.999111  \n",
       " 2022-03-26   0.069578           1.000000  \n",
       " 2022-03-27   0.073572           1.000000  )"
      ]
     },
     "execution_count": 4,
     "metadata": {},
     "output_type": "execute_result"
    }
   ],
   "source": [
    "train_i, validate=tidy.split_i(df)\n",
    "validate.info(),validate.head()\n",
    "# train_ii, test=tidy.split_ii(df)\n",
    "# train_ii.info(),test.info()\n"
   ]
  },
  {
   "cell_type": "markdown",
   "metadata": {},
   "source": [
    "---\n",
    "# Baseline"
   ]
  },
  {
   "cell_type": "code",
   "execution_count": 5,
   "metadata": {},
   "outputs": [
    {
     "data": {
      "text/plain": [
       "15.506451271887698"
      ]
     },
     "execution_count": 5,
     "metadata": {},
     "output_type": "execute_result"
    }
   ],
   "source": [
    "(train_i.close[-1]-train_i.close[0])/len(train_i)\n",
    "\n",
    "# UPDATE: DAILY simple return\n",
    "# this is simple return if you bought 1 btc in 2014-09-17 and sold in 2022-03-23"
   ]
  },
  {
   "cell_type": "code",
   "execution_count": 6,
   "metadata": {},
   "outputs": [
    {
     "data": {
      "text/plain": [
       "13.817506896932604"
      ]
     },
     "execution_count": 6,
     "metadata": {},
     "output_type": "execute_result"
    }
   ],
   "source": [
    "(train_i.close.sum()-train_i.open.sum())/len(train_i)\n",
    "\n",
    "# UPDATE: DAILY simple return\n",
    "# this is simple return if you bought every morning and sold every night"
   ]
  },
  {
   "cell_type": "code",
   "execution_count": 7,
   "metadata": {},
   "outputs": [
    {
     "data": {
      "text/plain": [
       "0.02439731930876332"
      ]
     },
     "execution_count": 7,
     "metadata": {},
     "output_type": "execute_result"
    }
   ],
   "source": [
    "1-36491.43405399999/37403.99116999656\n"
   ]
  },
  {
   "cell_type": "markdown",
   "metadata": {},
   "source": [
    "---\n",
    "# MACD "
   ]
  },
  {
   "cell_type": "code",
   "execution_count": 8,
   "metadata": {},
   "outputs": [],
   "source": [
    "# def macd_df(df):\n",
    "# \t'''\n",
    "# \tmacd encoder\n",
    "# \t'''\n",
    "# \treturn macker, mac\n",
    "\t"
   ]
  },
  {
   "cell_type": "code",
   "execution_count": 9,
   "metadata": {},
   "outputs": [],
   "source": [
    "# macd, signal, histo = talib.MACD(df.close,fastperiod=12, slowperiod=26, signalperiod=9)\n",
    "# mac=pd.concat([df,macd,signal,histo],axis=1)\n",
    "# mac=mac.rename(columns={0:'macd',1:'signal',2:'histo'})\n",
    "# mac=mac.drop(mac[mac.index<'2014-10-20'].index)\n",
    "# mac=mac.fillna(0)"
   ]
  },
  {
   "cell_type": "code",
   "execution_count": 10,
   "metadata": {},
   "outputs": [],
   "source": [
    "# mac.head()"
   ]
  },
  {
   "cell_type": "code",
   "execution_count": 11,
   "metadata": {},
   "outputs": [],
   "source": [
    "# cools=mac.histo>0\n",
    "# # start=cools[0]\n",
    "# not_list=[]\n"
   ]
  },
  {
   "cell_type": "code",
   "execution_count": 12,
   "metadata": {},
   "outputs": [],
   "source": [
    "\n",
    "# for x in cools:\n",
    "# \tif x:\n",
    "# \t\tnot_list.append(1)\n",
    "# \telse:\n",
    "# \t\tnot_list.append(0)\n"
   ]
  },
  {
   "cell_type": "code",
   "execution_count": 13,
   "metadata": {},
   "outputs": [],
   "source": [
    "# not_list"
   ]
  },
  {
   "cell_type": "code",
   "execution_count": 14,
   "metadata": {},
   "outputs": [],
   "source": [
    "\n",
    "# not_list=pd.Series(not_list, index=mac.index)\n"
   ]
  },
  {
   "cell_type": "code",
   "execution_count": 15,
   "metadata": {},
   "outputs": [],
   "source": [
    "# bools=mac.macd>mac.signal\n",
    "# yesterday=bools[0]\n",
    "# list=[]\n"
   ]
  },
  {
   "cell_type": "code",
   "execution_count": 16,
   "metadata": {},
   "outputs": [],
   "source": [
    "\n",
    "# for today in bools:\n",
    "# \tif today==yesterday:\n",
    "# \t\tlist.append(0)\n",
    "# \t\tcontinue\n",
    "# \telse:\n",
    "# \t\tlist.append(1)\n",
    "# \t\tyesterday=today\n",
    "\n",
    "# list=pd.Series(list, index=mac.index)\n",
    "\n",
    "# # crossover indicator\n",
    "# macker=pd.concat([mac.close,list,not_list],axis=1)\n",
    "# macker=macker.rename({0:'cross',1:'histy'},axis=1)\n"
   ]
  },
  {
   "cell_type": "code",
   "execution_count": 17,
   "metadata": {},
   "outputs": [],
   "source": [
    "\n",
    "# macker, mac=macd_df(train_i)"
   ]
  },
  {
   "cell_type": "code",
   "execution_count": 18,
   "metadata": {},
   "outputs": [],
   "source": [
    "def macd_roi(df):\n",
    "\tbuy=[]\n",
    "\tsell=[]\n",
    "\tfor i in df.index:\n",
    "\t\tif df.loc[i].cross > 0:\n",
    "\t\t\tif df.loc[i].histy > 0:\n",
    "\t\t\t\tbuy.append(df.loc[i].close)\n",
    "\t\t\t\tsell.append(0)\n",
    "\t\t\telse:\n",
    "\t\t\t\tbuy.append(0)\n",
    "\t\t\t\tsell.append(df.loc[i].close)\n",
    "\t\telse:\n",
    "\t\t\tcontinue\n",
    "\treturn buy,sell\n",
    "\t\n",
    "buy,sell=macd_roi(df)"
   ]
  },
  {
   "cell_type": "code",
   "execution_count": 19,
   "metadata": {},
   "outputs": [],
   "source": [
    "profits=pd.DataFrame({'buy':buy,'sell':sell})"
   ]
  },
  {
   "cell_type": "code",
   "execution_count": 20,
   "metadata": {},
   "outputs": [
    {
     "data": {
      "text/html": [
       "<div>\n",
       "<style scoped>\n",
       "    .dataframe tbody tr th:only-of-type {\n",
       "        vertical-align: middle;\n",
       "    }\n",
       "\n",
       "    .dataframe tbody tr th {\n",
       "        vertical-align: top;\n",
       "    }\n",
       "\n",
       "    .dataframe thead th {\n",
       "        text-align: right;\n",
       "    }\n",
       "</style>\n",
       "<table border=\"1\" class=\"dataframe\">\n",
       "  <thead>\n",
       "    <tr style=\"text-align: right;\">\n",
       "      <th></th>\n",
       "      <th>buy</th>\n",
       "      <th>sell</th>\n",
       "    </tr>\n",
       "  </thead>\n",
       "  <tbody>\n",
       "    <tr>\n",
       "      <th>0</th>\n",
       "      <td>0.000000</td>\n",
       "      <td>354.704010</td>\n",
       "    </tr>\n",
       "    <tr>\n",
       "      <th>1</th>\n",
       "      <td>349.290009</td>\n",
       "      <td>0.000000</td>\n",
       "    </tr>\n",
       "    <tr>\n",
       "      <th>2</th>\n",
       "      <td>0.000000</td>\n",
       "      <td>350.847992</td>\n",
       "    </tr>\n",
       "    <tr>\n",
       "      <th>3</th>\n",
       "      <td>378.046997</td>\n",
       "      <td>0.000000</td>\n",
       "    </tr>\n",
       "    <tr>\n",
       "      <th>4</th>\n",
       "      <td>0.000000</td>\n",
       "      <td>369.604004</td>\n",
       "    </tr>\n",
       "  </tbody>\n",
       "</table>\n",
       "</div>"
      ],
      "text/plain": [
       "          buy        sell\n",
       "0    0.000000  354.704010\n",
       "1  349.290009    0.000000\n",
       "2    0.000000  350.847992\n",
       "3  378.046997    0.000000\n",
       "4    0.000000  369.604004"
      ]
     },
     "execution_count": 20,
     "metadata": {},
     "output_type": "execute_result"
    }
   ],
   "source": [
    "profits.head()"
   ]
  },
  {
   "cell_type": "code",
   "execution_count": 21,
   "metadata": {},
   "outputs": [],
   "source": [
    "if profits.buy.loc[0] == 0:\n",
    "\tprofits=profits.drop(0)\n",
    "\tprofits.sell=profits.sell.shift(-1)\n",
    "else:\n",
    "\tprofits.sell=profits.sell.shift(-1)"
   ]
  },
  {
   "cell_type": "code",
   "execution_count": 22,
   "metadata": {},
   "outputs": [
    {
     "data": {
      "text/plain": [
       "36491.43405399999"
      ]
     },
     "execution_count": 22,
     "metadata": {},
     "output_type": "execute_result"
    }
   ],
   "source": [
    "(profits.sell-profits.buy).sum()"
   ]
  },
  {
   "cell_type": "code",
   "execution_count": 23,
   "metadata": {},
   "outputs": [],
   "source": [
    "\n",
    "\n",
    "# dataset_1 = np.exp(x**0.25) - np.exp(x**0.5)\n",
    "# dataset_2 = np.sin(0.4 * np.pi * x**0.5) + np.cos(0.8 * np.pi * x**0.25)\n",
    " \n",
    "# # Creating plot with dataset_1\n",
    "# fig, ax1 = plt.subplots()\n",
    " \n",
    "# color = 'tab:red'\n",
    "# ax1.set_xlabel('X-axis')\n",
    "# ax1.set_ylabel('Y1-axis', color = color)\n",
    "\n",
    "# ax1.tick_params(axis ='y', labelcolor = color)\n",
    " \n",
    "# # Adding Twin Axes to plot using dataset_2\n",
    "# ax2 = ax1.twinx()\n",
    " \n",
    "# color = 'tab:green'\n",
    "# ax2.set_ylabel('Y2-axis', color = color)\n",
    "\n",
    "# ax2.tick_params(axis ='y', labelcolor = color)\n",
    " \n",
    "# # Adding title\n",
    "# plt.title('Use different y-axes on the left and right of a Matplotlib plot', fontweight =\"bold\")\n",
    " \n",
    "# # Show plot\n",
    "# plt.show()"
   ]
  },
  {
   "cell_type": "code",
   "execution_count": 54,
   "metadata": {},
   "outputs": [
    {
     "data": {
      "image/png": "[encoded data removed]",
      "text/plain": [
       "<Figure size 1152x648 with 2 Axes>"
      ]
     },
     "metadata": {},
     "output_type": "display_data"
    }
   ],
   "source": [
    "def macd_plot(df):\n",
    "\tfig, ax1 = plt.subplots(figsize=(16, 9))\n",
    "\n",
    "\trect = fig.patch\n",
    "\trect.set_facecolor('white')\n",
    "\n",
    "\tcolor = 'tab:blue'\n",
    "\t# ax1.set_xlabel('Date',size=16)\n",
    "\tax1.set_ylabel('\"MACD\" & \"Signal\" line', color = color,size=16)\n",
    "\tax1.yaxis.set_major_formatter('${x:1.2f}')\n",
    "\n",
    "\tax1.tick_params(axis ='y', labelcolor = color)\n",
    "\n",
    "\tdf.macd.tail(150).plot()\n",
    "\tdf.signal.tail(150).plot()\n",
    "\tplt.stem(df.index[-150:],df['histo'].tail(150),linefmt='pink',markerfmt='w,',label='hist')\n",
    "\n",
    "\n",
    "\tax2 = ax1.twinx()\n",
    "\t\n",
    "\tcolor = 'black'\n",
    "\tax2.set_ylabel('BTC Daily Close Price', color = color,rotation=270, labelpad=30,size=16)\n",
    "\tax2.yaxis.set_major_formatter('${x:1.2f}')\n",
    "\n",
    "\tax2.tick_params(axis ='y', labelcolor = color)\n",
    "\n",
    "\t_=df[(df.cross==1)&(df.histy==1)].tail(500)\n",
    "\tplt.scatter(y=_.close,x=_.index,c='green')\n",
    "\n",
    "\t_=df[(df.cross==1)&(df.histy==0)].tail(500)\n",
    "\tplt.scatter(y=_.close,x=_.index,c='red')\n",
    "\n",
    "\tdf.close.tail(150).plot(color='black',alpha=.5)\n",
    "\n",
    "\tax1.legend(loc=2)\n",
    "\tax2.legend(loc=1)\n",
    "\n",
    "\tplt.tight_layout()\n",
    "\t# plt.rc('font',size=20)\n",
    "\tplt.show()\n",
    "\n",
    "\n",
    "\t#wip\n",
    "\n",
    "\n",
    "macd_plot(df)"
   ]
  },
  {
   "cell_type": "markdown",
   "metadata": {},
   "source": [
    "---\n",
    "# Xy Split"
   ]
  },
  {
   "cell_type": "code",
   "execution_count": 25,
   "metadata": {},
   "outputs": [],
   "source": [
    "X=df[['open', 'high', 'low', 'close', 'volume', 'obv_close_product', 'macd', 'signal', 'histo', 'cross', 'histy', 'atr_above_threshold_0.01',\n",
    "       'atr_above_threshold_0.05', 'atr_above_threshold_0.1',\n",
    "       'atr_above_threshold_0.2', 'atr_above_threshold_0.3','sentiment']]"
   ]
  },
  {
   "cell_type": "code",
   "execution_count": 26,
   "metadata": {},
   "outputs": [],
   "source": [
    "y=df[['fwd_log_ret', 'fwd_ret', 'fwd_pct_chg', 'fwd_close_positive']]"
   ]
  },
  {
   "cell_type": "code",
   "execution_count": 27,
   "metadata": {},
   "outputs": [],
   "source": [
    "X_train, X_val=tidy.split_i(X)"
   ]
  },
  {
   "cell_type": "code",
   "execution_count": 28,
   "metadata": {},
   "outputs": [],
   "source": [
    "y_train, y_val=tidy.split_i(y)"
   ]
  },
  {
   "cell_type": "code",
   "execution_count": 29,
   "metadata": {},
   "outputs": [
    {
     "name": "stderr",
     "output_type": "stream",
     "text": [
      "/var/folders/mk/w2hz4wxx7xn5hr_56wz536gh0000gn/T/ipykernel_12622/3875323173.py:3: SettingWithCopyWarning: \n",
      "A value is trying to be set on a copy of a slice from a DataFrame.\n",
      "Try using .loc[row_indexer,col_indexer] = value instead\n",
      "\n",
      "See the caveats in the documentation: https://pandas.pydata.org/pandas-docs/stable/user_guide/indexing.html#returning-a-view-versus-a-copy\n",
      "  X_train.volume=smaller.astype('float64')\n"
     ]
    }
   ],
   "source": [
    "smaller=X_train.volume.copy()\n",
    "\n",
    "X_train.volume=smaller.astype('float64')"
   ]
  },
  {
   "cell_type": "code",
   "execution_count": 30,
   "metadata": {},
   "outputs": [
    {
     "name": "stdout",
     "output_type": "stream",
     "text": [
      "open\n",
      "high\n",
      "low\n",
      "close\n",
      "volume\n",
      "obv_close_product\n",
      "macd\n",
      "signal\n",
      "histo\n",
      "cross\n",
      "histy\n",
      "sentiment\n"
     ]
    },
    {
     "name": "stderr",
     "output_type": "stream",
     "text": [
      "/var/folders/mk/w2hz4wxx7xn5hr_56wz536gh0000gn/T/ipykernel_12622/1090873265.py:4: SettingWithCopyWarning: \n",
      "A value is trying to be set on a copy of a slice from a DataFrame.\n",
      "Try using .loc[row_indexer,col_indexer] = value instead\n",
      "\n",
      "See the caveats in the documentation: https://pandas.pydata.org/pandas-docs/stable/user_guide/indexing.html#returning-a-view-versus-a-copy\n",
      "  X_train.loc[:,col]=RobustScaler().fit_transform(xs)\n",
      "/var/folders/mk/w2hz4wxx7xn5hr_56wz536gh0000gn/T/ipykernel_12622/1090873265.py:4: SettingWithCopyWarning: \n",
      "A value is trying to be set on a copy of a slice from a DataFrame.\n",
      "Try using .loc[row_indexer,col_indexer] = value instead\n",
      "\n",
      "See the caveats in the documentation: https://pandas.pydata.org/pandas-docs/stable/user_guide/indexing.html#returning-a-view-versus-a-copy\n",
      "  X_train.loc[:,col]=RobustScaler().fit_transform(xs)\n",
      "/var/folders/mk/w2hz4wxx7xn5hr_56wz536gh0000gn/T/ipykernel_12622/1090873265.py:4: SettingWithCopyWarning: \n",
      "A value is trying to be set on a copy of a slice from a DataFrame.\n",
      "Try using .loc[row_indexer,col_indexer] = value instead\n",
      "\n",
      "See the caveats in the documentation: https://pandas.pydata.org/pandas-docs/stable/user_guide/indexing.html#returning-a-view-versus-a-copy\n",
      "  X_train.loc[:,col]=RobustScaler().fit_transform(xs)\n",
      "/var/folders/mk/w2hz4wxx7xn5hr_56wz536gh0000gn/T/ipykernel_12622/1090873265.py:4: SettingWithCopyWarning: \n",
      "A value is trying to be set on a copy of a slice from a DataFrame.\n",
      "Try using .loc[row_indexer,col_indexer] = value instead\n",
      "\n",
      "See the caveats in the documentation: https://pandas.pydata.org/pandas-docs/stable/user_guide/indexing.html#returning-a-view-versus-a-copy\n",
      "  X_train.loc[:,col]=RobustScaler().fit_transform(xs)\n",
      "/var/folders/mk/w2hz4wxx7xn5hr_56wz536gh0000gn/T/ipykernel_12622/1090873265.py:4: SettingWithCopyWarning: \n",
      "A value is trying to be set on a copy of a slice from a DataFrame.\n",
      "Try using .loc[row_indexer,col_indexer] = value instead\n",
      "\n",
      "See the caveats in the documentation: https://pandas.pydata.org/pandas-docs/stable/user_guide/indexing.html#returning-a-view-versus-a-copy\n",
      "  X_train.loc[:,col]=RobustScaler().fit_transform(xs)\n",
      "/var/folders/mk/w2hz4wxx7xn5hr_56wz536gh0000gn/T/ipykernel_12622/1090873265.py:4: SettingWithCopyWarning: \n",
      "A value is trying to be set on a copy of a slice from a DataFrame.\n",
      "Try using .loc[row_indexer,col_indexer] = value instead\n",
      "\n",
      "See the caveats in the documentation: https://pandas.pydata.org/pandas-docs/stable/user_guide/indexing.html#returning-a-view-versus-a-copy\n",
      "  X_train.loc[:,col]=RobustScaler().fit_transform(xs)\n",
      "/var/folders/mk/w2hz4wxx7xn5hr_56wz536gh0000gn/T/ipykernel_12622/1090873265.py:4: SettingWithCopyWarning: \n",
      "A value is trying to be set on a copy of a slice from a DataFrame.\n",
      "Try using .loc[row_indexer,col_indexer] = value instead\n",
      "\n",
      "See the caveats in the documentation: https://pandas.pydata.org/pandas-docs/stable/user_guide/indexing.html#returning-a-view-versus-a-copy\n",
      "  X_train.loc[:,col]=RobustScaler().fit_transform(xs)\n",
      "/var/folders/mk/w2hz4wxx7xn5hr_56wz536gh0000gn/T/ipykernel_12622/1090873265.py:4: SettingWithCopyWarning: \n",
      "A value is trying to be set on a copy of a slice from a DataFrame.\n",
      "Try using .loc[row_indexer,col_indexer] = value instead\n",
      "\n",
      "See the caveats in the documentation: https://pandas.pydata.org/pandas-docs/stable/user_guide/indexing.html#returning-a-view-versus-a-copy\n",
      "  X_train.loc[:,col]=RobustScaler().fit_transform(xs)\n",
      "/var/folders/mk/w2hz4wxx7xn5hr_56wz536gh0000gn/T/ipykernel_12622/1090873265.py:4: SettingWithCopyWarning: \n",
      "A value is trying to be set on a copy of a slice from a DataFrame.\n",
      "Try using .loc[row_indexer,col_indexer] = value instead\n",
      "\n",
      "See the caveats in the documentation: https://pandas.pydata.org/pandas-docs/stable/user_guide/indexing.html#returning-a-view-versus-a-copy\n",
      "  X_train.loc[:,col]=RobustScaler().fit_transform(xs)\n",
      "/var/folders/mk/w2hz4wxx7xn5hr_56wz536gh0000gn/T/ipykernel_12622/1090873265.py:4: SettingWithCopyWarning: \n",
      "A value is trying to be set on a copy of a slice from a DataFrame.\n",
      "Try using .loc[row_indexer,col_indexer] = value instead\n",
      "\n",
      "See the caveats in the documentation: https://pandas.pydata.org/pandas-docs/stable/user_guide/indexing.html#returning-a-view-versus-a-copy\n",
      "  X_train.loc[:,col]=RobustScaler().fit_transform(xs)\n",
      "/var/folders/mk/w2hz4wxx7xn5hr_56wz536gh0000gn/T/ipykernel_12622/1090873265.py:4: SettingWithCopyWarning: \n",
      "A value is trying to be set on a copy of a slice from a DataFrame.\n",
      "Try using .loc[row_indexer,col_indexer] = value instead\n",
      "\n",
      "See the caveats in the documentation: https://pandas.pydata.org/pandas-docs/stable/user_guide/indexing.html#returning-a-view-versus-a-copy\n",
      "  X_train.loc[:,col]=RobustScaler().fit_transform(xs)\n",
      "/var/folders/mk/w2hz4wxx7xn5hr_56wz536gh0000gn/T/ipykernel_12622/1090873265.py:4: SettingWithCopyWarning: \n",
      "A value is trying to be set on a copy of a slice from a DataFrame.\n",
      "Try using .loc[row_indexer,col_indexer] = value instead\n",
      "\n",
      "See the caveats in the documentation: https://pandas.pydata.org/pandas-docs/stable/user_guide/indexing.html#returning-a-view-versus-a-copy\n",
      "  X_train.loc[:,col]=RobustScaler().fit_transform(xs)\n"
     ]
    }
   ],
   "source": [
    "for col in X_train.columns:\n",
    "\tif X_train[col].dtype == 'float64':\n",
    "\t\txs=np.array(X_train[[col]]).reshape(-1, 1)\n",
    "\t\tX_train.loc[:,col]=RobustScaler().fit_transform(xs)\n",
    "\t\tprint(col)\n"
   ]
  },
  {
   "cell_type": "code",
   "execution_count": 31,
   "metadata": {},
   "outputs": [
    {
     "data": {
      "text/html": [
       "<div>\n",
       "<style scoped>\n",
       "    .dataframe tbody tr th:only-of-type {\n",
       "        vertical-align: middle;\n",
       "    }\n",
       "\n",
       "    .dataframe tbody tr th {\n",
       "        vertical-align: top;\n",
       "    }\n",
       "\n",
       "    .dataframe thead th {\n",
       "        text-align: right;\n",
       "    }\n",
       "</style>\n",
       "<table border=\"1\" class=\"dataframe\">\n",
       "  <thead>\n",
       "    <tr style=\"text-align: right;\">\n",
       "      <th></th>\n",
       "      <th>open</th>\n",
       "      <th>high</th>\n",
       "      <th>low</th>\n",
       "      <th>close</th>\n",
       "      <th>volume</th>\n",
       "      <th>obv_close_product</th>\n",
       "      <th>macd</th>\n",
       "      <th>signal</th>\n",
       "      <th>histo</th>\n",
       "      <th>cross</th>\n",
       "      <th>histy</th>\n",
       "      <th>sentiment</th>\n",
       "    </tr>\n",
       "  </thead>\n",
       "  <tbody>\n",
       "    <tr>\n",
       "      <th>count</th>\n",
       "      <td>2707.000000</td>\n",
       "      <td>2707.000000</td>\n",
       "      <td>2707.000000</td>\n",
       "      <td>2707.000000</td>\n",
       "      <td>2707.000000</td>\n",
       "      <td>2707.000000</td>\n",
       "      <td>2707.000000</td>\n",
       "      <td>2707.000000</td>\n",
       "      <td>2707.000000</td>\n",
       "      <td>2707.000000</td>\n",
       "      <td>2707.000000</td>\n",
       "      <td>2707.000000</td>\n",
       "    </tr>\n",
       "    <tr>\n",
       "      <th>mean</th>\n",
       "      <td>0.525840</td>\n",
       "      <td>0.533626</td>\n",
       "      <td>0.516779</td>\n",
       "      <td>0.527985</td>\n",
       "      <td>0.387038</td>\n",
       "      <td>0.116681</td>\n",
       "      <td>0.402577</td>\n",
       "      <td>0.404309</td>\n",
       "      <td>-0.009496</td>\n",
       "      <td>0.062061</td>\n",
       "      <td>-0.464352</td>\n",
       "      <td>0.194757</td>\n",
       "    </tr>\n",
       "    <tr>\n",
       "      <th>std</th>\n",
       "      <td>1.609413</td>\n",
       "      <td>1.613690</td>\n",
       "      <td>1.605778</td>\n",
       "      <td>1.610247</td>\n",
       "      <td>0.799069</td>\n",
       "      <td>0.529619</td>\n",
       "      <td>3.924210</td>\n",
       "      <td>3.721983</td>\n",
       "      <td>4.431608</td>\n",
       "      <td>0.241311</td>\n",
       "      <td>0.498820</td>\n",
       "      <td>1.019317</td>\n",
       "    </tr>\n",
       "    <tr>\n",
       "      <th>min</th>\n",
       "      <td>-0.615122</td>\n",
       "      <td>-0.607568</td>\n",
       "      <td>-0.622991</td>\n",
       "      <td>-0.614460</td>\n",
       "      <td>-0.211542</td>\n",
       "      <td>-0.497221</td>\n",
       "      <td>-20.902031</td>\n",
       "      <td>-18.308276</td>\n",
       "      <td>-28.642982</td>\n",
       "      <td>0.000000</td>\n",
       "      <td>-1.000000</td>\n",
       "      <td>-2.983316</td>\n",
       "    </tr>\n",
       "    <tr>\n",
       "      <th>25%</th>\n",
       "      <td>-0.570554</td>\n",
       "      <td>-0.566449</td>\n",
       "      <td>-0.577545</td>\n",
       "      <td>-0.569934</td>\n",
       "      <td>-0.208369</td>\n",
       "      <td>-0.395510</td>\n",
       "      <td>-0.201737</td>\n",
       "      <td>-0.219077</td>\n",
       "      <td>-0.416191</td>\n",
       "      <td>0.000000</td>\n",
       "      <td>-1.000000</td>\n",
       "      <td>-0.490617</td>\n",
       "    </tr>\n",
       "    <tr>\n",
       "      <th>50%</th>\n",
       "      <td>0.000000</td>\n",
       "      <td>0.000000</td>\n",
       "      <td>0.000000</td>\n",
       "      <td>0.000000</td>\n",
       "      <td>0.000000</td>\n",
       "      <td>0.000000</td>\n",
       "      <td>0.000000</td>\n",
       "      <td>0.000000</td>\n",
       "      <td>0.000000</td>\n",
       "      <td>0.000000</td>\n",
       "      <td>0.000000</td>\n",
       "      <td>0.000000</td>\n",
       "    </tr>\n",
       "    <tr>\n",
       "      <th>75%</th>\n",
       "      <td>0.429446</td>\n",
       "      <td>0.433551</td>\n",
       "      <td>0.422455</td>\n",
       "      <td>0.430066</td>\n",
       "      <td>0.791631</td>\n",
       "      <td>0.604490</td>\n",
       "      <td>0.798263</td>\n",
       "      <td>0.780923</td>\n",
       "      <td>0.583809</td>\n",
       "      <td>0.000000</td>\n",
       "      <td>0.000000</td>\n",
       "      <td>0.509383</td>\n",
       "    </tr>\n",
       "    <tr>\n",
       "      <th>max</th>\n",
       "      <td>6.011749</td>\n",
       "      <td>5.979699</td>\n",
       "      <td>6.080324</td>\n",
       "      <td>6.015380</td>\n",
       "      <td>13.796290</td>\n",
       "      <td>0.991045</td>\n",
       "      <td>21.763503</td>\n",
       "      <td>18.587249</td>\n",
       "      <td>22.043847</td>\n",
       "      <td>1.000000</td>\n",
       "      <td>0.000000</td>\n",
       "      <td>6.193605</td>\n",
       "    </tr>\n",
       "  </tbody>\n",
       "</table>\n",
       "</div>"
      ],
      "text/plain": [
       "              open         high          low        close       volume  \\\n",
       "count  2707.000000  2707.000000  2707.000000  2707.000000  2707.000000   \n",
       "mean      0.525840     0.533626     0.516779     0.527985     0.387038   \n",
       "std       1.609413     1.613690     1.605778     1.610247     0.799069   \n",
       "min      -0.615122    -0.607568    -0.622991    -0.614460    -0.211542   \n",
       "25%      -0.570554    -0.566449    -0.577545    -0.569934    -0.208369   \n",
       "50%       0.000000     0.000000     0.000000     0.000000     0.000000   \n",
       "75%       0.429446     0.433551     0.422455     0.430066     0.791631   \n",
       "max       6.011749     5.979699     6.080324     6.015380    13.796290   \n",
       "\n",
       "       obv_close_product         macd       signal        histo        cross  \\\n",
       "count        2707.000000  2707.000000  2707.000000  2707.000000  2707.000000   \n",
       "mean            0.116681     0.402577     0.404309    -0.009496     0.062061   \n",
       "std             0.529619     3.924210     3.721983     4.431608     0.241311   \n",
       "min            -0.497221   -20.902031   -18.308276   -28.642982     0.000000   \n",
       "25%            -0.395510    -0.201737    -0.219077    -0.416191     0.000000   \n",
       "50%             0.000000     0.000000     0.000000     0.000000     0.000000   \n",
       "75%             0.604490     0.798263     0.780923     0.583809     0.000000   \n",
       "max             0.991045    21.763503    18.587249    22.043847     1.000000   \n",
       "\n",
       "             histy    sentiment  \n",
       "count  2707.000000  2707.000000  \n",
       "mean     -0.464352     0.194757  \n",
       "std       0.498820     1.019317  \n",
       "min      -1.000000    -2.983316  \n",
       "25%      -1.000000    -0.490617  \n",
       "50%       0.000000     0.000000  \n",
       "75%       0.000000     0.509383  \n",
       "max       0.000000     6.193605  "
      ]
     },
     "execution_count": 31,
     "metadata": {},
     "output_type": "execute_result"
    }
   ],
   "source": [
    "X_train.describe()"
   ]
  },
  {
   "cell_type": "markdown",
   "metadata": {},
   "source": [
    "---\n",
    "# Clustering"
   ]
  },
  {
   "cell_type": "code",
   "execution_count": 32,
   "metadata": {},
   "outputs": [],
   "source": [
    "db = DBSCAN(eps=0.3, min_samples=10).fit(X_train)\n",
    "core_samples_mask = np.zeros_like(db.labels_, dtype=bool)\n",
    "core_samples_mask[db.core_sample_indices_] = True\n",
    "labels = db.labels_\n"
   ]
  },
  {
   "cell_type": "code",
   "execution_count": 33,
   "metadata": {},
   "outputs": [],
   "source": [
    "\n",
    "centers = [[1, 1], [-1, -1], [1, -1]]\n",
    "X, labels_true = make_blobs(\n",
    "    n_samples=750, centers=centers, cluster_std=0.4, random_state=0\n",
    ")\n",
    "\n",
    "X = StandardScaler().fit_transform(X)"
   ]
  },
  {
   "cell_type": "code",
   "execution_count": 34,
   "metadata": {},
   "outputs": [
    {
     "data": {
      "text/html": [
       "<div>\n",
       "<style scoped>\n",
       "    .dataframe tbody tr th:only-of-type {\n",
       "        vertical-align: middle;\n",
       "    }\n",
       "\n",
       "    .dataframe tbody tr th {\n",
       "        vertical-align: top;\n",
       "    }\n",
       "\n",
       "    .dataframe thead th {\n",
       "        text-align: right;\n",
       "    }\n",
       "</style>\n",
       "<table border=\"1\" class=\"dataframe\">\n",
       "  <thead>\n",
       "    <tr style=\"text-align: right;\">\n",
       "      <th></th>\n",
       "      <th>fwd_log_ret</th>\n",
       "      <th>fwd_ret</th>\n",
       "      <th>fwd_pct_chg</th>\n",
       "      <th>fwd_close_positive</th>\n",
       "    </tr>\n",
       "  </thead>\n",
       "  <tbody>\n",
       "    <tr>\n",
       "      <th>2014-10-20</th>\n",
       "      <td>0.009437</td>\n",
       "      <td>3.630005</td>\n",
       "      <td>0.009482</td>\n",
       "      <td>1.0</td>\n",
       "    </tr>\n",
       "    <tr>\n",
       "      <th>2014-10-21</th>\n",
       "      <td>-0.008620</td>\n",
       "      <td>-3.317016</td>\n",
       "      <td>-0.008583</td>\n",
       "      <td>0.0</td>\n",
       "    </tr>\n",
       "    <tr>\n",
       "      <th>2014-10-22</th>\n",
       "      <td>-0.066750</td>\n",
       "      <td>-24.740998</td>\n",
       "      <td>-0.064571</td>\n",
       "      <td>0.0</td>\n",
       "    </tr>\n",
       "    <tr>\n",
       "      <th>2014-10-23</th>\n",
       "      <td>-0.000201</td>\n",
       "      <td>-0.071991</td>\n",
       "      <td>-0.000201</td>\n",
       "      <td>0.0</td>\n",
       "    </tr>\n",
       "    <tr>\n",
       "      <th>2014-10-24</th>\n",
       "      <td>-0.031391</td>\n",
       "      <td>-11.074005</td>\n",
       "      <td>-0.030903</td>\n",
       "      <td>0.0</td>\n",
       "    </tr>\n",
       "  </tbody>\n",
       "</table>\n",
       "</div>"
      ],
      "text/plain": [
       "            fwd_log_ret    fwd_ret  fwd_pct_chg  fwd_close_positive\n",
       "2014-10-20     0.009437   3.630005     0.009482                 1.0\n",
       "2014-10-21    -0.008620  -3.317016    -0.008583                 0.0\n",
       "2014-10-22    -0.066750 -24.740998    -0.064571                 0.0\n",
       "2014-10-23    -0.000201  -0.071991    -0.000201                 0.0\n",
       "2014-10-24    -0.031391 -11.074005    -0.030903                 0.0"
      ]
     },
     "execution_count": 34,
     "metadata": {},
     "output_type": "execute_result"
    }
   ],
   "source": [
    "y_train.head()"
   ]
  },
  {
   "cell_type": "code",
   "execution_count": 35,
   "metadata": {},
   "outputs": [
    {
     "name": "stdout",
     "output_type": "stream",
     "text": [
      "Estimated number of clusters: 11\n",
      "Estimated number of noise points: 2149\n",
      "Homogeneity: 0.003\n",
      "Completeness: 0.002\n",
      "V-measure: 0.003\n",
      "Adjusted Rand Index: -0.000\n",
      "Adjusted Mutual Information: 0.000\n",
      "Silhouette Coefficient: -0.331\n"
     ]
    }
   ],
   "source": [
    "\n",
    "# Number of clusters in labels, ignoring noise if present.\n",
    "n_clusters_ = len(set(labels)) - (1 if -1 in labels else 0)\n",
    "n_noise_ = list(labels).count(-1)\n",
    "\n",
    "print(\"Estimated number of clusters: %d\" % n_clusters_)\n",
    "print(\"Estimated number of noise points: %d\" % n_noise_)\n",
    "print(\"Homogeneity: %0.3f\" % metrics.homogeneity_score(y_train.fwd_close_positive, labels))\n",
    "print(\"Completeness: %0.3f\" % metrics.completeness_score(y_train.fwd_close_positive, labels))\n",
    "print(\"V-measure: %0.3f\" % metrics.v_measure_score(y_train.fwd_close_positive, labels))\n",
    "print(\"Adjusted Rand Index: %0.3f\" % metrics.adjusted_rand_score(y_train.fwd_close_positive, labels))\n",
    "print(\n",
    "    \"Adjusted Mutual Information: %0.3f\"\n",
    "    % metrics.adjusted_mutual_info_score(y_train.fwd_close_positive, labels)\n",
    ")\n",
    "print(\"Silhouette Coefficient: %0.3f\" % metrics.silhouette_score(X_train, labels))"
   ]
  },
  {
   "cell_type": "code",
   "execution_count": 36,
   "metadata": {},
   "outputs": [
    {
     "data": {
      "text/plain": [
       "array([], shape=(0, 1), dtype=int64)"
      ]
     },
     "execution_count": 36,
     "metadata": {},
     "output_type": "execute_result"
    }
   ],
   "source": [
    "np.argwhere(np.isnan(labels))"
   ]
  },
  {
   "cell_type": "code",
   "execution_count": 37,
   "metadata": {},
   "outputs": [],
   "source": [
    "labels=pd.DataFrame(labels,columns=['clust'],dtype='int',index=X_train.index)"
   ]
  },
  {
   "cell_type": "code",
   "execution_count": 38,
   "metadata": {},
   "outputs": [
    {
     "name": "stdout",
     "output_type": "stream",
     "text": [
      "<class 'pandas.core.frame.DataFrame'>\n",
      "DatetimeIndex: 2707 entries, 2014-10-20 to 2022-03-22\n",
      "Data columns (total 1 columns):\n",
      " #   Column  Non-Null Count  Dtype\n",
      "---  ------  --------------  -----\n",
      " 0   clust   2707 non-null   int64\n",
      "dtypes: int64(1)\n",
      "memory usage: 42.3 KB\n"
     ]
    }
   ],
   "source": [
    "labels.info()"
   ]
  },
  {
   "cell_type": "code",
   "execution_count": 39,
   "metadata": {},
   "outputs": [
    {
     "data": {
      "text/plain": [
       "numpy.int64"
      ]
     },
     "execution_count": 39,
     "metadata": {},
     "output_type": "execute_result"
    }
   ],
   "source": [
    "type(labels.clust.iloc[0])"
   ]
  },
  {
   "cell_type": "code",
   "execution_count": 40,
   "metadata": {},
   "outputs": [
    {
     "data": {
      "text/plain": [
       "numpy.float64"
      ]
     },
     "execution_count": 40,
     "metadata": {},
     "output_type": "execute_result"
    }
   ],
   "source": [
    "type(X_train.open.iloc[0])"
   ]
  },
  {
   "cell_type": "code",
   "execution_count": 41,
   "metadata": {},
   "outputs": [
    {
     "name": "stdout",
     "output_type": "stream",
     "text": [
      "<class 'pandas.core.frame.DataFrame'>\n",
      "DatetimeIndex: 2707 entries, 2014-10-20 to 2022-03-22\n",
      "Data columns (total 17 columns):\n",
      " #   Column                    Non-Null Count  Dtype  \n",
      "---  ------                    --------------  -----  \n",
      " 0   open                      2707 non-null   float64\n",
      " 1   high                      2707 non-null   float64\n",
      " 2   low                       2707 non-null   float64\n",
      " 3   close                     2707 non-null   float64\n",
      " 4   volume                    2707 non-null   float64\n",
      " 5   obv_close_product         2707 non-null   float64\n",
      " 6   macd                      2707 non-null   float64\n",
      " 7   signal                    2707 non-null   float64\n",
      " 8   histo                     2707 non-null   float64\n",
      " 9   cross                     2707 non-null   float64\n",
      " 10  histy                     2707 non-null   float64\n",
      " 11  atr_above_threshold_0.01  2707 non-null   object \n",
      " 12  atr_above_threshold_0.05  2707 non-null   object \n",
      " 13  atr_above_threshold_0.1   2707 non-null   object \n",
      " 14  atr_above_threshold_0.2   2707 non-null   object \n",
      " 15  atr_above_threshold_0.3   2707 non-null   object \n",
      " 16  sentiment                 2707 non-null   float64\n",
      "dtypes: float64(12), object(5)\n",
      "memory usage: 380.7+ KB\n"
     ]
    }
   ],
   "source": [
    "X_train.info()"
   ]
  },
  {
   "cell_type": "code",
   "execution_count": 42,
   "metadata": {},
   "outputs": [],
   "source": [
    "X_train=pd.concat([X_train,labels],axis=1)"
   ]
  },
  {
   "cell_type": "code",
   "execution_count": 43,
   "metadata": {},
   "outputs": [],
   "source": [
    "xt=X_train.loc['2018':'2021']"
   ]
  },
  {
   "cell_type": "code",
   "execution_count": 44,
   "metadata": {},
   "outputs": [
    {
     "data": {
      "text/plain": [
       "<seaborn.axisgrid.FacetGrid at 0x7f91e90faf70>"
      ]
     },
     "execution_count": 44,
     "metadata": {},
     "output_type": "execute_result"
    },
    {
     "data": {
      "image/png": "[encoded data removed]",
      "text/plain": [
       "<Figure size 408.75x360 with 1 Axes>"
      ]
     },
     "metadata": {
      "needs_background": "light"
     },
     "output_type": "display_data"
    }
   ],
   "source": [
    "sns.relplot(x=X_train.loc['2018':'2021'].index, y=X_train.loc['2018':'2021'].close, hue=X_train.loc['2018':'2021'].clust)"
   ]
  },
  {
   "cell_type": "code",
   "execution_count": 45,
   "metadata": {},
   "outputs": [
    {
     "data": {
      "text/html": [
       "<div>\n",
       "<style scoped>\n",
       "    .dataframe tbody tr th:only-of-type {\n",
       "        vertical-align: middle;\n",
       "    }\n",
       "\n",
       "    .dataframe tbody tr th {\n",
       "        vertical-align: top;\n",
       "    }\n",
       "\n",
       "    .dataframe thead th {\n",
       "        text-align: right;\n",
       "    }\n",
       "</style>\n",
       "<table border=\"1\" class=\"dataframe\">\n",
       "  <thead>\n",
       "    <tr style=\"text-align: right;\">\n",
       "      <th></th>\n",
       "      <th>open</th>\n",
       "      <th>high</th>\n",
       "      <th>low</th>\n",
       "      <th>close</th>\n",
       "      <th>volume</th>\n",
       "      <th>obv_close_product</th>\n",
       "      <th>macd</th>\n",
       "      <th>signal</th>\n",
       "      <th>histo</th>\n",
       "      <th>cross</th>\n",
       "      <th>histy</th>\n",
       "      <th>atr_above_threshold_0.01</th>\n",
       "      <th>atr_above_threshold_0.05</th>\n",
       "      <th>atr_above_threshold_0.1</th>\n",
       "      <th>atr_above_threshold_0.2</th>\n",
       "      <th>atr_above_threshold_0.3</th>\n",
       "      <th>sentiment</th>\n",
       "      <th>clust</th>\n",
       "    </tr>\n",
       "  </thead>\n",
       "  <tbody>\n",
       "    <tr>\n",
       "      <th>2014-10-20</th>\n",
       "      <td>-0.594237</td>\n",
       "      <td>-0.590436</td>\n",
       "      <td>-0.602060</td>\n",
       "      <td>-0.594318</td>\n",
       "      <td>-0.211145</td>\n",
       "      <td>0.185718</td>\n",
       "      <td>-0.050510</td>\n",
       "      <td>-0.081143</td>\n",
       "      <td>0.128572</td>\n",
       "      <td>0.0</td>\n",
       "      <td>0.0</td>\n",
       "      <td>False</td>\n",
       "      <td>False</td>\n",
       "      <td>False</td>\n",
       "      <td>False</td>\n",
       "      <td>False</td>\n",
       "      <td>1.415845</td>\n",
       "      <td>0</td>\n",
       "    </tr>\n",
       "    <tr>\n",
       "      <th>2014-10-21</th>\n",
       "      <td>-0.594907</td>\n",
       "      <td>-0.590190</td>\n",
       "      <td>-0.601799</td>\n",
       "      <td>-0.593960</td>\n",
       "      <td>-0.211234</td>\n",
       "      <td>0.262380</td>\n",
       "      <td>-0.046294</td>\n",
       "      <td>-0.073474</td>\n",
       "      <td>0.114357</td>\n",
       "      <td>0.0</td>\n",
       "      <td>0.0</td>\n",
       "      <td>False</td>\n",
       "      <td>False</td>\n",
       "      <td>False</td>\n",
       "      <td>False</td>\n",
       "      <td>False</td>\n",
       "      <td>1.881179</td>\n",
       "      <td>0</td>\n",
       "    </tr>\n",
       "    <tr>\n",
       "      <th>2014-10-22</th>\n",
       "      <td>-0.594543</td>\n",
       "      <td>-0.590581</td>\n",
       "      <td>-0.601655</td>\n",
       "      <td>-0.594287</td>\n",
       "      <td>-0.211336</td>\n",
       "      <td>0.195438</td>\n",
       "      <td>-0.043841</td>\n",
       "      <td>-0.066850</td>\n",
       "      <td>0.097223</td>\n",
       "      <td>0.0</td>\n",
       "      <td>0.0</td>\n",
       "      <td>False</td>\n",
       "      <td>False</td>\n",
       "      <td>False</td>\n",
       "      <td>False</td>\n",
       "      <td>False</td>\n",
       "      <td>1.691602</td>\n",
       "      <td>-1</td>\n",
       "    </tr>\n",
       "    <tr>\n",
       "      <th>2014-10-23</th>\n",
       "      <td>-0.594853</td>\n",
       "      <td>-0.590920</td>\n",
       "      <td>-0.604268</td>\n",
       "      <td>-0.596721</td>\n",
       "      <td>-0.210745</td>\n",
       "      <td>-0.071116</td>\n",
       "      <td>-0.049855</td>\n",
       "      <td>-0.062750</td>\n",
       "      <td>0.055808</td>\n",
       "      <td>0.0</td>\n",
       "      <td>0.0</td>\n",
       "      <td>False</td>\n",
       "      <td>False</td>\n",
       "      <td>False</td>\n",
       "      <td>False</td>\n",
       "      <td>False</td>\n",
       "      <td>1.910950</td>\n",
       "      <td>0</td>\n",
       "    </tr>\n",
       "    <tr>\n",
       "      <th>2014-10-24</th>\n",
       "      <td>-0.597251</td>\n",
       "      <td>-0.592908</td>\n",
       "      <td>-0.604586</td>\n",
       "      <td>-0.596728</td>\n",
       "      <td>-0.211179</td>\n",
       "      <td>-0.047029</td>\n",
       "      <td>-0.054306</td>\n",
       "      <td>-0.060357</td>\n",
       "      <td>0.027793</td>\n",
       "      <td>0.0</td>\n",
       "      <td>0.0</td>\n",
       "      <td>False</td>\n",
       "      <td>False</td>\n",
       "      <td>False</td>\n",
       "      <td>False</td>\n",
       "      <td>False</td>\n",
       "      <td>1.897002</td>\n",
       "      <td>0</td>\n",
       "    </tr>\n",
       "  </tbody>\n",
       "</table>\n",
       "</div>"
      ],
      "text/plain": [
       "                open      high       low     close    volume  \\\n",
       "2014-10-20 -0.594237 -0.590436 -0.602060 -0.594318 -0.211145   \n",
       "2014-10-21 -0.594907 -0.590190 -0.601799 -0.593960 -0.211234   \n",
       "2014-10-22 -0.594543 -0.590581 -0.601655 -0.594287 -0.211336   \n",
       "2014-10-23 -0.594853 -0.590920 -0.604268 -0.596721 -0.210745   \n",
       "2014-10-24 -0.597251 -0.592908 -0.604586 -0.596728 -0.211179   \n",
       "\n",
       "            obv_close_product      macd    signal     histo  cross  histy  \\\n",
       "2014-10-20           0.185718 -0.050510 -0.081143  0.128572    0.0    0.0   \n",
       "2014-10-21           0.262380 -0.046294 -0.073474  0.114357    0.0    0.0   \n",
       "2014-10-22           0.195438 -0.043841 -0.066850  0.097223    0.0    0.0   \n",
       "2014-10-23          -0.071116 -0.049855 -0.062750  0.055808    0.0    0.0   \n",
       "2014-10-24          -0.047029 -0.054306 -0.060357  0.027793    0.0    0.0   \n",
       "\n",
       "           atr_above_threshold_0.01 atr_above_threshold_0.05  \\\n",
       "2014-10-20                    False                    False   \n",
       "2014-10-21                    False                    False   \n",
       "2014-10-22                    False                    False   \n",
       "2014-10-23                    False                    False   \n",
       "2014-10-24                    False                    False   \n",
       "\n",
       "           atr_above_threshold_0.1 atr_above_threshold_0.2  \\\n",
       "2014-10-20                   False                   False   \n",
       "2014-10-21                   False                   False   \n",
       "2014-10-22                   False                   False   \n",
       "2014-10-23                   False                   False   \n",
       "2014-10-24                   False                   False   \n",
       "\n",
       "           atr_above_threshold_0.3  sentiment  clust  \n",
       "2014-10-20                   False   1.415845      0  \n",
       "2014-10-21                   False   1.881179      0  \n",
       "2014-10-22                   False   1.691602     -1  \n",
       "2014-10-23                   False   1.910950      0  \n",
       "2014-10-24                   False   1.897002      0  "
      ]
     },
     "execution_count": 45,
     "metadata": {},
     "output_type": "execute_result"
    }
   ],
   "source": [
    "X_train.head()"
   ]
  },
  {
   "cell_type": "code",
   "execution_count": 46,
   "metadata": {},
   "outputs": [],
   "source": [
    "# X_train=X_train.drop('clust',axis=1)"
   ]
  }
 ],
 "metadata": {
  "interpreter": {
   "hash": "3067ead486e059ec00ffe7555bdb889e6e264a24dc711bf108106cc7baee8d5d"
  },
  "kernelspec": {
   "display_name": "Python 3.9.12 ('base')",
   "language": "python",
   "name": "python3"
  },
  "language_info": {
   "codemirror_mode": {
    "name": "ipython",
    "version": 3
   },
   "file_extension": ".py",
   "mimetype": "text/x-python",
   "name": "python",
   "nbconvert_exporter": "python",
   "pygments_lexer": "ipython3",
   "version": "3.9.12"
  },
  "orig_nbformat": 4
 },
 "nbformat": 4,
 "nbformat_minor": 2
}
